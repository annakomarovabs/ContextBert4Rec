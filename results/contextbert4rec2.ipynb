{
 "cells": [
  {
   "cell_type": "code",
   "execution_count": 3,
   "id": "a614495f",
   "metadata": {
    "id": "a614495f"
   },
   "outputs": [],
   "source": [
    "import pandas as pd\n",
    "import numpy as np\n",
    "from matplotlib import pyplot as plt\n",
    "from typing import List\n",
    "from tqdm import tqdm\n",
    "\n",
    "\n",
    "%matplotlib inline\n",
    "\n",
    "import catalyst \n",
    "import recbole\n",
    "\n",
    "from typing import Dict, List, Tuple\n",
    "\n",
    "import torch\n",
    "from torch import nn, optim\n",
    "from torch.nn import functional as F\n",
    "from torch.nn.init import constant_, xavier_normal_\n",
    "from torch.optim.lr_scheduler import StepLR\n",
    "from torch.utils.data import DataLoader, Dataset\n",
    "\n",
    "from catalyst import dl, metrics\n",
    "from catalyst.contrib.datasets import MovieLens\n",
    "from catalyst.utils import get_device, set_global_seed\n",
    "from torch.nn.utils.rnn import pad_sequence \n",
    "\n",
    "import random\n",
    "\n",
    "from recbole.model.abstract_recommender import SequentialRecommender\n",
    "from recbole.model.layers import *\n",
    "\n",
    "\n",
    "set_global_seed(100)"
   ]
  },
  {
   "cell_type": "markdown",
   "id": "06cc302e-ca73-4b24-bca1-6bbc25925d3c",
   "metadata": {
    "id": "06cc302e-ca73-4b24-bca1-6bbc25925d3c",
    "tags": []
   },
   "source": [
    "### ML-100k"
   ]
  },
  {
   "cell_type": "code",
   "execution_count": null,
   "id": "b2c046e5",
   "metadata": {
    "id": "b2c046e5",
    "outputId": "fa1085f8-aa43-490c-e6ec-a4f246a49fc3"
   },
   "outputs": [
    {
     "data": {
      "text/html": [
       "<div>\n",
       "<style scoped>\n",
       "    .dataframe tbody tr th:only-of-type {\n",
       "        vertical-align: middle;\n",
       "    }\n",
       "\n",
       "    .dataframe tbody tr th {\n",
       "        vertical-align: top;\n",
       "    }\n",
       "\n",
       "    .dataframe thead th {\n",
       "        text-align: right;\n",
       "    }\n",
       "</style>\n",
       "<table border=\"1\" class=\"dataframe\">\n",
       "  <thead>\n",
       "    <tr style=\"text-align: right;\">\n",
       "      <th></th>\n",
       "      <th>user_id</th>\n",
       "      <th>item_id</th>\n",
       "      <th>rating</th>\n",
       "      <th>timestamp</th>\n",
       "      <th>weekday</th>\n",
       "      <th>hour</th>\n",
       "    </tr>\n",
       "  </thead>\n",
       "  <tbody>\n",
       "    <tr>\n",
       "      <th>0</th>\n",
       "      <td>1</td>\n",
       "      <td>31</td>\n",
       "      <td>2.5</td>\n",
       "      <td>2009-12-14 02:52:24</td>\n",
       "      <td>0</td>\n",
       "      <td>2</td>\n",
       "    </tr>\n",
       "    <tr>\n",
       "      <th>1</th>\n",
       "      <td>1</td>\n",
       "      <td>1029</td>\n",
       "      <td>3.0</td>\n",
       "      <td>2009-12-14 02:52:59</td>\n",
       "      <td>0</td>\n",
       "      <td>2</td>\n",
       "    </tr>\n",
       "    <tr>\n",
       "      <th>2</th>\n",
       "      <td>1</td>\n",
       "      <td>1061</td>\n",
       "      <td>3.0</td>\n",
       "      <td>2009-12-14 02:53:02</td>\n",
       "      <td>0</td>\n",
       "      <td>2</td>\n",
       "    </tr>\n",
       "    <tr>\n",
       "      <th>3</th>\n",
       "      <td>1</td>\n",
       "      <td>1129</td>\n",
       "      <td>2.0</td>\n",
       "      <td>2009-12-14 02:53:05</td>\n",
       "      <td>0</td>\n",
       "      <td>2</td>\n",
       "    </tr>\n",
       "    <tr>\n",
       "      <th>4</th>\n",
       "      <td>1</td>\n",
       "      <td>1172</td>\n",
       "      <td>4.0</td>\n",
       "      <td>2009-12-14 02:53:25</td>\n",
       "      <td>0</td>\n",
       "      <td>2</td>\n",
       "    </tr>\n",
       "  </tbody>\n",
       "</table>\n",
       "</div>"
      ],
      "text/plain": [
       "   user_id  item_id  rating           timestamp  weekday  hour\n",
       "0        1       31     2.5 2009-12-14 02:52:24        0     2\n",
       "1        1     1029     3.0 2009-12-14 02:52:59        0     2\n",
       "2        1     1061     3.0 2009-12-14 02:53:02        0     2\n",
       "3        1     1129     2.0 2009-12-14 02:53:05        0     2\n",
       "4        1     1172     4.0 2009-12-14 02:53:25        0     2"
      ]
     },
     "execution_count": 84,
     "metadata": {},
     "output_type": "execute_result"
    }
   ],
   "source": [
    "df = pd.read_csv('data/ML_100k.csv')\n",
    "df = df.rename(columns={'userId': 'user_id', 'movieId': 'item_id'})\n",
    "df['timestamp'] = pd.to_datetime(df['timestamp'],unit='s')\n",
    "df['weekday'] = pd.to_datetime(df.timestamp).dt.weekday\n",
    "df['hour'] = pd.to_datetime(df.timestamp).dt.hour\n",
    "df.head()"
   ]
  },
  {
   "cell_type": "code",
   "execution_count": null,
   "id": "30d6082b-7373-4e49-815e-33d0cccb5232",
   "metadata": {
    "id": "30d6082b-7373-4e49-815e-33d0cccb5232"
   },
   "outputs": [],
   "source": [
    "splitter = RandomSplit(test_fraction=0.2)\n",
    "train_df, valid_df, test_df = splitter(df)"
   ]
  },
  {
   "cell_type": "code",
   "execution_count": null,
   "id": "dfc9fa70",
   "metadata": {
    "id": "dfc9fa70",
    "outputId": "2a1190cb-28c6-4ac3-912b-146cdd228ead"
   },
   "outputs": [
    {
     "data": {
      "text/html": [
       "<div>\n",
       "<style scoped>\n",
       "    .dataframe tbody tr th:only-of-type {\n",
       "        vertical-align: middle;\n",
       "    }\n",
       "\n",
       "    .dataframe tbody tr th {\n",
       "        vertical-align: top;\n",
       "    }\n",
       "\n",
       "    .dataframe thead th {\n",
       "        text-align: right;\n",
       "    }\n",
       "</style>\n",
       "<table border=\"1\" class=\"dataframe\">\n",
       "  <thead>\n",
       "    <tr style=\"text-align: right;\">\n",
       "      <th></th>\n",
       "      <th>user_id</th>\n",
       "      <th>train_interactions</th>\n",
       "    </tr>\n",
       "  </thead>\n",
       "  <tbody>\n",
       "    <tr>\n",
       "      <th>0</th>\n",
       "      <td>1</td>\n",
       "      <td>[(2294, 2009-12-14 02:51:48, 0, 2), (2455, 200...</td>\n",
       "    </tr>\n",
       "    <tr>\n",
       "      <th>1</th>\n",
       "      <td>2</td>\n",
       "      <td>[(150, 1996-06-21 11:09:55, 4, 11), (296, 1996...</td>\n",
       "    </tr>\n",
       "    <tr>\n",
       "      <th>2</th>\n",
       "      <td>3</td>\n",
       "      <td>[(355, 2011-02-28 02:53:09, 0, 2), (1271, 2011...</td>\n",
       "    </tr>\n",
       "    <tr>\n",
       "      <th>3</th>\n",
       "      <td>4</td>\n",
       "      <td>[(1210, 2000-02-05 19:25:14, 5, 19), (2734, 20...</td>\n",
       "    </tr>\n",
       "    <tr>\n",
       "      <th>4</th>\n",
       "      <td>5</td>\n",
       "      <td>[(1380, 2006-11-12 23:10:44, 6, 23), (1035, 20...</td>\n",
       "    </tr>\n",
       "  </tbody>\n",
       "</table>\n",
       "</div>"
      ],
      "text/plain": [
       "   user_id                                 train_interactions\n",
       "0        1  [(2294, 2009-12-14 02:51:48, 0, 2), (2455, 200...\n",
       "1        2  [(150, 1996-06-21 11:09:55, 4, 11), (296, 1996...\n",
       "2        3  [(355, 2011-02-28 02:53:09, 0, 2), (1271, 2011...\n",
       "3        4  [(1210, 2000-02-05 19:25:14, 5, 19), (2734, 20...\n",
       "4        5  [(1380, 2006-11-12 23:10:44, 6, 23), (1035, 20..."
      ]
     },
     "execution_count": 112,
     "metadata": {},
     "output_type": "execute_result"
    }
   ],
   "source": [
    "train_grouped = train_df.groupby('user_id').apply(\n",
    "    lambda x: [(t1, t2, t3, t4) for t1, t2, t3, t4 in sorted(zip(x.item_id, \n",
    "                                                                 x.timestamp,\n",
    "                                                                 x.weekday,\n",
    "                                                                 x.hour), key=lambda x: x[1])]\n",
    ").reset_index()\n",
    "train_grouped.rename({0:'train_interactions'}, axis=1, inplace=True)\n",
    "\n",
    "valid_grouped = valid_df.groupby('user_id').apply(\n",
    "    lambda x: [(t1, t2, t3, t4) for t1, t2, t3, t4 in sorted(zip(x.item_id,\n",
    "                                                         x.timestamp,\n",
    "                                                         x.weekday,\n",
    "                                                         x.hour), key=lambda x: x[1])]\n",
    ").reset_index()\n",
    "valid_grouped.rename({0:'valid_interactions'}, axis=1, inplace=True)\n",
    "\n",
    "test_grouped = test_df.groupby('user_id').apply(\n",
    "    lambda x: [(t1, t2, t3, t4) for t1, t2, t3, t4 in sorted(zip(x.item_id,\n",
    "                                                         x.timestamp,\n",
    "                                                         x.weekday,\n",
    "                                                         x.hour), key=lambda x: x[1])]\n",
    ").reset_index()\n",
    "test_grouped.rename({0:'test_interactions'}, axis=1, inplace=True)\n",
    "\n",
    "\n",
    "train_grouped.head()"
   ]
  },
  {
   "cell_type": "code",
   "execution_count": null,
   "id": "df2d2845",
   "metadata": {
    "id": "df2d2845",
    "outputId": "b1b5ff25-d6cb-4e46-ce92-d3da8d830215"
   },
   "outputs": [
    {
     "data": {
      "text/html": [
       "<div>\n",
       "<style scoped>\n",
       "    .dataframe tbody tr th:only-of-type {\n",
       "        vertical-align: middle;\n",
       "    }\n",
       "\n",
       "    .dataframe tbody tr th {\n",
       "        vertical-align: top;\n",
       "    }\n",
       "\n",
       "    .dataframe thead th {\n",
       "        text-align: right;\n",
       "    }\n",
       "</style>\n",
       "<table border=\"1\" class=\"dataframe\">\n",
       "  <thead>\n",
       "    <tr style=\"text-align: right;\">\n",
       "      <th></th>\n",
       "      <th>user_id</th>\n",
       "      <th>train_interactions</th>\n",
       "      <th>valid_interactions</th>\n",
       "      <th>test_interactions</th>\n",
       "    </tr>\n",
       "  </thead>\n",
       "  <tbody>\n",
       "    <tr>\n",
       "      <th>0</th>\n",
       "      <td>1</td>\n",
       "      <td>[(2294, 2009-12-14 02:51:48, 0, 2), (2455, 200...</td>\n",
       "      <td>[(1029, 2009-12-14 02:52:59, 0, 2), (1061, 200...</td>\n",
       "      <td>[(1953, 2009-12-14 02:53:11, 0, 2), (2150, 200...</td>\n",
       "    </tr>\n",
       "    <tr>\n",
       "      <th>1</th>\n",
       "      <td>2</td>\n",
       "      <td>[(150, 1996-06-21 11:09:55, 4, 11), (296, 1996...</td>\n",
       "      <td>[(168, 1996-06-21 11:15:10, 4, 11), (377, 1996...</td>\n",
       "      <td>[(585, 1996-06-21 11:16:57, 4, 11), (474, 1996...</td>\n",
       "    </tr>\n",
       "    <tr>\n",
       "      <th>2</th>\n",
       "      <td>3</td>\n",
       "      <td>[(355, 2011-02-28 02:53:09, 0, 2), (1271, 2011...</td>\n",
       "      <td>[(1884, 2011-02-28 03:19:03, 0, 3), (778, 2011...</td>\n",
       "      <td>[(58559, 2011-02-28 19:41:11, 0, 19), (6377, 2...</td>\n",
       "    </tr>\n",
       "    <tr>\n",
       "      <th>3</th>\n",
       "      <td>4</td>\n",
       "      <td>[(1210, 2000-02-05 19:25:14, 5, 19), (2734, 20...</td>\n",
       "      <td>[(1674, 2000-02-07 04:04:04, 0, 4), (1127, 200...</td>\n",
       "      <td>[(910, 2000-02-07 10:28:26, 0, 10), (2080, 200...</td>\n",
       "    </tr>\n",
       "    <tr>\n",
       "      <th>4</th>\n",
       "      <td>5</td>\n",
       "      <td>[(1380, 2006-11-12 23:10:44, 6, 23), (1035, 20...</td>\n",
       "      <td>[(5669, 2006-11-12 23:30:06, 6, 23), (33166, 2...</td>\n",
       "      <td>[(586, 2006-11-12 23:33:12, 6, 23), (150, 2006...</td>\n",
       "    </tr>\n",
       "  </tbody>\n",
       "</table>\n",
       "</div>"
      ],
      "text/plain": [
       "   user_id                                 train_interactions  \\\n",
       "0        1  [(2294, 2009-12-14 02:51:48, 0, 2), (2455, 200...   \n",
       "1        2  [(150, 1996-06-21 11:09:55, 4, 11), (296, 1996...   \n",
       "2        3  [(355, 2011-02-28 02:53:09, 0, 2), (1271, 2011...   \n",
       "3        4  [(1210, 2000-02-05 19:25:14, 5, 19), (2734, 20...   \n",
       "4        5  [(1380, 2006-11-12 23:10:44, 6, 23), (1035, 20...   \n",
       "\n",
       "                                  valid_interactions  \\\n",
       "0  [(1029, 2009-12-14 02:52:59, 0, 2), (1061, 200...   \n",
       "1  [(168, 1996-06-21 11:15:10, 4, 11), (377, 1996...   \n",
       "2  [(1884, 2011-02-28 03:19:03, 0, 3), (778, 2011...   \n",
       "3  [(1674, 2000-02-07 04:04:04, 0, 4), (1127, 200...   \n",
       "4  [(5669, 2006-11-12 23:30:06, 6, 23), (33166, 2...   \n",
       "\n",
       "                                   test_interactions  \n",
       "0  [(1953, 2009-12-14 02:53:11, 0, 2), (2150, 200...  \n",
       "1  [(585, 1996-06-21 11:16:57, 4, 11), (474, 1996...  \n",
       "2  [(58559, 2011-02-28 19:41:11, 0, 19), (6377, 2...  \n",
       "3  [(910, 2000-02-07 10:28:26, 0, 10), (2080, 200...  \n",
       "4  [(586, 2006-11-12 23:33:12, 6, 23), (150, 2006...  "
      ]
     },
     "execution_count": 113,
     "metadata": {},
     "output_type": "execute_result"
    }
   ],
   "source": [
    "joined = train_grouped.merge(valid_grouped).merge(test_grouped)\n",
    "joined.head()"
   ]
  },
  {
   "cell_type": "code",
   "execution_count": null,
   "id": "2aafba8b",
   "metadata": {
    "id": "2aafba8b",
    "outputId": "45f02391-2b5e-4c8e-9227-f13397595933"
   },
   "outputs": [
    {
     "name": "stderr",
     "output_type": "stream",
     "text": [
      "\n",
      "\n",
      "\n",
      "\n",
      "671it [00:00, 25578.51it/s]\u001b[A\n"
     ]
    },
    {
     "data": {
      "text/plain": [
       "5989"
      ]
     },
     "execution_count": 114,
     "metadata": {},
     "output_type": "execute_result"
    }
   ],
   "source": [
    "our_items = set()\n",
    "for idx, row in tqdm(joined.iterrows()):\n",
    "    for el in row.train_interactions:\n",
    "        our_items.add(el[0])\n",
    "        \n",
    "len(our_items)"
   ]
  },
  {
   "cell_type": "code",
   "execution_count": null,
   "id": "83f4973a",
   "metadata": {
    "id": "83f4973a"
   },
   "outputs": [],
   "source": [
    "item2idx = {k: i for i, k in enumerate(our_items)}\n",
    "idx2item = {i: k for k, i in item2idx.items()}"
   ]
  },
  {
   "cell_type": "code",
   "execution_count": null,
   "id": "3cdd1e5a",
   "metadata": {
    "id": "3cdd1e5a",
    "outputId": "440523e4-6946-49ec-ae02-d068807e0e3a"
   },
   "outputs": [
    {
     "name": "stdout",
     "output_type": "stream",
     "text": [
      "671 671\n"
     ]
    }
   ],
   "source": [
    "class MyDataset(Dataset):\n",
    "    \n",
    "    def __init__(self, ds, num_items, item2idx, phase='valid', N=200):\n",
    "        super().__init__()\n",
    "        self.ds = ds\n",
    "        self.phase = phase\n",
    "        self.n_items = num_items\n",
    "        self.item2idx = item2idx\n",
    "        self.N = N \n",
    "        \n",
    "    def __len__(self):\n",
    "        return len(self.ds)\n",
    "    \n",
    "    def __getitem__(self, idx):\n",
    "        \n",
    "        row = self.ds.iloc[idx]\n",
    "        \n",
    "        x_input = np.zeros(self.n_items+1)\n",
    "        x_input[[self.item2idx[x[0]]+1 for x in row['train_interactions'] if x[0] in self.item2idx]] = 1\n",
    "        \n",
    "        days_of_weeks = [x[2] for x in row['train_interactions'] if x[0] in self.item2idx][-self.N+1:]\n",
    "        \n",
    "        hours = [x[3] for x in row['train_interactions'] if x[0] in self.item2idx][-self.N+1:]\n",
    "        \n",
    "        seq_input = [self.item2idx[x[0]]+1 for x in row['train_interactions'] if x[0] in self.item2idx][-self.N+1:]\n",
    "        \n",
    "        targets = np.zeros(self.n_items+1)\n",
    "        \n",
    "        dow_valid = row['valid_interactions'][0][2]\n",
    "        dow_test = row['test_interactions'][0][2]\n",
    "        \n",
    "        hours_valid = row['valid_interactions'][0][3]\n",
    "        hours_test = row['test_interactions'][0][3]\n",
    "        \n",
    "        if self.phase == 'train':\n",
    "            return (seq_input, days_of_weeks, hours, dow_valid, hours_valid)\n",
    "        elif self.phase == 'valid':\n",
    "            targets[[self.item2idx[x[0]]+1 for x in row['valid_interactions'] if x[0] in self.item2idx]] = 1\n",
    "        else:\n",
    "            return (seq_input, days_of_weeks, hours, dow_test, hours_test)\n",
    "            \n",
    "        return (targets, seq_input, days_of_weeks, hours, dow_valid, hours_valid)\n",
    "     \n",
    "n_items = len(item2idx)\n",
    "\n",
    "train = MyDataset(ds=joined,\n",
    "                  num_items=n_items, \n",
    "                  item2idx=item2idx,\n",
    "                  phase='train')\n",
    "\n",
    "valid = MyDataset(ds=joined,\n",
    "                  num_items=n_items,\n",
    "                  item2idx=item2idx,\n",
    "                  phase='valid')\n",
    "\n",
    "print(len(train),len(valid))"
   ]
  },
  {
   "cell_type": "code",
   "execution_count": null,
   "id": "7f691fb7",
   "metadata": {
    "id": "7f691fb7"
   },
   "outputs": [],
   "source": [
    "def collate_fn_train(batch: List[Tuple[torch.Tensor]]) -> Dict[str, torch.Tensor]: \n",
    "    \n",
    "    seq_i,days_of_weeks,hours,dow_valid,hours_valid = zip(*batch)\n",
    "    seq_len = torch.Tensor([len(x) for x in seq_i])\n",
    "    dow_valid = torch.Tensor([x for x in dow_valid])\n",
    "    hours_valid = torch.Tensor([x for x in hours_valid])\n",
    "    seq_i = pad_sequence([torch.Tensor(t) for t in seq_i]).T    \n",
    "    days_of_weeks = pad_sequence([torch.Tensor(t) for t in days_of_weeks]).T\n",
    "    hours = pad_sequence([torch.Tensor(t) for t in hours]).T\n",
    "    \n",
    "    return {'seq_i': seq_i, \n",
    "            'seq_len':seq_len,\n",
    "            'dow': days_of_weeks,\n",
    "            'hours': hours,\n",
    "            'dow_valid': dow_valid,\n",
    "            'hours_valid': hours_valid}\n",
    "\n",
    "\n",
    "def collate_fn_valid(batch: List[Tuple[torch.Tensor]]) -> Dict[str, torch.Tensor]:\n",
    "    \n",
    "    y, seq_i, days_of_weeks, hours, dow_valid, hours_valid = zip(*batch)\n",
    "    \n",
    "    seq_len = torch.Tensor([len(x) for x in seq_i]).long()\n",
    "    seq_i = pad_sequence([torch.Tensor(t) for t in seq_i]).T.long()\n",
    "    days_of_weeks = pad_sequence([torch.Tensor(t) for t in days_of_weeks]).T.long()\n",
    "    hours = pad_sequence([torch.Tensor(t) for t in hours]).T.long()\n",
    "    dow_valid = torch.Tensor([x for x in dow_valid])\n",
    "    hours_valid = torch.Tensor([x for x in hours_valid])\n",
    "            \n",
    "    targets = pad_sequence([torch.Tensor(t) for t in y]).T\n",
    "\n",
    "    return {\"targets\": targets,\n",
    "            'seq_i': seq_i,\n",
    "            'seq_len':seq_len,\n",
    "            'dow': days_of_weeks,\n",
    "            'hours': hours,\n",
    "            'dow_valid': dow_valid,\n",
    "            'hours_valid': hours_valid}"
   ]
  },
  {
   "cell_type": "code",
   "execution_count": null,
   "id": "7ab42228",
   "metadata": {
    "id": "7ab42228"
   },
   "outputs": [],
   "source": [
    "loaders = {\n",
    "        \"train\": DataLoader(train, batch_size=256, collate_fn=collate_fn_train),\n",
    "        \"valid\": DataLoader(valid, batch_size=256, collate_fn=collate_fn_valid),\n",
    "}"
   ]
  },
  {
   "cell_type": "code",
   "execution_count": null,
   "id": "d9829b27",
   "metadata": {
    "id": "d9829b27",
    "outputId": "8a0d120a-f6eb-46b5-8b6e-039ddec65326",
    "scrolled": true,
    "tags": []
   },
   "outputs": [
    {
     "name": "stderr",
     "output_type": "stream",
     "text": [
      "\n",
      "\n",
      "\n",
      "\n",
      "1/100 * Epoch (train):   0%|          | 0/3 [00:00<?, ?it/s]\u001b[A\u001b[A\u001b[A\u001b[A\n",
      "\n",
      "\n",
      "\n",
      "1/100 * Epoch (train):   0%|          | 0/3 [00:01<?, ?it/s, _timer/_fps=351.534, _timer/batch_time=0.728, _timer/data_time=0.028, _timer/model_time=0.701, loss=8.701, lr=1.000e-03, map10=0.000e+00, momentum=0.900, ndcg20=0.000e+00]\u001b[A\u001b[A\u001b[A\u001b[A\n",
      "\n",
      "\n",
      "\n",
      "1/100 * Epoch (train):  33%|███▎      | 1/3 [00:01<00:02,  1.17s/it, _timer/_fps=351.534, _timer/batch_time=0.728, _timer/data_time=0.028, _timer/model_time=0.701, loss=8.701, lr=1.000e-03, map10=0.000e+00, momentum=0.900, ndcg20=0.000e+00]\u001b[A\u001b[A\u001b[A\u001b[A\n",
      "\n",
      "\n",
      "\n",
      "1/100 * Epoch (train):  33%|███▎      | 1/3 [00:02<00:02,  1.17s/it, _timer/_fps=235.942, _timer/batch_time=1.085, _timer/data_time=0.478, _timer/model_time=0.607, loss=8.679, lr=1.000e-03, map10=0.000e+00, momentum=0.900, ndcg20=0.000e+00]\u001b[A\u001b[A\u001b[A\u001b[A\n",
      "\n",
      "\n",
      "\n",
      "1/100 * Epoch (train):  67%|██████▋   | 2/3 [00:02<00:01,  1.15s/it, _timer/_fps=235.942, _timer/batch_time=1.085, _timer/data_time=0.478, _timer/model_time=0.607, loss=8.679, lr=1.000e-03, map10=0.000e+00, momentum=0.900, ndcg20=0.000e+00]\u001b[A\u001b[A\u001b[A\u001b[A\n",
      "\n",
      "\n",
      "\n",
      "1/100 * Epoch (train):  67%|██████▋   | 2/3 [00:02<00:01,  1.15s/it, _timer/_fps=189.340, _timer/batch_time=0.840, _timer/data_time=0.508, _timer/model_time=0.332, loss=8.651, lr=1.000e-03, map10=0.000e+00, momentum=0.900, ndcg20=0.000e+00]\u001b[A\u001b[A\u001b[A\u001b[A\n",
      "\n",
      "\n",
      "\n",
      "1/100 * Epoch (train): 100%|██████████| 3/3 [00:02<00:00,  1.10it/s, _timer/_fps=189.340, _timer/batch_time=0.840, _timer/data_time=0.508, _timer/model_time=0.332, loss=8.651, lr=1.000e-03, map10=0.000e+00, momentum=0.900, ndcg20=0.000e+00]\u001b[A\u001b[A\u001b[A\u001b[A\n",
      "\n",
      "\n",
      "\n",
      "1/100 * Epoch (train): 100%|██████████| 3/3 [00:02<00:00,  1.03it/s, _timer/_fps=189.340, _timer/batch_time=0.840, _timer/data_time=0.508, _timer/model_time=0.332, loss=8.651, lr=1.000e-03, map10=0.000e+00, momentum=0.900, ndcg20=0.000e+00]\n"
     ]
    },
    {
     "name": "stdout",
     "output_type": "stream",
     "text": [
      "train (1/100) loss: 8.680811002250932 | lr: 0.001 | map10: 0.0 | map10/std: 0.0 | momentum: 0.9 | ndcg20: 0.0 | ndcg20/std: 0.0\n"
     ]
    },
    {
     "name": "stderr",
     "output_type": "stream",
     "text": [
      "\n",
      "\n",
      "\n",
      "\n",
      "1/100 * Epoch (valid):   0%|          | 0/3 [00:00<?, ?it/s]\u001b[A\u001b[A\u001b[A\u001b[A\n",
      "\n",
      "\n",
      "\n",
      "1/100 * Epoch (valid):   0%|          | 0/3 [00:00<?, ?it/s, _timer/_fps=479.889, _timer/batch_time=0.533, _timer/data_time=0.038, _timer/model_time=0.495, loss=8.533, lr=1.000e-03, map10=0.055, momentum=0.900, ndcg20=0.026]\u001b[A\u001b[A\u001b[A\u001b[A\n",
      "\n",
      "\n",
      "\n",
      "1/100 * Epoch (valid):  33%|███▎      | 1/3 [00:00<00:01,  1.88it/s, _timer/_fps=479.889, _timer/batch_time=0.533, _timer/data_time=0.038, _timer/model_time=0.495, loss=8.533, lr=1.000e-03, map10=0.055, momentum=0.900, ndcg20=0.026]\u001b[A\u001b[A\u001b[A\u001b[A\n",
      "\n",
      "\n",
      "\n",
      "1/100 * Epoch (valid):  33%|███▎      | 1/3 [00:01<00:01,  1.88it/s, _timer/_fps=488.231, _timer/batch_time=0.524, _timer/data_time=0.038, _timer/model_time=0.486, loss=8.567, lr=1.000e-03, map10=0.056, momentum=0.900, ndcg20=0.027]\u001b[A\u001b[A\u001b[A\u001b[A\n",
      "\n",
      "\n",
      "\n",
      "1/100 * Epoch (valid):  67%|██████▋   | 2/3 [00:01<00:00,  1.89it/s, _timer/_fps=488.231, _timer/batch_time=0.524, _timer/data_time=0.038, _timer/model_time=0.486, loss=8.567, lr=1.000e-03, map10=0.056, momentum=0.900, ndcg20=0.027]\u001b[A\u001b[A\u001b[A\u001b[A\n",
      "\n",
      "\n",
      "\n",
      "1/100 * Epoch (valid):  67%|██████▋   | 2/3 [00:01<00:00,  1.89it/s, _timer/_fps=464.368, _timer/batch_time=0.342, _timer/data_time=0.026, _timer/model_time=0.317, loss=8.587, lr=1.000e-03, map10=0.063, momentum=0.900, ndcg20=0.026]\u001b[A\u001b[A\u001b[A\u001b[A\n",
      "\n",
      "\n",
      "\n",
      "1/100 * Epoch (valid): 100%|██████████| 3/3 [00:01<00:00,  2.26it/s, _timer/_fps=464.368, _timer/batch_time=0.342, _timer/data_time=0.026, _timer/model_time=0.317, loss=8.587, lr=1.000e-03, map10=0.063, momentum=0.900, ndcg20=0.026]\u001b[A\u001b[A\u001b[A\u001b[A\n",
      "\n",
      "\n",
      "\n",
      "1/100 * Epoch (valid): 100%|██████████| 3/3 [00:01<00:00,  2.14it/s, _timer/_fps=464.368, _timer/batch_time=0.342, _timer/data_time=0.026, _timer/model_time=0.317, loss=8.587, lr=1.000e-03, map10=0.063, momentum=0.900, ndcg20=0.026]\n"
     ]
    },
    {
     "name": "stdout",
     "output_type": "stream",
     "text": [
      "valid (1/100) loss: 8.558565723913793 | lr: 0.001 | map10: 0.05718392631158388 | map10/std: 0.003472161154679869 | momentum: 0.9 | ndcg20: 0.026292348416569335 | ndcg20/std: 0.0005414539552975022\n",
      "* Epoch (1/100) \n"
     ]
    },
    {
     "name": "stderr",
     "output_type": "stream",
     "text": [
      "\n",
      "\n",
      "\n",
      "\n",
      "2/100 * Epoch (train):   0%|          | 0/3 [00:00<?, ?it/s]\u001b[A\u001b[A\u001b[A\u001b[A\n",
      "\n",
      "\n",
      "\n",
      "2/100 * Epoch (train):   0%|          | 0/3 [00:01<?, ?it/s, _timer/_fps=367.875, _timer/batch_time=0.696, _timer/data_time=0.029, _timer/model_time=0.667, loss=8.595, lr=1.000e-03, map10=0.000e+00, momentum=0.900, ndcg20=0.000e+00]\u001b[A\u001b[A\u001b[A\u001b[A\n",
      "\n",
      "\n",
      "\n",
      "2/100 * Epoch (train):  33%|███▎      | 1/3 [00:01<00:02,  1.21s/it, _timer/_fps=367.875, _timer/batch_time=0.696, _timer/data_time=0.029, _timer/model_time=0.667, loss=8.595, lr=1.000e-03, map10=0.000e+00, momentum=0.900, ndcg20=0.000e+00]\u001b[A\u001b[A\u001b[A\u001b[A\n",
      "\n",
      "\n",
      "\n",
      "2/100 * Epoch (train):  33%|███▎      | 1/3 [00:02<00:02,  1.21s/it, _timer/_fps=194.151, _timer/batch_time=1.319, _timer/data_time=0.550, _timer/model_time=0.769, loss=8.565, lr=1.000e-03, map10=0.000e+00, momentum=0.900, ndcg20=0.000e+00]\u001b[A\u001b[A\u001b[A\u001b[A\n",
      "\n",
      "\n",
      "\n",
      "2/100 * Epoch (train):  67%|██████▋   | 2/3 [00:02<00:01,  1.29s/it, _timer/_fps=194.151, _timer/batch_time=1.319, _timer/data_time=0.550, _timer/model_time=0.769, loss=8.565, lr=1.000e-03, map10=0.000e+00, momentum=0.900, ndcg20=0.000e+00]\u001b[A\u001b[A\u001b[A\u001b[A\n",
      "\n",
      "\n",
      "\n",
      "2/100 * Epoch (train):  67%|██████▋   | 2/3 [00:03<00:01,  1.29s/it, _timer/_fps=166.956, _timer/batch_time=0.952, _timer/data_time=0.562, _timer/model_time=0.390, loss=8.523, lr=1.000e-03, map10=0.000e+00, momentum=0.900, ndcg20=0.000e+00]\u001b[A\u001b[A\u001b[A\u001b[A\n",
      "\n",
      "\n",
      "\n",
      "2/100 * Epoch (train): 100%|██████████| 3/3 [00:03<00:00,  1.00s/it, _timer/_fps=166.956, _timer/batch_time=0.952, _timer/data_time=0.562, _timer/model_time=0.390, loss=8.523, lr=1.000e-03, map10=0.000e+00, momentum=0.900, ndcg20=0.000e+00]\u001b[A\u001b[A\u001b[A\u001b[A\n",
      "\n",
      "\n",
      "\n",
      "2/100 * Epoch (train): 100%|██████████| 3/3 [00:03<00:00,  1.07s/it, _timer/_fps=166.956, _timer/batch_time=0.952, _timer/data_time=0.562, _timer/model_time=0.390, loss=8.523, lr=1.000e-03, map10=0.000e+00, momentum=0.900, ndcg20=0.000e+00]\n"
     ]
    },
    {
     "name": "stdout",
     "output_type": "stream",
     "text": [
      "train (2/100) loss: 8.56630420969069 | lr: 0.001 | map10: 0.0 | map10/std: 0.0 | momentum: 0.9 | ndcg20: 0.0 | ndcg20/std: 0.0\n"
     ]
    },
    {
     "name": "stderr",
     "output_type": "stream",
     "text": [
      "\n",
      "\n",
      "\n",
      "\n",
      "2/100 * Epoch (valid):   0%|          | 0/3 [00:00<?, ?it/s]\u001b[A\u001b[A\u001b[A\u001b[A\n",
      "\n",
      "\n",
      "\n",
      "2/100 * Epoch (valid):   0%|          | 0/3 [00:00<?, ?it/s, _timer/_fps=476.727, _timer/batch_time=0.537, _timer/data_time=0.036, _timer/model_time=0.501, loss=8.412, lr=1.000e-03, map10=0.126, momentum=0.900, ndcg20=0.065]\u001b[A\u001b[A\u001b[A\u001b[A\n",
      "\n",
      "\n",
      "\n",
      "2/100 * Epoch (valid):  33%|███▎      | 1/3 [00:00<00:01,  1.86it/s, _timer/_fps=476.727, _timer/batch_time=0.537, _timer/data_time=0.036, _timer/model_time=0.501, loss=8.412, lr=1.000e-03, map10=0.126, momentum=0.900, ndcg20=0.065]\u001b[A\u001b[A\u001b[A\u001b[A\n",
      "\n",
      "\n",
      "\n",
      "2/100 * Epoch (valid):  33%|███▎      | 1/3 [00:01<00:01,  1.86it/s, _timer/_fps=538.167, _timer/batch_time=0.476, _timer/data_time=0.035, _timer/model_time=0.441, loss=8.443, lr=1.000e-03, map10=0.123, momentum=0.900, ndcg20=0.065]\u001b[A\u001b[A\u001b[A\u001b[A\n",
      "\n",
      "\n",
      "\n",
      "2/100 * Epoch (valid):  67%|██████▋   | 2/3 [00:01<00:00,  2.00it/s, _timer/_fps=538.167, _timer/batch_time=0.476, _timer/data_time=0.035, _timer/model_time=0.441, loss=8.443, lr=1.000e-03, map10=0.123, momentum=0.900, ndcg20=0.065]\u001b[A\u001b[A\u001b[A\u001b[A\n",
      "\n",
      "\n",
      "\n",
      "2/100 * Epoch (valid):  67%|██████▋   | 2/3 [00:01<00:00,  2.00it/s, _timer/_fps=496.262, _timer/batch_time=0.320, _timer/data_time=0.023, _timer/model_time=0.298, loss=8.452, lr=1.000e-03, map10=0.140, momentum=0.900, ndcg20=0.066]\u001b[A\u001b[A\u001b[A\u001b[A\n",
      "\n",
      "\n",
      "\n",
      "2/100 * Epoch (valid): 100%|██████████| 3/3 [00:01<00:00,  2.39it/s, _timer/_fps=496.262, _timer/batch_time=0.320, _timer/data_time=0.023, _timer/model_time=0.298, loss=8.452, lr=1.000e-03, map10=0.140, momentum=0.900, ndcg20=0.066]\u001b[A\u001b[A\u001b[A\u001b[A\n",
      "\n",
      "\n",
      "\n",
      "2/100 * Epoch (valid): 100%|██████████| 3/3 [00:01<00:00,  2.25it/s, _timer/_fps=496.262, _timer/batch_time=0.320, _timer/data_time=0.023, _timer/model_time=0.298, loss=8.452, lr=1.000e-03, map10=0.140, momentum=0.900, ndcg20=0.066]\n"
     ]
    },
    {
     "name": "stdout",
     "output_type": "stream",
     "text": [
      "valid (2/100) loss: 8.433526906100186 | lr: 0.001 | map10: 0.12815199199447688 | map10/std: 0.006654635649713095 | momentum: 0.9 | ndcg20: 0.0651940348184766 | ndcg20/std: 0.00039683738760705386\n",
      "* Epoch (2/100) \n"
     ]
    },
    {
     "name": "stderr",
     "output_type": "stream",
     "text": [
      "\n",
      "\n",
      "\n",
      "\n",
      "3/100 * Epoch (train):   0%|          | 0/3 [00:00<?, ?it/s]\u001b[A\u001b[A\u001b[A\u001b[A\n",
      "\n",
      "\n",
      "\n",
      "3/100 * Epoch (train):   0%|          | 0/3 [00:01<?, ?it/s, _timer/_fps=407.563, _timer/batch_time=0.628, _timer/data_time=0.026, _timer/model_time=0.602, loss=8.445, lr=1.000e-03, map10=0.000e+00, momentum=0.900, ndcg20=0.000e+00]\u001b[A\u001b[A\u001b[A\u001b[A\n",
      "\n",
      "\n",
      "\n",
      "3/100 * Epoch (train):  33%|███▎      | 1/3 [00:01<00:02,  1.08s/it, _timer/_fps=407.563, _timer/batch_time=0.628, _timer/data_time=0.026, _timer/model_time=0.602, loss=8.445, lr=1.000e-03, map10=0.000e+00, momentum=0.900, ndcg20=0.000e+00]\u001b[A\u001b[A\u001b[A\u001b[A\n",
      "\n",
      "\n",
      "\n",
      "3/100 * Epoch (train):  33%|███▎      | 1/3 [00:02<00:02,  1.08s/it, _timer/_fps=239.039, _timer/batch_time=1.071, _timer/data_time=0.478, _timer/model_time=0.593, loss=8.434, lr=1.000e-03, map10=0.000e+00, momentum=0.900, ndcg20=0.000e+00]\u001b[A\u001b[A\u001b[A\u001b[A\n",
      "\n",
      "\n",
      "\n",
      "3/100 * Epoch (train):  67%|██████▋   | 2/3 [00:02<00:01,  1.09s/it, _timer/_fps=239.039, _timer/batch_time=1.071, _timer/data_time=0.478, _timer/model_time=0.593, loss=8.434, lr=1.000e-03, map10=0.000e+00, momentum=0.900, ndcg20=0.000e+00]\u001b[A\u001b[A\u001b[A\u001b[A\n",
      "\n",
      "\n",
      "\n",
      "3/100 * Epoch (train):  67%|██████▋   | 2/3 [00:02<00:01,  1.09s/it, _timer/_fps=194.263, _timer/batch_time=0.818, _timer/data_time=0.492, _timer/model_time=0.327, loss=8.390, lr=1.000e-03, map10=0.000e+00, momentum=0.900, ndcg20=0.000e+00]\u001b[A\u001b[A\u001b[A\u001b[A\n",
      "\n",
      "\n",
      "\n",
      "3/100 * Epoch (train): 100%|██████████| 3/3 [00:02<00:00,  1.17it/s, _timer/_fps=194.263, _timer/batch_time=0.818, _timer/data_time=0.492, _timer/model_time=0.327, loss=8.390, lr=1.000e-03, map10=0.000e+00, momentum=0.900, ndcg20=0.000e+00]\u001b[A\u001b[A\u001b[A\u001b[A\n",
      "\n",
      "\n",
      "\n",
      "3/100 * Epoch (train): 100%|██████████| 3/3 [00:02<00:00,  1.09it/s, _timer/_fps=194.263, _timer/batch_time=0.818, _timer/data_time=0.492, _timer/model_time=0.327, loss=8.390, lr=1.000e-03, map10=0.000e+00, momentum=0.900, ndcg20=0.000e+00]\n"
     ]
    },
    {
     "name": "stdout",
     "output_type": "stream",
     "text": [
      "train (3/100) loss: 8.427879288015351 | lr: 0.001 | map10: 0.0 | map10/std: 0.0 | momentum: 0.9 | ndcg20: 0.0 | ndcg20/std: 0.0\n"
     ]
    },
    {
     "name": "stderr",
     "output_type": "stream",
     "text": [
      "\n",
      "\n",
      "\n",
      "\n",
      "3/100 * Epoch (valid):   0%|          | 0/3 [00:00<?, ?it/s]\u001b[A\u001b[A\u001b[A\u001b[A\n",
      "\n",
      "\n",
      "\n",
      "3/100 * Epoch (valid):   0%|          | 0/3 [00:00<?, ?it/s, _timer/_fps=532.224, _timer/batch_time=0.481, _timer/data_time=0.032, _timer/model_time=0.449, loss=8.267, lr=1.000e-03, map10=0.148, momentum=0.900, ndcg20=0.076]\u001b[A\u001b[A\u001b[A\u001b[A\n",
      "\n",
      "\n",
      "\n",
      "3/100 * Epoch (valid):  33%|███▎      | 1/3 [00:00<00:00,  2.08it/s, _timer/_fps=532.224, _timer/batch_time=0.481, _timer/data_time=0.032, _timer/model_time=0.449, loss=8.267, lr=1.000e-03, map10=0.148, momentum=0.900, ndcg20=0.076]\u001b[A\u001b[A\u001b[A\u001b[A\n",
      "\n",
      "\n",
      "\n",
      "3/100 * Epoch (valid):  33%|███▎      | 1/3 [00:00<00:00,  2.08it/s, _timer/_fps=544.442, _timer/batch_time=0.470, _timer/data_time=0.035, _timer/model_time=0.435, loss=8.322, lr=1.000e-03, map10=0.144, momentum=0.900, ndcg20=0.079]\u001b[A\u001b[A\u001b[A\u001b[A\n",
      "\n",
      "\n",
      "\n",
      "3/100 * Epoch (valid):  67%|██████▋   | 2/3 [00:00<00:00,  2.11it/s, _timer/_fps=544.442, _timer/batch_time=0.470, _timer/data_time=0.035, _timer/model_time=0.435, loss=8.322, lr=1.000e-03, map10=0.144, momentum=0.900, ndcg20=0.079]\u001b[A\u001b[A\u001b[A\u001b[A\n",
      "\n",
      "\n",
      "\n",
      "3/100 * Epoch (valid):  67%|██████▋   | 2/3 [00:01<00:00,  2.11it/s, _timer/_fps=519.494, _timer/batch_time=0.306, _timer/data_time=0.022, _timer/model_time=0.284, loss=8.325, lr=1.000e-03, map10=0.172, momentum=0.900, ndcg20=0.083]\u001b[A\u001b[A\u001b[A\u001b[A\n",
      "\n",
      "\n",
      "\n",
      "3/100 * Epoch (valid): 100%|██████████| 3/3 [00:01<00:00,  2.52it/s, _timer/_fps=519.494, _timer/batch_time=0.306, _timer/data_time=0.022, _timer/model_time=0.284, loss=8.325, lr=1.000e-03, map10=0.172, momentum=0.900, ndcg20=0.083]\u001b[A\u001b[A\u001b[A\u001b[A\n",
      "\n",
      "\n",
      "\n",
      "3/100 * Epoch (valid): 100%|██████████| 3/3 [00:01<00:00,  2.38it/s, _timer/_fps=519.494, _timer/batch_time=0.306, _timer/data_time=0.022, _timer/model_time=0.284, loss=8.325, lr=1.000e-03, map10=0.172, momentum=0.900, ndcg20=0.083]\n"
     ]
    },
    {
     "name": "stdout",
     "output_type": "stream",
     "text": [
      "valid (3/100) loss: 8.301650692560278 | lr: 0.001 | map10: 0.15178744643704548 | map10/std: 0.01118989264521919 | momentum: 0.9 | ndcg20: 0.07858973808153553 | ndcg20/std: 0.002614849901000507\n",
      "* Epoch (3/100) \n"
     ]
    },
    {
     "name": "stderr",
     "output_type": "stream",
     "text": [
      "\n",
      "\n",
      "\n",
      "\n",
      "4/100 * Epoch (train):   0%|          | 0/3 [00:00<?, ?it/s]\u001b[A\u001b[A\u001b[A\u001b[A\n",
      "\n",
      "\n",
      "\n",
      "4/100 * Epoch (train):   0%|          | 0/3 [00:01<?, ?it/s, _timer/_fps=397.676, _timer/batch_time=0.644, _timer/data_time=0.023, _timer/model_time=0.620, loss=8.303, lr=1.000e-03, map10=0.000e+00, momentum=0.900, ndcg20=0.000e+00]\u001b[A\u001b[A\u001b[A\u001b[A\n",
      "\n",
      "\n",
      "\n",
      "4/100 * Epoch (train):  33%|███▎      | 1/3 [00:01<00:02,  1.10s/it, _timer/_fps=397.676, _timer/batch_time=0.644, _timer/data_time=0.023, _timer/model_time=0.620, loss=8.303, lr=1.000e-03, map10=0.000e+00, momentum=0.900, ndcg20=0.000e+00]\u001b[A\u001b[A\u001b[A\u001b[A\n",
      "\n",
      "\n",
      "\n",
      "4/100 * Epoch (train):  33%|███▎      | 1/3 [00:02<00:02,  1.10s/it, _timer/_fps=242.136, _timer/batch_time=1.057, _timer/data_time=0.486, _timer/model_time=0.571, loss=8.307, lr=1.000e-03, map10=0.000e+00, momentum=0.900, ndcg20=0.000e+00]\u001b[A\u001b[A\u001b[A\u001b[A\n",
      "\n",
      "\n",
      "\n",
      "4/100 * Epoch (train):  67%|██████▋   | 2/3 [00:02<00:01,  1.09s/it, _timer/_fps=242.136, _timer/batch_time=1.057, _timer/data_time=0.486, _timer/model_time=0.571, loss=8.307, lr=1.000e-03, map10=0.000e+00, momentum=0.900, ndcg20=0.000e+00]\u001b[A\u001b[A\u001b[A\u001b[A\n",
      "\n",
      "\n",
      "\n",
      "4/100 * Epoch (train):  67%|██████▋   | 2/3 [00:02<00:01,  1.09s/it, _timer/_fps=194.065, _timer/batch_time=0.819, _timer/data_time=0.497, _timer/model_time=0.322, loss=8.262, lr=1.000e-03, map10=0.000e+00, momentum=0.900, ndcg20=0.000e+00]\u001b[A\u001b[A\u001b[A\u001b[A\n",
      "\n",
      "\n",
      "\n",
      "4/100 * Epoch (train): 100%|██████████| 3/3 [00:02<00:00,  1.18it/s, _timer/_fps=194.065, _timer/batch_time=0.819, _timer/data_time=0.497, _timer/model_time=0.322, loss=8.262, lr=1.000e-03, map10=0.000e+00, momentum=0.900, ndcg20=0.000e+00]\u001b[A\u001b[A\u001b[A\u001b[A\n",
      "\n",
      "\n",
      "\n",
      "4/100 * Epoch (train): 100%|██████████| 3/3 [00:02<00:00,  1.09it/s, _timer/_fps=194.065, _timer/batch_time=0.819, _timer/data_time=0.497, _timer/model_time=0.322, loss=8.262, lr=1.000e-03, map10=0.000e+00, momentum=0.900, ndcg20=0.000e+00]\n"
     ]
    },
    {
     "name": "stdout",
     "output_type": "stream",
     "text": [
      "train (4/100) loss: 8.294852720109965 | lr: 0.001 | map10: 0.0 | map10/std: 0.0 | momentum: 0.9 | ndcg20: 0.0 | ndcg20/std: 0.0\n"
     ]
    },
    {
     "name": "stderr",
     "output_type": "stream",
     "text": [
      "\n",
      "\n",
      "\n",
      "\n",
      "4/100 * Epoch (valid):   0%|          | 0/3 [00:00<?, ?it/s]\u001b[A\u001b[A\u001b[A\u001b[A\n",
      "\n",
      "\n",
      "\n",
      "4/100 * Epoch (valid):   0%|          | 0/3 [00:00<?, ?it/s, _timer/_fps=512.341, _timer/batch_time=0.500, _timer/data_time=0.031, _timer/model_time=0.468, loss=8.144, lr=1.000e-03, map10=0.148, momentum=0.900, ndcg20=0.079]\u001b[A\u001b[A\u001b[A\u001b[A\n",
      "\n",
      "\n",
      "\n",
      "4/100 * Epoch (valid):  33%|███▎      | 1/3 [00:00<00:00,  2.00it/s, _timer/_fps=512.341, _timer/batch_time=0.500, _timer/data_time=0.031, _timer/model_time=0.468, loss=8.144, lr=1.000e-03, map10=0.148, momentum=0.900, ndcg20=0.079]\u001b[A\u001b[A\u001b[A\u001b[A\n",
      "\n",
      "\n",
      "\n",
      "4/100 * Epoch (valid):  33%|███▎      | 1/3 [00:01<00:00,  2.00it/s, _timer/_fps=473.376, _timer/batch_time=0.541, _timer/data_time=0.046, _timer/model_time=0.495, loss=8.205, lr=1.000e-03, map10=0.152, momentum=0.900, ndcg20=0.086]\u001b[A\u001b[A\u001b[A\u001b[A\n",
      "\n",
      "\n",
      "\n",
      "4/100 * Epoch (valid):  67%|██████▋   | 2/3 [00:01<00:00,  1.91it/s, _timer/_fps=473.376, _timer/batch_time=0.541, _timer/data_time=0.046, _timer/model_time=0.495, loss=8.205, lr=1.000e-03, map10=0.152, momentum=0.900, ndcg20=0.086]\u001b[A\u001b[A\u001b[A\u001b[A\n",
      "\n",
      "\n",
      "\n",
      "4/100 * Epoch (valid):  67%|██████▋   | 2/3 [00:01<00:00,  1.91it/s, _timer/_fps=456.549, _timer/batch_time=0.348, _timer/data_time=0.026, _timer/model_time=0.323, loss=8.201, lr=1.000e-03, map10=0.171, momentum=0.900, ndcg20=0.092]\u001b[A\u001b[A\u001b[A\u001b[A\n",
      "\n",
      "\n",
      "\n",
      "4/100 * Epoch (valid): 100%|██████████| 3/3 [00:01<00:00,  2.25it/s, _timer/_fps=456.549, _timer/batch_time=0.348, _timer/data_time=0.026, _timer/model_time=0.323, loss=8.201, lr=1.000e-03, map10=0.171, momentum=0.900, ndcg20=0.092]\u001b[A\u001b[A\u001b[A\u001b[A\n",
      "\n",
      "\n",
      "\n",
      "4/100 * Epoch (valid): 100%|██████████| 3/3 [00:01<00:00,  2.16it/s, _timer/_fps=456.549, _timer/batch_time=0.348, _timer/data_time=0.026, _timer/model_time=0.323, loss=8.201, lr=1.000e-03, map10=0.171, momentum=0.900, ndcg20=0.092]\n"
     ]
    },
    {
     "name": "stdout",
     "output_type": "stream",
     "text": [
      "valid (4/100) loss: 8.180766634365485 | lr: 0.001 | map10: 0.15524243615600997 | map10/std: 0.008865229318552256 | momentum: 0.9 | ndcg20: 0.08490864941420036 | ndcg20/std: 0.004860333689766363\n",
      "* Epoch (4/100) \n"
     ]
    },
    {
     "name": "stderr",
     "output_type": "stream",
     "text": [
      "\n",
      "\n",
      "\n",
      "\n",
      "5/100 * Epoch (train):   0%|          | 0/3 [00:00<?, ?it/s]\u001b[A\u001b[A\u001b[A\u001b[A\n",
      "\n",
      "\n",
      "\n",
      "5/100 * Epoch (train):   0%|          | 0/3 [00:01<?, ?it/s, _timer/_fps=363.676, _timer/batch_time=0.704, _timer/data_time=0.027, _timer/model_time=0.677, loss=8.176, lr=1.000e-03, map10=0.000e+00, momentum=0.900, ndcg20=0.000e+00]\u001b[A\u001b[A\u001b[A\u001b[A\n",
      "\n",
      "\n",
      "\n",
      "5/100 * Epoch (train):  33%|███▎      | 1/3 [00:01<00:02,  1.23s/it, _timer/_fps=363.676, _timer/batch_time=0.704, _timer/data_time=0.027, _timer/model_time=0.677, loss=8.176, lr=1.000e-03, map10=0.000e+00, momentum=0.900, ndcg20=0.000e+00]\u001b[A\u001b[A\u001b[A\u001b[A\n",
      "\n",
      "\n",
      "\n",
      "5/100 * Epoch (train):  33%|███▎      | 1/3 [00:02<00:02,  1.23s/it, _timer/_fps=209.355, _timer/batch_time=1.223, _timer/data_time=0.563, _timer/model_time=0.660, loss=8.194, lr=1.000e-03, map10=0.000e+00, momentum=0.900, ndcg20=0.000e+00]\u001b[A\u001b[A\u001b[A\u001b[A\n",
      "\n",
      "\n",
      "\n",
      "5/100 * Epoch (train):  67%|██████▋   | 2/3 [00:02<00:01,  1.22s/it, _timer/_fps=209.355, _timer/batch_time=1.223, _timer/data_time=0.563, _timer/model_time=0.660, loss=8.194, lr=1.000e-03, map10=0.000e+00, momentum=0.900, ndcg20=0.000e+00]\u001b[A\u001b[A\u001b[A\u001b[A\n",
      "\n",
      "\n",
      "\n",
      "5/100 * Epoch (train):  67%|██████▋   | 2/3 [00:03<00:01,  1.22s/it, _timer/_fps=181.496, _timer/batch_time=0.876, _timer/data_time=0.535, _timer/model_time=0.341, loss=8.154, lr=1.000e-03, map10=0.000e+00, momentum=0.900, ndcg20=0.000e+00]\u001b[A\u001b[A\u001b[A\u001b[A\n",
      "\n",
      "\n",
      "\n",
      "5/100 * Epoch (train): 100%|██████████| 3/3 [00:03<00:00,  1.07it/s, _timer/_fps=181.496, _timer/batch_time=0.876, _timer/data_time=0.535, _timer/model_time=0.341, loss=8.154, lr=1.000e-03, map10=0.000e+00, momentum=0.900, ndcg20=0.000e+00]\u001b[A\u001b[A\u001b[A\u001b[A\n",
      "\n",
      "\n",
      "\n",
      "5/100 * Epoch (train): 100%|██████████| 3/3 [00:03<00:00,  1.01s/it, _timer/_fps=181.496, _timer/batch_time=0.876, _timer/data_time=0.535, _timer/model_time=0.341, loss=8.154, lr=1.000e-03, map10=0.000e+00, momentum=0.900, ndcg20=0.000e+00]\n"
     ]
    },
    {
     "name": "stdout",
     "output_type": "stream",
     "text": [
      "train (5/100) loss: 8.177535551670944 | lr: 0.001 | map10: 0.0 | map10/std: 0.0 | momentum: 0.9 | ndcg20: 0.0 | ndcg20/std: 0.0\n"
     ]
    },
    {
     "name": "stderr",
     "output_type": "stream",
     "text": [
      "\n",
      "\n",
      "\n",
      "\n",
      "5/100 * Epoch (valid):   0%|          | 0/3 [00:00<?, ?it/s]\u001b[A\u001b[A\u001b[A\u001b[A\n",
      "\n",
      "\n",
      "\n",
      "5/100 * Epoch (valid):   0%|          | 0/3 [00:00<?, ?it/s, _timer/_fps=461.903, _timer/batch_time=0.554, _timer/data_time=0.034, _timer/model_time=0.520, loss=8.027, lr=1.000e-03, map10=0.144, momentum=0.900, ndcg20=0.083]\u001b[A\u001b[A\u001b[A\u001b[A\n",
      "\n",
      "\n",
      "\n",
      "5/100 * Epoch (valid):  33%|███▎      | 1/3 [00:00<00:01,  1.80it/s, _timer/_fps=461.903, _timer/batch_time=0.554, _timer/data_time=0.034, _timer/model_time=0.520, loss=8.027, lr=1.000e-03, map10=0.144, momentum=0.900, ndcg20=0.083]\u001b[A\u001b[A\u001b[A\u001b[A\n",
      "\n",
      "\n",
      "\n",
      "5/100 * Epoch (valid):  33%|███▎      | 1/3 [00:01<00:01,  1.80it/s, _timer/_fps=518.324, _timer/batch_time=0.494, _timer/data_time=0.035, _timer/model_time=0.459, loss=8.100, lr=1.000e-03, map10=0.158, momentum=0.900, ndcg20=0.089]\u001b[A\u001b[A\u001b[A\u001b[A\n",
      "\n",
      "\n",
      "\n",
      "5/100 * Epoch (valid):  67%|██████▋   | 2/3 [00:01<00:00,  1.93it/s, _timer/_fps=518.324, _timer/batch_time=0.494, _timer/data_time=0.035, _timer/model_time=0.459, loss=8.100, lr=1.000e-03, map10=0.158, momentum=0.900, ndcg20=0.089]\u001b[A\u001b[A\u001b[A\u001b[A\n",
      "\n",
      "\n",
      "\n",
      "5/100 * Epoch (valid):  67%|██████▋   | 2/3 [00:01<00:00,  1.93it/s, _timer/_fps=474.242, _timer/batch_time=0.335, _timer/data_time=0.023, _timer/model_time=0.312, loss=8.096, lr=1.000e-03, map10=0.171, momentum=0.900, ndcg20=0.096]\u001b[A\u001b[A\u001b[A\u001b[A\n",
      "\n",
      "\n",
      "\n",
      "5/100 * Epoch (valid): 100%|██████████| 3/3 [00:01<00:00,  2.30it/s, _timer/_fps=474.242, _timer/batch_time=0.335, _timer/data_time=0.023, _timer/model_time=0.312, loss=8.096, lr=1.000e-03, map10=0.171, momentum=0.900, ndcg20=0.096]\u001b[A\u001b[A\u001b[A\u001b[A\n",
      "\n",
      "\n",
      "\n",
      "5/100 * Epoch (valid): 100%|██████████| 3/3 [00:01<00:00,  2.17it/s, _timer/_fps=474.242, _timer/batch_time=0.335, _timer/data_time=0.023, _timer/model_time=0.312, loss=8.096, lr=1.000e-03, map10=0.171, momentum=0.900, ndcg20=0.096]\n"
     ]
    },
    {
     "name": "stdout",
     "output_type": "stream",
     "text": [
      "valid (5/100) loss: 8.071401580435332 | lr: 0.001 | map10: 0.1555287338093745 | map10/std: 0.010510848014483825 | momentum: 0.9 | ndcg20: 0.08844867599614509 | ndcg20/std: 0.005076188619056295\n",
      "* Epoch (5/100) \n"
     ]
    },
    {
     "name": "stderr",
     "output_type": "stream",
     "text": [
      "\n",
      "\n",
      "\n",
      "\n",
      "6/100 * Epoch (train):   0%|          | 0/3 [00:00<?, ?it/s]\u001b[A\u001b[A\u001b[A\u001b[A\n",
      "\n",
      "\n",
      "\n",
      "6/100 * Epoch (train):   0%|          | 0/3 [00:01<?, ?it/s, _timer/_fps=376.012, _timer/batch_time=0.681, _timer/data_time=0.029, _timer/model_time=0.651, loss=8.047, lr=1.000e-03, map10=0.000e+00, momentum=0.900, ndcg20=0.000e+00]\u001b[A\u001b[A\u001b[A\u001b[A\n",
      "\n",
      "\n",
      "\n",
      "6/100 * Epoch (train):  33%|███▎      | 1/3 [00:01<00:02,  1.12s/it, _timer/_fps=376.012, _timer/batch_time=0.681, _timer/data_time=0.029, _timer/model_time=0.651, loss=8.047, lr=1.000e-03, map10=0.000e+00, momentum=0.900, ndcg20=0.000e+00]\u001b[A\u001b[A\u001b[A\u001b[A\n",
      "\n",
      "\n",
      "\n",
      "6/100 * Epoch (train):  33%|███▎      | 1/3 [00:02<00:02,  1.12s/it, _timer/_fps=230.315, _timer/batch_time=1.112, _timer/data_time=0.470, _timer/model_time=0.642, loss=8.079, lr=1.000e-03, map10=0.000e+00, momentum=0.900, ndcg20=0.000e+00]\u001b[A\u001b[A\u001b[A\u001b[A\n",
      "\n",
      "\n",
      "\n",
      "6/100 * Epoch (train):  67%|██████▋   | 2/3 [00:02<00:01,  1.20s/it, _timer/_fps=230.315, _timer/batch_time=1.112, _timer/data_time=0.470, _timer/model_time=0.642, loss=8.079, lr=1.000e-03, map10=0.000e+00, momentum=0.900, ndcg20=0.000e+00]\u001b[A\u001b[A\u001b[A\u001b[A\n",
      "\n",
      "\n",
      "\n",
      "6/100 * Epoch (train):  67%|██████▋   | 2/3 [00:03<00:01,  1.20s/it, _timer/_fps=165.529, _timer/batch_time=0.961, _timer/data_time=0.600, _timer/model_time=0.360, loss=8.038, lr=1.000e-03, map10=0.000e+00, momentum=0.900, ndcg20=0.000e+00]\u001b[A\u001b[A\u001b[A\u001b[A\n",
      "\n",
      "\n",
      "\n",
      "6/100 * Epoch (train): 100%|██████████| 3/3 [00:03<00:00,  1.06it/s, _timer/_fps=165.529, _timer/batch_time=0.961, _timer/data_time=0.600, _timer/model_time=0.360, loss=8.038, lr=1.000e-03, map10=0.000e+00, momentum=0.900, ndcg20=0.000e+00]\u001b[A\u001b[A\u001b[A\u001b[A\n",
      "\n",
      "\n",
      "\n",
      "6/100 * Epoch (train): 100%|██████████| 3/3 [00:03<00:00,  1.00s/it, _timer/_fps=165.529, _timer/batch_time=0.961, _timer/data_time=0.600, _timer/model_time=0.360, loss=8.038, lr=1.000e-03, map10=0.000e+00, momentum=0.900, ndcg20=0.000e+00]\n"
     ]
    },
    {
     "name": "stdout",
     "output_type": "stream",
     "text": [
      "train (6/100) loss: 8.05715701334878 | lr: 0.001 | map10: 0.0 | map10/std: 0.0 | momentum: 0.9 | ndcg20: 0.0 | ndcg20/std: 0.0\n"
     ]
    },
    {
     "name": "stderr",
     "output_type": "stream",
     "text": [
      "\n",
      "\n",
      "\n",
      "\n",
      "6/100 * Epoch (valid):   0%|          | 0/3 [00:00<?, ?it/s]\u001b[A\u001b[A\u001b[A\u001b[A\n",
      "\n",
      "\n",
      "\n",
      "6/100 * Epoch (valid):   0%|          | 0/3 [00:00<?, ?it/s, _timer/_fps=469.775, _timer/batch_time=0.545, _timer/data_time=0.040, _timer/model_time=0.505, loss=7.909, lr=1.000e-03, map10=0.149, momentum=0.900, ndcg20=0.085]\u001b[A\u001b[A\u001b[A\u001b[A\n",
      "\n",
      "\n",
      "\n",
      "6/100 * Epoch (valid):  33%|███▎      | 1/3 [00:00<00:01,  1.84it/s, _timer/_fps=469.775, _timer/batch_time=0.545, _timer/data_time=0.040, _timer/model_time=0.505, loss=7.909, lr=1.000e-03, map10=0.149, momentum=0.900, ndcg20=0.085]\u001b[A\u001b[A\u001b[A\u001b[A\n",
      "\n",
      "\n",
      "\n",
      "6/100 * Epoch (valid):  33%|███▎      | 1/3 [00:01<00:01,  1.84it/s, _timer/_fps=507.891, _timer/batch_time=0.504, _timer/data_time=0.042, _timer/model_time=0.462, loss=7.990, lr=1.000e-03, map10=0.170, momentum=0.900, ndcg20=0.091]\u001b[A\u001b[A\u001b[A\u001b[A\n",
      "\n",
      "\n",
      "\n",
      "6/100 * Epoch (valid):  67%|██████▋   | 2/3 [00:01<00:00,  1.92it/s, _timer/_fps=507.891, _timer/batch_time=0.504, _timer/data_time=0.042, _timer/model_time=0.462, loss=7.990, lr=1.000e-03, map10=0.170, momentum=0.900, ndcg20=0.091]\u001b[A\u001b[A\u001b[A\u001b[A\n",
      "\n",
      "\n",
      "\n",
      "6/100 * Epoch (valid):  67%|██████▋   | 2/3 [00:01<00:00,  1.92it/s, _timer/_fps=471.002, _timer/batch_time=0.338, _timer/data_time=0.024, _timer/model_time=0.314, loss=7.982, lr=1.000e-03, map10=0.187, momentum=0.900, ndcg20=0.102]\u001b[A\u001b[A\u001b[A\u001b[A\n",
      "\n",
      "\n",
      "\n",
      "6/100 * Epoch (valid): 100%|██████████| 3/3 [00:01<00:00,  2.29it/s, _timer/_fps=471.002, _timer/batch_time=0.338, _timer/data_time=0.024, _timer/model_time=0.314, loss=7.982, lr=1.000e-03, map10=0.187, momentum=0.900, ndcg20=0.102]\u001b[A\u001b[A\u001b[A\u001b[A\n",
      "\n",
      "\n",
      "\n",
      "6/100 * Epoch (valid): 100%|██████████| 3/3 [00:01<00:00,  2.16it/s, _timer/_fps=471.002, _timer/batch_time=0.338, _timer/data_time=0.024, _timer/model_time=0.314, loss=7.982, lr=1.000e-03, map10=0.187, momentum=0.900, ndcg20=0.102]\n"
     ]
    },
    {
     "name": "stdout",
     "output_type": "stream",
     "text": [
      "valid (6/100) loss: 7.957310388056247 | lr: 0.001 | map10: 0.16616949634473832 | map10/std: 0.014873291843851898 | momentum: 0.9 | ndcg20: 0.0914125512458173 | ndcg20/std: 0.006380406056859773\n",
      "* Epoch (6/100) \n"
     ]
    },
    {
     "name": "stderr",
     "output_type": "stream",
     "text": [
      "\n",
      "\n",
      "\n",
      "\n",
      "7/100 * Epoch (train):   0%|          | 0/3 [00:00<?, ?it/s]\u001b[A\u001b[A\u001b[A\u001b[A\n",
      "\n",
      "\n",
      "\n",
      "7/100 * Epoch (train):   0%|          | 0/3 [00:01<?, ?it/s, _timer/_fps=428.331, _timer/batch_time=0.598, _timer/data_time=0.025, _timer/model_time=0.573, loss=7.943, lr=1.000e-03, map10=0.000e+00, momentum=0.900, ndcg20=0.000e+00]\u001b[A\u001b[A\u001b[A\u001b[A\n",
      "\n",
      "\n",
      "\n",
      "7/100 * Epoch (train):  33%|███▎      | 1/3 [00:01<00:02,  1.05s/it, _timer/_fps=428.331, _timer/batch_time=0.598, _timer/data_time=0.025, _timer/model_time=0.573, loss=7.943, lr=1.000e-03, map10=0.000e+00, momentum=0.900, ndcg20=0.000e+00]\u001b[A\u001b[A\u001b[A\u001b[A\n",
      "\n",
      "\n",
      "\n",
      "7/100 * Epoch (train):  33%|███▎      | 1/3 [00:02<00:02,  1.05s/it, _timer/_fps=233.972, _timer/batch_time=1.094, _timer/data_time=0.481, _timer/model_time=0.613, loss=8.009, lr=1.000e-03, map10=0.000e+00, momentum=0.900, ndcg20=0.000e+00]\u001b[A\u001b[A\u001b[A\u001b[A\n",
      "\n",
      "\n",
      "\n",
      "7/100 * Epoch (train):  67%|██████▋   | 2/3 [00:02<00:01,  1.08s/it, _timer/_fps=233.972, _timer/batch_time=1.094, _timer/data_time=0.481, _timer/model_time=0.613, loss=8.009, lr=1.000e-03, map10=0.000e+00, momentum=0.900, ndcg20=0.000e+00]\u001b[A\u001b[A\u001b[A\u001b[A\n",
      "\n",
      "\n",
      "\n",
      "7/100 * Epoch (train):  67%|██████▋   | 2/3 [00:02<00:01,  1.08s/it, _timer/_fps=196.941, _timer/batch_time=0.807, _timer/data_time=0.480, _timer/model_time=0.328, loss=7.962, lr=1.000e-03, map10=0.000e+00, momentum=0.900, ndcg20=0.000e+00]\u001b[A\u001b[A\u001b[A\u001b[A\n",
      "\n",
      "\n",
      "\n",
      "7/100 * Epoch (train): 100%|██████████| 3/3 [00:02<00:00,  1.19it/s, _timer/_fps=196.941, _timer/batch_time=0.807, _timer/data_time=0.480, _timer/model_time=0.328, loss=7.962, lr=1.000e-03, map10=0.000e+00, momentum=0.900, ndcg20=0.000e+00]\u001b[A\u001b[A\u001b[A\u001b[A\n",
      "\n",
      "\n",
      "\n",
      "7/100 * Epoch (train): 100%|██████████| 3/3 [00:02<00:00,  1.11it/s, _timer/_fps=196.941, _timer/batch_time=0.807, _timer/data_time=0.480, _timer/model_time=0.328, loss=7.962, lr=1.000e-03, map10=0.000e+00, momentum=0.900, ndcg20=0.000e+00]\n"
     ]
    },
    {
     "name": "stdout",
     "output_type": "stream",
     "text": [
      "train (7/100) loss: 7.972714561996801 | lr: 0.001 | map10: 0.0 | map10/std: 0.0 | momentum: 0.9 | ndcg20: 0.0 | ndcg20/std: 0.0\n"
     ]
    },
    {
     "name": "stderr",
     "output_type": "stream",
     "text": [
      "\n",
      "\n",
      "\n",
      "\n",
      "7/100 * Epoch (valid):   0%|          | 0/3 [00:00<?, ?it/s]\u001b[A\u001b[A\u001b[A\u001b[A\n",
      "\n",
      "\n",
      "\n",
      "7/100 * Epoch (valid):   0%|          | 0/3 [00:00<?, ?it/s, _timer/_fps=492.291, _timer/batch_time=0.520, _timer/data_time=0.039, _timer/model_time=0.481, loss=7.817, lr=1.000e-03, map10=0.155, momentum=0.900, ndcg20=0.088]\u001b[A\u001b[A\u001b[A\u001b[A\n",
      "\n",
      "\n",
      "\n",
      "7/100 * Epoch (valid):  33%|███▎      | 1/3 [00:00<00:01,  1.92it/s, _timer/_fps=492.291, _timer/batch_time=0.520, _timer/data_time=0.039, _timer/model_time=0.481, loss=7.817, lr=1.000e-03, map10=0.155, momentum=0.900, ndcg20=0.088]\u001b[A\u001b[A\u001b[A\u001b[A\n",
      "\n",
      "\n",
      "\n",
      "7/100 * Epoch (valid):  33%|███▎      | 1/3 [00:00<00:01,  1.92it/s, _timer/_fps=549.373, _timer/batch_time=0.466, _timer/data_time=0.035, _timer/model_time=0.431, loss=7.932, lr=1.000e-03, map10=0.174, momentum=0.900, ndcg20=0.093]\u001b[A\u001b[A\u001b[A\u001b[A\n",
      "\n",
      "\n",
      "\n",
      "7/100 * Epoch (valid):  67%|██████▋   | 2/3 [00:00<00:00,  2.05it/s, _timer/_fps=549.373, _timer/batch_time=0.466, _timer/data_time=0.035, _timer/model_time=0.431, loss=7.932, lr=1.000e-03, map10=0.174, momentum=0.900, ndcg20=0.093]\u001b[A\u001b[A\u001b[A\u001b[A\n",
      "\n",
      "\n",
      "\n",
      "7/100 * Epoch (valid):  67%|██████▋   | 2/3 [00:01<00:00,  2.05it/s, _timer/_fps=499.711, _timer/batch_time=0.318, _timer/data_time=0.022, _timer/model_time=0.296, loss=7.911, lr=1.000e-03, map10=0.190, momentum=0.900, ndcg20=0.101]\u001b[A\u001b[A\u001b[A\u001b[A\n",
      "\n",
      "\n",
      "\n",
      "7/100 * Epoch (valid): 100%|██████████| 3/3 [00:01<00:00,  2.44it/s, _timer/_fps=499.711, _timer/batch_time=0.318, _timer/data_time=0.022, _timer/model_time=0.296, loss=7.911, lr=1.000e-03, map10=0.190, momentum=0.900, ndcg20=0.101]\u001b[A\u001b[A\u001b[A\u001b[A\n",
      "\n",
      "\n",
      "\n",
      "7/100 * Epoch (valid): 100%|██████████| 3/3 [00:01<00:00,  2.30it/s, _timer/_fps=499.711, _timer/batch_time=0.318, _timer/data_time=0.022, _timer/model_time=0.296, loss=7.911, lr=1.000e-03, map10=0.190, momentum=0.900, ndcg20=0.101]\n"
     ]
    },
    {
     "name": "stdout",
     "output_type": "stream",
     "text": [
      "valid (7/100) loss: 7.883319644387894 | lr: 0.001 | map10: 0.17044515559108353 | map10/std: 0.013286958130267068 | momentum: 0.9 | ndcg20: 0.09335437172749003 | ndcg20/std: 0.005003113957436728\n",
      "* Epoch (7/100) \n"
     ]
    },
    {
     "name": "stderr",
     "output_type": "stream",
     "text": [
      "\n",
      "\n",
      "\n",
      "\n",
      "8/100 * Epoch (train):   0%|          | 0/3 [00:00<?, ?it/s]\u001b[A\u001b[A\u001b[A\u001b[A\n",
      "\n",
      "\n",
      "\n",
      "8/100 * Epoch (train):   0%|          | 0/3 [00:01<?, ?it/s, _timer/_fps=430.804, _timer/batch_time=0.594, _timer/data_time=0.027, _timer/model_time=0.567, loss=7.841, lr=1.000e-03, map10=0.000e+00, momentum=0.900, ndcg20=0.000e+00]\u001b[A\u001b[A\u001b[A\u001b[A\n",
      "\n",
      "\n",
      "\n",
      "8/100 * Epoch (train):  33%|███▎      | 1/3 [00:01<00:02,  1.02s/it, _timer/_fps=430.804, _timer/batch_time=0.594, _timer/data_time=0.027, _timer/model_time=0.567, loss=7.841, lr=1.000e-03, map10=0.000e+00, momentum=0.900, ndcg20=0.000e+00]\u001b[A\u001b[A\u001b[A\u001b[A\n",
      "\n",
      "\n",
      "\n",
      "8/100 * Epoch (train):  33%|███▎      | 1/3 [00:02<00:02,  1.02s/it, _timer/_fps=223.142, _timer/batch_time=1.147, _timer/data_time=0.450, _timer/model_time=0.697, loss=7.920, lr=1.000e-03, map10=0.000e+00, momentum=0.900, ndcg20=0.000e+00]\u001b[A\u001b[A\u001b[A\u001b[A\n",
      "\n",
      "\n",
      "\n",
      "8/100 * Epoch (train):  67%|██████▋   | 2/3 [00:02<00:01,  1.12s/it, _timer/_fps=223.142, _timer/batch_time=1.147, _timer/data_time=0.450, _timer/model_time=0.697, loss=7.920, lr=1.000e-03, map10=0.000e+00, momentum=0.900, ndcg20=0.000e+00]\u001b[A\u001b[A\u001b[A\u001b[A\n",
      "\n",
      "\n",
      "\n",
      "8/100 * Epoch (train):  67%|██████▋   | 2/3 [00:02<00:01,  1.12s/it, _timer/_fps=196.910, _timer/batch_time=0.807, _timer/data_time=0.493, _timer/model_time=0.315, loss=7.868, lr=1.000e-03, map10=0.000e+00, momentum=0.900, ndcg20=0.000e+00]\u001b[A\u001b[A\u001b[A\u001b[A\n",
      "\n",
      "\n",
      "\n",
      "8/100 * Epoch (train): 100%|██████████| 3/3 [00:02<00:00,  1.17it/s, _timer/_fps=196.910, _timer/batch_time=0.807, _timer/data_time=0.493, _timer/model_time=0.315, loss=7.868, lr=1.000e-03, map10=0.000e+00, momentum=0.900, ndcg20=0.000e+00]\u001b[A\u001b[A\u001b[A\u001b[A\n",
      "\n",
      "\n",
      "\n",
      "8/100 * Epoch (train): 100%|██████████| 3/3 [00:02<00:00,  1.09it/s, _timer/_fps=196.910, _timer/batch_time=0.807, _timer/data_time=0.493, _timer/model_time=0.315, loss=7.868, lr=1.000e-03, map10=0.000e+00, momentum=0.900, ndcg20=0.000e+00]\n"
     ]
    },
    {
     "name": "stdout",
     "output_type": "stream",
     "text": [
      "train (8/100) loss: 7.8775661094711005 | lr: 0.001 | map10: 0.0 | map10/std: 0.0 | momentum: 0.9 | ndcg20: 0.0 | ndcg20/std: 0.0\n"
     ]
    },
    {
     "name": "stderr",
     "output_type": "stream",
     "text": [
      "\n",
      "\n",
      "\n",
      "\n",
      "8/100 * Epoch (valid):   0%|          | 0/3 [00:00<?, ?it/s]\u001b[A\u001b[A\u001b[A\u001b[A\n",
      "\n",
      "\n",
      "\n",
      "8/100 * Epoch (valid):   0%|          | 0/3 [00:00<?, ?it/s, _timer/_fps=523.035, _timer/batch_time=0.489, _timer/data_time=0.035, _timer/model_time=0.455, loss=7.728, lr=1.000e-03, map10=0.164, momentum=0.900, ndcg20=0.093]\u001b[A\u001b[A\u001b[A\u001b[A\n",
      "\n",
      "\n",
      "\n",
      "8/100 * Epoch (valid):  33%|███▎      | 1/3 [00:00<00:00,  2.04it/s, _timer/_fps=523.035, _timer/batch_time=0.489, _timer/data_time=0.035, _timer/model_time=0.455, loss=7.728, lr=1.000e-03, map10=0.164, momentum=0.900, ndcg20=0.093]\u001b[A\u001b[A\u001b[A\u001b[A\n",
      "\n",
      "\n",
      "\n",
      "8/100 * Epoch (valid):  33%|███▎      | 1/3 [00:00<00:00,  2.04it/s, _timer/_fps=557.744, _timer/batch_time=0.459, _timer/data_time=0.036, _timer/model_time=0.423, loss=7.851, lr=1.000e-03, map10=0.177, momentum=0.900, ndcg20=0.098]\u001b[A\u001b[A\u001b[A\u001b[A\n",
      "\n",
      "\n",
      "\n",
      "8/100 * Epoch (valid):  67%|██████▋   | 2/3 [00:00<00:00,  2.12it/s, _timer/_fps=557.744, _timer/batch_time=0.459, _timer/data_time=0.036, _timer/model_time=0.423, loss=7.851, lr=1.000e-03, map10=0.177, momentum=0.900, ndcg20=0.098]\u001b[A\u001b[A\u001b[A\u001b[A\n",
      "\n",
      "\n",
      "\n",
      "8/100 * Epoch (valid):  67%|██████▋   | 2/3 [00:01<00:00,  2.12it/s, _timer/_fps=512.579, _timer/batch_time=0.310, _timer/data_time=0.022, _timer/model_time=0.288, loss=7.821, lr=1.000e-03, map10=0.191, momentum=0.900, ndcg20=0.103]\u001b[A\u001b[A\u001b[A\u001b[A\n",
      "\n",
      "\n",
      "\n",
      "8/100 * Epoch (valid): 100%|██████████| 3/3 [00:01<00:00,  2.51it/s, _timer/_fps=512.579, _timer/batch_time=0.310, _timer/data_time=0.022, _timer/model_time=0.288, loss=7.821, lr=1.000e-03, map10=0.191, momentum=0.900, ndcg20=0.103]\u001b[A\u001b[A\u001b[A\u001b[A\n",
      "\n",
      "\n",
      "\n",
      "8/100 * Epoch (valid): 100%|██████████| 3/3 [00:01<00:00,  2.38it/s, _timer/_fps=512.579, _timer/batch_time=0.310, _timer/data_time=0.022, _timer/model_time=0.288, loss=7.821, lr=1.000e-03, map10=0.191, momentum=0.900, ndcg20=0.103]\n"
     ]
    },
    {
     "name": "stdout",
     "output_type": "stream",
     "text": [
      "valid (8/100) loss: 7.7971109917551145 | lr: 0.001 | map10: 0.17525228449378036 | map10/std: 0.010774231653230626 | momentum: 0.9 | ndcg20: 0.09697955896753135 | ndcg20/std: 0.004036603739561965\n",
      "* Epoch (8/100) \n"
     ]
    },
    {
     "name": "stderr",
     "output_type": "stream",
     "text": [
      "\n",
      "\n",
      "\n",
      "\n",
      "9/100 * Epoch (train):   0%|          | 0/3 [00:00<?, ?it/s]\u001b[A\u001b[A\u001b[A\u001b[A\n",
      "\n",
      "\n",
      "\n",
      "9/100 * Epoch (train):   0%|          | 0/3 [00:01<?, ?it/s, _timer/_fps=417.161, _timer/batch_time=0.614, _timer/data_time=0.029, _timer/model_time=0.585, loss=7.781, lr=1.000e-03, map10=0.000e+00, momentum=0.900, ndcg20=0.000e+00]\u001b[A\u001b[A\u001b[A\u001b[A\n",
      "\n",
      "\n",
      "\n",
      "9/100 * Epoch (train):  33%|███▎      | 1/3 [00:01<00:02,  1.07s/it, _timer/_fps=417.161, _timer/batch_time=0.614, _timer/data_time=0.029, _timer/model_time=0.585, loss=7.781, lr=1.000e-03, map10=0.000e+00, momentum=0.900, ndcg20=0.000e+00]\u001b[A\u001b[A\u001b[A\u001b[A\n",
      "\n",
      "\n",
      "\n",
      "9/100 * Epoch (train):  33%|███▎      | 1/3 [00:02<00:02,  1.07s/it, _timer/_fps=249.564, _timer/batch_time=1.026, _timer/data_time=0.482, _timer/model_time=0.544, loss=7.863, lr=1.000e-03, map10=0.000e+00, momentum=0.900, ndcg20=0.000e+00]\u001b[A\u001b[A\u001b[A\u001b[A\n",
      "\n",
      "\n",
      "\n",
      "9/100 * Epoch (train):  67%|██████▋   | 2/3 [00:02<00:01,  1.04s/it, _timer/_fps=249.564, _timer/batch_time=1.026, _timer/data_time=0.482, _timer/model_time=0.544, loss=7.863, lr=1.000e-03, map10=0.000e+00, momentum=0.900, ndcg20=0.000e+00]\u001b[A\u001b[A\u001b[A\u001b[A\n",
      "\n",
      "\n",
      "\n",
      "9/100 * Epoch (train):  67%|██████▋   | 2/3 [00:02<00:01,  1.04s/it, _timer/_fps=202.134, _timer/batch_time=0.787, _timer/data_time=0.473, _timer/model_time=0.314, loss=7.819, lr=1.000e-03, map10=0.000e+00, momentum=0.900, ndcg20=0.000e+00]\u001b[A\u001b[A\u001b[A\u001b[A\n",
      "\n",
      "\n",
      "\n",
      "9/100 * Epoch (train): 100%|██████████| 3/3 [00:02<00:00,  1.22it/s, _timer/_fps=202.134, _timer/batch_time=0.787, _timer/data_time=0.473, _timer/model_time=0.314, loss=7.819, lr=1.000e-03, map10=0.000e+00, momentum=0.900, ndcg20=0.000e+00]\u001b[A\u001b[A\u001b[A\u001b[A\n",
      "\n",
      "\n",
      "\n",
      "9/100 * Epoch (train): 100%|██████████| 3/3 [00:02<00:00,  1.13it/s, _timer/_fps=202.134, _timer/batch_time=0.787, _timer/data_time=0.473, _timer/model_time=0.314, loss=7.819, lr=1.000e-03, map10=0.000e+00, momentum=0.900, ndcg20=0.000e+00]\n"
     ]
    },
    {
     "name": "stdout",
     "output_type": "stream",
     "text": [
      "train (9/100) loss: 7.821127375618357 | lr: 0.001 | map10: 0.0 | map10/std: 0.0 | momentum: 0.9 | ndcg20: 0.0 | ndcg20/std: 0.0\n"
     ]
    },
    {
     "name": "stderr",
     "output_type": "stream",
     "text": [
      "\n",
      "\n",
      "\n",
      "\n",
      "9/100 * Epoch (valid):   0%|          | 0/3 [00:00<?, ?it/s]\u001b[A\u001b[A\u001b[A\u001b[A\n",
      "\n",
      "\n",
      "\n",
      "9/100 * Epoch (valid):   0%|          | 0/3 [00:00<?, ?it/s, _timer/_fps=545.334, _timer/batch_time=0.469, _timer/data_time=0.031, _timer/model_time=0.438, loss=7.686, lr=1.000e-03, map10=0.176, momentum=0.900, ndcg20=0.096]\u001b[A\u001b[A\u001b[A\u001b[A\n",
      "\n",
      "\n",
      "\n",
      "9/100 * Epoch (valid):  33%|███▎      | 1/3 [00:00<00:00,  2.13it/s, _timer/_fps=545.334, _timer/batch_time=0.469, _timer/data_time=0.031, _timer/model_time=0.438, loss=7.686, lr=1.000e-03, map10=0.176, momentum=0.900, ndcg20=0.096]\u001b[A\u001b[A\u001b[A\u001b[A\n",
      "\n",
      "\n",
      "\n",
      "9/100 * Epoch (valid):  33%|███▎      | 1/3 [00:00<00:00,  2.13it/s, _timer/_fps=551.670, _timer/batch_time=0.464, _timer/data_time=0.032, _timer/model_time=0.432, loss=7.805, lr=1.000e-03, map10=0.189, momentum=0.900, ndcg20=0.104]\u001b[A\u001b[A\u001b[A\u001b[A\n",
      "\n",
      "\n",
      "\n",
      "9/100 * Epoch (valid):  67%|██████▋   | 2/3 [00:00<00:00,  2.14it/s, _timer/_fps=551.670, _timer/batch_time=0.464, _timer/data_time=0.032, _timer/model_time=0.432, loss=7.805, lr=1.000e-03, map10=0.189, momentum=0.900, ndcg20=0.104]\u001b[A\u001b[A\u001b[A\u001b[A\n",
      "\n",
      "\n",
      "\n",
      "9/100 * Epoch (valid):  67%|██████▋   | 2/3 [00:01<00:00,  2.14it/s, _timer/_fps=519.114, _timer/batch_time=0.306, _timer/data_time=0.022, _timer/model_time=0.284, loss=7.778, lr=1.000e-03, map10=0.197, momentum=0.900, ndcg20=0.105]\u001b[A\u001b[A\u001b[A\u001b[A\n",
      "\n",
      "\n",
      "\n",
      "9/100 * Epoch (valid): 100%|██████████| 3/3 [00:01<00:00,  2.54it/s, _timer/_fps=519.114, _timer/batch_time=0.306, _timer/data_time=0.022, _timer/model_time=0.284, loss=7.778, lr=1.000e-03, map10=0.197, momentum=0.900, ndcg20=0.105]\u001b[A\u001b[A\u001b[A\u001b[A\n",
      "\n",
      "\n",
      "\n",
      "9/100 * Epoch (valid): 100%|██████████| 3/3 [00:01<00:00,  2.42it/s, _timer/_fps=519.114, _timer/batch_time=0.306, _timer/data_time=0.022, _timer/model_time=0.284, loss=7.778, lr=1.000e-03, map10=0.197, momentum=0.900, ndcg20=0.105]\n"
     ]
    },
    {
     "name": "stdout",
     "output_type": "stream",
     "text": [
      "valid (9/100) loss: 7.753079008594177 | lr: 0.001 | map10: 0.18639532886390003 | map10/std: 0.00837286904745561 | momentum: 0.9 | ndcg20: 0.10122333531408126 | ndcg20/std: 0.004069723905187076\n",
      "* Epoch (9/100) \n"
     ]
    },
    {
     "name": "stderr",
     "output_type": "stream",
     "text": [
      "\n",
      "\n",
      "\n",
      "\n",
      "10/100 * Epoch (train):   0%|          | 0/3 [00:00<?, ?it/s]\u001b[A\u001b[A\u001b[A\u001b[A\n",
      "\n",
      "\n",
      "\n",
      "10/100 * Epoch (train):   0%|          | 0/3 [00:01<?, ?it/s, _timer/_fps=416.515, _timer/batch_time=0.615, _timer/data_time=0.025, _timer/model_time=0.589, loss=7.714, lr=1.000e-03, map10=0.000e+00, momentum=0.900, ndcg20=0.000e+00]\u001b[A\u001b[A\u001b[A\u001b[A\n",
      "\n",
      "\n",
      "\n",
      "10/100 * Epoch (train):  33%|███▎      | 1/3 [00:01<00:02,  1.09s/it, _timer/_fps=416.515, _timer/batch_time=0.615, _timer/data_time=0.025, _timer/model_time=0.589, loss=7.714, lr=1.000e-03, map10=0.000e+00, momentum=0.900, ndcg20=0.000e+00]\u001b[A\u001b[A\u001b[A\u001b[A\n",
      "\n",
      "\n",
      "\n",
      "10/100 * Epoch (train):  33%|███▎      | 1/3 [00:02<00:02,  1.09s/it, _timer/_fps=213.473, _timer/batch_time=1.199, _timer/data_time=0.509, _timer/model_time=0.690, loss=7.824, lr=1.000e-03, map10=0.000e+00, momentum=0.900, ndcg20=0.000e+00]\u001b[A\u001b[A\u001b[A\u001b[A\n",
      "\n",
      "\n",
      "\n",
      "10/100 * Epoch (train):  67%|██████▋   | 2/3 [00:02<00:01,  1.21s/it, _timer/_fps=213.473, _timer/batch_time=1.199, _timer/data_time=0.509, _timer/model_time=0.690, loss=7.824, lr=1.000e-03, map10=0.000e+00, momentum=0.900, ndcg20=0.000e+00]\u001b[A\u001b[A\u001b[A\u001b[A\n",
      "\n",
      "\n",
      "\n",
      "10/100 * Epoch (train):  67%|██████▋   | 2/3 [00:02<00:01,  1.21s/it, _timer/_fps=175.191, _timer/batch_time=0.908, _timer/data_time=0.591, _timer/model_time=0.316, loss=7.767, lr=1.000e-03, map10=0.000e+00, momentum=0.900, ndcg20=0.000e+00]\u001b[A\u001b[A\u001b[A\u001b[A\n",
      "\n",
      "\n",
      "\n",
      "10/100 * Epoch (train): 100%|██████████| 3/3 [00:02<00:00,  1.11it/s, _timer/_fps=175.191, _timer/batch_time=0.908, _timer/data_time=0.591, _timer/model_time=0.316, loss=7.767, lr=1.000e-03, map10=0.000e+00, momentum=0.900, ndcg20=0.000e+00]\u001b[A\u001b[A\u001b[A\u001b[A\n",
      "\n",
      "\n",
      "\n",
      "10/100 * Epoch (train): 100%|██████████| 3/3 [00:02<00:00,  1.03it/s, _timer/_fps=175.191, _timer/batch_time=0.908, _timer/data_time=0.591, _timer/model_time=0.316, loss=7.767, lr=1.000e-03, map10=0.000e+00, momentum=0.900, ndcg20=0.000e+00]\n"
     ]
    },
    {
     "name": "stdout",
     "output_type": "stream",
     "text": [
      "train (10/100) loss: 7.768561218960985 | lr: 0.001 | map10: 0.0 | map10/std: 0.0 | momentum: 0.9 | ndcg20: 0.0 | ndcg20/std: 0.0\n"
     ]
    },
    {
     "name": "stderr",
     "output_type": "stream",
     "text": [
      "\n",
      "\n",
      "\n",
      "\n",
      "10/100 * Epoch (valid):   0%|          | 0/3 [00:00<?, ?it/s]\u001b[A\u001b[A\u001b[A\u001b[A\n",
      "\n",
      "\n",
      "\n",
      "10/100 * Epoch (valid):   0%|          | 0/3 [00:00<?, ?it/s, _timer/_fps=522.982, _timer/batch_time=0.490, _timer/data_time=0.032, _timer/model_time=0.458, loss=7.634, lr=1.000e-03, map10=0.179, momentum=0.900, ndcg20=0.099]\u001b[A\u001b[A\u001b[A\u001b[A\n",
      "\n",
      "\n",
      "\n",
      "10/100 * Epoch (valid):  33%|███▎      | 1/3 [00:00<00:00,  2.04it/s, _timer/_fps=522.982, _timer/batch_time=0.490, _timer/data_time=0.032, _timer/model_time=0.458, loss=7.634, lr=1.000e-03, map10=0.179, momentum=0.900, ndcg20=0.099]\u001b[A\u001b[A\u001b[A\u001b[A\n",
      "\n",
      "\n",
      "\n",
      "10/100 * Epoch (valid):  33%|███▎      | 1/3 [00:00<00:00,  2.04it/s, _timer/_fps=558.742, _timer/batch_time=0.458, _timer/data_time=0.032, _timer/model_time=0.426, loss=7.777, lr=1.000e-03, map10=0.189, momentum=0.900, ndcg20=0.104]\u001b[A\u001b[A\u001b[A\u001b[A\n",
      "\n",
      "\n",
      "\n",
      "10/100 * Epoch (valid):  67%|██████▋   | 2/3 [00:00<00:00,  2.12it/s, _timer/_fps=558.742, _timer/batch_time=0.458, _timer/data_time=0.032, _timer/model_time=0.426, loss=7.777, lr=1.000e-03, map10=0.189, momentum=0.900, ndcg20=0.104]\u001b[A\u001b[A\u001b[A\u001b[A\n",
      "\n",
      "\n",
      "\n",
      "10/100 * Epoch (valid):  67%|██████▋   | 2/3 [00:01<00:00,  2.12it/s, _timer/_fps=527.886, _timer/batch_time=0.301, _timer/data_time=0.021, _timer/model_time=0.280, loss=7.733, lr=1.000e-03, map10=0.196, momentum=0.900, ndcg20=0.108]\u001b[A\u001b[A\u001b[A\u001b[A\n",
      "\n",
      "\n",
      "\n",
      "10/100 * Epoch (valid): 100%|██████████| 3/3 [00:01<00:00,  2.54it/s, _timer/_fps=527.886, _timer/batch_time=0.301, _timer/data_time=0.021, _timer/model_time=0.280, loss=7.733, lr=1.000e-03, map10=0.196, momentum=0.900, ndcg20=0.108]\u001b[A\u001b[A\u001b[A\u001b[A\n",
      "\n",
      "\n",
      "\n",
      "10/100 * Epoch (valid): 100%|██████████| 3/3 [00:01<00:00,  2.40it/s, _timer/_fps=527.886, _timer/batch_time=0.301, _timer/data_time=0.021, _timer/model_time=0.280, loss=7.733, lr=1.000e-03, map10=0.196, momentum=0.900, ndcg20=0.108]\n"
     ]
    },
    {
     "name": "stdout",
     "output_type": "stream",
     "text": [
      "valid (10/100) loss: 7.712027415433335 | lr: 0.001 | map10: 0.18712227237473303 | map10/std: 0.0069024534782728955 | momentum: 0.9 | ndcg20: 0.10325143375224399 | ndcg20/std: 0.0033041639405424097\n",
      "* Epoch (10/100) \n"
     ]
    },
    {
     "name": "stderr",
     "output_type": "stream",
     "text": [
      "\n",
      "\n",
      "\n",
      "\n",
      "11/100 * Epoch (train):   0%|          | 0/3 [00:00<?, ?it/s]\u001b[A\u001b[A\u001b[A\u001b[A\n",
      "\n",
      "\n",
      "\n",
      "11/100 * Epoch (train):   0%|          | 0/3 [00:01<?, ?it/s, _timer/_fps=407.123, _timer/batch_time=0.629, _timer/data_time=0.024, _timer/model_time=0.605, loss=7.666, lr=1.000e-03, map10=0.000e+00, momentum=0.900, ndcg20=0.000e+00]\u001b[A\u001b[A\u001b[A\u001b[A\n",
      "\n",
      "\n",
      "\n",
      "11/100 * Epoch (train):  33%|███▎      | 1/3 [00:01<00:02,  1.04s/it, _timer/_fps=407.123, _timer/batch_time=0.629, _timer/data_time=0.024, _timer/model_time=0.605, loss=7.666, lr=1.000e-03, map10=0.000e+00, momentum=0.900, ndcg20=0.000e+00]\u001b[A\u001b[A\u001b[A\u001b[A\n",
      "\n",
      "\n",
      "\n",
      "11/100 * Epoch (train):  33%|███▎      | 1/3 [00:01<00:02,  1.04s/it, _timer/_fps=270.468, _timer/batch_time=0.947, _timer/data_time=0.439, _timer/model_time=0.507, loss=7.766, lr=1.000e-03, map10=0.000e+00, momentum=0.900, ndcg20=0.000e+00]\u001b[A\u001b[A\u001b[A\u001b[A\n",
      "\n",
      "\n",
      "\n",
      "11/100 * Epoch (train):  67%|██████▋   | 2/3 [00:01<00:00,  1.02it/s, _timer/_fps=270.468, _timer/batch_time=0.947, _timer/data_time=0.439, _timer/model_time=0.507, loss=7.766, lr=1.000e-03, map10=0.000e+00, momentum=0.900, ndcg20=0.000e+00]\u001b[A\u001b[A\u001b[A\u001b[A\n",
      "\n",
      "\n",
      "\n",
      "11/100 * Epoch (train):  67%|██████▋   | 2/3 [00:02<00:00,  1.02it/s, _timer/_fps=216.209, _timer/batch_time=0.735, _timer/data_time=0.424, _timer/model_time=0.312, loss=7.734, lr=1.000e-03, map10=0.000e+00, momentum=0.900, ndcg20=0.000e+00]\u001b[A\u001b[A\u001b[A\u001b[A\n",
      "\n",
      "\n",
      "\n",
      "11/100 * Epoch (train): 100%|██████████| 3/3 [00:02<00:00,  1.29it/s, _timer/_fps=216.209, _timer/batch_time=0.735, _timer/data_time=0.424, _timer/model_time=0.312, loss=7.734, lr=1.000e-03, map10=0.000e+00, momentum=0.900, ndcg20=0.000e+00]\u001b[A\u001b[A\u001b[A\u001b[A\n",
      "\n",
      "\n",
      "\n",
      "11/100 * Epoch (train): 100%|██████████| 3/3 [00:02<00:00,  1.19it/s, _timer/_fps=216.209, _timer/batch_time=0.735, _timer/data_time=0.424, _timer/model_time=0.312, loss=7.734, lr=1.000e-03, map10=0.000e+00, momentum=0.900, ndcg20=0.000e+00]\n"
     ]
    },
    {
     "name": "stdout",
     "output_type": "stream",
     "text": [
      "train (11/100) loss: 7.719937971913867 | lr: 0.001 | map10: 0.0 | map10/std: 0.0 | momentum: 0.9 | ndcg20: 0.0 | ndcg20/std: 0.0\n"
     ]
    },
    {
     "name": "stderr",
     "output_type": "stream",
     "text": [
      "\n",
      "\n",
      "\n",
      "\n",
      "11/100 * Epoch (valid):   0%|          | 0/3 [00:00<?, ?it/s]\u001b[A\u001b[A\u001b[A\u001b[A\n",
      "\n",
      "\n",
      "\n",
      "11/100 * Epoch (valid):   0%|          | 0/3 [00:00<?, ?it/s, _timer/_fps=545.772, _timer/batch_time=0.469, _timer/data_time=0.029, _timer/model_time=0.440, loss=7.600, lr=1.000e-03, map10=0.186, momentum=0.900, ndcg20=0.102]\u001b[A\u001b[A\u001b[A\u001b[A\n",
      "\n",
      "\n",
      "\n",
      "11/100 * Epoch (valid):  33%|███▎      | 1/3 [00:00<00:00,  2.13it/s, _timer/_fps=545.772, _timer/batch_time=0.469, _timer/data_time=0.029, _timer/model_time=0.440, loss=7.600, lr=1.000e-03, map10=0.186, momentum=0.900, ndcg20=0.102]\u001b[A\u001b[A\u001b[A\u001b[A\n",
      "\n",
      "\n",
      "\n",
      "11/100 * Epoch (valid):  33%|███▎      | 1/3 [00:00<00:00,  2.13it/s, _timer/_fps=558.140, _timer/batch_time=0.459, _timer/data_time=0.033, _timer/model_time=0.426, loss=7.726, lr=1.000e-03, map10=0.191, momentum=0.900, ndcg20=0.105]\u001b[A\u001b[A\u001b[A\u001b[A\n",
      "\n",
      "\n",
      "\n",
      "11/100 * Epoch (valid):  67%|██████▋   | 2/3 [00:00<00:00,  2.16it/s, _timer/_fps=558.140, _timer/batch_time=0.459, _timer/data_time=0.033, _timer/model_time=0.426, loss=7.726, lr=1.000e-03, map10=0.191, momentum=0.900, ndcg20=0.105]\u001b[A\u001b[A\u001b[A\u001b[A\n",
      "\n",
      "\n",
      "\n",
      "11/100 * Epoch (valid):  67%|██████▋   | 2/3 [00:01<00:00,  2.16it/s, _timer/_fps=477.761, _timer/batch_time=0.333, _timer/data_time=0.022, _timer/model_time=0.311, loss=7.706, lr=1.000e-03, map10=0.201, momentum=0.900, ndcg20=0.108]\u001b[A\u001b[A\u001b[A\u001b[A\n",
      "\n",
      "\n",
      "\n",
      "11/100 * Epoch (valid): 100%|██████████| 3/3 [00:01<00:00,  2.48it/s, _timer/_fps=477.761, _timer/batch_time=0.333, _timer/data_time=0.022, _timer/model_time=0.311, loss=7.706, lr=1.000e-03, map10=0.201, momentum=0.900, ndcg20=0.108]\u001b[A\u001b[A\u001b[A\u001b[A\n",
      "\n",
      "\n",
      "\n",
      "11/100 * Epoch (valid): 100%|██████████| 3/3 [00:01<00:00,  2.38it/s, _timer/_fps=477.761, _timer/batch_time=0.333, _timer/data_time=0.022, _timer/model_time=0.311, loss=7.706, lr=1.000e-03, map10=0.201, momentum=0.900, ndcg20=0.108]\n"
     ]
    },
    {
     "name": "stdout",
     "output_type": "stream",
     "text": [
      "valid (11/100) loss: 7.673314319815259 | lr: 0.001 | map10: 0.19158934385428308 | map10/std: 0.005825168859065237 | momentum: 0.9 | ndcg20: 0.10467243316720744 | ndcg20/std: 0.0023662191287426183\n",
      "* Epoch (11/100) \n"
     ]
    },
    {
     "name": "stderr",
     "output_type": "stream",
     "text": [
      "\n",
      "\n",
      "\n",
      "\n",
      "12/100 * Epoch (train):   0%|          | 0/3 [00:00<?, ?it/s]\u001b[A\u001b[A\u001b[A\u001b[A\n",
      "\n",
      "\n",
      "\n",
      "12/100 * Epoch (train):   0%|          | 0/3 [00:01<?, ?it/s, _timer/_fps=400.290, _timer/batch_time=0.640, _timer/data_time=0.029, _timer/model_time=0.610, loss=7.592, lr=1.000e-03, map10=0.000e+00, momentum=0.900, ndcg20=0.000e+00]\u001b[A\u001b[A\u001b[A\u001b[A\n",
      "\n",
      "\n",
      "\n",
      "12/100 * Epoch (train):  33%|███▎      | 1/3 [00:01<00:02,  1.16s/it, _timer/_fps=400.290, _timer/batch_time=0.640, _timer/data_time=0.029, _timer/model_time=0.610, loss=7.592, lr=1.000e-03, map10=0.000e+00, momentum=0.900, ndcg20=0.000e+00]\u001b[A\u001b[A\u001b[A\u001b[A\n",
      "\n",
      "\n",
      "\n",
      "12/100 * Epoch (train):  33%|███▎      | 1/3 [00:02<00:02,  1.16s/it, _timer/_fps=221.210, _timer/batch_time=1.157, _timer/data_time=0.546, _timer/model_time=0.611, loss=7.717, lr=1.000e-03, map10=0.000e+00, momentum=0.900, ndcg20=0.000e+00]\u001b[A\u001b[A\u001b[A\u001b[A\n",
      "\n",
      "\n",
      "\n",
      "12/100 * Epoch (train):  67%|██████▋   | 2/3 [00:02<00:01,  1.16s/it, _timer/_fps=221.210, _timer/batch_time=1.157, _timer/data_time=0.546, _timer/model_time=0.611, loss=7.717, lr=1.000e-03, map10=0.000e+00, momentum=0.900, ndcg20=0.000e+00]\u001b[A\u001b[A\u001b[A\u001b[A\n",
      "\n",
      "\n",
      "\n",
      "12/100 * Epoch (train):  67%|██████▋   | 2/3 [00:03<00:01,  1.16s/it, _timer/_fps=169.359, _timer/batch_time=0.939, _timer/data_time=0.543, _timer/model_time=0.396, loss=7.667, lr=1.000e-03, map10=0.000e+00, momentum=0.900, ndcg20=0.000e+00]\u001b[A\u001b[A\u001b[A\u001b[A\n",
      "\n",
      "\n",
      "\n",
      "12/100 * Epoch (train): 100%|██████████| 3/3 [00:03<00:00,  1.06it/s, _timer/_fps=169.359, _timer/batch_time=0.939, _timer/data_time=0.543, _timer/model_time=0.396, loss=7.667, lr=1.000e-03, map10=0.000e+00, momentum=0.900, ndcg20=0.000e+00]\u001b[A\u001b[A\u001b[A\u001b[A\n",
      "\n",
      "\n",
      "\n",
      "12/100 * Epoch (train): 100%|██████████| 3/3 [00:03<00:00,  1.00s/it, _timer/_fps=169.359, _timer/batch_time=0.939, _timer/data_time=0.543, _timer/model_time=0.396, loss=7.667, lr=1.000e-03, map10=0.000e+00, momentum=0.900, ndcg20=0.000e+00]\n"
     ]
    },
    {
     "name": "stdout",
     "output_type": "stream",
     "text": [
      "train (12/100) loss: 7.657665729522705 | lr: 0.001 | map10: 0.0 | map10/std: 0.0 | momentum: 0.9 | ndcg20: 0.0 | ndcg20/std: 0.0\n"
     ]
    },
    {
     "name": "stderr",
     "output_type": "stream",
     "text": [
      "\n",
      "\n",
      "\n",
      "\n",
      "12/100 * Epoch (valid):   0%|          | 0/3 [00:00<?, ?it/s]\u001b[A\u001b[A\u001b[A\u001b[A\n",
      "\n",
      "\n",
      "\n",
      "12/100 * Epoch (valid):   0%|          | 0/3 [00:00<?, ?it/s, _timer/_fps=465.898, _timer/batch_time=0.549, _timer/data_time=0.033, _timer/model_time=0.516, loss=7.536, lr=1.000e-03, map10=0.189, momentum=0.900, ndcg20=0.107]\u001b[A\u001b[A\u001b[A\u001b[A\n",
      "\n",
      "\n",
      "\n",
      "12/100 * Epoch (valid):  33%|███▎      | 1/3 [00:00<00:01,  1.82it/s, _timer/_fps=465.898, _timer/batch_time=0.549, _timer/data_time=0.033, _timer/model_time=0.516, loss=7.536, lr=1.000e-03, map10=0.189, momentum=0.900, ndcg20=0.107]\u001b[A\u001b[A\u001b[A\u001b[A\n",
      "\n",
      "\n",
      "\n",
      "12/100 * Epoch (valid):  33%|███▎      | 1/3 [00:01<00:01,  1.82it/s, _timer/_fps=535.746, _timer/batch_time=0.478, _timer/data_time=0.034, _timer/model_time=0.443, loss=7.686, lr=1.000e-03, map10=0.195, momentum=0.900, ndcg20=0.108]\u001b[A\u001b[A\u001b[A\u001b[A\n",
      "\n",
      "\n",
      "\n",
      "12/100 * Epoch (valid):  67%|██████▋   | 2/3 [00:01<00:00,  1.97it/s, _timer/_fps=535.746, _timer/batch_time=0.478, _timer/data_time=0.034, _timer/model_time=0.443, loss=7.686, lr=1.000e-03, map10=0.195, momentum=0.900, ndcg20=0.108]\u001b[A\u001b[A\u001b[A\u001b[A\n",
      "\n",
      "\n",
      "\n",
      "12/100 * Epoch (valid):  67%|██████▋   | 2/3 [00:01<00:00,  1.97it/s, _timer/_fps=451.731, _timer/batch_time=0.352, _timer/data_time=0.022, _timer/model_time=0.330, loss=7.643, lr=1.000e-03, map10=0.201, momentum=0.900, ndcg20=0.107]\u001b[A\u001b[A\u001b[A\u001b[A\n",
      "\n",
      "\n",
      "\n",
      "12/100 * Epoch (valid): 100%|██████████| 3/3 [00:01<00:00,  2.29it/s, _timer/_fps=451.731, _timer/batch_time=0.352, _timer/data_time=0.022, _timer/model_time=0.330, loss=7.643, lr=1.000e-03, map10=0.201, momentum=0.900, ndcg20=0.107]\u001b[A\u001b[A\u001b[A\u001b[A\n",
      "\n",
      "\n",
      "\n",
      "12/100 * Epoch (valid): 100%|██████████| 3/3 [00:01<00:00,  2.17it/s, _timer/_fps=451.731, _timer/batch_time=0.352, _timer/data_time=0.022, _timer/model_time=0.330, loss=7.643, lr=1.000e-03, map10=0.201, momentum=0.900, ndcg20=0.107]\n"
     ]
    },
    {
     "name": "stdout",
     "output_type": "stream",
     "text": [
      "valid (12/100) loss: 7.618635499530685 | lr: 0.001 | map10: 0.19421559980835892 | map10/std: 0.004503469403327701 | momentum: 0.9 | ndcg20: 0.10721228054090336 | ndcg20/std: 0.00040572557970770654\n",
      "* Epoch (12/100) \n"
     ]
    },
    {
     "name": "stderr",
     "output_type": "stream",
     "text": [
      "\n",
      "\n",
      "\n",
      "\n",
      "13/100 * Epoch (train):   0%|          | 0/3 [00:00<?, ?it/s]\u001b[A\u001b[A\u001b[A\u001b[A\n",
      "\n",
      "\n",
      "\n",
      "13/100 * Epoch (train):   0%|          | 0/3 [00:00<?, ?it/s, _timer/_fps=415.723, _timer/batch_time=0.616, _timer/data_time=0.027, _timer/model_time=0.588, loss=7.600, lr=1.000e-03, map10=0.000e+00, momentum=0.900, ndcg20=0.000e+00]\u001b[A\u001b[A\u001b[A\u001b[A\n",
      "\n",
      "\n",
      "\n",
      "13/100 * Epoch (train):  33%|███▎      | 1/3 [00:01<00:01,  1.00it/s, _timer/_fps=415.723, _timer/batch_time=0.616, _timer/data_time=0.027, _timer/model_time=0.588, loss=7.600, lr=1.000e-03, map10=0.000e+00, momentum=0.900, ndcg20=0.000e+00]\u001b[A\u001b[A\u001b[A\u001b[A\n",
      "\n",
      "\n",
      "\n",
      "13/100 * Epoch (train):  33%|███▎      | 1/3 [00:02<00:01,  1.00it/s, _timer/_fps=240.023, _timer/batch_time=1.067, _timer/data_time=0.410, _timer/model_time=0.656, loss=7.730, lr=1.000e-03, map10=0.000e+00, momentum=0.900, ndcg20=0.000e+00]\u001b[A\u001b[A\u001b[A\u001b[A\n",
      "\n",
      "\n",
      "\n",
      "13/100 * Epoch (train):  67%|██████▋   | 2/3 [00:02<00:01,  1.06s/it, _timer/_fps=240.023, _timer/batch_time=1.067, _timer/data_time=0.410, _timer/model_time=0.656, loss=7.730, lr=1.000e-03, map10=0.000e+00, momentum=0.900, ndcg20=0.000e+00]\u001b[A\u001b[A\u001b[A\u001b[A\n",
      "\n",
      "\n",
      "\n",
      "13/100 * Epoch (train):  67%|██████▋   | 2/3 [00:02<00:01,  1.06s/it, _timer/_fps=212.068, _timer/batch_time=0.750, _timer/data_time=0.434, _timer/model_time=0.315, loss=7.650, lr=1.000e-03, map10=0.000e+00, momentum=0.900, ndcg20=0.000e+00]\u001b[A\u001b[A\u001b[A\u001b[A\n",
      "\n",
      "\n",
      "\n",
      "13/100 * Epoch (train): 100%|██████████| 3/3 [00:02<00:00,  1.22it/s, _timer/_fps=212.068, _timer/batch_time=0.750, _timer/data_time=0.434, _timer/model_time=0.315, loss=7.650, lr=1.000e-03, map10=0.000e+00, momentum=0.900, ndcg20=0.000e+00]\u001b[A\u001b[A\u001b[A\u001b[A\n",
      "\n",
      "\n",
      "\n",
      "13/100 * Epoch (train): 100%|██████████| 3/3 [00:02<00:00,  1.14it/s, _timer/_fps=212.068, _timer/batch_time=0.750, _timer/data_time=0.434, _timer/model_time=0.315, loss=7.650, lr=1.000e-03, map10=0.000e+00, momentum=0.900, ndcg20=0.000e+00]\n"
     ]
    },
    {
     "name": "stdout",
     "output_type": "stream",
     "text": [
      "train (13/100) loss: 7.661367825708517 | lr: 0.001 | map10: 0.0 | map10/std: 0.0 | momentum: 0.9 | ndcg20: 0.0 | ndcg20/std: 0.0\n"
     ]
    },
    {
     "name": "stderr",
     "output_type": "stream",
     "text": [
      "\n",
      "\n",
      "\n",
      "\n",
      "13/100 * Epoch (valid):   0%|          | 0/3 [00:00<?, ?it/s]\u001b[A\u001b[A\u001b[A\u001b[A\n",
      "\n",
      "\n",
      "\n",
      "13/100 * Epoch (valid):   0%|          | 0/3 [00:00<?, ?it/s, _timer/_fps=529.601, _timer/batch_time=0.483, _timer/data_time=0.033, _timer/model_time=0.450, loss=7.557, lr=1.000e-03, map10=0.187, momentum=0.900, ndcg20=0.107]\u001b[A\u001b[A\u001b[A\u001b[A\n",
      "\n",
      "\n",
      "\n",
      "13/100 * Epoch (valid):  33%|███▎      | 1/3 [00:00<00:00,  2.07it/s, _timer/_fps=529.601, _timer/batch_time=0.483, _timer/data_time=0.033, _timer/model_time=0.450, loss=7.557, lr=1.000e-03, map10=0.187, momentum=0.900, ndcg20=0.107]\u001b[A\u001b[A\u001b[A\u001b[A\n",
      "\n",
      "\n",
      "\n",
      "13/100 * Epoch (valid):  33%|███▎      | 1/3 [00:00<00:00,  2.07it/s, _timer/_fps=557.572, _timer/batch_time=0.459, _timer/data_time=0.036, _timer/model_time=0.423, loss=7.707, lr=1.000e-03, map10=0.192, momentum=0.900, ndcg20=0.108]\u001b[A\u001b[A\u001b[A\u001b[A\n",
      "\n",
      "\n",
      "\n",
      "13/100 * Epoch (valid):  67%|██████▋   | 2/3 [00:00<00:00,  2.13it/s, _timer/_fps=557.572, _timer/batch_time=0.459, _timer/data_time=0.036, _timer/model_time=0.423, loss=7.707, lr=1.000e-03, map10=0.192, momentum=0.900, ndcg20=0.108]\u001b[A\u001b[A\u001b[A\u001b[A\n",
      "\n",
      "\n",
      "\n",
      "13/100 * Epoch (valid):  67%|██████▋   | 2/3 [00:01<00:00,  2.13it/s, _timer/_fps=484.503, _timer/batch_time=0.328, _timer/data_time=0.022, _timer/model_time=0.306, loss=7.630, lr=1.000e-03, map10=0.206, momentum=0.900, ndcg20=0.107]\u001b[A\u001b[A\u001b[A\u001b[A\n",
      "\n",
      "\n",
      "\n",
      "13/100 * Epoch (valid): 100%|██████████| 3/3 [00:01<00:00,  2.47it/s, _timer/_fps=484.503, _timer/batch_time=0.328, _timer/data_time=0.022, _timer/model_time=0.306, loss=7.630, lr=1.000e-03, map10=0.206, momentum=0.900, ndcg20=0.107]\u001b[A\u001b[A\u001b[A\u001b[A\n",
      "\n",
      "\n",
      "\n",
      "13/100 * Epoch (valid): 100%|██████████| 3/3 [00:01<00:00,  2.36it/s, _timer/_fps=484.503, _timer/batch_time=0.328, _timer/data_time=0.022, _timer/model_time=0.306, loss=7.630, lr=1.000e-03, map10=0.206, momentum=0.900, ndcg20=0.107]\n"
     ]
    },
    {
     "name": "stdout",
     "output_type": "stream",
     "text": [
      "valid (13/100) loss: 7.631379796922118 | lr: 0.001 | map10: 0.19359387968140815 | map10/std: 0.0071778442949221415 | momentum: 0.9 | ndcg20: 0.10737419419334826 | ndcg20/std: 0.000570034653266284\n",
      "* Epoch (13/100) \n"
     ]
    },
    {
     "name": "stderr",
     "output_type": "stream",
     "text": [
      "\n",
      "\n",
      "\n",
      "\n",
      "14/100 * Epoch (train):   0%|          | 0/3 [00:00<?, ?it/s]\u001b[A\u001b[A\u001b[A\u001b[A\n",
      "\n",
      "\n",
      "\n",
      "14/100 * Epoch (train):   0%|          | 0/3 [00:01<?, ?it/s, _timer/_fps=408.873, _timer/batch_time=0.626, _timer/data_time=0.025, _timer/model_time=0.601, loss=7.522, lr=1.000e-03, map10=0.000e+00, momentum=0.900, ndcg20=0.000e+00]\u001b[A\u001b[A\u001b[A\u001b[A\n",
      "\n",
      "\n",
      "\n",
      "14/100 * Epoch (train):  33%|███▎      | 1/3 [00:01<00:02,  1.08s/it, _timer/_fps=408.873, _timer/batch_time=0.626, _timer/data_time=0.025, _timer/model_time=0.601, loss=7.522, lr=1.000e-03, map10=0.000e+00, momentum=0.900, ndcg20=0.000e+00]\u001b[A\u001b[A\u001b[A\u001b[A\n",
      "\n",
      "\n",
      "\n",
      "14/100 * Epoch (train):  33%|███▎      | 1/3 [00:02<00:02,  1.08s/it, _timer/_fps=227.542, _timer/batch_time=1.125, _timer/data_time=0.483, _timer/model_time=0.642, loss=7.692, lr=1.000e-03, map10=0.000e+00, momentum=0.900, ndcg20=0.000e+00]\u001b[A\u001b[A\u001b[A\u001b[A\n",
      "\n",
      "\n",
      "\n",
      "14/100 * Epoch (train):  67%|██████▋   | 2/3 [00:02<00:01,  1.10s/it, _timer/_fps=227.542, _timer/batch_time=1.125, _timer/data_time=0.483, _timer/model_time=0.642, loss=7.692, lr=1.000e-03, map10=0.000e+00, momentum=0.900, ndcg20=0.000e+00]\u001b[A\u001b[A\u001b[A\u001b[A\n",
      "\n",
      "\n",
      "\n",
      "14/100 * Epoch (train):  67%|██████▋   | 2/3 [00:02<00:01,  1.10s/it, _timer/_fps=194.392, _timer/batch_time=0.818, _timer/data_time=0.470, _timer/model_time=0.348, loss=7.701, lr=1.000e-03, map10=0.000e+00, momentum=0.900, ndcg20=0.000e+00]\u001b[A\u001b[A\u001b[A\u001b[A\n",
      "\n",
      "\n",
      "\n",
      "14/100 * Epoch (train): 100%|██████████| 3/3 [00:02<00:00,  1.13it/s, _timer/_fps=194.392, _timer/batch_time=0.818, _timer/data_time=0.470, _timer/model_time=0.348, loss=7.701, lr=1.000e-03, map10=0.000e+00, momentum=0.900, ndcg20=0.000e+00]\u001b[A\u001b[A\u001b[A\u001b[A\n",
      "\n",
      "\n",
      "\n",
      "14/100 * Epoch (train): 100%|██████████| 3/3 [00:02<00:00,  1.06it/s, _timer/_fps=194.392, _timer/batch_time=0.818, _timer/data_time=0.470, _timer/model_time=0.348, loss=7.701, lr=1.000e-03, map10=0.000e+00, momentum=0.900, ndcg20=0.000e+00]\n"
     ]
    },
    {
     "name": "stdout",
     "output_type": "stream",
     "text": [
      "train (14/100) loss: 7.629317899041666 | lr: 0.001 | map10: 0.0 | map10/std: 0.0 | momentum: 0.9 | ndcg20: 0.0 | ndcg20/std: 0.0\n"
     ]
    },
    {
     "name": "stderr",
     "output_type": "stream",
     "text": [
      "\n",
      "\n",
      "\n",
      "\n",
      "14/100 * Epoch (valid):   0%|          | 0/3 [00:00<?, ?it/s]\u001b[A\u001b[A\u001b[A\u001b[A\n",
      "\n",
      "\n",
      "\n",
      "14/100 * Epoch (valid):   0%|          | 0/3 [00:00<?, ?it/s, _timer/_fps=487.596, _timer/batch_time=0.525, _timer/data_time=0.035, _timer/model_time=0.490, loss=7.483, lr=1.000e-03, map10=0.186, momentum=0.900, ndcg20=0.108]\u001b[A\u001b[A\u001b[A\u001b[A\n",
      "\n",
      "\n",
      "\n",
      "14/100 * Epoch (valid):  33%|███▎      | 1/3 [00:00<00:01,  1.91it/s, _timer/_fps=487.596, _timer/batch_time=0.525, _timer/data_time=0.035, _timer/model_time=0.490, loss=7.483, lr=1.000e-03, map10=0.186, momentum=0.900, ndcg20=0.108]\u001b[A\u001b[A\u001b[A\u001b[A\n",
      "\n",
      "\n",
      "\n",
      "14/100 * Epoch (valid):  33%|███▎      | 1/3 [00:01<00:01,  1.91it/s, _timer/_fps=538.171, _timer/batch_time=0.476, _timer/data_time=0.035, _timer/model_time=0.441, loss=7.671, lr=1.000e-03, map10=0.192, momentum=0.900, ndcg20=0.109]\u001b[A\u001b[A\u001b[A\u001b[A\n",
      "\n",
      "\n",
      "\n",
      "14/100 * Epoch (valid):  67%|██████▋   | 2/3 [00:01<00:00,  2.02it/s, _timer/_fps=538.171, _timer/batch_time=0.476, _timer/data_time=0.035, _timer/model_time=0.441, loss=7.671, lr=1.000e-03, map10=0.192, momentum=0.900, ndcg20=0.109]\u001b[A\u001b[A\u001b[A\u001b[A\n",
      "\n",
      "\n",
      "\n",
      "14/100 * Epoch (valid):  67%|██████▋   | 2/3 [00:01<00:00,  2.02it/s, _timer/_fps=506.972, _timer/batch_time=0.314, _timer/data_time=0.021, _timer/model_time=0.292, loss=7.686, lr=1.000e-03, map10=0.208, momentum=0.900, ndcg20=0.109]\u001b[A\u001b[A\u001b[A\u001b[A\n",
      "\n",
      "\n",
      "\n",
      "14/100 * Epoch (valid): 100%|██████████| 3/3 [00:01<00:00,  2.42it/s, _timer/_fps=506.972, _timer/batch_time=0.314, _timer/data_time=0.021, _timer/model_time=0.292, loss=7.686, lr=1.000e-03, map10=0.208, momentum=0.900, ndcg20=0.109]\u001b[A\u001b[A\u001b[A\u001b[A\n",
      "\n",
      "\n",
      "\n",
      "14/100 * Epoch (valid): 100%|██████████| 3/3 [00:01<00:00,  2.28it/s, _timer/_fps=506.972, _timer/batch_time=0.314, _timer/data_time=0.021, _timer/model_time=0.292, loss=7.686, lr=1.000e-03, map10=0.208, momentum=0.900, ndcg20=0.109]\n"
     ]
    },
    {
     "name": "stdout",
     "output_type": "stream",
     "text": [
      "valid (14/100) loss: 7.60288547936566 | lr: 0.001 | map10: 0.1937638060835186 | map10/std: 0.00857102844839335 | momentum: 0.9 | ndcg20: 0.1087547759629575 | ndcg20/std: 0.0008325329523220994\n",
      "* Epoch (14/100) \n"
     ]
    },
    {
     "name": "stderr",
     "output_type": "stream",
     "text": [
      "\n",
      "\n",
      "\n",
      "\n",
      "15/100 * Epoch (train):   0%|          | 0/3 [00:00<?, ?it/s]\u001b[A\u001b[A\u001b[A\u001b[A\n",
      "\n",
      "\n",
      "\n",
      "15/100 * Epoch (train):   0%|          | 0/3 [00:01<?, ?it/s, _timer/_fps=417.847, _timer/batch_time=0.613, _timer/data_time=0.023, _timer/model_time=0.590, loss=7.528, lr=1.000e-03, map10=0.000e+00, momentum=0.900, ndcg20=0.000e+00]\u001b[A\u001b[A\u001b[A\u001b[A\n",
      "\n",
      "\n",
      "\n",
      "15/100 * Epoch (train):  33%|███▎      | 1/3 [00:01<00:02,  1.04s/it, _timer/_fps=417.847, _timer/batch_time=0.613, _timer/data_time=0.023, _timer/model_time=0.590, loss=7.528, lr=1.000e-03, map10=0.000e+00, momentum=0.900, ndcg20=0.000e+00]\u001b[A\u001b[A\u001b[A\u001b[A\n",
      "\n",
      "\n",
      "\n",
      "15/100 * Epoch (train):  33%|███▎      | 1/3 [00:02<00:02,  1.04s/it, _timer/_fps=239.765, _timer/batch_time=1.068, _timer/data_time=0.449, _timer/model_time=0.619, loss=7.699, lr=1.000e-03, map10=0.000e+00, momentum=0.900, ndcg20=0.000e+00]\u001b[A\u001b[A\u001b[A\u001b[A\n",
      "\n",
      "\n",
      "\n",
      "15/100 * Epoch (train):  67%|██████▋   | 2/3 [00:02<00:01,  1.07s/it, _timer/_fps=239.765, _timer/batch_time=1.068, _timer/data_time=0.449, _timer/model_time=0.619, loss=7.699, lr=1.000e-03, map10=0.000e+00, momentum=0.900, ndcg20=0.000e+00]\u001b[A\u001b[A\u001b[A\u001b[A\n",
      "\n",
      "\n",
      "\n",
      "15/100 * Epoch (train):  67%|██████▋   | 2/3 [00:02<00:01,  1.07s/it, _timer/_fps=199.393, _timer/batch_time=0.797, _timer/data_time=0.474, _timer/model_time=0.323, loss=7.638, lr=1.000e-03, map10=0.000e+00, momentum=0.900, ndcg20=0.000e+00]\u001b[A\u001b[A\u001b[A\u001b[A\n",
      "\n",
      "\n",
      "\n",
      "15/100 * Epoch (train): 100%|██████████| 3/3 [00:02<00:00,  1.20it/s, _timer/_fps=199.393, _timer/batch_time=0.797, _timer/data_time=0.474, _timer/model_time=0.323, loss=7.638, lr=1.000e-03, map10=0.000e+00, momentum=0.900, ndcg20=0.000e+00]\u001b[A\u001b[A\u001b[A\u001b[A\n",
      "\n",
      "\n",
      "\n",
      "15/100 * Epoch (train): 100%|██████████| 3/3 [00:02<00:00,  1.12it/s, _timer/_fps=199.393, _timer/batch_time=0.797, _timer/data_time=0.474, _timer/model_time=0.323, loss=7.638, lr=1.000e-03, map10=0.000e+00, momentum=0.900, ndcg20=0.000e+00]\n"
     ]
    },
    {
     "name": "stdout",
     "output_type": "stream",
     "text": [
      "train (15/100) loss: 7.619481170586075 | lr: 0.001 | map10: 0.0 | map10/std: 0.0 | momentum: 0.9 | ndcg20: 0.0 | ndcg20/std: 0.0\n"
     ]
    },
    {
     "name": "stderr",
     "output_type": "stream",
     "text": [
      "\n",
      "\n",
      "\n",
      "\n",
      "15/100 * Epoch (valid):   0%|          | 0/3 [00:00<?, ?it/s]\u001b[A\u001b[A\u001b[A\u001b[A\n",
      "\n",
      "\n",
      "\n",
      "15/100 * Epoch (valid):   0%|          | 0/3 [00:00<?, ?it/s, _timer/_fps=541.265, _timer/batch_time=0.473, _timer/data_time=0.030, _timer/model_time=0.443, loss=7.497, lr=1.000e-03, map10=0.182, momentum=0.900, ndcg20=0.107]\u001b[A\u001b[A\u001b[A\u001b[A\n",
      "\n",
      "\n",
      "\n",
      "15/100 * Epoch (valid):  33%|███▎      | 1/3 [00:00<00:00,  2.11it/s, _timer/_fps=541.265, _timer/batch_time=0.473, _timer/data_time=0.030, _timer/model_time=0.443, loss=7.497, lr=1.000e-03, map10=0.182, momentum=0.900, ndcg20=0.107]\u001b[A\u001b[A\u001b[A\u001b[A\n",
      "\n",
      "\n",
      "\n",
      "15/100 * Epoch (valid):  33%|███▎      | 1/3 [00:00<00:00,  2.11it/s, _timer/_fps=543.086, _timer/batch_time=0.471, _timer/data_time=0.031, _timer/model_time=0.440, loss=7.685, lr=1.000e-03, map10=0.193, momentum=0.900, ndcg20=0.111]\u001b[A\u001b[A\u001b[A\u001b[A\n",
      "\n",
      "\n",
      "\n",
      "15/100 * Epoch (valid):  67%|██████▋   | 2/3 [00:00<00:00,  2.12it/s, _timer/_fps=543.086, _timer/batch_time=0.471, _timer/data_time=0.031, _timer/model_time=0.440, loss=7.685, lr=1.000e-03, map10=0.193, momentum=0.900, ndcg20=0.111]\u001b[A\u001b[A\u001b[A\u001b[A\n",
      "\n",
      "\n",
      "\n",
      "15/100 * Epoch (valid):  67%|██████▋   | 2/3 [00:01<00:00,  2.12it/s, _timer/_fps=514.437, _timer/batch_time=0.309, _timer/data_time=0.021, _timer/model_time=0.288, loss=7.625, lr=1.000e-03, map10=0.213, momentum=0.900, ndcg20=0.108]\u001b[A\u001b[A\u001b[A\u001b[A\n",
      "\n",
      "\n",
      "\n",
      "15/100 * Epoch (valid): 100%|██████████| 3/3 [00:01<00:00,  2.52it/s, _timer/_fps=514.437, _timer/batch_time=0.309, _timer/data_time=0.021, _timer/model_time=0.288, loss=7.625, lr=1.000e-03, map10=0.213, momentum=0.900, ndcg20=0.108]\u001b[A\u001b[A\u001b[A\u001b[A\n",
      "\n",
      "\n",
      "\n",
      "15/100 * Epoch (valid): 100%|██████████| 3/3 [00:01<00:00,  2.39it/s, _timer/_fps=514.437, _timer/batch_time=0.309, _timer/data_time=0.021, _timer/model_time=0.288, loss=7.625, lr=1.000e-03, map10=0.213, momentum=0.900, ndcg20=0.108]\n"
     ]
    },
    {
     "name": "stdout",
     "output_type": "stream",
     "text": [
      "valid (15/100) loss: 7.598965580879132 | lr: 0.001 | map10: 0.19335051687037358 | map10/std: 0.01180196473952157 | momentum: 0.9 | ndcg20: 0.10869927510019564 | ndcg20/std: 0.001699202573695983\n",
      "* Epoch (15/100) \n"
     ]
    },
    {
     "name": "stderr",
     "output_type": "stream",
     "text": [
      "\n",
      "\n",
      "\n",
      "\n",
      "16/100 * Epoch (train):   0%|          | 0/3 [00:00<?, ?it/s]\u001b[A\u001b[A\u001b[A\u001b[A\n",
      "\n",
      "\n",
      "\n",
      "16/100 * Epoch (train):   0%|          | 0/3 [00:01<?, ?it/s, _timer/_fps=423.431, _timer/batch_time=0.605, _timer/data_time=0.025, _timer/model_time=0.579, loss=7.561, lr=1.000e-03, map10=0.000e+00, momentum=0.900, ndcg20=0.000e+00]\u001b[A\u001b[A\u001b[A\u001b[A\n",
      "\n",
      "\n",
      "\n",
      "16/100 * Epoch (train):  33%|███▎      | 1/3 [00:01<00:02,  1.07s/it, _timer/_fps=423.431, _timer/batch_time=0.605, _timer/data_time=0.025, _timer/model_time=0.579, loss=7.561, lr=1.000e-03, map10=0.000e+00, momentum=0.900, ndcg20=0.000e+00]\u001b[A\u001b[A\u001b[A\u001b[A\n",
      "\n",
      "\n",
      "\n",
      "16/100 * Epoch (train):  33%|███▎      | 1/3 [00:02<00:02,  1.07s/it, _timer/_fps=251.366, _timer/batch_time=1.018, _timer/data_time=0.490, _timer/model_time=0.528, loss=7.726, lr=1.000e-03, map10=0.000e+00, momentum=0.900, ndcg20=0.000e+00]\u001b[A\u001b[A\u001b[A\u001b[A\n",
      "\n",
      "\n",
      "\n",
      "16/100 * Epoch (train):  67%|██████▋   | 2/3 [00:02<00:01,  1.04s/it, _timer/_fps=251.366, _timer/batch_time=1.018, _timer/data_time=0.490, _timer/model_time=0.528, loss=7.726, lr=1.000e-03, map10=0.000e+00, momentum=0.900, ndcg20=0.000e+00]\u001b[A\u001b[A\u001b[A\u001b[A\n",
      "\n",
      "\n",
      "\n",
      "16/100 * Epoch (train):  67%|██████▋   | 2/3 [00:02<00:01,  1.04s/it, _timer/_fps=202.526, _timer/batch_time=0.785, _timer/data_time=0.479, _timer/model_time=0.306, loss=7.664, lr=1.000e-03, map10=0.000e+00, momentum=0.900, ndcg20=0.000e+00]\u001b[A\u001b[A\u001b[A\u001b[A\n",
      "\n",
      "\n",
      "\n",
      "16/100 * Epoch (train): 100%|██████████| 3/3 [00:02<00:00,  1.25it/s, _timer/_fps=202.526, _timer/batch_time=0.785, _timer/data_time=0.479, _timer/model_time=0.306, loss=7.664, lr=1.000e-03, map10=0.000e+00, momentum=0.900, ndcg20=0.000e+00]\u001b[A\u001b[A\u001b[A\u001b[A\n",
      "\n",
      "\n",
      "\n",
      "16/100 * Epoch (train): 100%|██████████| 3/3 [00:02<00:00,  1.15it/s, _timer/_fps=202.526, _timer/batch_time=0.785, _timer/data_time=0.479, _timer/model_time=0.306, loss=7.664, lr=1.000e-03, map10=0.000e+00, momentum=0.900, ndcg20=0.000e+00]\n"
     ]
    },
    {
     "name": "stdout",
     "output_type": "stream",
     "text": [
      "train (16/100) loss: 7.6485678456757 | lr: 0.001 | map10: 0.0 | map10/std: 0.0 | momentum: 0.9 | ndcg20: 0.0 | ndcg20/std: 0.0\n"
     ]
    },
    {
     "name": "stderr",
     "output_type": "stream",
     "text": [
      "\n",
      "\n",
      "\n",
      "\n",
      "16/100 * Epoch (valid):   0%|          | 0/3 [00:00<?, ?it/s]\u001b[A\u001b[A\u001b[A\u001b[A\n",
      "\n",
      "\n",
      "\n",
      "16/100 * Epoch (valid):   0%|          | 0/3 [00:00<?, ?it/s, _timer/_fps=541.016, _timer/batch_time=0.473, _timer/data_time=0.033, _timer/model_time=0.440, loss=7.537, lr=1.000e-03, map10=0.183, momentum=0.900, ndcg20=0.107]\u001b[A\u001b[A\u001b[A\u001b[A\n",
      "\n",
      "\n",
      "\n",
      "16/100 * Epoch (valid):  33%|███▎      | 1/3 [00:00<00:00,  2.11it/s, _timer/_fps=541.016, _timer/batch_time=0.473, _timer/data_time=0.033, _timer/model_time=0.440, loss=7.537, lr=1.000e-03, map10=0.183, momentum=0.900, ndcg20=0.107]\u001b[A\u001b[A\u001b[A\u001b[A\n",
      "\n",
      "\n",
      "\n",
      "16/100 * Epoch (valid):  33%|███▎      | 1/3 [00:00<00:00,  2.11it/s, _timer/_fps=560.983, _timer/batch_time=0.456, _timer/data_time=0.031, _timer/model_time=0.426, loss=7.715, lr=1.000e-03, map10=0.193, momentum=0.900, ndcg20=0.110]\u001b[A\u001b[A\u001b[A\u001b[A\n",
      "\n",
      "\n",
      "\n",
      "16/100 * Epoch (valid):  67%|██████▋   | 2/3 [00:00<00:00,  2.16it/s, _timer/_fps=560.983, _timer/batch_time=0.456, _timer/data_time=0.031, _timer/model_time=0.426, loss=7.715, lr=1.000e-03, map10=0.193, momentum=0.900, ndcg20=0.110]\u001b[A\u001b[A\u001b[A\u001b[A\n",
      "\n",
      "\n",
      "\n",
      "16/100 * Epoch (valid):  67%|██████▋   | 2/3 [00:01<00:00,  2.16it/s, _timer/_fps=520.900, _timer/batch_time=0.305, _timer/data_time=0.021, _timer/model_time=0.285, loss=7.654, lr=1.000e-03, map10=0.205, momentum=0.900, ndcg20=0.107]\u001b[A\u001b[A\u001b[A\u001b[A\n",
      "\n",
      "\n",
      "\n",
      "16/100 * Epoch (valid): 100%|██████████| 3/3 [00:01<00:00,  2.56it/s, _timer/_fps=520.900, _timer/batch_time=0.305, _timer/data_time=0.021, _timer/model_time=0.285, loss=7.654, lr=1.000e-03, map10=0.205, momentum=0.900, ndcg20=0.107]\u001b[A\u001b[A\u001b[A\u001b[A\n",
      "\n",
      "\n",
      "\n",
      "16/100 * Epoch (valid): 100%|██████████| 3/3 [00:01<00:00,  2.43it/s, _timer/_fps=520.900, _timer/batch_time=0.305, _timer/data_time=0.021, _timer/model_time=0.285, loss=7.654, lr=1.000e-03, map10=0.205, momentum=0.900, ndcg20=0.107]\n"
     ]
    },
    {
     "name": "stdout",
     "output_type": "stream",
     "text": [
      "valid (16/100) loss: 7.632488537118971 | lr: 0.001 | map10: 0.19176615759086324 | map10/std: 0.00860379998008913 | momentum: 0.9 | ndcg20: 0.10784094641887307 | ndcg20/std: 0.001357225585129868\n",
      "* Epoch (16/100) \n"
     ]
    },
    {
     "name": "stderr",
     "output_type": "stream",
     "text": [
      "\n",
      "\n",
      "\n",
      "\n",
      "17/100 * Epoch (train):   0%|          | 0/3 [00:00<?, ?it/s]\u001b[A\u001b[A\u001b[A\u001b[A\n",
      "\n",
      "\n",
      "\n",
      "17/100 * Epoch (train):   0%|          | 0/3 [00:01<?, ?it/s, _timer/_fps=421.105, _timer/batch_time=0.608, _timer/data_time=0.025, _timer/model_time=0.583, loss=7.512, lr=1.000e-03, map10=0.000e+00, momentum=0.900, ndcg20=0.000e+00]\u001b[A\u001b[A\u001b[A\u001b[A\n",
      "\n",
      "\n",
      "\n",
      "17/100 * Epoch (train):  33%|███▎      | 1/3 [00:01<00:02,  1.07s/it, _timer/_fps=421.105, _timer/batch_time=0.608, _timer/data_time=0.025, _timer/model_time=0.583, loss=7.512, lr=1.000e-03, map10=0.000e+00, momentum=0.900, ndcg20=0.000e+00]\u001b[A\u001b[A\u001b[A\u001b[A\n",
      "\n",
      "\n",
      "\n",
      "17/100 * Epoch (train):  33%|███▎      | 1/3 [00:02<00:02,  1.07s/it, _timer/_fps=253.138, _timer/batch_time=1.011, _timer/data_time=0.489, _timer/model_time=0.522, loss=7.707, lr=1.000e-03, map10=0.000e+00, momentum=0.900, ndcg20=0.000e+00]\u001b[A\u001b[A\u001b[A\u001b[A\n",
      "\n",
      "\n",
      "\n",
      "17/100 * Epoch (train):  67%|██████▋   | 2/3 [00:02<00:01,  1.04s/it, _timer/_fps=253.138, _timer/batch_time=1.011, _timer/data_time=0.489, _timer/model_time=0.522, loss=7.707, lr=1.000e-03, map10=0.000e+00, momentum=0.900, ndcg20=0.000e+00]\u001b[A\u001b[A\u001b[A\u001b[A\n",
      "\n",
      "\n",
      "\n",
      "17/100 * Epoch (train):  67%|██████▋   | 2/3 [00:02<00:01,  1.04s/it, _timer/_fps=199.521, _timer/batch_time=0.797, _timer/data_time=0.487, _timer/model_time=0.310, loss=7.655, lr=1.000e-03, map10=0.000e+00, momentum=0.900, ndcg20=0.000e+00]\u001b[A\u001b[A\u001b[A\u001b[A\n",
      "\n",
      "\n",
      "\n",
      "17/100 * Epoch (train): 100%|██████████| 3/3 [00:02<00:00,  1.24it/s, _timer/_fps=199.521, _timer/batch_time=0.797, _timer/data_time=0.487, _timer/model_time=0.310, loss=7.655, lr=1.000e-03, map10=0.000e+00, momentum=0.900, ndcg20=0.000e+00]\u001b[A\u001b[A\u001b[A\u001b[A\n",
      "\n",
      "\n",
      "\n",
      "17/100 * Epoch (train): 100%|██████████| 3/3 [00:02<00:00,  1.15it/s, _timer/_fps=199.521, _timer/batch_time=0.797, _timer/data_time=0.487, _timer/model_time=0.310, loss=7.655, lr=1.000e-03, map10=0.000e+00, momentum=0.900, ndcg20=0.000e+00]\n"
     ]
    },
    {
     "name": "stdout",
     "output_type": "stream",
     "text": [
      "train (17/100) loss: 7.620365115818075 | lr: 0.001 | map10: 0.0 | map10/std: 0.0 | momentum: 0.9 | ndcg20: 0.0 | ndcg20/std: 0.0\n"
     ]
    },
    {
     "name": "stderr",
     "output_type": "stream",
     "text": [
      "\n",
      "\n",
      "\n",
      "\n",
      "17/100 * Epoch (valid):   0%|          | 0/3 [00:00<?, ?it/s]\u001b[A\u001b[A\u001b[A\u001b[A\n",
      "\n",
      "\n",
      "\n",
      "17/100 * Epoch (valid):   0%|          | 0/3 [00:00<?, ?it/s, _timer/_fps=521.741, _timer/batch_time=0.491, _timer/data_time=0.034, _timer/model_time=0.456, loss=7.488, lr=1.000e-03, map10=0.178, momentum=0.900, ndcg20=0.106]\u001b[A\u001b[A\u001b[A\u001b[A\n",
      "\n",
      "\n",
      "\n",
      "17/100 * Epoch (valid):  33%|███▎      | 1/3 [00:00<00:00,  2.04it/s, _timer/_fps=521.741, _timer/batch_time=0.491, _timer/data_time=0.034, _timer/model_time=0.456, loss=7.488, lr=1.000e-03, map10=0.178, momentum=0.900, ndcg20=0.106]\u001b[A\u001b[A\u001b[A\u001b[A\n",
      "\n",
      "\n",
      "\n",
      "17/100 * Epoch (valid):  33%|███▎      | 1/3 [00:00<00:00,  2.04it/s, _timer/_fps=537.663, _timer/batch_time=0.476, _timer/data_time=0.033, _timer/model_time=0.443, loss=7.696, lr=1.000e-03, map10=0.186, momentum=0.900, ndcg20=0.111]\u001b[A\u001b[A\u001b[A\u001b[A\n",
      "\n",
      "\n",
      "\n",
      "17/100 * Epoch (valid):  67%|██████▋   | 2/3 [00:00<00:00,  2.07it/s, _timer/_fps=537.663, _timer/batch_time=0.476, _timer/data_time=0.033, _timer/model_time=0.443, loss=7.696, lr=1.000e-03, map10=0.186, momentum=0.900, ndcg20=0.111]\u001b[A\u001b[A\u001b[A\u001b[A\n",
      "\n",
      "\n",
      "\n",
      "17/100 * Epoch (valid):  67%|██████▋   | 2/3 [00:01<00:00,  2.07it/s, _timer/_fps=513.845, _timer/batch_time=0.309, _timer/data_time=0.022, _timer/model_time=0.288, loss=7.646, lr=1.000e-03, map10=0.218, momentum=0.900, ndcg20=0.109]\u001b[A\u001b[A\u001b[A\u001b[A\n",
      "\n",
      "\n",
      "\n",
      "17/100 * Epoch (valid): 100%|██████████| 3/3 [00:01<00:00,  2.48it/s, _timer/_fps=513.845, _timer/batch_time=0.309, _timer/data_time=0.022, _timer/model_time=0.288, loss=7.646, lr=1.000e-03, map10=0.218, momentum=0.900, ndcg20=0.109]\u001b[A\u001b[A\u001b[A\u001b[A\n",
      "\n",
      "\n",
      "\n",
      "17/100 * Epoch (valid): 100%|██████████| 3/3 [00:01<00:00,  2.35it/s, _timer/_fps=513.845, _timer/batch_time=0.309, _timer/data_time=0.022, _timer/model_time=0.288, loss=7.646, lr=1.000e-03, map10=0.218, momentum=0.900, ndcg20=0.109]\n"
     ]
    },
    {
     "name": "stdout",
     "output_type": "stream",
     "text": [
      "valid (17/100) loss: 7.604773068037189 | lr: 0.001 | map10: 0.1905959633618993 | map10/std: 0.015929656392303683 | momentum: 0.9 | ndcg20: 0.10844120066807274 | ndcg20/std: 0.0021501530854073254\n",
      "* Epoch (17/100) \n"
     ]
    },
    {
     "name": "stderr",
     "output_type": "stream",
     "text": [
      "\n",
      "\n",
      "\n",
      "\n",
      "0it [00:00, ?it/s]\u001b[A\u001b[A\u001b[A\u001b[A\n",
      "\n",
      "\n",
      "\n",
      "21it [00:00, 204.56it/s]\u001b[A\u001b[A\u001b[A\u001b[A\n",
      "\n",
      "\n",
      "\n",
      "42it [00:00, 196.79it/s]\u001b[A\u001b[A\u001b[A\u001b[A\n",
      "\n",
      "\n",
      "\n",
      "62it [00:00, 196.07it/s]\u001b[A\u001b[A\u001b[A\u001b[A\n",
      "\n",
      "\n",
      "\n",
      "82it [00:00, 187.82it/s]\u001b[A\u001b[A\u001b[A\u001b[A\n",
      "\n",
      "\n",
      "\n",
      "112it [00:00, 184.15it/s]\u001b[A\u001b[A\u001b[A\u001b[A\n"
     ]
    },
    {
     "name": "stdout",
     "output_type": "stream",
     "text": [
      "671\n"
     ]
    }
   ],
   "source": [
    "model = ContextBERT4Rec(n_items=len(item2idx)+1, mask_ratio=0.2, hidden_size=64)\n",
    "\n",
    "optimizer = optim.Adam(model.parameters(), lr=0.001)\n",
    "lr_scheduler = StepLR(optimizer, step_size=20, gamma=0.1)\n",
    "engine = dl.DeviceEngine('cpu')\n",
    "hparams = {\n",
    "    \"anneal_cap\": 0.2,\n",
    "    \"total_anneal_steps\": 6000,\n",
    "}\n",
    "\n",
    "\n",
    "callbacks = [\n",
    "    dl.NDCGCallback(\"logits\", \"targets\", [20]),\n",
    "    dl.MAPCallback(\"logits\", \"targets\", [10]),\n",
    "    dl.OptimizerCallback(\"loss\", accumulation_steps=1),\n",
    "    dl.EarlyStoppingCallback(\n",
    "        patience=5, loader_key=\"valid\", metric_key=\"map10\", minimize=False\n",
    "    )\n",
    "]\n",
    "\n",
    "\n",
    "runner = RecSysRunner()\n",
    "runner.train(\n",
    "    model=model,\n",
    "    optimizer=optimizer,\n",
    "    engine=engine,\n",
    "    hparams=hparams,\n",
    "    scheduler=lr_scheduler,\n",
    "    loaders=loaders,\n",
    "    num_epochs=100,\n",
    "    verbose=True,\n",
    "    timeit=True,\n",
    "    callbacks=callbacks,\n",
    ")\n",
    "\n",
    "\n",
    "test_dataset = MyDataset(ds=joined, num_items=n_items, phase='test',item2idx=item2idx)\n",
    "\n",
    "\n",
    "inference_loader = DataLoader(test_dataset, \n",
    "                              batch_size=joined.shape[0]//100, \n",
    "                              collate_fn=collate_fn_train,)\n",
    "\n",
    "preds = []\n",
    "\n",
    "for prediction in tqdm(runner.predict_loader(loader=inference_loader)):\n",
    "    preds.extend(prediction.detach().cpu().numpy().tolist())\n",
    "    \n",
    "print(len(preds))\n",
    "assert len(preds) == joined.shape[0]\n",
    "\n",
    "joined['preds_contextbert4rec'] = preds\n",
    "joined['recs_contextbert4rec_10'] = joined['preds_contextbert4rec'].apply(lambda x: np.argsort(-np.array(x))[:10])\n",
    "joined['recs_contextbert4rec_10'] = joined['recs_contextbert4rec_10'].apply(lambda x: [idx2item[t-1] for t in x])\n",
    "joined['recs_contextbert4rec_5'] = joined['preds_contextbert4rec'].apply(lambda x: np.argsort(-np.array(x))[:5])\n",
    "joined['recs_contextbert4rec_5'] = joined['recs_contextbert4rec_5'].apply(lambda x: [idx2item[t-1] for t in x])\n",
    "joined.drop(['preds_contextbert4rec'],axis=1, inplace=True)\n"
   ]
  },
  {
   "cell_type": "code",
   "execution_count": null,
   "id": "713d87bd-6029-4aea-b3d7-c2852c8750ab",
   "metadata": {
    "id": "713d87bd-6029-4aea-b3d7-c2852c8750ab",
    "outputId": "0e989a2a-4434-426e-c4d5-1ed61411449b"
   },
   "outputs": [
    {
     "data": {
      "text/plain": [
       "{'ndcg': 0.16966195397762943, 'recall': 0.036534285168058615}"
      ]
     },
     "execution_count": 119,
     "metadata": {},
     "output_type": "execute_result"
    }
   ],
   "source": [
    "evaluate_recommender(joined, model_preds='recs_contextbert4rec_10')"
   ]
  },
  {
   "cell_type": "code",
   "execution_count": null,
   "id": "db54fead-efb0-48ac-8159-0b2a6ceef72e",
   "metadata": {
    "id": "db54fead-efb0-48ac-8159-0b2a6ceef72e",
    "outputId": "278b8b07-edd9-4df5-93ad-5bf692504af1"
   },
   "outputs": [
    {
     "data": {
      "text/plain": [
       "{'ndcg': 0.11107867465650255, 'recall': 0.020499472531496678}"
      ]
     },
     "execution_count": 120,
     "metadata": {},
     "output_type": "execute_result"
    }
   ],
   "source": [
    "evaluate_recommender(joined, model_preds='recs_contextbert4rec_5')"
   ]
  },
  {
   "cell_type": "code",
   "execution_count": null,
   "id": "e6e0db66-e074-49c0-9439-5f0e3561223a",
   "metadata": {
    "id": "e6e0db66-e074-49c0-9439-5f0e3561223a"
   },
   "outputs": [],
   "source": [
    "path = r'data/results/contextbert4rec_ml100k.txt'\n",
    "joined.to_csv(path, index=None, sep=';')"
   ]
  },
  {
   "cell_type": "markdown",
   "id": "78113712-01ce-4cbf-86f0-eda7cd4d5534",
   "metadata": {
    "id": "78113712-01ce-4cbf-86f0-eda7cd4d5534",
    "tags": []
   },
   "source": [
    "### ML-1m"
   ]
  },
  {
   "cell_type": "code",
   "execution_count": null,
   "id": "3a0665d7-41ce-4e36-ab6a-5716a28c2c55",
   "metadata": {
    "id": "3a0665d7-41ce-4e36-ab6a-5716a28c2c55",
    "outputId": "230a8dba-2361-4cc1-b3bf-4e50cd5d4f5b"
   },
   "outputs": [
    {
     "data": {
      "text/html": [
       "<div>\n",
       "<style scoped>\n",
       "    .dataframe tbody tr th:only-of-type {\n",
       "        vertical-align: middle;\n",
       "    }\n",
       "\n",
       "    .dataframe tbody tr th {\n",
       "        vertical-align: top;\n",
       "    }\n",
       "\n",
       "    .dataframe thead th {\n",
       "        text-align: right;\n",
       "    }\n",
       "</style>\n",
       "<table border=\"1\" class=\"dataframe\">\n",
       "  <thead>\n",
       "    <tr style=\"text-align: right;\">\n",
       "      <th></th>\n",
       "      <th>user_id</th>\n",
       "      <th>item_id</th>\n",
       "      <th>rating</th>\n",
       "      <th>timestamp</th>\n",
       "      <th>weekday</th>\n",
       "      <th>hour</th>\n",
       "    </tr>\n",
       "  </thead>\n",
       "  <tbody>\n",
       "    <tr>\n",
       "      <th>0</th>\n",
       "      <td>1</td>\n",
       "      <td>1193</td>\n",
       "      <td>5</td>\n",
       "      <td>2000-12-31 22:12:40</td>\n",
       "      <td>6</td>\n",
       "      <td>22</td>\n",
       "    </tr>\n",
       "    <tr>\n",
       "      <th>1</th>\n",
       "      <td>1</td>\n",
       "      <td>661</td>\n",
       "      <td>3</td>\n",
       "      <td>2000-12-31 22:35:09</td>\n",
       "      <td>6</td>\n",
       "      <td>22</td>\n",
       "    </tr>\n",
       "    <tr>\n",
       "      <th>2</th>\n",
       "      <td>1</td>\n",
       "      <td>914</td>\n",
       "      <td>3</td>\n",
       "      <td>2000-12-31 22:32:48</td>\n",
       "      <td>6</td>\n",
       "      <td>22</td>\n",
       "    </tr>\n",
       "    <tr>\n",
       "      <th>3</th>\n",
       "      <td>1</td>\n",
       "      <td>3408</td>\n",
       "      <td>4</td>\n",
       "      <td>2000-12-31 22:04:35</td>\n",
       "      <td>6</td>\n",
       "      <td>22</td>\n",
       "    </tr>\n",
       "    <tr>\n",
       "      <th>4</th>\n",
       "      <td>1</td>\n",
       "      <td>2355</td>\n",
       "      <td>5</td>\n",
       "      <td>2001-01-06 23:38:11</td>\n",
       "      <td>5</td>\n",
       "      <td>23</td>\n",
       "    </tr>\n",
       "  </tbody>\n",
       "</table>\n",
       "</div>"
      ],
      "text/plain": [
       "   user_id  item_id  rating           timestamp  weekday  hour\n",
       "0        1     1193       5 2000-12-31 22:12:40        6    22\n",
       "1        1      661       3 2000-12-31 22:35:09        6    22\n",
       "2        1      914       3 2000-12-31 22:32:48        6    22\n",
       "3        1     3408       4 2000-12-31 22:04:35        6    22\n",
       "4        1     2355       5 2001-01-06 23:38:11        5    23"
      ]
     },
     "execution_count": 60,
     "metadata": {},
     "output_type": "execute_result"
    }
   ],
   "source": [
    "rnames = ['user_id', 'movie_id', 'rating', 'timestamp']\n",
    "df = pd.read_table('data/ratings.dat', sep='::',header=None, names=rnames, engine='python')\n",
    "df = df.rename(columns={'userId': 'user_id', 'movie_id': 'item_id'})\n",
    "df['timestamp'] = pd.to_datetime(df['timestamp'],unit='s')\n",
    "df['weekday'] = pd.to_datetime(df.timestamp).dt.weekday\n",
    "df['hour'] = pd.to_datetime(df.timestamp).dt.hour\n",
    "df.head()"
   ]
  },
  {
   "cell_type": "code",
   "execution_count": null,
   "id": "b5d7aa0a-b86f-4620-894f-62d1f3207220",
   "metadata": {
    "id": "b5d7aa0a-b86f-4620-894f-62d1f3207220"
   },
   "outputs": [],
   "source": [
    "splitter = RandomSplit(test_fraction=0.2)\n",
    "train_df, valid_df, test_df = splitter(df)"
   ]
  },
  {
   "cell_type": "code",
   "execution_count": null,
   "id": "715ac110-ba65-4343-8378-33eb74b77615",
   "metadata": {
    "id": "715ac110-ba65-4343-8378-33eb74b77615",
    "outputId": "078f74cf-72a5-4705-c777-f970b64a8315"
   },
   "outputs": [
    {
     "data": {
      "text/html": [
       "<div>\n",
       "<style scoped>\n",
       "    .dataframe tbody tr th:only-of-type {\n",
       "        vertical-align: middle;\n",
       "    }\n",
       "\n",
       "    .dataframe tbody tr th {\n",
       "        vertical-align: top;\n",
       "    }\n",
       "\n",
       "    .dataframe thead th {\n",
       "        text-align: right;\n",
       "    }\n",
       "</style>\n",
       "<table border=\"1\" class=\"dataframe\">\n",
       "  <thead>\n",
       "    <tr style=\"text-align: right;\">\n",
       "      <th></th>\n",
       "      <th>user_id</th>\n",
       "      <th>train_interactions</th>\n",
       "    </tr>\n",
       "  </thead>\n",
       "  <tbody>\n",
       "    <tr>\n",
       "      <th>0</th>\n",
       "      <td>1</td>\n",
       "      <td>[(3186, 2000-12-31 22:00:19, 6, 22), (1270, 20...</td>\n",
       "    </tr>\n",
       "    <tr>\n",
       "      <th>1</th>\n",
       "      <td>2</td>\n",
       "      <td>[(1198, 2000-12-31 21:28:44, 6, 21), (1210, 20...</td>\n",
       "    </tr>\n",
       "    <tr>\n",
       "      <th>2</th>\n",
       "      <td>3</td>\n",
       "      <td>[(593, 2000-12-31 21:10:18, 6, 21), (2858, 200...</td>\n",
       "    </tr>\n",
       "    <tr>\n",
       "      <th>3</th>\n",
       "      <td>4</td>\n",
       "      <td>[(1210, 2000-12-31 20:18:44, 6, 20), (1097, 20...</td>\n",
       "    </tr>\n",
       "    <tr>\n",
       "      <th>4</th>\n",
       "      <td>5</td>\n",
       "      <td>[(2717, 2000-12-31 05:37:52, 6, 5), (908, 2000...</td>\n",
       "    </tr>\n",
       "  </tbody>\n",
       "</table>\n",
       "</div>"
      ],
      "text/plain": [
       "   user_id                                 train_interactions\n",
       "0        1  [(3186, 2000-12-31 22:00:19, 6, 22), (1270, 20...\n",
       "1        2  [(1198, 2000-12-31 21:28:44, 6, 21), (1210, 20...\n",
       "2        3  [(593, 2000-12-31 21:10:18, 6, 21), (2858, 200...\n",
       "3        4  [(1210, 2000-12-31 20:18:44, 6, 20), (1097, 20...\n",
       "4        5  [(2717, 2000-12-31 05:37:52, 6, 5), (908, 2000..."
      ]
     },
     "execution_count": 72,
     "metadata": {},
     "output_type": "execute_result"
    }
   ],
   "source": [
    "train_grouped = train_df.groupby('user_id').apply(\n",
    "    lambda x: [(t1, t2, t3, t4) for t1, t2, t3, t4 in sorted(zip(x.item_id, \n",
    "                                                                 x.timestamp,\n",
    "                                                                 x.weekday,\n",
    "                                                                 x.hour), key=lambda x: x[1])]\n",
    ").reset_index()\n",
    "train_grouped.rename({0:'train_interactions'}, axis=1, inplace=True)\n",
    "\n",
    "valid_grouped = valid_df.groupby('user_id').apply(\n",
    "    lambda x: [(t1, t2, t3, t4) for t1, t2, t3, t4 in sorted(zip(x.item_id,\n",
    "                                                         x.timestamp,\n",
    "                                                         x.weekday,\n",
    "                                                         x.hour), key=lambda x: x[1])]\n",
    ").reset_index()\n",
    "valid_grouped.rename({0:'valid_interactions'}, axis=1, inplace=True)\n",
    "\n",
    "test_grouped = test_df.groupby('user_id').apply(\n",
    "    lambda x: [(t1, t2, t3, t4) for t1, t2, t3, t4 in sorted(zip(x.item_id,\n",
    "                                                         x.timestamp,\n",
    "                                                         x.weekday,\n",
    "                                                         x.hour), key=lambda x: x[1])]\n",
    ").reset_index()\n",
    "test_grouped.rename({0:'test_interactions'}, axis=1, inplace=True)\n",
    "\n",
    "\n",
    "train_grouped.head()"
   ]
  },
  {
   "cell_type": "code",
   "execution_count": null,
   "id": "225b4f6c-94fa-4683-a25b-0046293a75c0",
   "metadata": {
    "id": "225b4f6c-94fa-4683-a25b-0046293a75c0",
    "outputId": "5a00c927-505d-467a-9113-0859e34365d2"
   },
   "outputs": [
    {
     "data": {
      "text/html": [
       "<div>\n",
       "<style scoped>\n",
       "    .dataframe tbody tr th:only-of-type {\n",
       "        vertical-align: middle;\n",
       "    }\n",
       "\n",
       "    .dataframe tbody tr th {\n",
       "        vertical-align: top;\n",
       "    }\n",
       "\n",
       "    .dataframe thead th {\n",
       "        text-align: right;\n",
       "    }\n",
       "</style>\n",
       "<table border=\"1\" class=\"dataframe\">\n",
       "  <thead>\n",
       "    <tr style=\"text-align: right;\">\n",
       "      <th></th>\n",
       "      <th>user_id</th>\n",
       "      <th>train_interactions</th>\n",
       "      <th>valid_interactions</th>\n",
       "      <th>test_interactions</th>\n",
       "    </tr>\n",
       "  </thead>\n",
       "  <tbody>\n",
       "    <tr>\n",
       "      <th>0</th>\n",
       "      <td>1</td>\n",
       "      <td>[(3186, 2000-12-31 22:00:19, 6, 22), (1270, 20...</td>\n",
       "      <td>[(2791, 2000-12-31 22:36:28, 6, 22), (2321, 20...</td>\n",
       "      <td>[(2687, 2001-01-06 23:37:48, 5, 23), (745, 200...</td>\n",
       "    </tr>\n",
       "    <tr>\n",
       "      <th>1</th>\n",
       "      <td>2</td>\n",
       "      <td>[(1198, 2000-12-31 21:28:44, 6, 21), (1210, 20...</td>\n",
       "      <td>[(2028, 2000-12-31 21:56:13, 6, 21), (2571, 20...</td>\n",
       "      <td>[(1372, 2000-12-31 21:59:01, 6, 21), (1552, 20...</td>\n",
       "    </tr>\n",
       "    <tr>\n",
       "      <th>2</th>\n",
       "      <td>3</td>\n",
       "      <td>[(593, 2000-12-31 21:10:18, 6, 21), (2858, 200...</td>\n",
       "      <td>[(648, 2000-12-31 21:24:27, 6, 21), (2735, 200...</td>\n",
       "      <td>[(1270, 2000-12-31 21:30:31, 6, 21), (1079, 20...</td>\n",
       "    </tr>\n",
       "    <tr>\n",
       "      <th>3</th>\n",
       "      <td>4</td>\n",
       "      <td>[(1210, 2000-12-31 20:18:44, 6, 20), (1097, 20...</td>\n",
       "      <td>[(2947, 2000-12-31 20:23:50, 6, 20), (1214, 20...</td>\n",
       "      <td>[(1240, 2000-12-31 20:24:20, 6, 20), (2951, 20...</td>\n",
       "    </tr>\n",
       "    <tr>\n",
       "      <th>4</th>\n",
       "      <td>5</td>\n",
       "      <td>[(2717, 2000-12-31 05:37:52, 6, 5), (908, 2000...</td>\n",
       "      <td>[(2323, 2000-12-31 06:50:45, 6, 6), (272, 2000...</td>\n",
       "      <td>[(1715, 2000-12-31 06:58:11, 6, 6), (1653, 200...</td>\n",
       "    </tr>\n",
       "  </tbody>\n",
       "</table>\n",
       "</div>"
      ],
      "text/plain": [
       "   user_id                                 train_interactions  \\\n",
       "0        1  [(3186, 2000-12-31 22:00:19, 6, 22), (1270, 20...   \n",
       "1        2  [(1198, 2000-12-31 21:28:44, 6, 21), (1210, 20...   \n",
       "2        3  [(593, 2000-12-31 21:10:18, 6, 21), (2858, 200...   \n",
       "3        4  [(1210, 2000-12-31 20:18:44, 6, 20), (1097, 20...   \n",
       "4        5  [(2717, 2000-12-31 05:37:52, 6, 5), (908, 2000...   \n",
       "\n",
       "                                  valid_interactions  \\\n",
       "0  [(2791, 2000-12-31 22:36:28, 6, 22), (2321, 20...   \n",
       "1  [(2028, 2000-12-31 21:56:13, 6, 21), (2571, 20...   \n",
       "2  [(648, 2000-12-31 21:24:27, 6, 21), (2735, 200...   \n",
       "3  [(2947, 2000-12-31 20:23:50, 6, 20), (1214, 20...   \n",
       "4  [(2323, 2000-12-31 06:50:45, 6, 6), (272, 2000...   \n",
       "\n",
       "                                   test_interactions  \n",
       "0  [(2687, 2001-01-06 23:37:48, 5, 23), (745, 200...  \n",
       "1  [(1372, 2000-12-31 21:59:01, 6, 21), (1552, 20...  \n",
       "2  [(1270, 2000-12-31 21:30:31, 6, 21), (1079, 20...  \n",
       "3  [(1240, 2000-12-31 20:24:20, 6, 20), (2951, 20...  \n",
       "4  [(1715, 2000-12-31 06:58:11, 6, 6), (1653, 200...  "
      ]
     },
     "execution_count": 73,
     "metadata": {},
     "output_type": "execute_result"
    }
   ],
   "source": [
    "joined = train_grouped.merge(valid_grouped).merge(test_grouped)\n",
    "joined.head()"
   ]
  },
  {
   "cell_type": "code",
   "execution_count": null,
   "id": "f19ab059-e082-4fca-a41a-667d45e25fac",
   "metadata": {
    "id": "f19ab059-e082-4fca-a41a-667d45e25fac",
    "outputId": "d61b8d7e-826e-48ad-ecfd-6dc0376ee80f"
   },
   "outputs": [
    {
     "name": "stderr",
     "output_type": "stream",
     "text": [
      "6040it [00:00, 41725.36it/s]\n"
     ]
    },
    {
     "data": {
      "text/plain": [
       "3636"
      ]
     },
     "execution_count": 74,
     "metadata": {},
     "output_type": "execute_result"
    }
   ],
   "source": [
    "our_items = set()\n",
    "for idx, row in tqdm(joined.iterrows()):\n",
    "    for el in row.train_interactions:\n",
    "        our_items.add(el[0])\n",
    "        \n",
    "len(our_items)"
   ]
  },
  {
   "cell_type": "code",
   "execution_count": null,
   "id": "49b49055-ad9f-4cf1-896f-cc5cf4ee58ee",
   "metadata": {
    "id": "49b49055-ad9f-4cf1-896f-cc5cf4ee58ee"
   },
   "outputs": [],
   "source": [
    "item2idx = {k: i for i, k in enumerate(our_items)}\n",
    "idx2item = {i: k for k, i in item2idx.items()}"
   ]
  },
  {
   "cell_type": "code",
   "execution_count": null,
   "id": "95f49674-c668-4b25-943c-83968d6445f5",
   "metadata": {
    "id": "95f49674-c668-4b25-943c-83968d6445f5",
    "outputId": "71205c82-1d66-4bc0-b794-d41cc8bab573"
   },
   "outputs": [
    {
     "name": "stdout",
     "output_type": "stream",
     "text": [
      "6040 6040\n"
     ]
    }
   ],
   "source": [
    "n_items = len(item2idx)\n",
    "\n",
    "train = MyDataset(ds=joined,\n",
    "                  num_items=n_items, \n",
    "                  item2idx=item2idx,\n",
    "                  phase='train')\n",
    "\n",
    "valid = MyDataset(ds=joined,\n",
    "                  num_items=n_items,\n",
    "                  item2idx=item2idx,\n",
    "                  phase='valid')\n",
    "\n",
    "print(len(train),len(valid))"
   ]
  },
  {
   "cell_type": "code",
   "execution_count": null,
   "id": "0d4f2c30-a75b-4138-bcb0-5370daa1cbe5",
   "metadata": {
    "id": "0d4f2c30-a75b-4138-bcb0-5370daa1cbe5"
   },
   "outputs": [],
   "source": [
    "loaders = {\n",
    "        \"train\": DataLoader(train, batch_size=256, collate_fn=collate_fn_train),\n",
    "        \"valid\": DataLoader(valid, batch_size=256, collate_fn=collate_fn_valid),\n",
    "}"
   ]
  },
  {
   "cell_type": "code",
   "execution_count": null,
   "id": "0d24bb0c-e333-4543-b28e-f33c6d887139",
   "metadata": {
    "id": "0d24bb0c-e333-4543-b28e-f33c6d887139",
    "outputId": "d084f0ce-2814-4209-8940-386a574d4009",
    "scrolled": true,
    "tags": []
   },
   "outputs": [
    {
     "name": "stderr",
     "output_type": "stream",
     "text": [
      "1/100 * Epoch (train): 100%|██████████| 24/24 [00:23<00:00,  1.01it/s, _timer/_fps=196.594, _timer/batch_time=0.773, _timer/data_time=0.441, _timer/model_time=0.332, loss=7.475, lr=1.000e-03, map10=0.000e+00, momentum=0.900, ndcg20=0.000e+00]\n"
     ]
    },
    {
     "name": "stdout",
     "output_type": "stream",
     "text": [
      "train (1/100) loss: 7.816615366777836 | lr: 0.001 | map10: 0.0 | map10/std: 0.0 | momentum: 0.9 | ndcg20: 0.0 | ndcg20/std: 0.0\n"
     ]
    },
    {
     "name": "stderr",
     "output_type": "stream",
     "text": [
      "1/100 * Epoch (valid): 100%|██████████| 24/24 [00:11<00:00,  2.05it/s, _timer/_fps=550.620, _timer/batch_time=0.276, _timer/data_time=0.022, _timer/model_time=0.254, loss=7.439, lr=1.000e-03, map10=0.090, momentum=0.900, ndcg20=0.053]\n"
     ]
    },
    {
     "name": "stdout",
     "output_type": "stream",
     "text": [
      "valid (1/100) loss: 7.4524627647652535 | lr: 0.001 | map10: 0.12186652710106198 | map10/std: 0.015170085512908977 | momentum: 0.9 | ndcg20: 0.07060247986817991 | ndcg20/std: 0.007212493518638942\n",
      "* Epoch (1/100) \n"
     ]
    },
    {
     "name": "stderr",
     "output_type": "stream",
     "text": [
      "2/100 * Epoch (train): 100%|██████████| 24/24 [00:22<00:00,  1.07it/s, _timer/_fps=249.658, _timer/batch_time=0.609, _timer/data_time=0.324, _timer/model_time=0.285, loss=7.323, lr=1.000e-03, map10=0.000e+00, momentum=0.900, ndcg20=0.000e+00]\n"
     ]
    },
    {
     "name": "stdout",
     "output_type": "stream",
     "text": [
      "train (2/100) loss: 7.417435662478012 | lr: 0.001 | map10: 0.0 | map10/std: 0.0 | momentum: 0.9 | ndcg20: 0.0 | ndcg20/std: 0.0\n"
     ]
    },
    {
     "name": "stderr",
     "output_type": "stream",
     "text": [
      "2/100 * Epoch (valid): 100%|██████████| 24/24 [00:11<00:00,  2.17it/s, _timer/_fps=549.252, _timer/batch_time=0.277, _timer/data_time=0.019, _timer/model_time=0.258, loss=7.314, lr=1.000e-03, map10=0.120, momentum=0.900, ndcg20=0.068]\n"
     ]
    },
    {
     "name": "stdout",
     "output_type": "stream",
     "text": [
      "valid (2/100) loss: 7.369702176226685 | lr: 0.001 | map10: 0.13751038589224912 | map10/std: 0.018205093423517813 | momentum: 0.9 | ndcg20: 0.07876540422439576 | ndcg20/std: 0.007765678624674229\n",
      "* Epoch (2/100) \n"
     ]
    },
    {
     "name": "stderr",
     "output_type": "stream",
     "text": [
      "3/100 * Epoch (train): 100%|██████████| 24/24 [00:20<00:00,  1.16it/s, _timer/_fps=250.050, _timer/batch_time=0.608, _timer/data_time=0.325, _timer/model_time=0.283, loss=7.326, lr=1.000e-03, map10=0.000e+00, momentum=0.900, ndcg20=0.000e+00]\n"
     ]
    },
    {
     "name": "stdout",
     "output_type": "stream",
     "text": [
      "train (3/100) loss: 7.380714701974629 | lr: 0.001 | map10: 0.0 | map10/std: 0.0 | momentum: 0.9 | ndcg20: 0.0 | ndcg20/std: 0.0\n"
     ]
    },
    {
     "name": "stderr",
     "output_type": "stream",
     "text": [
      "3/100 * Epoch (valid): 100%|██████████| 24/24 [00:10<00:00,  2.33it/s, _timer/_fps=530.228, _timer/batch_time=0.287, _timer/data_time=0.019, _timer/model_time=0.267, loss=7.316, lr=1.000e-03, map10=0.116, momentum=0.900, ndcg20=0.067]\n"
     ]
    },
    {
     "name": "stdout",
     "output_type": "stream",
     "text": [
      "valid (3/100) loss: 7.355544244374661 | lr: 0.001 | map10: 0.13814957290887836 | map10/std: 0.0163223620775825 | momentum: 0.9 | ndcg20: 0.07902041993393805 | ndcg20/std: 0.0076847548594903906\n",
      "* Epoch (3/100) \n"
     ]
    },
    {
     "name": "stderr",
     "output_type": "stream",
     "text": [
      "4/100 * Epoch (train): 100%|██████████| 24/24 [00:21<00:00,  1.11it/s, _timer/_fps=219.257, _timer/batch_time=0.693, _timer/data_time=0.408, _timer/model_time=0.285, loss=7.325, lr=1.000e-03, map10=0.000e+00, momentum=0.900, ndcg20=0.000e+00]\n"
     ]
    },
    {
     "name": "stdout",
     "output_type": "stream",
     "text": [
      "train (4/100) loss: 7.380137451121349 | lr: 0.001 | map10: 0.0 | map10/std: 0.0 | momentum: 0.9 | ndcg20: 0.0 | ndcg20/std: 0.0\n"
     ]
    },
    {
     "name": "stderr",
     "output_type": "stream",
     "text": [
      "4/100 * Epoch (valid): 100%|██████████| 24/24 [00:10<00:00,  2.28it/s, _timer/_fps=560.352, _timer/batch_time=0.271, _timer/data_time=0.019, _timer/model_time=0.253, loss=7.315, lr=1.000e-03, map10=0.117, momentum=0.900, ndcg20=0.069]\n"
     ]
    },
    {
     "name": "stdout",
     "output_type": "stream",
     "text": [
      "valid (4/100) loss: 7.357751648631316 | lr: 0.001 | map10: 0.14278715837080747 | map10/std: 0.017069649723552727 | momentum: 0.9 | ndcg20: 0.08055099162044904 | ndcg20/std: 0.007905325117762999\n",
      "* Epoch (4/100) \n"
     ]
    },
    {
     "name": "stderr",
     "output_type": "stream",
     "text": [
      "5/100 * Epoch (train): 100%|██████████| 24/24 [00:21<00:00,  1.13it/s, _timer/_fps=214.741, _timer/batch_time=0.708, _timer/data_time=0.387, _timer/model_time=0.321, loss=7.343, lr=1.000e-03, map10=0.000e+00, momentum=0.900, ndcg20=0.000e+00]\n"
     ]
    },
    {
     "name": "stdout",
     "output_type": "stream",
     "text": [
      "train (5/100) loss: 7.366444705179984 | lr: 0.001 | map10: 0.0 | map10/std: 0.0 | momentum: 0.9 | ndcg20: 0.0 | ndcg20/std: 0.0\n"
     ]
    },
    {
     "name": "stderr",
     "output_type": "stream",
     "text": [
      "5/100 * Epoch (valid): 100%|██████████| 24/24 [00:10<00:00,  2.24it/s, _timer/_fps=519.656, _timer/batch_time=0.293, _timer/data_time=0.020, _timer/model_time=0.272, loss=7.333, lr=1.000e-03, map10=0.114, momentum=0.900, ndcg20=0.066]\n"
     ]
    },
    {
     "name": "stdout",
     "output_type": "stream",
     "text": [
      "valid (5/100) loss: 7.3442974185312035 | lr: 0.001 | map10: 0.13980785868815235 | map10/std: 0.016185261526611344 | momentum: 0.9 | ndcg20: 0.0797676913489569 | ndcg20/std: 0.008042373406053314\n",
      "* Epoch (5/100) \n"
     ]
    },
    {
     "name": "stderr",
     "output_type": "stream",
     "text": [
      "6/100 * Epoch (train): 100%|██████████| 24/24 [00:23<00:00,  1.04it/s, _timer/_fps=214.270, _timer/batch_time=0.709, _timer/data_time=0.395, _timer/model_time=0.314, loss=7.322, lr=1.000e-03, map10=0.000e+00, momentum=0.900, ndcg20=0.000e+00]\n"
     ]
    },
    {
     "name": "stdout",
     "output_type": "stream",
     "text": [
      "train (6/100) loss: 7.365878495475314 | lr: 0.001 | map10: 0.0 | map10/std: 0.0 | momentum: 0.9 | ndcg20: 0.0 | ndcg20/std: 0.0\n"
     ]
    },
    {
     "name": "stderr",
     "output_type": "stream",
     "text": [
      "6/100 * Epoch (valid): 100%|██████████| 24/24 [00:10<00:00,  2.20it/s, _timer/_fps=471.615, _timer/batch_time=0.322, _timer/data_time=0.020, _timer/model_time=0.302, loss=7.310, lr=1.000e-03, map10=0.120, momentum=0.900, ndcg20=0.069]\n"
     ]
    },
    {
     "name": "stdout",
     "output_type": "stream",
     "text": [
      "valid (6/100) loss: 7.331126485913005 | lr: 0.001 | map10: 0.13717502757216132 | map10/std: 0.015270698678439717 | momentum: 0.9 | ndcg20: 0.07914753471383987 | ndcg20/std: 0.007599488672502499\n",
      "* Epoch (6/100) \n"
     ]
    },
    {
     "name": "stderr",
     "output_type": "stream",
     "text": [
      "7/100 * Epoch (train): 100%|██████████| 24/24 [00:22<00:00,  1.06it/s, _timer/_fps=227.963, _timer/batch_time=0.667, _timer/data_time=0.376, _timer/model_time=0.291, loss=7.313, lr=1.000e-03, map10=0.000e+00, momentum=0.900, ndcg20=0.000e+00]\n"
     ]
    },
    {
     "name": "stdout",
     "output_type": "stream",
     "text": [
      "train (7/100) loss: 7.35077301429597 | lr: 0.001 | map10: 0.0 | map10/std: 0.0 | momentum: 0.9 | ndcg20: 0.0 | ndcg20/std: 0.0\n"
     ]
    },
    {
     "name": "stderr",
     "output_type": "stream",
     "text": [
      "7/100 * Epoch (valid): 100%|██████████| 24/24 [00:11<00:00,  2.17it/s, _timer/_fps=448.268, _timer/batch_time=0.339, _timer/data_time=0.024, _timer/model_time=0.315, loss=7.297, lr=1.000e-03, map10=0.122, momentum=0.900, ndcg20=0.069]\n"
     ]
    },
    {
     "name": "stdout",
     "output_type": "stream",
     "text": [
      "valid (7/100) loss: 7.307402128257498 | lr: 0.001 | map10: 0.14107381045226233 | map10/std: 0.01811125595585629 | momentum: 0.9 | ndcg20: 0.08081679973775978 | ndcg20/std: 0.00790266266266725\n",
      "* Epoch (7/100) \n"
     ]
    },
    {
     "name": "stderr",
     "output_type": "stream",
     "text": [
      "8/100 * Epoch (train): 100%|██████████| 24/24 [00:26<00:00,  1.12s/it, _timer/_fps=180.379, _timer/batch_time=0.843, _timer/data_time=0.518, _timer/model_time=0.324, loss=7.266, lr=1.000e-03, map10=0.000e+00, momentum=0.900, ndcg20=0.000e+00]\n"
     ]
    },
    {
     "name": "stdout",
     "output_type": "stream",
     "text": [
      "train (8/100) loss: 7.320440867089278 | lr: 0.001 | map10: 0.0 | map10/std: 0.0 | momentum: 0.9 | ndcg20: 0.0 | ndcg20/std: 0.0\n"
     ]
    },
    {
     "name": "stderr",
     "output_type": "stream",
     "text": [
      "8/100 * Epoch (valid): 100%|██████████| 24/24 [00:12<00:00,  1.98it/s, _timer/_fps=452.396, _timer/batch_time=0.336, _timer/data_time=0.026, _timer/model_time=0.310, loss=7.245, lr=1.000e-03, map10=0.130, momentum=0.900, ndcg20=0.073]\n"
     ]
    },
    {
     "name": "stdout",
     "output_type": "stream",
     "text": [
      "valid (8/100) loss: 7.271381118597573 | lr: 0.001 | map10: 0.15069827514373704 | map10/std: 0.01581582889532349 | momentum: 0.9 | ndcg20: 0.08348383619295839 | ndcg20/std: 0.007842965824980452\n",
      "* Epoch (8/100) \n"
     ]
    },
    {
     "name": "stderr",
     "output_type": "stream",
     "text": [
      "9/100 * Epoch (train): 100%|██████████| 24/24 [00:22<00:00,  1.08it/s, _timer/_fps=245.662, _timer/batch_time=0.619, _timer/data_time=0.320, _timer/model_time=0.299, loss=7.225, lr=1.000e-03, map10=0.000e+00, momentum=0.900, ndcg20=0.000e+00]\n"
     ]
    },
    {
     "name": "stdout",
     "output_type": "stream",
     "text": [
      "train (9/100) loss: 7.3004355487444546 | lr: 0.001 | map10: 0.0 | map10/std: 0.0 | momentum: 0.9 | ndcg20: 0.0 | ndcg20/std: 0.0\n"
     ]
    },
    {
     "name": "stderr",
     "output_type": "stream",
     "text": [
      "9/100 * Epoch (valid): 100%|██████████| 24/24 [00:12<00:00,  1.99it/s, _timer/_fps=511.334, _timer/batch_time=0.297, _timer/data_time=0.022, _timer/model_time=0.275, loss=7.203, lr=1.000e-03, map10=0.123, momentum=0.900, ndcg20=0.066]\n"
     ]
    },
    {
     "name": "stdout",
     "output_type": "stream",
     "text": [
      "valid (9/100) loss: 7.247753630252863 | lr: 0.001 | map10: 0.14894212073837684 | map10/std: 0.01732455560432626 | momentum: 0.9 | ndcg20: 0.08365407266364192 | ndcg20/std: 0.007619847792358237\n",
      "* Epoch (9/100) \n"
     ]
    },
    {
     "name": "stderr",
     "output_type": "stream",
     "text": [
      "10/100 * Epoch (train): 100%|██████████| 24/24 [00:22<00:00,  1.06it/s, _timer/_fps=203.912, _timer/batch_time=0.745, _timer/data_time=0.426, _timer/model_time=0.319, loss=7.201, lr=1.000e-03, map10=0.000e+00, momentum=0.900, ndcg20=0.000e+00]\n"
     ]
    },
    {
     "name": "stdout",
     "output_type": "stream",
     "text": [
      "train (10/100) loss: 7.270586088319488 | lr: 0.001 | map10: 0.0 | map10/std: 0.0 | momentum: 0.9 | ndcg20: 0.0 | ndcg20/std: 0.0\n"
     ]
    },
    {
     "name": "stderr",
     "output_type": "stream",
     "text": [
      "10/100 * Epoch (valid): 100%|██████████| 24/24 [00:11<00:00,  2.13it/s, _timer/_fps=479.865, _timer/batch_time=0.317, _timer/data_time=0.022, _timer/model_time=0.295, loss=7.176, lr=1.000e-03, map10=0.150, momentum=0.900, ndcg20=0.069]\n"
     ]
    },
    {
     "name": "stdout",
     "output_type": "stream",
     "text": [
      "valid (10/100) loss: 7.2157196954386125 | lr: 0.001 | map10: 0.15338911660854393 | map10/std: 0.01599079389496867 | momentum: 0.9 | ndcg20: 0.08431187391478494 | ndcg20/std: 0.007244275161221471\n",
      "* Epoch (10/100) \n"
     ]
    },
    {
     "name": "stderr",
     "output_type": "stream",
     "text": [
      "11/100 * Epoch (train): 100%|██████████| 24/24 [00:20<00:00,  1.16it/s, _timer/_fps=235.869, _timer/batch_time=0.644, _timer/data_time=0.346, _timer/model_time=0.299, loss=7.160, lr=1.000e-03, map10=0.000e+00, momentum=0.900, ndcg20=0.000e+00]\n"
     ]
    },
    {
     "name": "stdout",
     "output_type": "stream",
     "text": [
      "train (11/100) loss: 7.242638451532023 | lr: 0.001 | map10: 0.0 | map10/std: 0.0 | momentum: 0.9 | ndcg20: 0.0 | ndcg20/std: 0.0\n"
     ]
    },
    {
     "name": "stderr",
     "output_type": "stream",
     "text": [
      "11/100 * Epoch (valid): 100%|██████████| 24/24 [00:10<00:00,  2.23it/s, _timer/_fps=530.936, _timer/batch_time=0.286, _timer/data_time=0.023, _timer/model_time=0.264, loss=7.130, lr=1.000e-03, map10=0.107, momentum=0.900, ndcg20=0.063]\n"
     ]
    },
    {
     "name": "stdout",
     "output_type": "stream",
     "text": [
      "valid (11/100) loss: 7.184528938192406 | lr: 0.001 | map10: 0.14651955317779888 | map10/std: 0.016478642958088614 | momentum: 0.9 | ndcg20: 0.08351074249933886 | ndcg20/std: 0.007909688149141964\n",
      "* Epoch (11/100) \n"
     ]
    },
    {
     "name": "stderr",
     "output_type": "stream",
     "text": [
      "12/100 * Epoch (train): 100%|██████████| 24/24 [00:22<00:00,  1.09it/s, _timer/_fps=197.838, _timer/batch_time=0.768, _timer/data_time=0.440, _timer/model_time=0.329, loss=7.120, lr=1.000e-03, map10=0.000e+00, momentum=0.900, ndcg20=0.000e+00]\n"
     ]
    },
    {
     "name": "stdout",
     "output_type": "stream",
     "text": [
      "train (12/100) loss: 7.212689301825518 | lr: 0.001 | map10: 0.0 | map10/std: 0.0 | momentum: 0.9 | ndcg20: 0.0 | ndcg20/std: 0.0\n"
     ]
    },
    {
     "name": "stderr",
     "output_type": "stream",
     "text": [
      "12/100 * Epoch (valid): 100%|██████████| 24/24 [00:11<00:00,  2.06it/s, _timer/_fps=535.174, _timer/batch_time=0.284, _timer/data_time=0.022, _timer/model_time=0.262, loss=7.095, lr=1.000e-03, map10=0.127, momentum=0.900, ndcg20=0.067]\n"
     ]
    },
    {
     "name": "stdout",
     "output_type": "stream",
     "text": [
      "valid (12/100) loss: 7.150912369481774 | lr: 0.001 | map10: 0.159190130865337 | map10/std: 0.01767957583680996 | momentum: 0.9 | ndcg20: 0.08563162423917 | ndcg20/std: 0.00849460269134478\n",
      "* Epoch (12/100) \n"
     ]
    },
    {
     "name": "stderr",
     "output_type": "stream",
     "text": [
      "13/100 * Epoch (train): 100%|██████████| 24/24 [00:22<00:00,  1.06it/s, _timer/_fps=248.746, _timer/batch_time=0.611, _timer/data_time=0.311, _timer/model_time=0.300, loss=7.110, lr=1.000e-03, map10=0.000e+00, momentum=0.900, ndcg20=0.000e+00]\n"
     ]
    },
    {
     "name": "stdout",
     "output_type": "stream",
     "text": [
      "train (13/100) loss: 7.1702738585061585 | lr: 0.001 | map10: 0.0 | map10/std: 0.0 | momentum: 0.9 | ndcg20: 0.0 | ndcg20/std: 0.0\n"
     ]
    },
    {
     "name": "stderr",
     "output_type": "stream",
     "text": [
      "13/100 * Epoch (valid): 100%|██████████| 24/24 [00:10<00:00,  2.26it/s, _timer/_fps=535.258, _timer/batch_time=0.284, _timer/data_time=0.022, _timer/model_time=0.262, loss=7.077, lr=1.000e-03, map10=0.119, momentum=0.900, ndcg20=0.071]\n"
     ]
    },
    {
     "name": "stdout",
     "output_type": "stream",
     "text": [
      "valid (13/100) loss: 7.103543399659214 | lr: 0.001 | map10: 0.15968655242233087 | map10/std: 0.021156700522757265 | momentum: 0.9 | ndcg20: 0.08761370601440896 | ndcg20/std: 0.008635142678276447\n",
      "* Epoch (13/100) \n"
     ]
    },
    {
     "name": "stderr",
     "output_type": "stream",
     "text": [
      "14/100 * Epoch (train): 100%|██████████| 24/24 [00:20<00:00,  1.14it/s, _timer/_fps=225.994, _timer/batch_time=0.673, _timer/data_time=0.382, _timer/model_time=0.291, loss=7.040, lr=1.000e-03, map10=0.000e+00, momentum=0.900, ndcg20=0.000e+00]\n"
     ]
    },
    {
     "name": "stdout",
     "output_type": "stream",
     "text": [
      "train (14/100) loss: 7.124637882914764 | lr: 0.001 | map10: 0.0 | map10/std: 0.0 | momentum: 0.9 | ndcg20: 0.0 | ndcg20/std: 0.0\n"
     ]
    },
    {
     "name": "stderr",
     "output_type": "stream",
     "text": [
      "14/100 * Epoch (valid): 100%|██████████| 24/24 [00:10<00:00,  2.29it/s, _timer/_fps=530.936, _timer/batch_time=0.286, _timer/data_time=0.021, _timer/model_time=0.265, loss=7.003, lr=1.000e-03, map10=0.118, momentum=0.900, ndcg20=0.071]\n"
     ]
    },
    {
     "name": "stdout",
     "output_type": "stream",
     "text": [
      "valid (14/100) loss: 7.055416320017632 | lr: 0.001 | map10: 0.1606393243105996 | map10/std: 0.020740476337507047 | momentum: 0.9 | ndcg20: 0.08915805487048549 | ndcg20/std: 0.009423417341537607\n",
      "* Epoch (14/100) \n"
     ]
    },
    {
     "name": "stderr",
     "output_type": "stream",
     "text": [
      "15/100 * Epoch (train): 100%|██████████| 24/24 [00:22<00:00,  1.08it/s, _timer/_fps=221.966, _timer/batch_time=0.685, _timer/data_time=0.396, _timer/model_time=0.289, loss=7.020, lr=1.000e-03, map10=0.000e+00, momentum=0.900, ndcg20=0.000e+00]\n"
     ]
    },
    {
     "name": "stdout",
     "output_type": "stream",
     "text": [
      "train (15/100) loss: 7.090607346919988 | lr: 0.001 | map10: 0.0 | map10/std: 0.0 | momentum: 0.9 | ndcg20: 0.0 | ndcg20/std: 0.0\n"
     ]
    },
    {
     "name": "stderr",
     "output_type": "stream",
     "text": [
      "15/100 * Epoch (valid): 100%|██████████| 24/24 [00:10<00:00,  2.26it/s, _timer/_fps=553.073, _timer/batch_time=0.275, _timer/data_time=0.020, _timer/model_time=0.255, loss=6.973, lr=1.000e-03, map10=0.133, momentum=0.900, ndcg20=0.075]\n"
     ]
    },
    {
     "name": "stdout",
     "output_type": "stream",
     "text": [
      "valid (15/100) loss: 7.012954495916302 | lr: 0.001 | map10: 0.16177032201100658 | map10/std: 0.01800135553114771 | momentum: 0.9 | ndcg20: 0.09193601085255475 | ndcg20/std: 0.009038243646601954\n",
      "* Epoch (15/100) \n"
     ]
    },
    {
     "name": "stderr",
     "output_type": "stream",
     "text": [
      "16/100 * Epoch (train): 100%|██████████| 24/24 [00:21<00:00,  1.13it/s, _timer/_fps=256.853, _timer/batch_time=0.592, _timer/data_time=0.302, _timer/model_time=0.289, loss=6.923, lr=1.000e-03, map10=0.000e+00, momentum=0.900, ndcg20=0.000e+00]\n"
     ]
    },
    {
     "name": "stdout",
     "output_type": "stream",
     "text": [
      "train (16/100) loss: 7.033500031603883 | lr: 0.001 | map10: 0.0 | map10/std: 0.0 | momentum: 0.9 | ndcg20: 0.0 | ndcg20/std: 0.0\n"
     ]
    },
    {
     "name": "stderr",
     "output_type": "stream",
     "text": [
      "16/100 * Epoch (valid): 100%|██████████| 24/24 [00:10<00:00,  2.29it/s, _timer/_fps=539.840, _timer/batch_time=0.282, _timer/data_time=0.022, _timer/model_time=0.259, loss=6.880, lr=1.000e-03, map10=0.123, momentum=0.900, ndcg20=0.081]\n"
     ]
    },
    {
     "name": "stdout",
     "output_type": "stream",
     "text": [
      "valid (16/100) loss: 6.945680593023238 | lr: 0.001 | map10: 0.17120553891587728 | map10/std: 0.02085131000380335 | momentum: 0.9 | ndcg20: 0.09646034127236992 | ndcg20/std: 0.009221330123501865\n",
      "* Epoch (16/100) \n"
     ]
    },
    {
     "name": "stderr",
     "output_type": "stream",
     "text": [
      "17/100 * Epoch (train): 100%|██████████| 24/24 [00:19<00:00,  1.21it/s, _timer/_fps=208.082, _timer/batch_time=0.730, _timer/data_time=0.407, _timer/model_time=0.324, loss=6.881, lr=1.000e-03, map10=0.000e+00, momentum=0.900, ndcg20=0.000e+00]\n"
     ]
    },
    {
     "name": "stdout",
     "output_type": "stream",
     "text": [
      "train (17/100) loss: 6.983193501099845 | lr: 0.001 | map10: 0.0 | map10/std: 0.0 | momentum: 0.9 | ndcg20: 0.0 | ndcg20/std: 0.0\n"
     ]
    },
    {
     "name": "stderr",
     "output_type": "stream",
     "text": [
      "17/100 * Epoch (valid): 100%|██████████| 24/24 [00:10<00:00,  2.30it/s, _timer/_fps=549.385, _timer/batch_time=0.277, _timer/data_time=0.021, _timer/model_time=0.256, loss=6.824, lr=1.000e-03, map10=0.131, momentum=0.900, ndcg20=0.090]\n"
     ]
    },
    {
     "name": "stdout",
     "output_type": "stream",
     "text": [
      "valid (17/100) loss: 6.875877043743007 | lr: 0.001 | map10: 0.1657992334160584 | map10/std: 0.017025890041311744 | momentum: 0.9 | ndcg20: 0.09947797265273847 | ndcg20/std: 0.007952627778378256\n",
      "* Epoch (17/100) \n"
     ]
    },
    {
     "name": "stderr",
     "output_type": "stream",
     "text": [
      "18/100 * Epoch (train): 100%|██████████| 24/24 [00:20<00:00,  1.16it/s, _timer/_fps=225.029, _timer/batch_time=0.675, _timer/data_time=0.364, _timer/model_time=0.311, loss=6.795, lr=1.000e-03, map10=0.000e+00, momentum=0.900, ndcg20=0.000e+00]\n"
     ]
    },
    {
     "name": "stdout",
     "output_type": "stream",
     "text": [
      "train (18/100) loss: 6.912125024100802 | lr: 0.001 | map10: 0.0 | map10/std: 0.0 | momentum: 0.9 | ndcg20: 0.0 | ndcg20/std: 0.0\n"
     ]
    },
    {
     "name": "stderr",
     "output_type": "stream",
     "text": [
      "18/100 * Epoch (valid): 100%|██████████| 24/24 [00:10<00:00,  2.28it/s, _timer/_fps=545.709, _timer/batch_time=0.279, _timer/data_time=0.021, _timer/model_time=0.258, loss=6.734, lr=1.000e-03, map10=0.156, momentum=0.900, ndcg20=0.105]\n"
     ]
    },
    {
     "name": "stdout",
     "output_type": "stream",
     "text": [
      "valid (18/100) loss: 6.79728880181218 | lr: 0.001 | map10: 0.17913926849696807 | map10/std: 0.018774105920534225 | momentum: 0.9 | ndcg20: 0.10612608036458099 | ndcg20/std: 0.009304491191181593\n",
      "* Epoch (18/100) \n"
     ]
    },
    {
     "name": "stderr",
     "output_type": "stream",
     "text": [
      "19/100 * Epoch (train): 100%|██████████| 24/24 [00:20<00:00,  1.18it/s, _timer/_fps=252.706, _timer/batch_time=0.601, _timer/data_time=0.306, _timer/model_time=0.296, loss=6.717, lr=1.000e-03, map10=0.000e+00, momentum=0.900, ndcg20=0.000e+00]\n"
     ]
    },
    {
     "name": "stdout",
     "output_type": "stream",
     "text": [
      "train (19/100) loss: 6.84198006762574 | lr: 0.001 | map10: 0.0 | map10/std: 0.0 | momentum: 0.9 | ndcg20: 0.0 | ndcg20/std: 0.0\n"
     ]
    },
    {
     "name": "stderr",
     "output_type": "stream",
     "text": [
      "19/100 * Epoch (valid): 100%|██████████| 24/24 [00:11<00:00,  2.07it/s, _timer/_fps=538.477, _timer/batch_time=0.282, _timer/data_time=0.022, _timer/model_time=0.260, loss=6.651, lr=1.000e-03, map10=0.160, momentum=0.900, ndcg20=0.105]\n"
     ]
    },
    {
     "name": "stdout",
     "output_type": "stream",
     "text": [
      "valid (19/100) loss: 6.721876541668216 | lr: 0.001 | map10: 0.18765870267586998 | map10/std: 0.01905826576033443 | momentum: 0.9 | ndcg20: 0.11308383938689893 | ndcg20/std: 0.009288406897578101\n",
      "* Epoch (19/100) \n"
     ]
    },
    {
     "name": "stderr",
     "output_type": "stream",
     "text": [
      "20/100 * Epoch (train): 100%|██████████| 24/24 [00:19<00:00,  1.21it/s, _timer/_fps=227.465, _timer/batch_time=0.668, _timer/data_time=0.376, _timer/model_time=0.292, loss=6.641, lr=1.000e-03, map10=0.000e+00, momentum=0.900, ndcg20=0.000e+00]\n"
     ]
    },
    {
     "name": "stdout",
     "output_type": "stream",
     "text": [
      "train (20/100) loss: 6.77214451215125 | lr: 0.001 | map10: 0.0 | map10/std: 0.0 | momentum: 0.9 | ndcg20: 0.0 | ndcg20/std: 0.0\n"
     ]
    },
    {
     "name": "stderr",
     "output_type": "stream",
     "text": [
      "20/100 * Epoch (valid): 100%|██████████| 24/24 [00:10<00:00,  2.26it/s, _timer/_fps=552.288, _timer/batch_time=0.275, _timer/data_time=0.021, _timer/model_time=0.254, loss=6.565, lr=1.000e-03, map10=0.187, momentum=0.900, ndcg20=0.114]\n"
     ]
    },
    {
     "name": "stdout",
     "output_type": "stream",
     "text": [
      "valid (20/100) loss: 6.642255154034951 | lr: 0.001 | map10: 0.19595509428062188 | map10/std: 0.01887726654739919 | momentum: 0.9 | ndcg20: 0.1200638328660403 | ndcg20/std: 0.010879339377289741\n",
      "* Epoch (20/100) \n"
     ]
    },
    {
     "name": "stderr",
     "output_type": "stream",
     "text": [
      "21/100 * Epoch (train): 100%|██████████| 24/24 [00:20<00:00,  1.17it/s, _timer/_fps=234.391, _timer/batch_time=0.648, _timer/data_time=0.348, _timer/model_time=0.300, loss=6.553, lr=1.000e-03, map10=0.000e+00, momentum=0.900, ndcg20=0.000e+00]\n"
     ]
    },
    {
     "name": "stdout",
     "output_type": "stream",
     "text": [
      "train (21/100) loss: 6.703730923608439 | lr: 0.001 | map10: 0.0 | map10/std: 0.0 | momentum: 0.9 | ndcg20: 0.0 | ndcg20/std: 0.0\n"
     ]
    },
    {
     "name": "stderr",
     "output_type": "stream",
     "text": [
      "21/100 * Epoch (valid): 100%|██████████| 24/24 [00:10<00:00,  2.21it/s, _timer/_fps=545.186, _timer/batch_time=0.279, _timer/data_time=0.022, _timer/model_time=0.257, loss=6.482, lr=1.000e-03, map10=0.184, momentum=0.900, ndcg20=0.117]\n"
     ]
    },
    {
     "name": "stdout",
     "output_type": "stream",
     "text": [
      "valid (21/100) loss: 6.569094139377012 | lr: 0.001 | map10: 0.20290763386037966 | map10/std: 0.018225979933618314 | momentum: 0.9 | ndcg20: 0.12506681559299002 | ndcg20/std: 0.010533930780304436\n",
      "* Epoch (21/100) \n"
     ]
    },
    {
     "name": "stderr",
     "output_type": "stream",
     "text": [
      "22/100 * Epoch (train): 100%|██████████| 24/24 [00:20<00:00,  1.16it/s, _timer/_fps=219.580, _timer/batch_time=0.692, _timer/data_time=0.388, _timer/model_time=0.304, loss=6.546, lr=1.000e-03, map10=0.000e+00, momentum=0.900, ndcg20=0.000e+00]\n"
     ]
    },
    {
     "name": "stdout",
     "output_type": "stream",
     "text": [
      "train (22/100) loss: 6.63861442906967 | lr: 0.001 | map10: 0.0 | map10/std: 0.0 | momentum: 0.9 | ndcg20: 0.0 | ndcg20/std: 0.0\n"
     ]
    },
    {
     "name": "stderr",
     "output_type": "stream",
     "text": [
      "22/100 * Epoch (valid): 100%|██████████| 24/24 [00:10<00:00,  2.23it/s, _timer/_fps=535.347, _timer/batch_time=0.284, _timer/data_time=0.022, _timer/model_time=0.262, loss=6.447, lr=1.000e-03, map10=0.203, momentum=0.900, ndcg20=0.124]\n"
     ]
    },
    {
     "name": "stdout",
     "output_type": "stream",
     "text": [
      "valid (22/100) loss: 6.500009552532473 | lr: 0.001 | map10: 0.20936044172340668 | map10/std: 0.021381033960757044 | momentum: 0.9 | ndcg20: 0.13047057646789298 | ndcg20/std: 0.011733615745113205\n",
      "* Epoch (22/100) \n"
     ]
    },
    {
     "name": "stderr",
     "output_type": "stream",
     "text": [
      "23/100 * Epoch (train): 100%|██████████| 24/24 [00:19<00:00,  1.21it/s, _timer/_fps=254.772, _timer/batch_time=0.597, _timer/data_time=0.307, _timer/model_time=0.289, loss=6.502, lr=1.000e-03, map10=0.000e+00, momentum=0.900, ndcg20=0.000e+00]\n"
     ]
    },
    {
     "name": "stdout",
     "output_type": "stream",
     "text": [
      "train (23/100) loss: 6.592927688320742 | lr: 0.001 | map10: 0.0 | map10/std: 0.0 | momentum: 0.9 | ndcg20: 0.0 | ndcg20/std: 0.0\n"
     ]
    },
    {
     "name": "stderr",
     "output_type": "stream",
     "text": [
      "23/100 * Epoch (valid): 100%|██████████| 24/24 [00:10<00:00,  2.24it/s, _timer/_fps=539.794, _timer/batch_time=0.282, _timer/data_time=0.021, _timer/model_time=0.261, loss=6.409, lr=1.000e-03, map10=0.199, momentum=0.900, ndcg20=0.121]\n"
     ]
    },
    {
     "name": "stdout",
     "output_type": "stream",
     "text": [
      "valid (23/100) loss: 6.444460405261312 | lr: 0.001 | map10: 0.21850342253186056 | map10/std: 0.01930711328472267 | momentum: 0.9 | ndcg20: 0.13733209621235237 | ndcg20/std: 0.011278078858764093\n",
      "* Epoch (23/100) \n"
     ]
    },
    {
     "name": "stderr",
     "output_type": "stream",
     "text": [
      "24/100 * Epoch (train): 100%|██████████| 24/24 [00:20<00:00,  1.19it/s, _timer/_fps=247.370, _timer/batch_time=0.614, _timer/data_time=0.320, _timer/model_time=0.294, loss=6.494, lr=1.000e-03, map10=0.000e+00, momentum=0.900, ndcg20=0.000e+00]\n"
     ]
    },
    {
     "name": "stdout",
     "output_type": "stream",
     "text": [
      "train (24/100) loss: 6.547277925503964 | lr: 0.001 | map10: 0.0 | map10/std: 0.0 | momentum: 0.9 | ndcg20: 0.0 | ndcg20/std: 0.0\n"
     ]
    },
    {
     "name": "stderr",
     "output_type": "stream",
     "text": [
      "24/100 * Epoch (valid): 100%|██████████| 24/24 [00:10<00:00,  2.24it/s, _timer/_fps=535.117, _timer/batch_time=0.284, _timer/data_time=0.022, _timer/model_time=0.263, loss=6.388, lr=1.000e-03, map10=0.196, momentum=0.900, ndcg20=0.126]\n"
     ]
    },
    {
     "name": "stdout",
     "output_type": "stream",
     "text": [
      "valid (24/100) loss: 6.395651362589653 | lr: 0.001 | map10: 0.2182898960760887 | map10/std: 0.022698134872379604 | momentum: 0.9 | ndcg20: 0.14011428541695048 | ndcg20/std: 0.013551887818613521\n",
      "* Epoch (24/100) \n"
     ]
    },
    {
     "name": "stderr",
     "output_type": "stream",
     "text": [
      "25/100 * Epoch (train): 100%|██████████| 24/24 [00:19<00:00,  1.21it/s, _timer/_fps=244.869, _timer/batch_time=0.621, _timer/data_time=0.322, _timer/model_time=0.299, loss=6.465, lr=1.000e-03, map10=0.000e+00, momentum=0.900, ndcg20=0.000e+00]\n"
     ]
    },
    {
     "name": "stdout",
     "output_type": "stream",
     "text": [
      "train (25/100) loss: 6.510922076370543 | lr: 0.001 | map10: 0.0 | map10/std: 0.0 | momentum: 0.9 | ndcg20: 0.0 | ndcg20/std: 0.0\n"
     ]
    },
    {
     "name": "stderr",
     "output_type": "stream",
     "text": [
      "25/100 * Epoch (valid): 100%|██████████| 24/24 [00:10<00:00,  2.23it/s, _timer/_fps=546.016, _timer/batch_time=0.278, _timer/data_time=0.022, _timer/model_time=0.256, loss=6.362, lr=1.000e-03, map10=0.203, momentum=0.900, ndcg20=0.127]\n"
     ]
    },
    {
     "name": "stdout",
     "output_type": "stream",
     "text": [
      "valid (25/100) loss: 6.3591014641010215 | lr: 0.001 | map10: 0.2173475472342889 | map10/std: 0.020008105332797253 | momentum: 0.9 | ndcg20: 0.14002350073381764 | ndcg20/std: 0.01381396004043742\n",
      "* Epoch (25/100) \n"
     ]
    },
    {
     "name": "stderr",
     "output_type": "stream",
     "text": [
      "26/100 * Epoch (train): 100%|██████████| 24/24 [00:20<00:00,  1.19it/s, _timer/_fps=249.716, _timer/batch_time=0.609, _timer/data_time=0.320, _timer/model_time=0.288, loss=6.385, lr=1.000e-03, map10=0.000e+00, momentum=0.900, ndcg20=0.000e+00]\n"
     ]
    },
    {
     "name": "stdout",
     "output_type": "stream",
     "text": [
      "train (26/100) loss: 6.466089143184637 | lr: 0.001 | map10: 0.0 | map10/std: 0.0 | momentum: 0.9 | ndcg20: 0.0 | ndcg20/std: 0.0\n"
     ]
    },
    {
     "name": "stderr",
     "output_type": "stream",
     "text": [
      "26/100 * Epoch (valid): 100%|██████████| 24/24 [00:10<00:00,  2.22it/s, _timer/_fps=538.200, _timer/batch_time=0.282, _timer/data_time=0.021, _timer/model_time=0.261, loss=6.293, lr=1.000e-03, map10=0.200, momentum=0.900, ndcg20=0.129]\n"
     ]
    },
    {
     "name": "stdout",
     "output_type": "stream",
     "text": [
      "valid (26/100) loss: 6.305868962268955 | lr: 0.001 | map10: 0.22701261716567916 | map10/std: 0.021958488484282168 | momentum: 0.9 | ndcg20: 0.14479111028428107 | ndcg20/std: 0.014030762309800058\n",
      "* Epoch (26/100) \n"
     ]
    },
    {
     "name": "stderr",
     "output_type": "stream",
     "text": [
      "27/100 * Epoch (train): 100%|██████████| 24/24 [00:19<00:00,  1.23it/s, _timer/_fps=253.233, _timer/batch_time=0.600, _timer/data_time=0.307, _timer/model_time=0.294, loss=6.377, lr=1.000e-03, map10=0.000e+00, momentum=0.900, ndcg20=0.000e+00]\n"
     ]
    },
    {
     "name": "stdout",
     "output_type": "stream",
     "text": [
      "train (27/100) loss: 6.4400444599176865 | lr: 0.001 | map10: 0.0 | map10/std: 0.0 | momentum: 0.9 | ndcg20: 0.0 | ndcg20/std: 0.0\n"
     ]
    },
    {
     "name": "stderr",
     "output_type": "stream",
     "text": [
      "27/100 * Epoch (valid): 100%|██████████| 24/24 [00:10<00:00,  2.24it/s, _timer/_fps=537.337, _timer/batch_time=0.283, _timer/data_time=0.021, _timer/model_time=0.262, loss=6.270, lr=1.000e-03, map10=0.221, momentum=0.900, ndcg20=0.128]\n"
     ]
    },
    {
     "name": "stdout",
     "output_type": "stream",
     "text": [
      "valid (27/100) loss: 6.283561489913637 | lr: 0.001 | map10: 0.22451330074016623 | map10/std: 0.018947281378577437 | momentum: 0.9 | ndcg20: 0.14503772635728315 | ndcg20/std: 0.013627651479942113\n",
      "* Epoch (27/100) \n"
     ]
    },
    {
     "name": "stderr",
     "output_type": "stream",
     "text": [
      "28/100 * Epoch (train): 100%|██████████| 24/24 [00:20<00:00,  1.18it/s, _timer/_fps=235.574, _timer/batch_time=0.645, _timer/data_time=0.351, _timer/model_time=0.295, loss=6.333, lr=1.000e-03, map10=0.000e+00, momentum=0.900, ndcg20=0.000e+00]\n"
     ]
    },
    {
     "name": "stdout",
     "output_type": "stream",
     "text": [
      "train (28/100) loss: 6.410377394442527 | lr: 0.001 | map10: 0.0 | map10/std: 0.0 | momentum: 0.9 | ndcg20: 0.0 | ndcg20/std: 0.0\n"
     ]
    },
    {
     "name": "stderr",
     "output_type": "stream",
     "text": [
      "28/100 * Epoch (valid): 100%|██████████| 24/24 [00:10<00:00,  2.23it/s, _timer/_fps=479.996, _timer/batch_time=0.317, _timer/data_time=0.023, _timer/model_time=0.294, loss=6.223, lr=1.000e-03, map10=0.202, momentum=0.900, ndcg20=0.125]\n"
     ]
    },
    {
     "name": "stdout",
     "output_type": "stream",
     "text": [
      "valid (28/100) loss: 6.241992088974705 | lr: 0.001 | map10: 0.22443709527419892 | map10/std: 0.02196834277624758 | momentum: 0.9 | ndcg20: 0.14456524093024778 | ndcg20/std: 0.015333348832251667\n",
      "* Epoch (28/100) \n"
     ]
    },
    {
     "name": "stderr",
     "output_type": "stream",
     "text": [
      "29/100 * Epoch (train): 100%|██████████| 24/24 [00:22<00:00,  1.08it/s, _timer/_fps=242.087, _timer/batch_time=0.628, _timer/data_time=0.334, _timer/model_time=0.294, loss=6.317, lr=1.000e-03, map10=0.000e+00, momentum=0.900, ndcg20=0.000e+00]\n"
     ]
    },
    {
     "name": "stdout",
     "output_type": "stream",
     "text": [
      "train (29/100) loss: 6.384739597270031 | lr: 0.001 | map10: 0.0 | map10/std: 0.0 | momentum: 0.9 | ndcg20: 0.0 | ndcg20/std: 0.0\n"
     ]
    },
    {
     "name": "stderr",
     "output_type": "stream",
     "text": [
      "29/100 * Epoch (valid): 100%|██████████| 24/24 [00:11<00:00,  2.17it/s, _timer/_fps=533.963, _timer/batch_time=0.285, _timer/data_time=0.022, _timer/model_time=0.262, loss=6.200, lr=1.000e-03, map10=0.193, momentum=0.900, ndcg20=0.122]\n"
     ]
    },
    {
     "name": "stdout",
     "output_type": "stream",
     "text": [
      "valid (29/100) loss: 6.2244758845954555 | lr: 0.001 | map10: 0.2202920602054785 | map10/std: 0.024044971408008063 | momentum: 0.9 | ndcg20: 0.1426084896882638 | ndcg20/std: 0.015872451470200288\n",
      "* Epoch (29/100) \n"
     ]
    },
    {
     "name": "stderr",
     "output_type": "stream",
     "text": [
      "30/100 * Epoch (train): 100%|██████████| 24/24 [00:19<00:00,  1.21it/s, _timer/_fps=252.544, _timer/batch_time=0.602, _timer/data_time=0.311, _timer/model_time=0.291, loss=6.310, lr=1.000e-03, map10=0.000e+00, momentum=0.900, ndcg20=0.000e+00]\n"
     ]
    },
    {
     "name": "stdout",
     "output_type": "stream",
     "text": [
      "train (30/100) loss: 6.344703095796093 | lr: 0.001 | map10: 0.0 | map10/std: 0.0 | momentum: 0.9 | ndcg20: 0.0 | ndcg20/std: 0.0\n"
     ]
    },
    {
     "name": "stderr",
     "output_type": "stream",
     "text": [
      "30/100 * Epoch (valid): 100%|██████████| 24/24 [00:10<00:00,  2.20it/s, _timer/_fps=462.476, _timer/batch_time=0.329, _timer/data_time=0.023, _timer/model_time=0.305, loss=6.190, lr=1.000e-03, map10=0.210, momentum=0.900, ndcg20=0.126]\n"
     ]
    },
    {
     "name": "stdout",
     "output_type": "stream",
     "text": [
      "valid (30/100) loss: 6.179238482342651 | lr: 0.001 | map10: 0.2284234517062737 | map10/std: 0.023758450273557337 | momentum: 0.9 | ndcg20: 0.1480341214415253 | ndcg20/std: 0.01700702060917671\n",
      "* Epoch (30/100) \n"
     ]
    },
    {
     "name": "stderr",
     "output_type": "stream",
     "text": [
      "31/100 * Epoch (train): 100%|██████████| 24/24 [00:20<00:00,  1.16it/s, _timer/_fps=244.048, _timer/batch_time=0.623, _timer/data_time=0.333, _timer/model_time=0.289, loss=6.254, lr=1.000e-03, map10=0.000e+00, momentum=0.900, ndcg20=0.000e+00]\n"
     ]
    },
    {
     "name": "stdout",
     "output_type": "stream",
     "text": [
      "train (31/100) loss: 6.319166969147739 | lr: 0.001 | map10: 0.0 | map10/std: 0.0 | momentum: 0.9 | ndcg20: 0.0 | ndcg20/std: 0.0\n"
     ]
    },
    {
     "name": "stderr",
     "output_type": "stream",
     "text": [
      "31/100 * Epoch (valid): 100%|██████████| 24/24 [00:10<00:00,  2.27it/s, _timer/_fps=534.915, _timer/batch_time=0.284, _timer/data_time=0.022, _timer/model_time=0.262, loss=6.120, lr=1.000e-03, map10=0.215, momentum=0.900, ndcg20=0.132]\n"
     ]
    },
    {
     "name": "stdout",
     "output_type": "stream",
     "text": [
      "valid (31/100) loss: 6.154835725620094 | lr: 0.001 | map10: 0.23218177900409068 | map10/std: 0.025375174664448028 | momentum: 0.9 | ndcg20: 0.15093753622067685 | ndcg20/std: 0.01818955589586229\n",
      "* Epoch (31/100) \n"
     ]
    },
    {
     "name": "stderr",
     "output_type": "stream",
     "text": [
      "32/100 * Epoch (train): 100%|██████████| 24/24 [00:20<00:00,  1.16it/s, _timer/_fps=243.332, _timer/batch_time=0.625, _timer/data_time=0.322, _timer/model_time=0.303, loss=6.216, lr=1.000e-03, map10=0.000e+00, momentum=0.900, ndcg20=0.000e+00]\n"
     ]
    },
    {
     "name": "stdout",
     "output_type": "stream",
     "text": [
      "train (32/100) loss: 6.285066168197734 | lr: 0.001 | map10: 0.0 | map10/std: 0.0 | momentum: 0.9 | ndcg20: 0.0 | ndcg20/std: 0.0\n"
     ]
    },
    {
     "name": "stderr",
     "output_type": "stream",
     "text": [
      "32/100 * Epoch (valid): 100%|██████████| 24/24 [00:10<00:00,  2.26it/s, _timer/_fps=535.323, _timer/batch_time=0.284, _timer/data_time=0.022, _timer/model_time=0.262, loss=6.073, lr=1.000e-03, map10=0.220, momentum=0.900, ndcg20=0.134]\n"
     ]
    },
    {
     "name": "stdout",
     "output_type": "stream",
     "text": [
      "valid (32/100) loss: 6.113063360681597 | lr: 0.001 | map10: 0.23502504349939085 | map10/std: 0.025995306178359108 | momentum: 0.9 | ndcg20: 0.1527928627089949 | ndcg20/std: 0.017719442871301484\n",
      "* Epoch (32/100) \n"
     ]
    },
    {
     "name": "stderr",
     "output_type": "stream",
     "text": [
      "33/100 * Epoch (train): 100%|██████████| 24/24 [00:21<00:00,  1.12it/s, _timer/_fps=227.940, _timer/batch_time=0.667, _timer/data_time=0.371, _timer/model_time=0.296, loss=6.232, lr=1.000e-03, map10=0.000e+00, momentum=0.900, ndcg20=0.000e+00]\n"
     ]
    },
    {
     "name": "stdout",
     "output_type": "stream",
     "text": [
      "train (33/100) loss: 6.268928107836389 | lr: 0.001 | map10: 0.0 | map10/std: 0.0 | momentum: 0.9 | ndcg20: 0.0 | ndcg20/std: 0.0\n"
     ]
    },
    {
     "name": "stderr",
     "output_type": "stream",
     "text": [
      "33/100 * Epoch (valid): 100%|██████████| 24/24 [00:10<00:00,  2.24it/s, _timer/_fps=533.708, _timer/batch_time=0.285, _timer/data_time=0.021, _timer/model_time=0.264, loss=6.095, lr=1.000e-03, map10=0.216, momentum=0.900, ndcg20=0.131]\n"
     ]
    },
    {
     "name": "stdout",
     "output_type": "stream",
     "text": [
      "valid (33/100) loss: 6.098685454690695 | lr: 0.001 | map10: 0.2359978820511837 | map10/std: 0.02311319832387421 | momentum: 0.9 | ndcg20: 0.15226815127773785 | ndcg20/std: 0.01666751112270032\n",
      "* Epoch (33/100) \n"
     ]
    },
    {
     "name": "stderr",
     "output_type": "stream",
     "text": [
      "34/100 * Epoch (train): 100%|██████████| 24/24 [00:20<00:00,  1.19it/s, _timer/_fps=255.356, _timer/batch_time=0.595, _timer/data_time=0.300, _timer/model_time=0.295, loss=6.234, lr=1.000e-03, map10=0.000e+00, momentum=0.900, ndcg20=0.000e+00]\n"
     ]
    },
    {
     "name": "stdout",
     "output_type": "stream",
     "text": [
      "train (34/100) loss: 6.249262563440185 | lr: 0.001 | map10: 0.0 | map10/std: 0.0 | momentum: 0.9 | ndcg20: 0.0 | ndcg20/std: 0.0\n"
     ]
    },
    {
     "name": "stderr",
     "output_type": "stream",
     "text": [
      "34/100 * Epoch (valid): 100%|██████████| 24/24 [00:10<00:00,  2.26it/s, _timer/_fps=531.372, _timer/batch_time=0.286, _timer/data_time=0.021, _timer/model_time=0.265, loss=6.108, lr=1.000e-03, map10=0.242, momentum=0.900, ndcg20=0.145]\n"
     ]
    },
    {
     "name": "stdout",
     "output_type": "stream",
     "text": [
      "valid (34/100) loss: 6.076771705197971 | lr: 0.001 | map10: 0.24543261924721543 | map10/std: 0.024608168604926685 | momentum: 0.9 | ndcg20: 0.15940525257429541 | ndcg20/std: 0.017737198570639122\n",
      "* Epoch (34/100) \n"
     ]
    },
    {
     "name": "stderr",
     "output_type": "stream",
     "text": [
      "35/100 * Epoch (train): 100%|██████████| 24/24 [00:21<00:00,  1.13it/s, _timer/_fps=249.104, _timer/batch_time=0.610, _timer/data_time=0.315, _timer/model_time=0.296, loss=6.190, lr=1.000e-03, map10=0.000e+00, momentum=0.900, ndcg20=0.000e+00]\n"
     ]
    },
    {
     "name": "stdout",
     "output_type": "stream",
     "text": [
      "train (35/100) loss: 6.233055117272383 | lr: 0.001 | map10: 0.0 | map10/std: 0.0 | momentum: 0.9 | ndcg20: 0.0 | ndcg20/std: 0.0\n"
     ]
    },
    {
     "name": "stderr",
     "output_type": "stream",
     "text": [
      "35/100 * Epoch (valid): 100%|██████████| 24/24 [00:10<00:00,  2.26it/s, _timer/_fps=534.978, _timer/batch_time=0.284, _timer/data_time=0.023, _timer/model_time=0.261, loss=6.070, lr=1.000e-03, map10=0.235, momentum=0.900, ndcg20=0.150]\n"
     ]
    },
    {
     "name": "stdout",
     "output_type": "stream",
     "text": [
      "valid (35/100) loss: 6.0572558428278045 | lr: 0.001 | map10: 0.24317698022782408 | map10/std: 0.02551163434446208 | momentum: 0.9 | ndcg20: 0.16113572910131999 | ndcg20/std: 0.018595750214715927\n",
      "* Epoch (35/100) \n"
     ]
    },
    {
     "name": "stderr",
     "output_type": "stream",
     "text": [
      "36/100 * Epoch (train): 100%|██████████| 24/24 [00:20<00:00,  1.18it/s, _timer/_fps=228.564, _timer/batch_time=0.665, _timer/data_time=0.368, _timer/model_time=0.297, loss=6.123, lr=1.000e-03, map10=0.000e+00, momentum=0.900, ndcg20=0.000e+00]\n"
     ]
    },
    {
     "name": "stdout",
     "output_type": "stream",
     "text": [
      "train (36/100) loss: 6.204237423195744 | lr: 0.001 | map10: 0.0 | map10/std: 0.0 | momentum: 0.9 | ndcg20: 0.0 | ndcg20/std: 0.0\n"
     ]
    },
    {
     "name": "stderr",
     "output_type": "stream",
     "text": [
      "36/100 * Epoch (valid): 100%|██████████| 24/24 [00:10<00:00,  2.27it/s, _timer/_fps=537.920, _timer/batch_time=0.283, _timer/data_time=0.021, _timer/model_time=0.261, loss=5.993, lr=1.000e-03, map10=0.231, momentum=0.900, ndcg20=0.145]\n"
     ]
    },
    {
     "name": "stdout",
     "output_type": "stream",
     "text": [
      "valid (36/100) loss: 6.025540349972958 | lr: 0.001 | map10: 0.24516115109652084 | map10/std: 0.026298192103229763 | momentum: 0.9 | ndcg20: 0.16036103490172637 | ndcg20/std: 0.01888975863526358\n",
      "* Epoch (36/100) \n"
     ]
    },
    {
     "name": "stderr",
     "output_type": "stream",
     "text": [
      "37/100 * Epoch (train): 100%|██████████| 24/24 [00:21<00:00,  1.10it/s, _timer/_fps=241.460, _timer/batch_time=0.630, _timer/data_time=0.341, _timer/model_time=0.289, loss=6.165, lr=1.000e-03, map10=0.000e+00, momentum=0.900, ndcg20=0.000e+00]\n"
     ]
    },
    {
     "name": "stdout",
     "output_type": "stream",
     "text": [
      "train (37/100) loss: 6.190101343748585 | lr: 0.001 | map10: 0.0 | map10/std: 0.0 | momentum: 0.9 | ndcg20: 0.0 | ndcg20/std: 0.0\n"
     ]
    },
    {
     "name": "stderr",
     "output_type": "stream",
     "text": [
      "37/100 * Epoch (valid): 100%|██████████| 24/24 [00:10<00:00,  2.26it/s, _timer/_fps=537.543, _timer/batch_time=0.283, _timer/data_time=0.022, _timer/model_time=0.261, loss=6.035, lr=1.000e-03, map10=0.234, momentum=0.900, ndcg20=0.147]\n"
     ]
    },
    {
     "name": "stdout",
     "output_type": "stream",
     "text": [
      "valid (37/100) loss: 6.003511161677885 | lr: 0.001 | map10: 0.24886699064283177 | map10/std: 0.028434199242390715 | momentum: 0.9 | ndcg20: 0.16419823444047513 | ndcg20/std: 0.019181025316464304\n",
      "* Epoch (37/100) \n"
     ]
    },
    {
     "name": "stderr",
     "output_type": "stream",
     "text": [
      "38/100 * Epoch (train): 100%|██████████| 24/24 [00:20<00:00,  1.17it/s, _timer/_fps=208.118, _timer/batch_time=0.730, _timer/data_time=0.441, _timer/model_time=0.289, loss=6.158, lr=1.000e-03, map10=0.000e+00, momentum=0.900, ndcg20=0.000e+00]\n"
     ]
    },
    {
     "name": "stdout",
     "output_type": "stream",
     "text": [
      "train (38/100) loss: 6.15115041669631 | lr: 0.001 | map10: 0.0 | map10/std: 0.0 | momentum: 0.9 | ndcg20: 0.0 | ndcg20/std: 0.0\n"
     ]
    },
    {
     "name": "stderr",
     "output_type": "stream",
     "text": [
      "38/100 * Epoch (valid): 100%|██████████| 24/24 [00:10<00:00,  2.28it/s, _timer/_fps=547.896, _timer/batch_time=0.277, _timer/data_time=0.021, _timer/model_time=0.256, loss=6.026, lr=1.000e-03, map10=0.260, momentum=0.900, ndcg20=0.161]\n"
     ]
    },
    {
     "name": "stdout",
     "output_type": "stream",
     "text": [
      "valid (38/100) loss: 5.965851139548599 | lr: 0.001 | map10: 0.2599382787350787 | map10/std: 0.02736677819699429 | momentum: 0.9 | ndcg20: 0.17092652749146847 | ndcg20/std: 0.02081758203959351\n",
      "* Epoch (38/100) \n"
     ]
    },
    {
     "name": "stderr",
     "output_type": "stream",
     "text": [
      "39/100 * Epoch (train): 100%|██████████| 24/24 [00:20<00:00,  1.15it/s, _timer/_fps=229.205, _timer/batch_time=0.663, _timer/data_time=0.333, _timer/model_time=0.330, loss=6.103, lr=1.000e-03, map10=0.000e+00, momentum=0.900, ndcg20=0.000e+00]\n"
     ]
    },
    {
     "name": "stdout",
     "output_type": "stream",
     "text": [
      "train (39/100) loss: 6.145824949630839 | lr: 0.001 | map10: 0.0 | map10/std: 0.0 | momentum: 0.9 | ndcg20: 0.0 | ndcg20/std: 0.0\n"
     ]
    },
    {
     "name": "stderr",
     "output_type": "stream",
     "text": [
      "39/100 * Epoch (valid): 100%|██████████| 24/24 [00:10<00:00,  2.26it/s, _timer/_fps=541.797, _timer/batch_time=0.281, _timer/data_time=0.021, _timer/model_time=0.259, loss=5.975, lr=1.000e-03, map10=0.267, momentum=0.900, ndcg20=0.162]\n"
     ]
    },
    {
     "name": "stdout",
     "output_type": "stream",
     "text": [
      "valid (39/100) loss: 5.961017023174967 | lr: 0.001 | map10: 0.2613817437200357 | map10/std: 0.027853213688271178 | momentum: 0.9 | ndcg20: 0.1719264193283801 | ndcg20/std: 0.019296860711339948\n",
      "* Epoch (39/100) \n"
     ]
    },
    {
     "name": "stderr",
     "output_type": "stream",
     "text": [
      "40/100 * Epoch (train): 100%|██████████| 24/24 [00:20<00:00,  1.15it/s, _timer/_fps=237.556, _timer/batch_time=0.640, _timer/data_time=0.327, _timer/model_time=0.313, loss=6.140, lr=1.000e-03, map10=0.000e+00, momentum=0.900, ndcg20=0.000e+00]\n"
     ]
    },
    {
     "name": "stdout",
     "output_type": "stream",
     "text": [
      "train (40/100) loss: 6.118408885854759 | lr: 0.001 | map10: 0.0 | map10/std: 0.0 | momentum: 0.9 | ndcg20: 0.0 | ndcg20/std: 0.0\n"
     ]
    },
    {
     "name": "stderr",
     "output_type": "stream",
     "text": [
      "40/100 * Epoch (valid): 100%|██████████| 24/24 [00:10<00:00,  2.22it/s, _timer/_fps=534.693, _timer/batch_time=0.284, _timer/data_time=0.021, _timer/model_time=0.263, loss=6.003, lr=1.000e-03, map10=0.275, momentum=0.900, ndcg20=0.164]\n"
     ]
    },
    {
     "name": "stdout",
     "output_type": "stream",
     "text": [
      "valid (40/100) loss: 5.9332394562020205 | lr: 0.001 | map10: 0.2620818292857795 | map10/std: 0.027158864421256413 | momentum: 0.9 | ndcg20: 0.17299354362566738 | ndcg20/std: 0.019447824029623702\n",
      "* Epoch (40/100) \n"
     ]
    },
    {
     "name": "stderr",
     "output_type": "stream",
     "text": [
      "41/100 * Epoch (train): 100%|██████████| 24/24 [00:21<00:00,  1.12it/s, _timer/_fps=213.678, _timer/batch_time=0.711, _timer/data_time=0.393, _timer/model_time=0.318, loss=6.104, lr=1.000e-03, map10=0.000e+00, momentum=0.900, ndcg20=0.000e+00]\n"
     ]
    },
    {
     "name": "stdout",
     "output_type": "stream",
     "text": [
      "train (41/100) loss: 6.106559807101624 | lr: 0.001 | map10: 0.0 | map10/std: 0.0 | momentum: 0.9 | ndcg20: 0.0 | ndcg20/std: 0.0\n"
     ]
    },
    {
     "name": "stderr",
     "output_type": "stream",
     "text": [
      "41/100 * Epoch (valid): 100%|██████████| 24/24 [00:10<00:00,  2.25it/s, _timer/_fps=536.401, _timer/batch_time=0.283, _timer/data_time=0.020, _timer/model_time=0.263, loss=5.965, lr=1.000e-03, map10=0.266, momentum=0.900, ndcg20=0.165]\n"
     ]
    },
    {
     "name": "stdout",
     "output_type": "stream",
     "text": [
      "valid (41/100) loss: 5.918028251698475 | lr: 0.001 | map10: 0.26410449652482343 | map10/std: 0.02974458666359606 | momentum: 0.9 | ndcg20: 0.1745182451428167 | ndcg20/std: 0.020895841941459537\n",
      "* Epoch (41/100) \n"
     ]
    },
    {
     "name": "stderr",
     "output_type": "stream",
     "text": [
      "42/100 * Epoch (train): 100%|██████████| 24/24 [00:21<00:00,  1.14it/s, _timer/_fps=225.654, _timer/batch_time=0.674, _timer/data_time=0.359, _timer/model_time=0.314, loss=6.048, lr=1.000e-03, map10=0.000e+00, momentum=0.900, ndcg20=0.000e+00]\n"
     ]
    },
    {
     "name": "stdout",
     "output_type": "stream",
     "text": [
      "train (42/100) loss: 6.089762985785276 | lr: 0.001 | map10: 0.0 | map10/std: 0.0 | momentum: 0.9 | ndcg20: 0.0 | ndcg20/std: 0.0\n"
     ]
    },
    {
     "name": "stderr",
     "output_type": "stream",
     "text": [
      "42/100 * Epoch (valid): 100%|██████████| 24/24 [00:10<00:00,  2.24it/s, _timer/_fps=532.623, _timer/batch_time=0.285, _timer/data_time=0.021, _timer/model_time=0.264, loss=5.897, lr=1.000e-03, map10=0.259, momentum=0.900, ndcg20=0.166]\n"
     ]
    },
    {
     "name": "stdout",
     "output_type": "stream",
     "text": [
      "valid (42/100) loss: 5.890416096062061 | lr: 0.001 | map10: 0.26614903930007233 | map10/std: 0.027272096709023353 | momentum: 0.9 | ndcg20: 0.17708247461855806 | ndcg20/std: 0.020405259857506117\n",
      "* Epoch (42/100) \n"
     ]
    },
    {
     "name": "stderr",
     "output_type": "stream",
     "text": [
      "43/100 * Epoch (train): 100%|██████████| 24/24 [00:21<00:00,  1.14it/s, _timer/_fps=231.046, _timer/batch_time=0.658, _timer/data_time=0.363, _timer/model_time=0.295, loss=6.023, lr=1.000e-03, map10=0.000e+00, momentum=0.900, ndcg20=0.000e+00]\n"
     ]
    },
    {
     "name": "stdout",
     "output_type": "stream",
     "text": [
      "train (43/100) loss: 6.073529564308015 | lr: 0.001 | map10: 0.0 | map10/std: 0.0 | momentum: 0.9 | ndcg20: 0.0 | ndcg20/std: 0.0\n"
     ]
    },
    {
     "name": "stderr",
     "output_type": "stream",
     "text": [
      "43/100 * Epoch (valid): 100%|██████████| 24/24 [00:10<00:00,  2.24it/s, _timer/_fps=527.588, _timer/batch_time=0.288, _timer/data_time=0.022, _timer/model_time=0.266, loss=5.886, lr=1.000e-03, map10=0.268, momentum=0.900, ndcg20=0.169]\n"
     ]
    },
    {
     "name": "stdout",
     "output_type": "stream",
     "text": [
      "valid (43/100) loss: 5.8787090977296135 | lr: 0.001 | map10: 0.2688192998731373 | map10/std: 0.02682675514326661 | momentum: 0.9 | ndcg20: 0.17782716622810493 | ndcg20/std: 0.020036941706357305\n",
      "* Epoch (43/100) \n"
     ]
    },
    {
     "name": "stderr",
     "output_type": "stream",
     "text": [
      "44/100 * Epoch (train): 100%|██████████| 24/24 [00:21<00:00,  1.13it/s, _timer/_fps=221.942, _timer/batch_time=0.685, _timer/data_time=0.386, _timer/model_time=0.299, loss=6.008, lr=1.000e-03, map10=0.000e+00, momentum=0.900, ndcg20=0.000e+00]\n"
     ]
    },
    {
     "name": "stdout",
     "output_type": "stream",
     "text": [
      "train (44/100) loss: 6.044653583046617 | lr: 0.001 | map10: 0.0 | map10/std: 0.0 | momentum: 0.9 | ndcg20: 0.0 | ndcg20/std: 0.0\n"
     ]
    },
    {
     "name": "stderr",
     "output_type": "stream",
     "text": [
      "44/100 * Epoch (valid): 100%|██████████| 24/24 [00:10<00:00,  2.22it/s, _timer/_fps=512.523, _timer/batch_time=0.297, _timer/data_time=0.022, _timer/model_time=0.275, loss=5.856, lr=1.000e-03, map10=0.255, momentum=0.900, ndcg20=0.163]\n"
     ]
    },
    {
     "name": "stdout",
     "output_type": "stream",
     "text": [
      "valid (44/100) loss: 5.845118482854984 | lr: 0.001 | map10: 0.2683111777763493 | map10/std: 0.02930016149440647 | momentum: 0.9 | ndcg20: 0.17895829938105398 | ndcg20/std: 0.02107274030191681\n",
      "* Epoch (44/100) \n"
     ]
    },
    {
     "name": "stderr",
     "output_type": "stream",
     "text": [
      "45/100 * Epoch (train): 100%|██████████| 24/24 [00:20<00:00,  1.17it/s, _timer/_fps=250.919, _timer/batch_time=0.606, _timer/data_time=0.317, _timer/model_time=0.288, loss=5.991, lr=1.000e-03, map10=0.000e+00, momentum=0.900, ndcg20=0.000e+00]\n"
     ]
    },
    {
     "name": "stdout",
     "output_type": "stream",
     "text": [
      "train (45/100) loss: 6.02995500248789 | lr: 0.001 | map10: 0.0 | map10/std: 0.0 | momentum: 0.9 | ndcg20: 0.0 | ndcg20/std: 0.0\n"
     ]
    },
    {
     "name": "stderr",
     "output_type": "stream",
     "text": [
      "45/100 * Epoch (valid): 100%|██████████| 24/24 [00:10<00:00,  2.23it/s, _timer/_fps=540.550, _timer/batch_time=0.281, _timer/data_time=0.021, _timer/model_time=0.260, loss=5.835, lr=1.000e-03, map10=0.259, momentum=0.900, ndcg20=0.163]\n"
     ]
    },
    {
     "name": "stdout",
     "output_type": "stream",
     "text": [
      "valid (45/100) loss: 5.831232305236211 | lr: 0.001 | map10: 0.26454229196965307 | map10/std: 0.027325130161983267 | momentum: 0.9 | ndcg20: 0.1760431289278119 | ndcg20/std: 0.020137487344913763\n",
      "* Epoch (45/100) \n"
     ]
    },
    {
     "name": "stderr",
     "output_type": "stream",
     "text": [
      "46/100 * Epoch (train): 100%|██████████| 24/24 [00:21<00:00,  1.13it/s, _timer/_fps=232.881, _timer/batch_time=0.653, _timer/data_time=0.360, _timer/model_time=0.293, loss=5.966, lr=1.000e-03, map10=0.000e+00, momentum=0.900, ndcg20=0.000e+00]\n"
     ]
    },
    {
     "name": "stdout",
     "output_type": "stream",
     "text": [
      "train (46/100) loss: 6.021745971654425 | lr: 0.001 | map10: 0.0 | map10/std: 0.0 | momentum: 0.9 | ndcg20: 0.0 | ndcg20/std: 0.0\n"
     ]
    },
    {
     "name": "stderr",
     "output_type": "stream",
     "text": [
      "46/100 * Epoch (valid): 100%|██████████| 24/24 [00:10<00:00,  2.21it/s, _timer/_fps=534.761, _timer/batch_time=0.284, _timer/data_time=0.021, _timer/model_time=0.263, loss=5.813, lr=1.000e-03, map10=0.277, momentum=0.900, ndcg20=0.168]\n"
     ]
    },
    {
     "name": "stdout",
     "output_type": "stream",
     "text": [
      "valid (46/100) loss: 5.822337473307225 | lr: 0.001 | map10: 0.27014758353991225 | map10/std: 0.027378721336697623 | momentum: 0.9 | ndcg20: 0.17946217516005436 | ndcg20/std: 0.02143722180976391\n",
      "* Epoch (46/100) \n"
     ]
    },
    {
     "name": "stderr",
     "output_type": "stream",
     "text": [
      "47/100 * Epoch (train): 100%|██████████| 24/24 [00:20<00:00,  1.17it/s, _timer/_fps=227.159, _timer/batch_time=0.669, _timer/data_time=0.373, _timer/model_time=0.296, loss=5.970, lr=1.000e-03, map10=0.000e+00, momentum=0.900, ndcg20=0.000e+00]\n"
     ]
    },
    {
     "name": "stdout",
     "output_type": "stream",
     "text": [
      "train (47/100) loss: 6.001063233179762 | lr: 0.001 | map10: 0.0 | map10/std: 0.0 | momentum: 0.9 | ndcg20: 0.0 | ndcg20/std: 0.0\n"
     ]
    },
    {
     "name": "stderr",
     "output_type": "stream",
     "text": [
      "47/100 * Epoch (valid): 100%|██████████| 24/24 [00:10<00:00,  2.24it/s, _timer/_fps=538.839, _timer/batch_time=0.282, _timer/data_time=0.022, _timer/model_time=0.260, loss=5.823, lr=1.000e-03, map10=0.292, momentum=0.900, ndcg20=0.176]\n"
     ]
    },
    {
     "name": "stdout",
     "output_type": "stream",
     "text": [
      "valid (47/100) loss: 5.804866850770863 | lr: 0.001 | map10: 0.2701639248045865 | map10/std: 0.027127237517518176 | momentum: 0.9 | ndcg20: 0.1812670839938107 | ndcg20/std: 0.020455713476173185\n",
      "* Epoch (47/100) \n"
     ]
    },
    {
     "name": "stderr",
     "output_type": "stream",
     "text": [
      "48/100 * Epoch (train): 100%|██████████| 24/24 [00:21<00:00,  1.11it/s, _timer/_fps=228.897, _timer/batch_time=0.664, _timer/data_time=0.373, _timer/model_time=0.291, loss=5.973, lr=1.000e-03, map10=0.000e+00, momentum=0.900, ndcg20=0.000e+00]\n"
     ]
    },
    {
     "name": "stdout",
     "output_type": "stream",
     "text": [
      "train (48/100) loss: 5.9939734547343475 | lr: 0.001 | map10: 0.0 | map10/std: 0.0 | momentum: 0.9 | ndcg20: 0.0 | ndcg20/std: 0.0\n"
     ]
    },
    {
     "name": "stderr",
     "output_type": "stream",
     "text": [
      "48/100 * Epoch (valid): 100%|██████████| 24/24 [00:10<00:00,  2.20it/s, _timer/_fps=537.874, _timer/batch_time=0.283, _timer/data_time=0.022, _timer/model_time=0.261, loss=5.807, lr=1.000e-03, map10=0.272, momentum=0.900, ndcg20=0.177]\n"
     ]
    },
    {
     "name": "stdout",
     "output_type": "stream",
     "text": [
      "valid (48/100) loss: 5.791618611796802 | lr: 0.001 | map10: 0.27293564148296584 | map10/std: 0.02562151828805791 | momentum: 0.9 | ndcg20: 0.1826556263183126 | ndcg20/std: 0.020039541675753173\n",
      "* Epoch (48/100) \n"
     ]
    },
    {
     "name": "stderr",
     "output_type": "stream",
     "text": [
      "49/100 * Epoch (train): 100%|██████████| 24/24 [00:20<00:00,  1.16it/s, _timer/_fps=208.980, _timer/batch_time=0.727, _timer/data_time=0.435, _timer/model_time=0.293, loss=5.966, lr=1.000e-03, map10=0.000e+00, momentum=0.900, ndcg20=0.000e+00]\n"
     ]
    },
    {
     "name": "stdout",
     "output_type": "stream",
     "text": [
      "train (49/100) loss: 5.992111163107765 | lr: 0.001 | map10: 0.0 | map10/std: 0.0 | momentum: 0.9 | ndcg20: 0.0 | ndcg20/std: 0.0\n"
     ]
    },
    {
     "name": "stderr",
     "output_type": "stream",
     "text": [
      "49/100 * Epoch (valid): 100%|██████████| 24/24 [00:10<00:00,  2.24it/s, _timer/_fps=541.897, _timer/batch_time=0.280, _timer/data_time=0.022, _timer/model_time=0.259, loss=5.805, lr=1.000e-03, map10=0.266, momentum=0.900, ndcg20=0.171]\n"
     ]
    },
    {
     "name": "stdout",
     "output_type": "stream",
     "text": [
      "valid (49/100) loss: 5.78364143624211 | lr: 0.001 | map10: 0.27259044363009216 | map10/std: 0.028439961127538584 | momentum: 0.9 | ndcg20: 0.1837083476466059 | ndcg20/std: 0.02118255500065556\n",
      "* Epoch (49/100) \n"
     ]
    },
    {
     "name": "stderr",
     "output_type": "stream",
     "text": [
      "50/100 * Epoch (train): 100%|██████████| 24/24 [00:21<00:00,  1.11it/s, _timer/_fps=215.924, _timer/batch_time=0.704, _timer/data_time=0.407, _timer/model_time=0.297, loss=5.964, lr=1.000e-03, map10=0.000e+00, momentum=0.900, ndcg20=0.000e+00]\n"
     ]
    },
    {
     "name": "stdout",
     "output_type": "stream",
     "text": [
      "train (50/100) loss: 5.970791984709684 | lr: 0.001 | map10: 0.0 | map10/std: 0.0 | momentum: 0.9 | ndcg20: 0.0 | ndcg20/std: 0.0\n"
     ]
    },
    {
     "name": "stderr",
     "output_type": "stream",
     "text": [
      "50/100 * Epoch (valid): 100%|██████████| 24/24 [00:10<00:00,  2.22it/s, _timer/_fps=526.894, _timer/batch_time=0.288, _timer/data_time=0.021, _timer/model_time=0.267, loss=5.806, lr=1.000e-03, map10=0.259, momentum=0.900, ndcg20=0.170]\n"
     ]
    },
    {
     "name": "stdout",
     "output_type": "stream",
     "text": [
      "valid (50/100) loss: 5.7683911070918406 | lr: 0.001 | map10: 0.2762448237826493 | map10/std: 0.028399087071599275 | momentum: 0.9 | ndcg20: 0.18527557407783357 | ndcg20/std: 0.02111820035453652\n",
      "* Epoch (50/100) \n"
     ]
    },
    {
     "name": "stderr",
     "output_type": "stream",
     "text": [
      "51/100 * Epoch (train): 100%|██████████| 24/24 [00:20<00:00,  1.15it/s, _timer/_fps=228.346, _timer/batch_time=0.666, _timer/data_time=0.375, _timer/model_time=0.291, loss=5.999, lr=1.000e-03, map10=0.000e+00, momentum=0.900, ndcg20=0.000e+00]\n"
     ]
    },
    {
     "name": "stdout",
     "output_type": "stream",
     "text": [
      "train (51/100) loss: 5.955774821982479 | lr: 0.001 | map10: 0.0 | map10/std: 0.0 | momentum: 0.9 | ndcg20: 0.0 | ndcg20/std: 0.0\n"
     ]
    },
    {
     "name": "stderr",
     "output_type": "stream",
     "text": [
      "51/100 * Epoch (valid): 100%|██████████| 24/24 [00:10<00:00,  2.19it/s, _timer/_fps=517.792, _timer/batch_time=0.294, _timer/data_time=0.024, _timer/model_time=0.270, loss=5.839, lr=1.000e-03, map10=0.256, momentum=0.900, ndcg20=0.167]\n"
     ]
    },
    {
     "name": "stdout",
     "output_type": "stream",
     "text": [
      "valid (51/100) loss: 5.750485343175219 | lr: 0.001 | map10: 0.27325647729911556 | map10/std: 0.030224611664138677 | momentum: 0.9 | ndcg20: 0.18392402494190543 | ndcg20/std: 0.02139035962236186\n",
      "* Epoch (51/100) \n"
     ]
    },
    {
     "name": "stderr",
     "output_type": "stream",
     "text": [
      "52/100 * Epoch (train): 100%|██████████| 24/24 [00:22<00:00,  1.08it/s, _timer/_fps=218.446, _timer/batch_time=0.696, _timer/data_time=0.381, _timer/model_time=0.315, loss=5.965, lr=1.000e-03, map10=0.000e+00, momentum=0.900, ndcg20=0.000e+00]\n"
     ]
    },
    {
     "name": "stdout",
     "output_type": "stream",
     "text": [
      "train (52/100) loss: 5.953404251629154 | lr: 0.001 | map10: 0.0 | map10/std: 0.0 | momentum: 0.9 | ndcg20: 0.0 | ndcg20/std: 0.0\n"
     ]
    },
    {
     "name": "stderr",
     "output_type": "stream",
     "text": [
      "52/100 * Epoch (valid): 100%|██████████| 24/24 [00:11<00:00,  2.16it/s, _timer/_fps=507.516, _timer/batch_time=0.299, _timer/data_time=0.022, _timer/model_time=0.278, loss=5.800, lr=1.000e-03, map10=0.254, momentum=0.900, ndcg20=0.164]\n"
     ]
    },
    {
     "name": "stdout",
     "output_type": "stream",
     "text": [
      "valid (52/100) loss: 5.753280762805054 | lr: 0.001 | map10: 0.2758395528161763 | map10/std: 0.0273135120629684 | momentum: 0.9 | ndcg20: 0.18582269357924433 | ndcg20/std: 0.021685294882374334\n",
      "* Epoch (52/100) \n"
     ]
    },
    {
     "name": "stderr",
     "output_type": "stream",
     "text": [
      "53/100 * Epoch (train): 100%|██████████| 24/24 [00:21<00:00,  1.13it/s, _timer/_fps=209.062, _timer/batch_time=0.727, _timer/data_time=0.427, _timer/model_time=0.300, loss=5.909, lr=1.000e-03, map10=0.000e+00, momentum=0.900, ndcg20=0.000e+00]\n"
     ]
    },
    {
     "name": "stdout",
     "output_type": "stream",
     "text": [
      "train (53/100) loss: 5.950377008930737 | lr: 0.001 | map10: 0.0 | map10/std: 0.0 | momentum: 0.9 | ndcg20: 0.0 | ndcg20/std: 0.0\n"
     ]
    },
    {
     "name": "stderr",
     "output_type": "stream",
     "text": [
      "53/100 * Epoch (valid): 100%|██████████| 24/24 [00:11<00:00,  2.12it/s, _timer/_fps=519.834, _timer/batch_time=0.292, _timer/data_time=0.021, _timer/model_time=0.271, loss=5.765, lr=1.000e-03, map10=0.253, momentum=0.900, ndcg20=0.161]\n"
     ]
    },
    {
     "name": "stdout",
     "output_type": "stream",
     "text": [
      "valid (53/100) loss: 5.745875810787378 | lr: 0.001 | map10: 0.26898966017148357 | map10/std: 0.029116500133065507 | momentum: 0.9 | ndcg20: 0.17930493688346535 | ndcg20/std: 0.02153106751433285\n",
      "* Epoch (53/100) \n"
     ]
    },
    {
     "name": "stderr",
     "output_type": "stream",
     "text": [
      "54/100 * Epoch (train): 100%|██████████| 24/24 [00:21<00:00,  1.11it/s, _timer/_fps=208.293, _timer/batch_time=0.730, _timer/data_time=0.396, _timer/model_time=0.334, loss=5.949, lr=1.000e-03, map10=0.000e+00, momentum=0.900, ndcg20=0.000e+00]\n"
     ]
    },
    {
     "name": "stdout",
     "output_type": "stream",
     "text": [
      "train (54/100) loss: 5.941716482149844 | lr: 0.001 | map10: 0.0 | map10/std: 0.0 | momentum: 0.9 | ndcg20: 0.0 | ndcg20/std: 0.0\n"
     ]
    },
    {
     "name": "stderr",
     "output_type": "stream",
     "text": [
      "54/100 * Epoch (valid): 100%|██████████| 24/24 [00:10<00:00,  2.25it/s, _timer/_fps=522.301, _timer/batch_time=0.291, _timer/data_time=0.021, _timer/model_time=0.270, loss=5.776, lr=1.000e-03, map10=0.237, momentum=0.900, ndcg20=0.162]\n"
     ]
    },
    {
     "name": "stdout",
     "output_type": "stream",
     "text": [
      "valid (54/100) loss: 5.735658627314283 | lr: 0.001 | map10: 0.2721688187872337 | map10/std: 0.031014237090285432 | momentum: 0.9 | ndcg20: 0.18227974229695781 | ndcg20/std: 0.022162902490133626\n",
      "* Epoch (54/100) \n"
     ]
    },
    {
     "name": "stderr",
     "output_type": "stream",
     "text": [
      "55/100 * Epoch (train): 100%|██████████| 24/24 [00:21<00:00,  1.14it/s, _timer/_fps=209.106, _timer/batch_time=0.727, _timer/data_time=0.404, _timer/model_time=0.323, loss=5.863, lr=1.000e-03, map10=0.000e+00, momentum=0.900, ndcg20=0.000e+00]\n"
     ]
    },
    {
     "name": "stdout",
     "output_type": "stream",
     "text": [
      "train (55/100) loss: 5.932976117670932 | lr: 0.001 | map10: 0.0 | map10/std: 0.0 | momentum: 0.9 | ndcg20: 0.0 | ndcg20/std: 0.0\n"
     ]
    },
    {
     "name": "stderr",
     "output_type": "stream",
     "text": [
      "55/100 * Epoch (valid): 100%|██████████| 24/24 [00:10<00:00,  2.24it/s, _timer/_fps=516.875, _timer/batch_time=0.294, _timer/data_time=0.023, _timer/model_time=0.271, loss=5.701, lr=1.000e-03, map10=0.248, momentum=0.900, ndcg20=0.169]\n"
     ]
    },
    {
     "name": "stdout",
     "output_type": "stream",
     "text": [
      "valid (55/100) loss: 5.7274621325612864 | lr: 0.001 | map10: 0.2736841744539754 | map10/std: 0.026561318243751676 | momentum: 0.9 | ndcg20: 0.18314779846873508 | ndcg20/std: 0.021522749478485998\n",
      "* Epoch (55/100) \n"
     ]
    },
    {
     "name": "stderr",
     "output_type": "stream",
     "text": [
      "101it [00:05, 17.99it/s]\n"
     ]
    },
    {
     "name": "stdout",
     "output_type": "stream",
     "text": [
      "6040\n"
     ]
    }
   ],
   "source": [
    "model = ContextBERT4Rec(n_items=len(item2idx)+1, mask_ratio=0.2, hidden_size=64)\n",
    "\n",
    "optimizer = optim.Adam(model.parameters(), lr=0.001)\n",
    "lr_scheduler = StepLR(optimizer, step_size=20, gamma=0.1)\n",
    "engine = dl.DeviceEngine('cpu')\n",
    "hparams = {\n",
    "    \"anneal_cap\": 0.2,\n",
    "    \"total_anneal_steps\": 6000,\n",
    "}\n",
    "\n",
    "\n",
    "callbacks = [\n",
    "    dl.NDCGCallback(\"logits\", \"targets\", [20]),\n",
    "    dl.MAPCallback(\"logits\", \"targets\", [10]),\n",
    "    dl.OptimizerCallback(\"loss\", accumulation_steps=1),\n",
    "    dl.EarlyStoppingCallback(\n",
    "        patience=5, loader_key=\"valid\", metric_key=\"map10\", minimize=False\n",
    "    )\n",
    "]\n",
    "\n",
    "\n",
    "runner = RecSysRunner()\n",
    "runner.train(\n",
    "    model=model,\n",
    "    optimizer=optimizer,\n",
    "    engine=engine,\n",
    "    hparams=hparams,\n",
    "    scheduler=lr_scheduler,\n",
    "    loaders=loaders,\n",
    "    num_epochs=100,\n",
    "    verbose=True,\n",
    "    timeit=True,\n",
    "    callbacks=callbacks,\n",
    ")\n",
    "\n",
    "\n",
    "test_dataset = MyDataset(ds=joined, num_items=n_items, phase='test',item2idx=item2idx)\n",
    "\n",
    "\n",
    "inference_loader = DataLoader(test_dataset, \n",
    "                              batch_size=joined.shape[0]//100, \n",
    "                              collate_fn=collate_fn_train,)\n",
    "\n",
    "preds = []\n",
    "\n",
    "for prediction in tqdm(runner.predict_loader(loader=inference_loader)):\n",
    "    preds.extend(prediction.detach().cpu().numpy().tolist())\n",
    "    \n",
    "print(len(preds))\n",
    "assert len(preds) == joined.shape[0]\n",
    "\n",
    "joined['preds_contextbert4rec'] = preds\n",
    "joined['recs_contextbert4rec_10'] = joined['preds_contextbert4rec'].apply(lambda x: np.argsort(-np.array(x))[:10])\n",
    "joined['recs_contextbert4rec_10'] = joined['recs_contextbert4rec_10'].apply(lambda x: [idx2item[t-1] for t in x])\n",
    "joined['recs_contextbert4rec_5'] = joined['preds_contextbert4rec'].apply(lambda x: np.argsort(-np.array(x))[:5])\n",
    "joined['recs_contextbert4rec_5'] = joined['recs_contextbert4rec_5'].apply(lambda x: [idx2item[t-1] for t in x])\n",
    "joined.drop(['preds_contextbert4rec'],axis=1, inplace=True)\n"
   ]
  },
  {
   "cell_type": "code",
   "execution_count": null,
   "id": "824d106c-548e-4099-9388-2f2fd3fed9c1",
   "metadata": {
    "id": "824d106c-548e-4099-9388-2f2fd3fed9c1",
    "outputId": "b7f0b536-ec25-45d4-b6f9-1dcdbe98a7d8"
   },
   "outputs": [
    {
     "data": {
      "text/plain": [
       "{'ndcg': 0.1536313554554575, 'recall': 0.0365331557421488}"
      ]
     },
     "execution_count": 79,
     "metadata": {},
     "output_type": "execute_result"
    }
   ],
   "source": [
    "evaluate_recommender(joined, model_preds='recs_contextbert4rec_10')"
   ]
  },
  {
   "cell_type": "code",
   "execution_count": null,
   "id": "050876d4-3f36-4314-bae3-4bb043febaa2",
   "metadata": {
    "id": "050876d4-3f36-4314-bae3-4bb043febaa2",
    "outputId": "b09e6494-a1e7-4672-c7de-06e9aba17818"
   },
   "outputs": [
    {
     "data": {
      "text/plain": [
       "{'ndcg': 0.09266108158521663, 'recall': 0.019501831360733798}"
      ]
     },
     "execution_count": 80,
     "metadata": {},
     "output_type": "execute_result"
    }
   ],
   "source": [
    "evaluate_recommender(joined, model_preds='recs_contextbert4rec_5')"
   ]
  },
  {
   "cell_type": "code",
   "execution_count": null,
   "id": "7b6ac9d9-ef5e-4af6-b6eb-df8ef68cdfe7",
   "metadata": {
    "id": "7b6ac9d9-ef5e-4af6-b6eb-df8ef68cdfe7"
   },
   "outputs": [],
   "source": [
    "path = r'data/results/contextbert4rec_ml1m.txt'\n",
    "joined.to_csv(path, index=None, sep=';')"
   ]
  },
  {
   "cell_type": "code",
   "execution_count": null,
   "id": "cb13ed9a-64cc-486a-82d9-dd7c10682260",
   "metadata": {
    "id": "cb13ed9a-64cc-486a-82d9-dd7c10682260"
   },
   "outputs": [],
   "source": []
  },
  {
   "cell_type": "markdown",
   "id": "ff602175-cfb4-48c0-a0cd-f02fbb20b403",
   "metadata": {
    "id": "ff602175-cfb4-48c0-a0cd-f02fbb20b403"
   },
   "source": [
    "### ML-20m"
   ]
  },
  {
   "cell_type": "code",
   "execution_count": 10,
   "id": "75c04e22-e88d-4d40-83fd-bc3be476f580",
   "metadata": {
    "colab": {
     "base_uri": "https://localhost:8080/",
     "height": 201
    },
    "id": "75c04e22-e88d-4d40-83fd-bc3be476f580",
    "outputId": "7788b2d8-62e7-4a54-f15e-7336ee43777e"
   },
   "outputs": [
    {
     "data": {
      "text/html": [
       "\n",
       "  <div id=\"df-ddf034ec-1353-4dfe-a882-1193d3a93ed7\">\n",
       "    <div class=\"colab-df-container\">\n",
       "      <div>\n",
       "<style scoped>\n",
       "    .dataframe tbody tr th:only-of-type {\n",
       "        vertical-align: middle;\n",
       "    }\n",
       "\n",
       "    .dataframe tbody tr th {\n",
       "        vertical-align: top;\n",
       "    }\n",
       "\n",
       "    .dataframe thead th {\n",
       "        text-align: right;\n",
       "    }\n",
       "</style>\n",
       "<table border=\"1\" class=\"dataframe\">\n",
       "  <thead>\n",
       "    <tr style=\"text-align: right;\">\n",
       "      <th></th>\n",
       "      <th>user_id</th>\n",
       "      <th>item_id</th>\n",
       "      <th>rating</th>\n",
       "      <th>timestamp</th>\n",
       "      <th>weekday</th>\n",
       "      <th>hour</th>\n",
       "    </tr>\n",
       "  </thead>\n",
       "  <tbody>\n",
       "    <tr>\n",
       "      <th>0</th>\n",
       "      <td>1</td>\n",
       "      <td>2</td>\n",
       "      <td>3.5</td>\n",
       "      <td>2005-04-02 23:53:47</td>\n",
       "      <td>5</td>\n",
       "      <td>23</td>\n",
       "    </tr>\n",
       "    <tr>\n",
       "      <th>1</th>\n",
       "      <td>1</td>\n",
       "      <td>29</td>\n",
       "      <td>3.5</td>\n",
       "      <td>2005-04-02 23:31:16</td>\n",
       "      <td>5</td>\n",
       "      <td>23</td>\n",
       "    </tr>\n",
       "    <tr>\n",
       "      <th>2</th>\n",
       "      <td>1</td>\n",
       "      <td>32</td>\n",
       "      <td>3.5</td>\n",
       "      <td>2005-04-02 23:33:39</td>\n",
       "      <td>5</td>\n",
       "      <td>23</td>\n",
       "    </tr>\n",
       "    <tr>\n",
       "      <th>3</th>\n",
       "      <td>1</td>\n",
       "      <td>47</td>\n",
       "      <td>3.5</td>\n",
       "      <td>2005-04-02 23:32:07</td>\n",
       "      <td>5</td>\n",
       "      <td>23</td>\n",
       "    </tr>\n",
       "    <tr>\n",
       "      <th>4</th>\n",
       "      <td>1</td>\n",
       "      <td>50</td>\n",
       "      <td>3.5</td>\n",
       "      <td>2005-04-02 23:29:40</td>\n",
       "      <td>5</td>\n",
       "      <td>23</td>\n",
       "    </tr>\n",
       "  </tbody>\n",
       "</table>\n",
       "</div>\n",
       "      <button class=\"colab-df-convert\" onclick=\"convertToInteractive('df-ddf034ec-1353-4dfe-a882-1193d3a93ed7')\"\n",
       "              title=\"Convert this dataframe to an interactive table.\"\n",
       "              style=\"display:none;\">\n",
       "        \n",
       "  <svg xmlns=\"http://www.w3.org/2000/svg\" height=\"24px\"viewBox=\"0 0 24 24\"\n",
       "       width=\"24px\">\n",
       "    <path d=\"M0 0h24v24H0V0z\" fill=\"none\"/>\n",
       "    <path d=\"M18.56 5.44l.94 2.06.94-2.06 2.06-.94-2.06-.94-.94-2.06-.94 2.06-2.06.94zm-11 1L8.5 8.5l.94-2.06 2.06-.94-2.06-.94L8.5 2.5l-.94 2.06-2.06.94zm10 10l.94 2.06.94-2.06 2.06-.94-2.06-.94-.94-2.06-.94 2.06-2.06.94z\"/><path d=\"M17.41 7.96l-1.37-1.37c-.4-.4-.92-.59-1.43-.59-.52 0-1.04.2-1.43.59L10.3 9.45l-7.72 7.72c-.78.78-.78 2.05 0 2.83L4 21.41c.39.39.9.59 1.41.59.51 0 1.02-.2 1.41-.59l7.78-7.78 2.81-2.81c.8-.78.8-2.07 0-2.86zM5.41 20L4 18.59l7.72-7.72 1.47 1.35L5.41 20z\"/>\n",
       "  </svg>\n",
       "      </button>\n",
       "      \n",
       "  <style>\n",
       "    .colab-df-container {\n",
       "      display:flex;\n",
       "      flex-wrap:wrap;\n",
       "      gap: 12px;\n",
       "    }\n",
       "\n",
       "    .colab-df-convert {\n",
       "      background-color: #E8F0FE;\n",
       "      border: none;\n",
       "      border-radius: 50%;\n",
       "      cursor: pointer;\n",
       "      display: none;\n",
       "      fill: #1967D2;\n",
       "      height: 32px;\n",
       "      padding: 0 0 0 0;\n",
       "      width: 32px;\n",
       "    }\n",
       "\n",
       "    .colab-df-convert:hover {\n",
       "      background-color: #E2EBFA;\n",
       "      box-shadow: 0px 1px 2px rgba(60, 64, 67, 0.3), 0px 1px 3px 1px rgba(60, 64, 67, 0.15);\n",
       "      fill: #174EA6;\n",
       "    }\n",
       "\n",
       "    [theme=dark] .colab-df-convert {\n",
       "      background-color: #3B4455;\n",
       "      fill: #D2E3FC;\n",
       "    }\n",
       "\n",
       "    [theme=dark] .colab-df-convert:hover {\n",
       "      background-color: #434B5C;\n",
       "      box-shadow: 0px 1px 3px 1px rgba(0, 0, 0, 0.15);\n",
       "      filter: drop-shadow(0px 1px 2px rgba(0, 0, 0, 0.3));\n",
       "      fill: #FFFFFF;\n",
       "    }\n",
       "  </style>\n",
       "\n",
       "      <script>\n",
       "        const buttonEl =\n",
       "          document.querySelector('#df-ddf034ec-1353-4dfe-a882-1193d3a93ed7 button.colab-df-convert');\n",
       "        buttonEl.style.display =\n",
       "          google.colab.kernel.accessAllowed ? 'block' : 'none';\n",
       "\n",
       "        async function convertToInteractive(key) {\n",
       "          const element = document.querySelector('#df-ddf034ec-1353-4dfe-a882-1193d3a93ed7');\n",
       "          const dataTable =\n",
       "            await google.colab.kernel.invokeFunction('convertToInteractive',\n",
       "                                                     [key], {});\n",
       "          if (!dataTable) return;\n",
       "\n",
       "          const docLinkHtml = 'Like what you see? Visit the ' +\n",
       "            '<a target=\"_blank\" href=https://colab.research.google.com/notebooks/data_table.ipynb>data table notebook</a>'\n",
       "            + ' to learn more about interactive tables.';\n",
       "          element.innerHTML = '';\n",
       "          dataTable['output_type'] = 'display_data';\n",
       "          await google.colab.output.renderOutput(dataTable, element);\n",
       "          const docLink = document.createElement('div');\n",
       "          docLink.innerHTML = docLinkHtml;\n",
       "          element.appendChild(docLink);\n",
       "        }\n",
       "      </script>\n",
       "    </div>\n",
       "  </div>\n",
       "  "
      ],
      "text/plain": [
       "   user_id  item_id  rating           timestamp  weekday  hour\n",
       "0        1        2     3.5 2005-04-02 23:53:47        5    23\n",
       "1        1       29     3.5 2005-04-02 23:31:16        5    23\n",
       "2        1       32     3.5 2005-04-02 23:33:39        5    23\n",
       "3        1       47     3.5 2005-04-02 23:32:07        5    23\n",
       "4        1       50     3.5 2005-04-02 23:29:40        5    23"
      ]
     },
     "execution_count": 10,
     "metadata": {},
     "output_type": "execute_result"
    }
   ],
   "source": [
    "df = pd.read_csv('ML_20m.csv')\n",
    "df = df.rename(columns={'userId': 'user_id', 'movieId': 'item_id'})\n",
    "df['timestamp'] = pd.to_datetime(df['timestamp'],unit='s')\n",
    "df['weekday'] = pd.to_datetime(df.timestamp).dt.weekday\n",
    "df['hour'] = pd.to_datetime(df.timestamp).dt.hour\n",
    "df.head()"
   ]
  },
  {
   "cell_type": "code",
   "execution_count": 11,
   "id": "XvqkUdtWvEA2",
   "metadata": {
    "id": "XvqkUdtWvEA2"
   },
   "outputs": [],
   "source": [
    "splitter = RandomSplit(test_fraction=0.3)\n",
    "train_df, valid_df, test_df = splitter(df)"
   ]
  },
  {
   "cell_type": "code",
   "execution_count": 12,
   "id": "1H68SS--vM8U",
   "metadata": {
    "colab": {
     "base_uri": "https://localhost:8080/",
     "height": 201
    },
    "id": "1H68SS--vM8U",
    "outputId": "b1a27a73-ed47-4263-eb52-683ad26beaaf"
   },
   "outputs": [
    {
     "data": {
      "text/html": [
       "\n",
       "  <div id=\"df-0bcccede-a459-4bac-9f14-a1f90f81bd3b\">\n",
       "    <div class=\"colab-df-container\">\n",
       "      <div>\n",
       "<style scoped>\n",
       "    .dataframe tbody tr th:only-of-type {\n",
       "        vertical-align: middle;\n",
       "    }\n",
       "\n",
       "    .dataframe tbody tr th {\n",
       "        vertical-align: top;\n",
       "    }\n",
       "\n",
       "    .dataframe thead th {\n",
       "        text-align: right;\n",
       "    }\n",
       "</style>\n",
       "<table border=\"1\" class=\"dataframe\">\n",
       "  <thead>\n",
       "    <tr style=\"text-align: right;\">\n",
       "      <th></th>\n",
       "      <th>user_id</th>\n",
       "      <th>train_interactions</th>\n",
       "    </tr>\n",
       "  </thead>\n",
       "  <tbody>\n",
       "    <tr>\n",
       "      <th>0</th>\n",
       "      <td>1</td>\n",
       "      <td>[(924, 2004-09-10 03:06:38, 4, 3), (919, 2004-...</td>\n",
       "    </tr>\n",
       "    <tr>\n",
       "      <th>1</th>\n",
       "      <td>2</td>\n",
       "      <td>[(62, 2000-11-21 15:29:58, 1, 15), (469, 2000-...</td>\n",
       "    </tr>\n",
       "    <tr>\n",
       "      <th>2</th>\n",
       "      <td>3</td>\n",
       "      <td>[(589, 1999-12-11 07:25:08, 5, 7), (1188, 1999...</td>\n",
       "    </tr>\n",
       "    <tr>\n",
       "      <th>3</th>\n",
       "      <td>4</td>\n",
       "      <td>[(380, 1996-08-24 09:27:05, 5, 9), (165, 1996-...</td>\n",
       "    </tr>\n",
       "    <tr>\n",
       "      <th>4</th>\n",
       "      <td>5</td>\n",
       "      <td>[(17, 1996-12-25 15:15:35, 2, 15), (62, 1996-1...</td>\n",
       "    </tr>\n",
       "  </tbody>\n",
       "</table>\n",
       "</div>\n",
       "      <button class=\"colab-df-convert\" onclick=\"convertToInteractive('df-0bcccede-a459-4bac-9f14-a1f90f81bd3b')\"\n",
       "              title=\"Convert this dataframe to an interactive table.\"\n",
       "              style=\"display:none;\">\n",
       "        \n",
       "  <svg xmlns=\"http://www.w3.org/2000/svg\" height=\"24px\"viewBox=\"0 0 24 24\"\n",
       "       width=\"24px\">\n",
       "    <path d=\"M0 0h24v24H0V0z\" fill=\"none\"/>\n",
       "    <path d=\"M18.56 5.44l.94 2.06.94-2.06 2.06-.94-2.06-.94-.94-2.06-.94 2.06-2.06.94zm-11 1L8.5 8.5l.94-2.06 2.06-.94-2.06-.94L8.5 2.5l-.94 2.06-2.06.94zm10 10l.94 2.06.94-2.06 2.06-.94-2.06-.94-.94-2.06-.94 2.06-2.06.94z\"/><path d=\"M17.41 7.96l-1.37-1.37c-.4-.4-.92-.59-1.43-.59-.52 0-1.04.2-1.43.59L10.3 9.45l-7.72 7.72c-.78.78-.78 2.05 0 2.83L4 21.41c.39.39.9.59 1.41.59.51 0 1.02-.2 1.41-.59l7.78-7.78 2.81-2.81c.8-.78.8-2.07 0-2.86zM5.41 20L4 18.59l7.72-7.72 1.47 1.35L5.41 20z\"/>\n",
       "  </svg>\n",
       "      </button>\n",
       "      \n",
       "  <style>\n",
       "    .colab-df-container {\n",
       "      display:flex;\n",
       "      flex-wrap:wrap;\n",
       "      gap: 12px;\n",
       "    }\n",
       "\n",
       "    .colab-df-convert {\n",
       "      background-color: #E8F0FE;\n",
       "      border: none;\n",
       "      border-radius: 50%;\n",
       "      cursor: pointer;\n",
       "      display: none;\n",
       "      fill: #1967D2;\n",
       "      height: 32px;\n",
       "      padding: 0 0 0 0;\n",
       "      width: 32px;\n",
       "    }\n",
       "\n",
       "    .colab-df-convert:hover {\n",
       "      background-color: #E2EBFA;\n",
       "      box-shadow: 0px 1px 2px rgba(60, 64, 67, 0.3), 0px 1px 3px 1px rgba(60, 64, 67, 0.15);\n",
       "      fill: #174EA6;\n",
       "    }\n",
       "\n",
       "    [theme=dark] .colab-df-convert {\n",
       "      background-color: #3B4455;\n",
       "      fill: #D2E3FC;\n",
       "    }\n",
       "\n",
       "    [theme=dark] .colab-df-convert:hover {\n",
       "      background-color: #434B5C;\n",
       "      box-shadow: 0px 1px 3px 1px rgba(0, 0, 0, 0.15);\n",
       "      filter: drop-shadow(0px 1px 2px rgba(0, 0, 0, 0.3));\n",
       "      fill: #FFFFFF;\n",
       "    }\n",
       "  </style>\n",
       "\n",
       "      <script>\n",
       "        const buttonEl =\n",
       "          document.querySelector('#df-0bcccede-a459-4bac-9f14-a1f90f81bd3b button.colab-df-convert');\n",
       "        buttonEl.style.display =\n",
       "          google.colab.kernel.accessAllowed ? 'block' : 'none';\n",
       "\n",
       "        async function convertToInteractive(key) {\n",
       "          const element = document.querySelector('#df-0bcccede-a459-4bac-9f14-a1f90f81bd3b');\n",
       "          const dataTable =\n",
       "            await google.colab.kernel.invokeFunction('convertToInteractive',\n",
       "                                                     [key], {});\n",
       "          if (!dataTable) return;\n",
       "\n",
       "          const docLinkHtml = 'Like what you see? Visit the ' +\n",
       "            '<a target=\"_blank\" href=https://colab.research.google.com/notebooks/data_table.ipynb>data table notebook</a>'\n",
       "            + ' to learn more about interactive tables.';\n",
       "          element.innerHTML = '';\n",
       "          dataTable['output_type'] = 'display_data';\n",
       "          await google.colab.output.renderOutput(dataTable, element);\n",
       "          const docLink = document.createElement('div');\n",
       "          docLink.innerHTML = docLinkHtml;\n",
       "          element.appendChild(docLink);\n",
       "        }\n",
       "      </script>\n",
       "    </div>\n",
       "  </div>\n",
       "  "
      ],
      "text/plain": [
       "   user_id                                 train_interactions\n",
       "0        1  [(924, 2004-09-10 03:06:38, 4, 3), (919, 2004-...\n",
       "1        2  [(62, 2000-11-21 15:29:58, 1, 15), (469, 2000-...\n",
       "2        3  [(589, 1999-12-11 07:25:08, 5, 7), (1188, 1999...\n",
       "3        4  [(380, 1996-08-24 09:27:05, 5, 9), (165, 1996-...\n",
       "4        5  [(17, 1996-12-25 15:15:35, 2, 15), (62, 1996-1..."
      ]
     },
     "execution_count": 12,
     "metadata": {},
     "output_type": "execute_result"
    }
   ],
   "source": [
    "train_grouped = train_df.groupby('user_id').apply(\n",
    "    lambda x: [(t1, t2, t3, t4) for t1, t2, t3, t4 in sorted(zip(x.item_id, \n",
    "                                                                 x.timestamp,\n",
    "                                                                 x.weekday,\n",
    "                                                                 x.hour), key=lambda x: x[1])]\n",
    ").reset_index()\n",
    "train_grouped.rename({0:'train_interactions'}, axis=1, inplace=True)\n",
    "\n",
    "valid_grouped = valid_df.groupby('user_id').apply(\n",
    "    lambda x: [(t1, t2, t3, t4) for t1, t2, t3, t4 in sorted(zip(x.item_id,\n",
    "                                                         x.timestamp,\n",
    "                                                         x.weekday,\n",
    "                                                         x.hour), key=lambda x: x[1])]\n",
    ").reset_index()\n",
    "valid_grouped.rename({0:'valid_interactions'}, axis=1, inplace=True)\n",
    "\n",
    "test_grouped = test_df.groupby('user_id').apply(\n",
    "    lambda x: [(t1, t2, t3, t4) for t1, t2, t3, t4 in sorted(zip(x.item_id,\n",
    "                                                         x.timestamp,\n",
    "                                                         x.weekday,\n",
    "                                                         x.hour), key=lambda x: x[1])]\n",
    ").reset_index()\n",
    "test_grouped.rename({0:'test_interactions'}, axis=1, inplace=True)\n",
    "\n",
    "\n",
    "train_grouped.head()"
   ]
  },
  {
   "cell_type": "code",
   "execution_count": 13,
   "id": "kwtDZAHBvQfj",
   "metadata": {
    "colab": {
     "base_uri": "https://localhost:8080/",
     "height": 327
    },
    "id": "kwtDZAHBvQfj",
    "outputId": "31d656c1-9442-4216-b712-b7ee4ba13cd4"
   },
   "outputs": [
    {
     "data": {
      "text/html": [
       "\n",
       "  <div id=\"df-33cdd4cb-b57b-45c7-9f5c-f5c106679161\">\n",
       "    <div class=\"colab-df-container\">\n",
       "      <div>\n",
       "<style scoped>\n",
       "    .dataframe tbody tr th:only-of-type {\n",
       "        vertical-align: middle;\n",
       "    }\n",
       "\n",
       "    .dataframe tbody tr th {\n",
       "        vertical-align: top;\n",
       "    }\n",
       "\n",
       "    .dataframe thead th {\n",
       "        text-align: right;\n",
       "    }\n",
       "</style>\n",
       "<table border=\"1\" class=\"dataframe\">\n",
       "  <thead>\n",
       "    <tr style=\"text-align: right;\">\n",
       "      <th></th>\n",
       "      <th>user_id</th>\n",
       "      <th>train_interactions</th>\n",
       "      <th>valid_interactions</th>\n",
       "      <th>test_interactions</th>\n",
       "    </tr>\n",
       "  </thead>\n",
       "  <tbody>\n",
       "    <tr>\n",
       "      <th>0</th>\n",
       "      <td>1</td>\n",
       "      <td>[(924, 2004-09-10 03:06:38, 4, 3), (919, 2004-...</td>\n",
       "      <td>[(1333, 2005-04-02 23:36:30, 5, 23), (2644, 20...</td>\n",
       "      <td>[(31696, 2005-04-02 23:49:08, 5, 23), (2193, 2...</td>\n",
       "    </tr>\n",
       "    <tr>\n",
       "      <th>1</th>\n",
       "      <td>2</td>\n",
       "      <td>[(62, 2000-11-21 15:29:58, 1, 15), (469, 2000-...</td>\n",
       "      <td>[(242, 2000-11-21 15:32:56, 1, 15), (1673, 200...</td>\n",
       "      <td>[(1544, 2000-11-21 15:35:43, 1, 15), (1971, 20...</td>\n",
       "    </tr>\n",
       "    <tr>\n",
       "      <th>2</th>\n",
       "      <td>3</td>\n",
       "      <td>[(589, 1999-12-11 07:25:08, 5, 7), (1188, 1999...</td>\n",
       "      <td>[(2371, 1999-12-11 13:28:35, 5, 13), (1097, 19...</td>\n",
       "      <td>[(2009, 1999-12-14 12:48:50, 1, 12), (2640, 19...</td>\n",
       "    </tr>\n",
       "    <tr>\n",
       "      <th>3</th>\n",
       "      <td>4</td>\n",
       "      <td>[(380, 1996-08-24 09:27:05, 5, 9), (165, 1996-...</td>\n",
       "      <td>[(350, 1996-08-24 09:31:27, 5, 9), (440, 1996-...</td>\n",
       "      <td>[(520, 1996-08-24 09:34:42, 5, 9), (733, 1996-...</td>\n",
       "    </tr>\n",
       "    <tr>\n",
       "      <th>4</th>\n",
       "      <td>5</td>\n",
       "      <td>[(17, 1996-12-25 15:15:35, 2, 15), (62, 1996-1...</td>\n",
       "      <td>[(260, 1996-12-25 15:26:48, 2, 15), (318, 1996...</td>\n",
       "      <td>[(377, 1996-12-25 15:28:43, 2, 15), (454, 1996...</td>\n",
       "    </tr>\n",
       "  </tbody>\n",
       "</table>\n",
       "</div>\n",
       "      <button class=\"colab-df-convert\" onclick=\"convertToInteractive('df-33cdd4cb-b57b-45c7-9f5c-f5c106679161')\"\n",
       "              title=\"Convert this dataframe to an interactive table.\"\n",
       "              style=\"display:none;\">\n",
       "        \n",
       "  <svg xmlns=\"http://www.w3.org/2000/svg\" height=\"24px\"viewBox=\"0 0 24 24\"\n",
       "       width=\"24px\">\n",
       "    <path d=\"M0 0h24v24H0V0z\" fill=\"none\"/>\n",
       "    <path d=\"M18.56 5.44l.94 2.06.94-2.06 2.06-.94-2.06-.94-.94-2.06-.94 2.06-2.06.94zm-11 1L8.5 8.5l.94-2.06 2.06-.94-2.06-.94L8.5 2.5l-.94 2.06-2.06.94zm10 10l.94 2.06.94-2.06 2.06-.94-2.06-.94-.94-2.06-.94 2.06-2.06.94z\"/><path d=\"M17.41 7.96l-1.37-1.37c-.4-.4-.92-.59-1.43-.59-.52 0-1.04.2-1.43.59L10.3 9.45l-7.72 7.72c-.78.78-.78 2.05 0 2.83L4 21.41c.39.39.9.59 1.41.59.51 0 1.02-.2 1.41-.59l7.78-7.78 2.81-2.81c.8-.78.8-2.07 0-2.86zM5.41 20L4 18.59l7.72-7.72 1.47 1.35L5.41 20z\"/>\n",
       "  </svg>\n",
       "      </button>\n",
       "      \n",
       "  <style>\n",
       "    .colab-df-container {\n",
       "      display:flex;\n",
       "      flex-wrap:wrap;\n",
       "      gap: 12px;\n",
       "    }\n",
       "\n",
       "    .colab-df-convert {\n",
       "      background-color: #E8F0FE;\n",
       "      border: none;\n",
       "      border-radius: 50%;\n",
       "      cursor: pointer;\n",
       "      display: none;\n",
       "      fill: #1967D2;\n",
       "      height: 32px;\n",
       "      padding: 0 0 0 0;\n",
       "      width: 32px;\n",
       "    }\n",
       "\n",
       "    .colab-df-convert:hover {\n",
       "      background-color: #E2EBFA;\n",
       "      box-shadow: 0px 1px 2px rgba(60, 64, 67, 0.3), 0px 1px 3px 1px rgba(60, 64, 67, 0.15);\n",
       "      fill: #174EA6;\n",
       "    }\n",
       "\n",
       "    [theme=dark] .colab-df-convert {\n",
       "      background-color: #3B4455;\n",
       "      fill: #D2E3FC;\n",
       "    }\n",
       "\n",
       "    [theme=dark] .colab-df-convert:hover {\n",
       "      background-color: #434B5C;\n",
       "      box-shadow: 0px 1px 3px 1px rgba(0, 0, 0, 0.15);\n",
       "      filter: drop-shadow(0px 1px 2px rgba(0, 0, 0, 0.3));\n",
       "      fill: #FFFFFF;\n",
       "    }\n",
       "  </style>\n",
       "\n",
       "      <script>\n",
       "        const buttonEl =\n",
       "          document.querySelector('#df-33cdd4cb-b57b-45c7-9f5c-f5c106679161 button.colab-df-convert');\n",
       "        buttonEl.style.display =\n",
       "          google.colab.kernel.accessAllowed ? 'block' : 'none';\n",
       "\n",
       "        async function convertToInteractive(key) {\n",
       "          const element = document.querySelector('#df-33cdd4cb-b57b-45c7-9f5c-f5c106679161');\n",
       "          const dataTable =\n",
       "            await google.colab.kernel.invokeFunction('convertToInteractive',\n",
       "                                                     [key], {});\n",
       "          if (!dataTable) return;\n",
       "\n",
       "          const docLinkHtml = 'Like what you see? Visit the ' +\n",
       "            '<a target=\"_blank\" href=https://colab.research.google.com/notebooks/data_table.ipynb>data table notebook</a>'\n",
       "            + ' to learn more about interactive tables.';\n",
       "          element.innerHTML = '';\n",
       "          dataTable['output_type'] = 'display_data';\n",
       "          await google.colab.output.renderOutput(dataTable, element);\n",
       "          const docLink = document.createElement('div');\n",
       "          docLink.innerHTML = docLinkHtml;\n",
       "          element.appendChild(docLink);\n",
       "        }\n",
       "      </script>\n",
       "    </div>\n",
       "  </div>\n",
       "  "
      ],
      "text/plain": [
       "   user_id                                 train_interactions  \\\n",
       "0        1  [(924, 2004-09-10 03:06:38, 4, 3), (919, 2004-...   \n",
       "1        2  [(62, 2000-11-21 15:29:58, 1, 15), (469, 2000-...   \n",
       "2        3  [(589, 1999-12-11 07:25:08, 5, 7), (1188, 1999...   \n",
       "3        4  [(380, 1996-08-24 09:27:05, 5, 9), (165, 1996-...   \n",
       "4        5  [(17, 1996-12-25 15:15:35, 2, 15), (62, 1996-1...   \n",
       "\n",
       "                                  valid_interactions  \\\n",
       "0  [(1333, 2005-04-02 23:36:30, 5, 23), (2644, 20...   \n",
       "1  [(242, 2000-11-21 15:32:56, 1, 15), (1673, 200...   \n",
       "2  [(2371, 1999-12-11 13:28:35, 5, 13), (1097, 19...   \n",
       "3  [(350, 1996-08-24 09:31:27, 5, 9), (440, 1996-...   \n",
       "4  [(260, 1996-12-25 15:26:48, 2, 15), (318, 1996...   \n",
       "\n",
       "                                   test_interactions  \n",
       "0  [(31696, 2005-04-02 23:49:08, 5, 23), (2193, 2...  \n",
       "1  [(1544, 2000-11-21 15:35:43, 1, 15), (1971, 20...  \n",
       "2  [(2009, 1999-12-14 12:48:50, 1, 12), (2640, 19...  \n",
       "3  [(520, 1996-08-24 09:34:42, 5, 9), (733, 1996-...  \n",
       "4  [(377, 1996-12-25 15:28:43, 2, 15), (454, 1996...  "
      ]
     },
     "execution_count": 13,
     "metadata": {},
     "output_type": "execute_result"
    }
   ],
   "source": [
    "joined = train_grouped.merge(valid_grouped).merge(test_grouped)\n",
    "joined.head()"
   ]
  },
  {
   "cell_type": "code",
   "execution_count": 14,
   "id": "1KwFjkQWvVC3",
   "metadata": {
    "colab": {
     "base_uri": "https://localhost:8080/"
    },
    "id": "1KwFjkQWvVC3",
    "outputId": "08930210-5f0e-43d6-c05e-4ff526e9b9ba"
   },
   "outputs": [
    {
     "name": "stderr",
     "output_type": "stream",
     "text": [
      "8206it [00:00, 17131.61it/s]\n"
     ]
    },
    {
     "data": {
      "text/plain": [
       "10687"
      ]
     },
     "execution_count": 14,
     "metadata": {},
     "output_type": "execute_result"
    }
   ],
   "source": [
    "our_items = set()\n",
    "for idx, row in tqdm(joined.iterrows()):\n",
    "    for el in row.train_interactions:\n",
    "        our_items.add(el[0])\n",
    "        \n",
    "len(our_items)"
   ]
  },
  {
   "cell_type": "code",
   "execution_count": 15,
   "id": "56hqT3AivYow",
   "metadata": {
    "id": "56hqT3AivYow"
   },
   "outputs": [],
   "source": [
    "item2idx = {k: i for i, k in enumerate(our_items)}\n",
    "idx2item = {i: k for k, i in item2idx.items()}"
   ]
  },
  {
   "cell_type": "code",
   "execution_count": 16,
   "id": "wt3NQLmQvai0",
   "metadata": {
    "colab": {
     "base_uri": "https://localhost:8080/"
    },
    "id": "wt3NQLmQvai0",
    "outputId": "82a266d4-62a4-43bf-cfa6-9398dfedd63a"
   },
   "outputs": [
    {
     "name": "stdout",
     "output_type": "stream",
     "text": [
      "8206 8206\n"
     ]
    }
   ],
   "source": [
    "n_items = len(item2idx)\n",
    "\n",
    "train = MyDataset(ds=joined,\n",
    "                  num_items=n_items, \n",
    "                  item2idx=item2idx,\n",
    "                  phase='train')\n",
    "\n",
    "valid = MyDataset(ds=joined,\n",
    "                  num_items=n_items,\n",
    "                  item2idx=item2idx,\n",
    "                  phase='valid')\n",
    "\n",
    "print(len(train),len(valid))"
   ]
  },
  {
   "cell_type": "code",
   "execution_count": 17,
   "id": "5As9hPyxvcPD",
   "metadata": {
    "id": "5As9hPyxvcPD"
   },
   "outputs": [],
   "source": [
    "loaders = {\n",
    "        \"train\": DataLoader(train, batch_size=256, collate_fn=collate_fn_train),\n",
    "        \"valid\": DataLoader(valid, batch_size=256, collate_fn=collate_fn_valid),\n",
    "}"
   ]
  },
  {
   "cell_type": "code",
   "execution_count": 19,
   "id": "qOL290Kovevf",
   "metadata": {
    "colab": {
     "base_uri": "https://localhost:8080/",
     "height": 1000,
     "referenced_widgets": [
      "a6c358c63a6a45219953e7a308a906a4",
      "f09129781de24c44a3081c448f87e819",
      "0ce90e7c5401418f86ed2ad8185bbe74",
      "9304e70c355043d6b196b8ea43a0ddba",
      "96fe43504a5342d29ae63b04c870f700",
      "d517b34eec12428f90a3d7bc2184b788",
      "25e209936fff4dd38653123e699f29bc",
      "15c770da59d44cdd8f3d88b2dfe314e5",
      "ca04a613370d491c827f4e0b5071a1a1",
      "f6f877e737714ce7b24f20d94e9e054d",
      "4f0ff176229849e79b3ede66c06ff941",
      "9b14eae2aaec48b999c0fda463cf5cb2",
      "b0cb32c73d2f47a48fa74f122982d3f6",
      "e01cf4605c6647af9e3ae02c9b8d88cf",
      "0c4632053bf0407ba70a2243e617e002",
      "fa18ba6bd93c4a7fbcc5f06258ed7fde",
      "f183d16709704eff8c764fe59ea81175",
      "5c9169af721649b4a99915556e0583c7",
      "e77a2f7db8a7409286ab136832c7552f",
      "5d0c4e13fc76426b9d3e755b377e9cd8",
      "af318da5ea104d00bed407c3e1453036",
      "2fbcb1930c84498a9050ef09c11da0a5",
      "9bb42397294444d6a3d9cd6b62f26eba",
      "37a8789fab8e40ab8210a70db76c0aee",
      "55946c0069804d28903424e44cbd9bcb",
      "506dc5d9574c4ed6a8a17dd9a6fccda5",
      "df6dabd7638a468ab2ddb489a3e5933a",
      "3725b1e1c7ed40b3a7a627450acaa741",
      "d5811d0cccbd4cfdb6dc1d9cb6beebe7",
      "e8161ff8b4a34dc1b4a9eda13f6525ef",
      "f1c6b92d01e04e80a81116d922f18197",
      "a4825b58bfcf4b5d87cb6ebb79a30f01",
      "c90df0a46629445f979838418154b438",
      "ed890ab60df041ce83112b6b10950638",
      "5abecd8c85d84a19a08c1340270a5910",
      "27b0c1c6012e4982b9ad33cb576ad71c",
      "c5201c3fcf26461da1a4a8386ce60ebc",
      "b65d5ad3a31942cb8593cf58fa66ccdf",
      "ec6efb9f54e94724acd7cb6ca0bbe679",
      "11be6f09fdf74312b76624a42e092f9a",
      "2dc3f348c206410f83f5e0dc63acd48f",
      "b2e2882e6f42428c8d7f0a943f74ec77",
      "6cf0e99447e94c4da64d4068ddc8a016",
      "9d1e47ef61da4152b4dc2d22c6f97c47",
      "30b2e6b287e64a66b4b1db5b25f39003",
      "6ba9c0f7584b487585dfea7d288c1514",
      "24100e90f8494499a9eb442411382cbb",
      "e901143619d14193bae56f75653f33a0",
      "e0dab9f6aec34413b53bc26e9847133f",
      "3b28ec0c07c941e9b46fce4b17e5b922",
      "ea539ef104d444c1b50a85b6542f2fe3",
      "cf3998c144704702b9260c55b1dae538",
      "61d2f96afad84af2b0279c0cbc059716",
      "b4ac3ec7027d4eafbab2174a786d467b",
      "f3f533bb94fe4066b8294f1d92a39ea4",
      "ec42e1fd1c9a40aa8da288bc370d2a0e",
      "04b2ddeb611c41858118adb6fe5e98c0",
      "b27316b089a34a52b6c23d4356479175",
      "0bdcffb092d94e10b3717b4fd1bdf8a8",
      "3369c29a45f443b6a769c7564732e8af",
      "c8f357303c224ae8a16eb8fb3f4efba1",
      "12f41d8d31a54b39899fd3bc9586a4fe",
      "0062093301134b0a9eef4008b867dc79",
      "35f05511e51e4fea8db95fe375e58584",
      "faf62267853047aeb97ccb15c62a77bb",
      "51dba9a2f52f4f72b5bdcdb9fdba6607",
      "a9a869af666940528ab912f0c351b203",
      "1283dd6a977a4a14ad530b68a2a4f2f5",
      "4e23784e0382402a9ce4492cf78f266a",
      "71bd1acec91a459f861a6b7dc4e2987e",
      "70bc990d388d4ec79c405f3d47c99fad",
      "dc2593440e6f489ba56ad4e1eeafe07f",
      "0ba24dcce10249cc95defceeb2799519",
      "c9718913e23c43539d0faa6507e213c4",
      "25517e0192f04541974d0702b8b5f1ef",
      "9c0a35e939b844d7b7533cbff7ea8635",
      "d6af1cc58a0e481cad346e244378c2c9",
      "08bf16d5cb214b9c8a23b662c886f19b",
      "5928e645d62440dc983fe404392fb89c",
      "2b046aac0c044bc99ab478dd9e2d6b4c",
      "9d348e339ef646e5965032c690bec6e7",
      "31dff7655d514ec4bd46f58154085794",
      "adee5f518729491daaa36e5c23a2f791",
      "2ba4917d558748dd89d90fb708eba795",
      "51e834de758a4c778b80114ab08e306d",
      "92d75a12f5de40fdbd7b001100775940",
      "92df17d67e824527ac520c7425e939d8",
      "320655fc40134a4ea41df0dff94c2ce5",
      "69a80dc0e288471182f7d538a0c1c806",
      "b3b4acdae932491dac1739500641b24e",
      "821673b133c14a2f8f7f37aacccb3f26",
      "6acdf130759842e1ac3019f672c6b73d",
      "c0eb2c1081b1405db040fe0f161a93a0",
      "4ae616d251b440c4800de21adb8ba254",
      "2b064fc1ee144a26bbd3985563c39d3e",
      "fd08d428a191490aad0633b2a646c268",
      "3db4501694e047638e8b5e4eff147e33",
      "176afa8789354e2fa69a611192f3012d",
      "3fb1dc36724147b5a6f23930cadbe056",
      "a67c8bb94300431cb7f683039c76aaf7",
      "fc1c441149d24e7c8a7ca532d7697919",
      "f8e9e344d7724432844551b4e737a91b",
      "89d503a203914472815978718b2ee7d6",
      "92897a5f15254f4796479e5483936767",
      "043fe2f8717d4faa878f8e292c95fd79",
      "57d219e425c648b7acbb285804920355",
      "7d655b3243694ac99096f1bc379e4bc1",
      "4b1cb4f28f494cd89192e1c170987e8d",
      "3676cc068b42462589d0fffa89767143",
      "1ef8eeb51b9143b2862790be40cfe833",
      "1903f948b6b240aea88277a704ff2e8a",
      "9b8ea19f64c440b681b52e526e2073e7",
      "2b83c101fb794a6ea584d66a8fd35704",
      "4cd99ff555ca4479ad9708a63789348c",
      "16a05d70cb8545af81df38f06b67fae0",
      "55a40285b9744df9a3bf2cd67fc83b2a",
      "f27dba0401134a6184ee0a0e9d08f5c9",
      "ec255e92b9ec472abdeb744e76ae8ba9",
      "98aab45965954e7cbb47e6d3afe15739",
      "bf6516b40d47499790f21ca0ae6e5829",
      "6d52b0bf2391423ba980fc715a729d0b",
      "4035a6a349ab4fe3863bbdfb44fe6e2b",
      "933c22c674d24ea79368c0e5f56e3812",
      "9f1e7e451c0c4d2b9e1845c1d4b8c09c",
      "f92667391711402da67e8391cfa564d8",
      "a3fc7a3ddd034373b28cb1417acfb66b",
      "8c46b4d821c64597a09c56646160217b",
      "db662d2023234605a32cb0d59301272f",
      "8e1fd7dc1cce4743b7f3999cec5b51d5",
      "25a1d2648c054e6b853e4d11c97b7b2b",
      "aecbe875780d4e1da517814ac4d34a63",
      "6f46c16a884642d7b64edf0210899cf7",
      "38747d8dc8ef45c1bd7a75d3e6321eef",
      "4f80a6b551504906a8df14d51c2a6a51",
      "a9a855903429447987ad437c26eede0f",
      "3d4a04ecf01849d288a15ae3c1e218af",
      "bd6017ae0ed0405eb9e7d341266557a7",
      "27e4e08436f349e0b6523057164494c4",
      "0149e9bc51e14c048854c073c1593f56",
      "4aad579c700e423dbc54b19099d3b17a",
      "c522c6896e25487b9e41cef8d4b659ef",
      "af863c4bd9bb45a99a12e098ffc39248",
      "60333b13499040b0be50dba42e1eb2f6",
      "e5eba07e624947a19a9c7ee361ad9c97",
      "7c02b75ba6c344a29e13c5acdd83e790",
      "6f6d54321e6544de854a3cd1be188e25",
      "aa9dcac515da49aabd76136f9bbabf0a",
      "13469373964845519ff31669ddc0a3b4",
      "5eeda95196e0480f9d57b70f37c94f2a",
      "f4805ff643004c6788b19351e7170d55",
      "6bf0ab7cb82549119f3356a63f37d69a",
      "3737ee01c5584f3fa8b8d82fe765690d",
      "b36860c118964dfe99985b0c7aeb086d",
      "bc1efd7c55db495d87114ea905647fbd",
      "5d08e7d510ed4211a0b8f4fd2173f57b",
      "a7aa56c50f2a49c19a7cb747b63b93e2",
      "66851f18df614f1b909c3b97200816a6",
      "4f5e3b8ed43e4d08be7319c92f75163c",
      "61270d10b71646eba98cadae80055651",
      "e78f82ab61bb43868a81febd94452369",
      "ce665617764e476b97556b5e8d33c5cf",
      "5317fe4b986c4c1090af57afa18052a0",
      "b74d34218f814166a8499ae748d0e160",
      "cbcde15f44fe465e831e9f1c55fbbf0b",
      "26e916f860b34d99ac0dc336154cd327",
      "73f9dce631e44d9f90c31842667e6539",
      "a606c07cac7d4bf5abc5ab45dcfad295",
      "6fbc49b396e249e995231b020c989cc4",
      "fc049e1b7b7944658c897020df0c06dc",
      "91e86cd48878402baa089ba47bdefc53",
      "8efc084da2d74f9ca1f6606c2e211199",
      "99d259b5cc0443308cc1e7cc2b920196",
      "722482e3a85146198e8303c1ae65dfcb",
      "9f480c68872c4f27a65841c079e0e12e",
      "499ca2fc4d2a4e2e95cf0ea1147f6d25",
      "548b2e4e29a24a35a89ddc01aa0fc4ad"
     ]
    },
    "id": "qOL290Kovevf",
    "outputId": "de688cd2-7370-4fd6-cd0f-98c30e0c47b4"
   },
   "outputs": [
    {
     "data": {
      "application/vnd.jupyter.widget-view+json": {
       "model_id": "a6c358c63a6a45219953e7a308a906a4",
       "version_major": 2,
       "version_minor": 0
      },
      "text/plain": [
       "1/100 * Epoch (train):   0%|          | 0/33 [00:00<?, ?it/s]"
      ]
     },
     "metadata": {},
     "output_type": "display_data"
    },
    {
     "name": "stdout",
     "output_type": "stream",
     "text": [
      "train (1/100) loss: 8.496378980553388 | lr: 0.001 | map10: 0.0 | map10/std: 0.0 | momentum: 0.9 | ndcg20: 0.0 | ndcg20/std: 0.0\n"
     ]
    },
    {
     "data": {
      "application/vnd.jupyter.widget-view+json": {
       "model_id": "9b14eae2aaec48b999c0fda463cf5cb2",
       "version_major": 2,
       "version_minor": 0
      },
      "text/plain": [
       "1/100 * Epoch (valid):   0%|          | 0/33 [00:00<?, ?it/s]"
      ]
     },
     "metadata": {},
     "output_type": "display_data"
    },
    {
     "name": "stdout",
     "output_type": "stream",
     "text": [
      "valid (1/100) loss: 7.777362663804572 | lr: 0.001 | map10: 0.14799357819217254 | map10/std: 0.012865003862810535 | momentum: 0.9 | ndcg20: 0.09101858137294834 | ndcg20/std: 0.007402617064773018\n",
      "* Epoch (1/100) \n"
     ]
    },
    {
     "data": {
      "application/vnd.jupyter.widget-view+json": {
       "model_id": "9bb42397294444d6a3d9cd6b62f26eba",
       "version_major": 2,
       "version_minor": 0
      },
      "text/plain": [
       "2/100 * Epoch (train):   0%|          | 0/33 [00:00<?, ?it/s]"
      ]
     },
     "metadata": {},
     "output_type": "display_data"
    },
    {
     "name": "stdout",
     "output_type": "stream",
     "text": [
      "train (2/100) loss: 7.70370861660583 | lr: 0.001 | map10: 0.0 | map10/std: 0.0 | momentum: 0.9 | ndcg20: 0.0 | ndcg20/std: 0.0\n"
     ]
    },
    {
     "data": {
      "application/vnd.jupyter.widget-view+json": {
       "model_id": "ed890ab60df041ce83112b6b10950638",
       "version_major": 2,
       "version_minor": 0
      },
      "text/plain": [
       "2/100 * Epoch (valid):   0%|          | 0/33 [00:00<?, ?it/s]"
      ]
     },
     "metadata": {},
     "output_type": "display_data"
    },
    {
     "name": "stdout",
     "output_type": "stream",
     "text": [
      "valid (2/100) loss: 7.6228358832156395 | lr: 0.001 | map10: 0.19103014178604957 | map10/std: 0.01735934915483261 | momentum: 0.9 | ndcg20: 0.10789887433498915 | ndcg20/std: 0.00882537828148296\n",
      "* Epoch (2/100) \n"
     ]
    },
    {
     "data": {
      "application/vnd.jupyter.widget-view+json": {
       "model_id": "30b2e6b287e64a66b4b1db5b25f39003",
       "version_major": 2,
       "version_minor": 0
      },
      "text/plain": [
       "3/100 * Epoch (train):   0%|          | 0/33 [00:00<?, ?it/s]"
      ]
     },
     "metadata": {},
     "output_type": "display_data"
    },
    {
     "name": "stdout",
     "output_type": "stream",
     "text": [
      "train (3/100) loss: 7.6530763113350515 | lr: 0.001 | map10: 0.0 | map10/std: 0.0 | momentum: 0.9 | ndcg20: 0.0 | ndcg20/std: 0.0\n"
     ]
    },
    {
     "data": {
      "application/vnd.jupyter.widget-view+json": {
       "model_id": "ec42e1fd1c9a40aa8da288bc370d2a0e",
       "version_major": 2,
       "version_minor": 0
      },
      "text/plain": [
       "3/100 * Epoch (valid):   0%|          | 0/33 [00:00<?, ?it/s]"
      ]
     },
     "metadata": {},
     "output_type": "display_data"
    },
    {
     "name": "stdout",
     "output_type": "stream",
     "text": [
      "valid (3/100) loss: 7.611356867251674 | lr: 0.001 | map10: 0.1932823489584227 | map10/std: 0.017535697742240484 | momentum: 0.9 | ndcg20: 0.10950807014050319 | ndcg20/std: 0.008867709355392913\n",
      "* Epoch (3/100) \n"
     ]
    },
    {
     "data": {
      "application/vnd.jupyter.widget-view+json": {
       "model_id": "a9a869af666940528ab912f0c351b203",
       "version_major": 2,
       "version_minor": 0
      },
      "text/plain": [
       "4/100 * Epoch (train):   0%|          | 0/33 [00:00<?, ?it/s]"
      ]
     },
     "metadata": {},
     "output_type": "display_data"
    },
    {
     "name": "stdout",
     "output_type": "stream",
     "text": [
      "train (4/100) loss: 7.633368407985567 | lr: 0.001 | map10: 0.0 | map10/std: 0.0 | momentum: 0.9 | ndcg20: 0.0 | ndcg20/std: 0.0\n"
     ]
    },
    {
     "data": {
      "application/vnd.jupyter.widget-view+json": {
       "model_id": "08bf16d5cb214b9c8a23b662c886f19b",
       "version_major": 2,
       "version_minor": 0
      },
      "text/plain": [
       "4/100 * Epoch (valid):   0%|          | 0/33 [00:00<?, ?it/s]"
      ]
     },
     "metadata": {},
     "output_type": "display_data"
    },
    {
     "name": "stdout",
     "output_type": "stream",
     "text": [
      "valid (4/100) loss: 7.560684899542352 | lr: 0.001 | map10: 0.18905434874595736 | map10/std: 0.015155221281780868 | momentum: 0.9 | ndcg20: 0.10855443892960079 | ndcg20/std: 0.008162979050189595\n",
      "* Epoch (4/100) \n"
     ]
    },
    {
     "data": {
      "application/vnd.jupyter.widget-view+json": {
       "model_id": "69a80dc0e288471182f7d538a0c1c806",
       "version_major": 2,
       "version_minor": 0
      },
      "text/plain": [
       "5/100 * Epoch (train):   0%|          | 0/33 [00:00<?, ?it/s]"
      ]
     },
     "metadata": {},
     "output_type": "display_data"
    },
    {
     "name": "stdout",
     "output_type": "stream",
     "text": [
      "train (5/100) loss: 7.593636268352607 | lr: 0.001 | map10: 0.0 | map10/std: 0.0 | momentum: 0.9 | ndcg20: 0.0 | ndcg20/std: 0.0\n"
     ]
    },
    {
     "data": {
      "application/vnd.jupyter.widget-view+json": {
       "model_id": "a67c8bb94300431cb7f683039c76aaf7",
       "version_major": 2,
       "version_minor": 0
      },
      "text/plain": [
       "5/100 * Epoch (valid):   0%|          | 0/33 [00:00<?, ?it/s]"
      ]
     },
     "metadata": {},
     "output_type": "display_data"
    },
    {
     "name": "stdout",
     "output_type": "stream",
     "text": [
      "valid (5/100) loss: 7.534947544663179 | lr: 0.001 | map10: 0.18791979694770308 | map10/std: 0.016165007245644913 | momentum: 0.9 | ndcg20: 0.1127816576173821 | ndcg20/std: 0.008572870103740717\n",
      "* Epoch (5/100) \n"
     ]
    },
    {
     "data": {
      "application/vnd.jupyter.widget-view+json": {
       "model_id": "1903f948b6b240aea88277a704ff2e8a",
       "version_major": 2,
       "version_minor": 0
      },
      "text/plain": [
       "6/100 * Epoch (train):   0%|          | 0/33 [00:00<?, ?it/s]"
      ]
     },
     "metadata": {},
     "output_type": "display_data"
    },
    {
     "name": "stdout",
     "output_type": "stream",
     "text": [
      "train (6/100) loss: 7.545734883633119 | lr: 0.001 | map10: 0.0 | map10/std: 0.0 | momentum: 0.9 | ndcg20: 0.0 | ndcg20/std: 0.0\n"
     ]
    },
    {
     "data": {
      "application/vnd.jupyter.widget-view+json": {
       "model_id": "4035a6a349ab4fe3863bbdfb44fe6e2b",
       "version_major": 2,
       "version_minor": 0
      },
      "text/plain": [
       "6/100 * Epoch (valid):   0%|          | 0/33 [00:00<?, ?it/s]"
      ]
     },
     "metadata": {},
     "output_type": "display_data"
    },
    {
     "name": "stdout",
     "output_type": "stream",
     "text": [
      "valid (6/100) loss: 7.482424789133986 | lr: 0.001 | map10: 0.18129383857413497 | map10/std: 0.019123218893135056 | momentum: 0.9 | ndcg20: 0.11461987464988115 | ndcg20/std: 0.009981303490654948\n",
      "* Epoch (6/100) \n"
     ]
    },
    {
     "data": {
      "application/vnd.jupyter.widget-view+json": {
       "model_id": "38747d8dc8ef45c1bd7a75d3e6321eef",
       "version_major": 2,
       "version_minor": 0
      },
      "text/plain": [
       "7/100 * Epoch (train):   0%|          | 0/33 [00:00<?, ?it/s]"
      ]
     },
     "metadata": {},
     "output_type": "display_data"
    },
    {
     "name": "stdout",
     "output_type": "stream",
     "text": [
      "train (7/100) loss: 7.507130745356181 | lr: 0.001 | map10: 0.0 | map10/std: 0.0 | momentum: 0.9 | ndcg20: 0.0 | ndcg20/std: 0.0\n"
     ]
    },
    {
     "data": {
      "application/vnd.jupyter.widget-view+json": {
       "model_id": "e5eba07e624947a19a9c7ee361ad9c97",
       "version_major": 2,
       "version_minor": 0
      },
      "text/plain": [
       "7/100 * Epoch (valid):   0%|          | 0/33 [00:00<?, ?it/s]"
      ]
     },
     "metadata": {},
     "output_type": "display_data"
    },
    {
     "name": "stdout",
     "output_type": "stream",
     "text": [
      "valid (7/100) loss: 7.430047239526261 | lr: 0.001 | map10: 0.18308867126260187 | map10/std: 0.016741962075944316 | momentum: 0.9 | ndcg20: 0.12042275967465474 | ndcg20/std: 0.009436161832236842\n",
      "* Epoch (7/100) \n"
     ]
    },
    {
     "data": {
      "application/vnd.jupyter.widget-view+json": {
       "model_id": "5d08e7d510ed4211a0b8f4fd2173f57b",
       "version_major": 2,
       "version_minor": 0
      },
      "text/plain": [
       "8/100 * Epoch (train):   0%|          | 0/33 [00:00<?, ?it/s]"
      ]
     },
     "metadata": {},
     "output_type": "display_data"
    },
    {
     "name": "stdout",
     "output_type": "stream",
     "text": [
      "train (8/100) loss: 7.440169526517842 | lr: 0.001 | map10: 0.0 | map10/std: 0.0 | momentum: 0.9 | ndcg20: 0.0 | ndcg20/std: 0.0\n"
     ]
    },
    {
     "data": {
      "application/vnd.jupyter.widget-view+json": {
       "model_id": "73f9dce631e44d9f90c31842667e6539",
       "version_major": 2,
       "version_minor": 0
      },
      "text/plain": [
       "8/100 * Epoch (valid):   0%|          | 0/33 [00:00<?, ?it/s]"
      ]
     },
     "metadata": {},
     "output_type": "display_data"
    },
    {
     "name": "stdout",
     "output_type": "stream",
     "text": [
      "valid (8/100) loss: 7.3662638084324215 | lr: 0.001 | map10: 0.1884498508375155 | map10/std: 0.015223295459122996 | momentum: 0.9 | ndcg20: 0.1229966996342503 | ndcg20/std: 0.01039137608506247\n",
      "* Epoch (8/100) \n"
     ]
    }
   ],
   "source": [
    "\n",
    "model = ContextBERT4Rec(n_items=len(item2idx)+1, mask_ratio=0.2, hidden_size=64)\n",
    "\n",
    "optimizer = optim.Adam(model.parameters(), lr=0.001)\n",
    "lr_scheduler = StepLR(optimizer, step_size=20, gamma=0.1)\n",
    "engine = dl.DeviceEngine('cpu')\n",
    "hparams = {\n",
    "    \"anneal_cap\": 0.2,\n",
    "    \"total_anneal_steps\": 6000,\n",
    "}\n",
    "\n",
    "\n",
    "callbacks = [\n",
    "    dl.NDCGCallback(\"logits\", \"targets\", [20]),\n",
    "    dl.MAPCallback(\"logits\", \"targets\", [10]),\n",
    "    dl.OptimizerCallback(\"loss\", accumulation_steps=1),\n",
    "    dl.EarlyStoppingCallback(\n",
    "        patience=5, loader_key=\"valid\", metric_key=\"map10\", minimize=False\n",
    "    )\n",
    "]\n",
    "\n",
    "\n",
    "runner = RecSysRunner()\n",
    "runner.train(\n",
    "    model=model,\n",
    "    optimizer=optimizer,\n",
    "    engine=engine,\n",
    "    hparams=hparams,\n",
    "    scheduler=lr_scheduler,\n",
    "    loaders=loaders,\n",
    "    num_epochs=100,\n",
    "    verbose=True,\n",
    "    timeit=True,\n",
    "    callbacks=callbacks,\n",
    ")\n"
   ]
  },
  {
   "cell_type": "code",
   "execution_count": 20,
   "id": "75bBcv_sw7I-",
   "metadata": {
    "colab": {
     "base_uri": "https://localhost:8080/",
     "height": 462
    },
    "id": "75bBcv_sw7I-",
    "outputId": "41e61899-4a37-4038-ef0a-5c77f22790af"
   },
   "outputs": [
    {
     "name": "stderr",
     "output_type": "stream",
     "text": [
      "101it [00:19,  5.22it/s]\n"
     ]
    },
    {
     "name": "stdout",
     "output_type": "stream",
     "text": [
      "8206\n"
     ]
    },
    {
     "data": {
      "text/html": [
       "\n",
       "  <div id=\"df-d07c9de6-7487-4e89-b24e-26a2e60405cb\">\n",
       "    <div class=\"colab-df-container\">\n",
       "      <div>\n",
       "<style scoped>\n",
       "    .dataframe tbody tr th:only-of-type {\n",
       "        vertical-align: middle;\n",
       "    }\n",
       "\n",
       "    .dataframe tbody tr th {\n",
       "        vertical-align: top;\n",
       "    }\n",
       "\n",
       "    .dataframe thead th {\n",
       "        text-align: right;\n",
       "    }\n",
       "</style>\n",
       "<table border=\"1\" class=\"dataframe\">\n",
       "  <thead>\n",
       "    <tr style=\"text-align: right;\">\n",
       "      <th></th>\n",
       "      <th>user_id</th>\n",
       "      <th>train_interactions</th>\n",
       "      <th>valid_interactions</th>\n",
       "      <th>test_interactions</th>\n",
       "      <th>recs_contextbert4rec_10</th>\n",
       "      <th>recs_contextbert4rec_5</th>\n",
       "    </tr>\n",
       "  </thead>\n",
       "  <tbody>\n",
       "    <tr>\n",
       "      <th>0</th>\n",
       "      <td>1</td>\n",
       "      <td>[(924, 2004-09-10 03:06:38, 4, 3), (919, 2004-...</td>\n",
       "      <td>[(1333, 2005-04-02 23:36:30, 5, 23), (2644, 20...</td>\n",
       "      <td>[(31696, 2005-04-02 23:49:08, 5, 23), (2193, 2...</td>\n",
       "      <td>[2571, 2858, 1210, 356, 858, 527, 480, 2028, 1...</td>\n",
       "      <td>[2571, 2858, 1210, 356, 858]</td>\n",
       "    </tr>\n",
       "    <tr>\n",
       "      <th>1</th>\n",
       "      <td>2</td>\n",
       "      <td>[(62, 2000-11-21 15:29:58, 1, 15), (469, 2000-...</td>\n",
       "      <td>[(242, 2000-11-21 15:32:56, 1, 15), (1673, 200...</td>\n",
       "      <td>[(1544, 2000-11-21 15:35:43, 1, 15), (1971, 20...</td>\n",
       "      <td>[2571, 260, 593, 296, 1198, 356, 527, 318, 499...</td>\n",
       "      <td>[2571, 260, 593, 296, 1198]</td>\n",
       "    </tr>\n",
       "    <tr>\n",
       "      <th>2</th>\n",
       "      <td>3</td>\n",
       "      <td>[(589, 1999-12-11 07:25:08, 5, 7), (1188, 1999...</td>\n",
       "      <td>[(2371, 1999-12-11 13:28:35, 5, 13), (1097, 19...</td>\n",
       "      <td>[(2009, 1999-12-14 12:48:50, 1, 12), (2640, 19...</td>\n",
       "      <td>[296, 480, 356, 2571, 527, 110, 780, 2858, 608...</td>\n",
       "      <td>[296, 480, 356, 2571, 527]</td>\n",
       "    </tr>\n",
       "    <tr>\n",
       "      <th>3</th>\n",
       "      <td>4</td>\n",
       "      <td>[(380, 1996-08-24 09:27:05, 5, 9), (165, 1996-...</td>\n",
       "      <td>[(350, 1996-08-24 09:31:27, 5, 9), (440, 1996-...</td>\n",
       "      <td>[(520, 1996-08-24 09:34:42, 5, 9), (733, 1996-...</td>\n",
       "      <td>[153, 349, 592, 316, 590, 434, 344, 588, 292, ...</td>\n",
       "      <td>[153, 349, 592, 316, 590]</td>\n",
       "    </tr>\n",
       "    <tr>\n",
       "      <th>4</th>\n",
       "      <td>5</td>\n",
       "      <td>[(17, 1996-12-25 15:15:35, 2, 15), (62, 1996-1...</td>\n",
       "      <td>[(260, 1996-12-25 15:26:48, 2, 15), (318, 1996...</td>\n",
       "      <td>[(377, 1996-12-25 15:28:43, 2, 15), (454, 1996...</td>\n",
       "      <td>[296, 592, 588, 165, 344, 349, 153, 316, 318, ...</td>\n",
       "      <td>[296, 592, 588, 165, 344]</td>\n",
       "    </tr>\n",
       "  </tbody>\n",
       "</table>\n",
       "</div>\n",
       "      <button class=\"colab-df-convert\" onclick=\"convertToInteractive('df-d07c9de6-7487-4e89-b24e-26a2e60405cb')\"\n",
       "              title=\"Convert this dataframe to an interactive table.\"\n",
       "              style=\"display:none;\">\n",
       "        \n",
       "  <svg xmlns=\"http://www.w3.org/2000/svg\" height=\"24px\"viewBox=\"0 0 24 24\"\n",
       "       width=\"24px\">\n",
       "    <path d=\"M0 0h24v24H0V0z\" fill=\"none\"/>\n",
       "    <path d=\"M18.56 5.44l.94 2.06.94-2.06 2.06-.94-2.06-.94-.94-2.06-.94 2.06-2.06.94zm-11 1L8.5 8.5l.94-2.06 2.06-.94-2.06-.94L8.5 2.5l-.94 2.06-2.06.94zm10 10l.94 2.06.94-2.06 2.06-.94-2.06-.94-.94-2.06-.94 2.06-2.06.94z\"/><path d=\"M17.41 7.96l-1.37-1.37c-.4-.4-.92-.59-1.43-.59-.52 0-1.04.2-1.43.59L10.3 9.45l-7.72 7.72c-.78.78-.78 2.05 0 2.83L4 21.41c.39.39.9.59 1.41.59.51 0 1.02-.2 1.41-.59l7.78-7.78 2.81-2.81c.8-.78.8-2.07 0-2.86zM5.41 20L4 18.59l7.72-7.72 1.47 1.35L5.41 20z\"/>\n",
       "  </svg>\n",
       "      </button>\n",
       "      \n",
       "  <style>\n",
       "    .colab-df-container {\n",
       "      display:flex;\n",
       "      flex-wrap:wrap;\n",
       "      gap: 12px;\n",
       "    }\n",
       "\n",
       "    .colab-df-convert {\n",
       "      background-color: #E8F0FE;\n",
       "      border: none;\n",
       "      border-radius: 50%;\n",
       "      cursor: pointer;\n",
       "      display: none;\n",
       "      fill: #1967D2;\n",
       "      height: 32px;\n",
       "      padding: 0 0 0 0;\n",
       "      width: 32px;\n",
       "    }\n",
       "\n",
       "    .colab-df-convert:hover {\n",
       "      background-color: #E2EBFA;\n",
       "      box-shadow: 0px 1px 2px rgba(60, 64, 67, 0.3), 0px 1px 3px 1px rgba(60, 64, 67, 0.15);\n",
       "      fill: #174EA6;\n",
       "    }\n",
       "\n",
       "    [theme=dark] .colab-df-convert {\n",
       "      background-color: #3B4455;\n",
       "      fill: #D2E3FC;\n",
       "    }\n",
       "\n",
       "    [theme=dark] .colab-df-convert:hover {\n",
       "      background-color: #434B5C;\n",
       "      box-shadow: 0px 1px 3px 1px rgba(0, 0, 0, 0.15);\n",
       "      filter: drop-shadow(0px 1px 2px rgba(0, 0, 0, 0.3));\n",
       "      fill: #FFFFFF;\n",
       "    }\n",
       "  </style>\n",
       "\n",
       "      <script>\n",
       "        const buttonEl =\n",
       "          document.querySelector('#df-d07c9de6-7487-4e89-b24e-26a2e60405cb button.colab-df-convert');\n",
       "        buttonEl.style.display =\n",
       "          google.colab.kernel.accessAllowed ? 'block' : 'none';\n",
       "\n",
       "        async function convertToInteractive(key) {\n",
       "          const element = document.querySelector('#df-d07c9de6-7487-4e89-b24e-26a2e60405cb');\n",
       "          const dataTable =\n",
       "            await google.colab.kernel.invokeFunction('convertToInteractive',\n",
       "                                                     [key], {});\n",
       "          if (!dataTable) return;\n",
       "\n",
       "          const docLinkHtml = 'Like what you see? Visit the ' +\n",
       "            '<a target=\"_blank\" href=https://colab.research.google.com/notebooks/data_table.ipynb>data table notebook</a>'\n",
       "            + ' to learn more about interactive tables.';\n",
       "          element.innerHTML = '';\n",
       "          dataTable['output_type'] = 'display_data';\n",
       "          await google.colab.output.renderOutput(dataTable, element);\n",
       "          const docLink = document.createElement('div');\n",
       "          docLink.innerHTML = docLinkHtml;\n",
       "          element.appendChild(docLink);\n",
       "        }\n",
       "      </script>\n",
       "    </div>\n",
       "  </div>\n",
       "  "
      ],
      "text/plain": [
       "   user_id                                 train_interactions  \\\n",
       "0        1  [(924, 2004-09-10 03:06:38, 4, 3), (919, 2004-...   \n",
       "1        2  [(62, 2000-11-21 15:29:58, 1, 15), (469, 2000-...   \n",
       "2        3  [(589, 1999-12-11 07:25:08, 5, 7), (1188, 1999...   \n",
       "3        4  [(380, 1996-08-24 09:27:05, 5, 9), (165, 1996-...   \n",
       "4        5  [(17, 1996-12-25 15:15:35, 2, 15), (62, 1996-1...   \n",
       "\n",
       "                                  valid_interactions  \\\n",
       "0  [(1333, 2005-04-02 23:36:30, 5, 23), (2644, 20...   \n",
       "1  [(242, 2000-11-21 15:32:56, 1, 15), (1673, 200...   \n",
       "2  [(2371, 1999-12-11 13:28:35, 5, 13), (1097, 19...   \n",
       "3  [(350, 1996-08-24 09:31:27, 5, 9), (440, 1996-...   \n",
       "4  [(260, 1996-12-25 15:26:48, 2, 15), (318, 1996...   \n",
       "\n",
       "                                   test_interactions  \\\n",
       "0  [(31696, 2005-04-02 23:49:08, 5, 23), (2193, 2...   \n",
       "1  [(1544, 2000-11-21 15:35:43, 1, 15), (1971, 20...   \n",
       "2  [(2009, 1999-12-14 12:48:50, 1, 12), (2640, 19...   \n",
       "3  [(520, 1996-08-24 09:34:42, 5, 9), (733, 1996-...   \n",
       "4  [(377, 1996-12-25 15:28:43, 2, 15), (454, 1996...   \n",
       "\n",
       "                             recs_contextbert4rec_10  \\\n",
       "0  [2571, 2858, 1210, 356, 858, 527, 480, 2028, 1...   \n",
       "1  [2571, 260, 593, 296, 1198, 356, 527, 318, 499...   \n",
       "2  [296, 480, 356, 2571, 527, 110, 780, 2858, 608...   \n",
       "3  [153, 349, 592, 316, 590, 434, 344, 588, 292, ...   \n",
       "4  [296, 592, 588, 165, 344, 349, 153, 316, 318, ...   \n",
       "\n",
       "         recs_contextbert4rec_5  \n",
       "0  [2571, 2858, 1210, 356, 858]  \n",
       "1   [2571, 260, 593, 296, 1198]  \n",
       "2    [296, 480, 356, 2571, 527]  \n",
       "3     [153, 349, 592, 316, 590]  \n",
       "4     [296, 592, 588, 165, 344]  "
      ]
     },
     "execution_count": 20,
     "metadata": {},
     "output_type": "execute_result"
    }
   ],
   "source": [
    "test_dataset = MyDataset(ds=joined, num_items=n_items, phase='test',item2idx=item2idx)\n",
    "\n",
    "\n",
    "inference_loader = DataLoader(test_dataset, \n",
    "                              batch_size=joined.shape[0]//100, \n",
    "                              collate_fn=collate_fn_train,)\n",
    "\n",
    "preds = []\n",
    "\n",
    "for prediction in tqdm(runner.predict_loader(loader=inference_loader, engine=dl.DeviceEngine('cpu'))):\n",
    "    preds.extend(prediction.detach().cpu().numpy().tolist())\n",
    "    \n",
    "print(len(preds))\n",
    "assert len(preds) == joined.shape[0]\n",
    "\n",
    "joined['preds_contextbert4rec'] = preds\n",
    "joined['recs_contextbert4rec_10'] = joined['preds_contextbert4rec'].apply(lambda x: np.argsort(-np.array(x))[:10])\n",
    "joined['recs_contextbert4rec_10'] = joined['recs_contextbert4rec_10'].apply(lambda x: [idx2item[t-1] for t in x])\n",
    "joined['recs_contextbert4rec_5'] = joined['preds_contextbert4rec'].apply(lambda x: np.argsort(-np.array(x))[:5])\n",
    "joined['recs_contextbert4rec_5'] = joined['recs_contextbert4rec_5'].apply(lambda x: [idx2item[t-1] for t in x])\n",
    "joined.drop(['preds_contextbert4rec'],axis=1, inplace=True)\n",
    "joined.head()"
   ]
  },
  {
   "cell_type": "code",
   "execution_count": 21,
   "id": "gUG7fymkzdu8",
   "metadata": {
    "colab": {
     "base_uri": "https://localhost:8080/"
    },
    "id": "gUG7fymkzdu8",
    "outputId": "b06b6529-62d8-47ad-c1d1-9b1e7bb0824f"
   },
   "outputs": [
    {
     "data": {
      "text/plain": [
       "{'ndcg': 0.18479868537510605, 'recall': 0.03895265413022339}"
      ]
     },
     "execution_count": 21,
     "metadata": {},
     "output_type": "execute_result"
    }
   ],
   "source": [
    "evaluate_recommender(joined, model_preds='recs_contextbert4rec_10')"
   ]
  },
  {
   "cell_type": "code",
   "execution_count": 22,
   "id": "LE4UnCKaziPu",
   "metadata": {
    "colab": {
     "base_uri": "https://localhost:8080/"
    },
    "id": "LE4UnCKaziPu",
    "outputId": "43199d39-d7e4-4336-b824-fe72c54d8f8b"
   },
   "outputs": [
    {
     "data": {
      "text/plain": [
       "{'ndcg': 0.11647701605914959, 'recall': 0.020529163681027914}"
      ]
     },
     "execution_count": 22,
     "metadata": {},
     "output_type": "execute_result"
    }
   ],
   "source": [
    "evaluate_recommender(joined, model_preds='recs_contextbert4rec_5')"
   ]
  }
 ],
 "metadata": {
  "accelerator": "GPU",
  "colab": {
   "gpuType": "T4",
   "provenance": []
  },
  "gpuClass": "standard",
  "kernelspec": {
   "display_name": "Python 3 (ipykernel)",
   "language": "python",
   "name": "python3"
  },
  "language_info": {
   "codemirror_mode": {
    "name": "ipython",
    "version": 3
   },
   "file_extension": ".py",
   "mimetype": "text/x-python",
   "name": "python",
   "nbconvert_exporter": "python",
   "pygments_lexer": "ipython3",
   "version": "3.10.9"
  },
  "widgets": {
   "application/vnd.jupyter.widget-state+json": {
    "0062093301134b0a9eef4008b867dc79": {
     "model_module": "@jupyter-widgets/base",
     "model_module_version": "1.2.0",
     "model_name": "LayoutModel",
     "state": {
      "_model_module": "@jupyter-widgets/base",
      "_model_module_version": "1.2.0",
      "_model_name": "LayoutModel",
      "_view_count": null,
      "_view_module": "@jupyter-widgets/base",
      "_view_module_version": "1.2.0",
      "_view_name": "LayoutView",
      "align_content": null,
      "align_items": null,
      "align_self": null,
      "border": null,
      "bottom": null,
      "display": null,
      "flex": null,
      "flex_flow": null,
      "grid_area": null,
      "grid_auto_columns": null,
      "grid_auto_flow": null,
      "grid_auto_rows": null,
      "grid_column": null,
      "grid_gap": null,
      "grid_row": null,
      "grid_template_areas": null,
      "grid_template_columns": null,
      "grid_template_rows": null,
      "height": null,
      "justify_content": null,
      "justify_items": null,
      "left": null,
      "margin": null,
      "max_height": null,
      "max_width": null,
      "min_height": null,
      "min_width": null,
      "object_fit": null,
      "object_position": null,
      "order": null,
      "overflow": null,
      "overflow_x": null,
      "overflow_y": null,
      "padding": null,
      "right": null,
      "top": null,
      "visibility": null,
      "width": null
     }
    },
    "0149e9bc51e14c048854c073c1593f56": {
     "model_module": "@jupyter-widgets/controls",
     "model_module_version": "1.5.0",
     "model_name": "DescriptionStyleModel",
     "state": {
      "_model_module": "@jupyter-widgets/controls",
      "_model_module_version": "1.5.0",
      "_model_name": "DescriptionStyleModel",
      "_view_count": null,
      "_view_module": "@jupyter-widgets/base",
      "_view_module_version": "1.2.0",
      "_view_name": "StyleView",
      "description_width": ""
     }
    },
    "043fe2f8717d4faa878f8e292c95fd79": {
     "model_module": "@jupyter-widgets/base",
     "model_module_version": "1.2.0",
     "model_name": "LayoutModel",
     "state": {
      "_model_module": "@jupyter-widgets/base",
      "_model_module_version": "1.2.0",
      "_model_name": "LayoutModel",
      "_view_count": null,
      "_view_module": "@jupyter-widgets/base",
      "_view_module_version": "1.2.0",
      "_view_name": "LayoutView",
      "align_content": null,
      "align_items": null,
      "align_self": null,
      "border": null,
      "bottom": null,
      "display": null,
      "flex": null,
      "flex_flow": null,
      "grid_area": null,
      "grid_auto_columns": null,
      "grid_auto_flow": null,
      "grid_auto_rows": null,
      "grid_column": null,
      "grid_gap": null,
      "grid_row": null,
      "grid_template_areas": null,
      "grid_template_columns": null,
      "grid_template_rows": null,
      "height": null,
      "justify_content": null,
      "justify_items": null,
      "left": null,
      "margin": null,
      "max_height": null,
      "max_width": null,
      "min_height": null,
      "min_width": null,
      "object_fit": null,
      "object_position": null,
      "order": null,
      "overflow": null,
      "overflow_x": null,
      "overflow_y": null,
      "padding": null,
      "right": null,
      "top": null,
      "visibility": null,
      "width": null
     }
    },
    "04b2ddeb611c41858118adb6fe5e98c0": {
     "model_module": "@jupyter-widgets/controls",
     "model_module_version": "1.5.0",
     "model_name": "HTMLModel",
     "state": {
      "_dom_classes": [],
      "_model_module": "@jupyter-widgets/controls",
      "_model_module_version": "1.5.0",
      "_model_name": "HTMLModel",
      "_view_count": null,
      "_view_module": "@jupyter-widgets/controls",
      "_view_module_version": "1.5.0",
      "_view_name": "HTMLView",
      "description": "",
      "description_tooltip": null,
      "layout": "IPY_MODEL_c8f357303c224ae8a16eb8fb3f4efba1",
      "placeholder": "​",
      "style": "IPY_MODEL_12f41d8d31a54b39899fd3bc9586a4fe",
      "value": "3/100 * Epoch (valid): 100%"
     }
    },
    "08bf16d5cb214b9c8a23b662c886f19b": {
     "model_module": "@jupyter-widgets/controls",
     "model_module_version": "1.5.0",
     "model_name": "HBoxModel",
     "state": {
      "_dom_classes": [],
      "_model_module": "@jupyter-widgets/controls",
      "_model_module_version": "1.5.0",
      "_model_name": "HBoxModel",
      "_view_count": null,
      "_view_module": "@jupyter-widgets/controls",
      "_view_module_version": "1.5.0",
      "_view_name": "HBoxView",
      "box_style": "",
      "children": [
       "IPY_MODEL_5928e645d62440dc983fe404392fb89c",
       "IPY_MODEL_2b046aac0c044bc99ab478dd9e2d6b4c",
       "IPY_MODEL_9d348e339ef646e5965032c690bec6e7"
      ],
      "layout": "IPY_MODEL_31dff7655d514ec4bd46f58154085794"
     }
    },
    "0ba24dcce10249cc95defceeb2799519": {
     "model_module": "@jupyter-widgets/controls",
     "model_module_version": "1.5.0",
     "model_name": "DescriptionStyleModel",
     "state": {
      "_model_module": "@jupyter-widgets/controls",
      "_model_module_version": "1.5.0",
      "_model_name": "DescriptionStyleModel",
      "_view_count": null,
      "_view_module": "@jupyter-widgets/base",
      "_view_module_version": "1.2.0",
      "_view_name": "StyleView",
      "description_width": ""
     }
    },
    "0bdcffb092d94e10b3717b4fd1bdf8a8": {
     "model_module": "@jupyter-widgets/controls",
     "model_module_version": "1.5.0",
     "model_name": "HTMLModel",
     "state": {
      "_dom_classes": [],
      "_model_module": "@jupyter-widgets/controls",
      "_model_module_version": "1.5.0",
      "_model_name": "HTMLModel",
      "_view_count": null,
      "_view_module": "@jupyter-widgets/controls",
      "_view_module_version": "1.5.0",
      "_view_name": "HTMLView",
      "description": "",
      "description_tooltip": null,
      "layout": "IPY_MODEL_faf62267853047aeb97ccb15c62a77bb",
      "placeholder": "​",
      "style": "IPY_MODEL_51dba9a2f52f4f72b5bdcdb9fdba6607",
      "value": " 33/33 [01:21&lt;00:00,  1.78s/it, _timer/_fps=126.359, _timer/batch_time=0.111, _timer/data_time=0.011, _timer/model_time=0.100, loss=6.959, lr=1.000e-03, map10=0.210, momentum=0.900, ndcg20=0.146]"
     }
    },
    "0c4632053bf0407ba70a2243e617e002": {
     "model_module": "@jupyter-widgets/controls",
     "model_module_version": "1.5.0",
     "model_name": "HTMLModel",
     "state": {
      "_dom_classes": [],
      "_model_module": "@jupyter-widgets/controls",
      "_model_module_version": "1.5.0",
      "_model_name": "HTMLModel",
      "_view_count": null,
      "_view_module": "@jupyter-widgets/controls",
      "_view_module_version": "1.5.0",
      "_view_name": "HTMLView",
      "description": "",
      "description_tooltip": null,
      "layout": "IPY_MODEL_af318da5ea104d00bed407c3e1453036",
      "placeholder": "​",
      "style": "IPY_MODEL_2fbcb1930c84498a9050ef09c11da0a5",
      "value": " 33/33 [01:23&lt;00:00,  1.86s/it, _timer/_fps=92.726, _timer/batch_time=0.151, _timer/data_time=0.018, _timer/model_time=0.133, loss=7.530, lr=1.000e-03, map10=0.246, momentum=0.900, ndcg20=0.150]"
     }
    },
    "0ce90e7c5401418f86ed2ad8185bbe74": {
     "model_module": "@jupyter-widgets/controls",
     "model_module_version": "1.5.0",
     "model_name": "FloatProgressModel",
     "state": {
      "_dom_classes": [],
      "_model_module": "@jupyter-widgets/controls",
      "_model_module_version": "1.5.0",
      "_model_name": "FloatProgressModel",
      "_view_count": null,
      "_view_module": "@jupyter-widgets/controls",
      "_view_module_version": "1.5.0",
      "_view_name": "ProgressView",
      "bar_style": "success",
      "description": "",
      "description_tooltip": null,
      "layout": "IPY_MODEL_15c770da59d44cdd8f3d88b2dfe314e5",
      "max": 33,
      "min": 0,
      "orientation": "horizontal",
      "style": "IPY_MODEL_ca04a613370d491c827f4e0b5071a1a1",
      "value": 33
     }
    },
    "11be6f09fdf74312b76624a42e092f9a": {
     "model_module": "@jupyter-widgets/controls",
     "model_module_version": "1.5.0",
     "model_name": "DescriptionStyleModel",
     "state": {
      "_model_module": "@jupyter-widgets/controls",
      "_model_module_version": "1.5.0",
      "_model_name": "DescriptionStyleModel",
      "_view_count": null,
      "_view_module": "@jupyter-widgets/base",
      "_view_module_version": "1.2.0",
      "_view_name": "StyleView",
      "description_width": ""
     }
    },
    "1283dd6a977a4a14ad530b68a2a4f2f5": {
     "model_module": "@jupyter-widgets/controls",
     "model_module_version": "1.5.0",
     "model_name": "HTMLModel",
     "state": {
      "_dom_classes": [],
      "_model_module": "@jupyter-widgets/controls",
      "_model_module_version": "1.5.0",
      "_model_name": "HTMLModel",
      "_view_count": null,
      "_view_module": "@jupyter-widgets/controls",
      "_view_module_version": "1.5.0",
      "_view_name": "HTMLView",
      "description": "",
      "description_tooltip": null,
      "layout": "IPY_MODEL_dc2593440e6f489ba56ad4e1eeafe07f",
      "placeholder": "​",
      "style": "IPY_MODEL_0ba24dcce10249cc95defceeb2799519",
      "value": "4/100 * Epoch (train): 100%"
     }
    },
    "12f41d8d31a54b39899fd3bc9586a4fe": {
     "model_module": "@jupyter-widgets/controls",
     "model_module_version": "1.5.0",
     "model_name": "DescriptionStyleModel",
     "state": {
      "_model_module": "@jupyter-widgets/controls",
      "_model_module_version": "1.5.0",
      "_model_name": "DescriptionStyleModel",
      "_view_count": null,
      "_view_module": "@jupyter-widgets/base",
      "_view_module_version": "1.2.0",
      "_view_name": "StyleView",
      "description_width": ""
     }
    },
    "13469373964845519ff31669ddc0a3b4": {
     "model_module": "@jupyter-widgets/base",
     "model_module_version": "1.2.0",
     "model_name": "LayoutModel",
     "state": {
      "_model_module": "@jupyter-widgets/base",
      "_model_module_version": "1.2.0",
      "_model_name": "LayoutModel",
      "_view_count": null,
      "_view_module": "@jupyter-widgets/base",
      "_view_module_version": "1.2.0",
      "_view_name": "LayoutView",
      "align_content": null,
      "align_items": null,
      "align_self": null,
      "border": null,
      "bottom": null,
      "display": null,
      "flex": null,
      "flex_flow": null,
      "grid_area": null,
      "grid_auto_columns": null,
      "grid_auto_flow": null,
      "grid_auto_rows": null,
      "grid_column": null,
      "grid_gap": null,
      "grid_row": null,
      "grid_template_areas": null,
      "grid_template_columns": null,
      "grid_template_rows": null,
      "height": null,
      "justify_content": null,
      "justify_items": null,
      "left": null,
      "margin": null,
      "max_height": null,
      "max_width": null,
      "min_height": null,
      "min_width": null,
      "object_fit": null,
      "object_position": null,
      "order": null,
      "overflow": null,
      "overflow_x": null,
      "overflow_y": null,
      "padding": null,
      "right": null,
      "top": null,
      "visibility": null,
      "width": null
     }
    },
    "15c770da59d44cdd8f3d88b2dfe314e5": {
     "model_module": "@jupyter-widgets/base",
     "model_module_version": "1.2.0",
     "model_name": "LayoutModel",
     "state": {
      "_model_module": "@jupyter-widgets/base",
      "_model_module_version": "1.2.0",
      "_model_name": "LayoutModel",
      "_view_count": null,
      "_view_module": "@jupyter-widgets/base",
      "_view_module_version": "1.2.0",
      "_view_name": "LayoutView",
      "align_content": null,
      "align_items": null,
      "align_self": null,
      "border": null,
      "bottom": null,
      "display": null,
      "flex": null,
      "flex_flow": null,
      "grid_area": null,
      "grid_auto_columns": null,
      "grid_auto_flow": null,
      "grid_auto_rows": null,
      "grid_column": null,
      "grid_gap": null,
      "grid_row": null,
      "grid_template_areas": null,
      "grid_template_columns": null,
      "grid_template_rows": null,
      "height": null,
      "justify_content": null,
      "justify_items": null,
      "left": null,
      "margin": null,
      "max_height": null,
      "max_width": null,
      "min_height": null,
      "min_width": null,
      "object_fit": null,
      "object_position": null,
      "order": null,
      "overflow": null,
      "overflow_x": null,
      "overflow_y": null,
      "padding": null,
      "right": null,
      "top": null,
      "visibility": null,
      "width": null
     }
    },
    "16a05d70cb8545af81df38f06b67fae0": {
     "model_module": "@jupyter-widgets/base",
     "model_module_version": "1.2.0",
     "model_name": "LayoutModel",
     "state": {
      "_model_module": "@jupyter-widgets/base",
      "_model_module_version": "1.2.0",
      "_model_name": "LayoutModel",
      "_view_count": null,
      "_view_module": "@jupyter-widgets/base",
      "_view_module_version": "1.2.0",
      "_view_name": "LayoutView",
      "align_content": null,
      "align_items": null,
      "align_self": null,
      "border": null,
      "bottom": null,
      "display": null,
      "flex": null,
      "flex_flow": null,
      "grid_area": null,
      "grid_auto_columns": null,
      "grid_auto_flow": null,
      "grid_auto_rows": null,
      "grid_column": null,
      "grid_gap": null,
      "grid_row": null,
      "grid_template_areas": null,
      "grid_template_columns": null,
      "grid_template_rows": null,
      "height": null,
      "justify_content": null,
      "justify_items": null,
      "left": null,
      "margin": null,
      "max_height": null,
      "max_width": null,
      "min_height": null,
      "min_width": null,
      "object_fit": null,
      "object_position": null,
      "order": null,
      "overflow": null,
      "overflow_x": null,
      "overflow_y": null,
      "padding": null,
      "right": null,
      "top": null,
      "visibility": null,
      "width": null
     }
    },
    "176afa8789354e2fa69a611192f3012d": {
     "model_module": "@jupyter-widgets/base",
     "model_module_version": "1.2.0",
     "model_name": "LayoutModel",
     "state": {
      "_model_module": "@jupyter-widgets/base",
      "_model_module_version": "1.2.0",
      "_model_name": "LayoutModel",
      "_view_count": null,
      "_view_module": "@jupyter-widgets/base",
      "_view_module_version": "1.2.0",
      "_view_name": "LayoutView",
      "align_content": null,
      "align_items": null,
      "align_self": null,
      "border": null,
      "bottom": null,
      "display": null,
      "flex": null,
      "flex_flow": null,
      "grid_area": null,
      "grid_auto_columns": null,
      "grid_auto_flow": null,
      "grid_auto_rows": null,
      "grid_column": null,
      "grid_gap": null,
      "grid_row": null,
      "grid_template_areas": null,
      "grid_template_columns": null,
      "grid_template_rows": null,
      "height": null,
      "justify_content": null,
      "justify_items": null,
      "left": null,
      "margin": null,
      "max_height": null,
      "max_width": null,
      "min_height": null,
      "min_width": null,
      "object_fit": null,
      "object_position": null,
      "order": null,
      "overflow": null,
      "overflow_x": null,
      "overflow_y": null,
      "padding": null,
      "right": null,
      "top": null,
      "visibility": null,
      "width": null
     }
    },
    "1903f948b6b240aea88277a704ff2e8a": {
     "model_module": "@jupyter-widgets/controls",
     "model_module_version": "1.5.0",
     "model_name": "HBoxModel",
     "state": {
      "_dom_classes": [],
      "_model_module": "@jupyter-widgets/controls",
      "_model_module_version": "1.5.0",
      "_model_name": "HBoxModel",
      "_view_count": null,
      "_view_module": "@jupyter-widgets/controls",
      "_view_module_version": "1.5.0",
      "_view_name": "HBoxView",
      "box_style": "",
      "children": [
       "IPY_MODEL_9b8ea19f64c440b681b52e526e2073e7",
       "IPY_MODEL_2b83c101fb794a6ea584d66a8fd35704",
       "IPY_MODEL_4cd99ff555ca4479ad9708a63789348c"
      ],
      "layout": "IPY_MODEL_16a05d70cb8545af81df38f06b67fae0"
     }
    },
    "1ef8eeb51b9143b2862790be40cfe833": {
     "model_module": "@jupyter-widgets/controls",
     "model_module_version": "1.5.0",
     "model_name": "DescriptionStyleModel",
     "state": {
      "_model_module": "@jupyter-widgets/controls",
      "_model_module_version": "1.5.0",
      "_model_name": "DescriptionStyleModel",
      "_view_count": null,
      "_view_module": "@jupyter-widgets/base",
      "_view_module_version": "1.2.0",
      "_view_name": "StyleView",
      "description_width": ""
     }
    },
    "24100e90f8494499a9eb442411382cbb": {
     "model_module": "@jupyter-widgets/controls",
     "model_module_version": "1.5.0",
     "model_name": "FloatProgressModel",
     "state": {
      "_dom_classes": [],
      "_model_module": "@jupyter-widgets/controls",
      "_model_module_version": "1.5.0",
      "_model_name": "FloatProgressModel",
      "_view_count": null,
      "_view_module": "@jupyter-widgets/controls",
      "_view_module_version": "1.5.0",
      "_view_name": "ProgressView",
      "bar_style": "success",
      "description": "",
      "description_tooltip": null,
      "layout": "IPY_MODEL_cf3998c144704702b9260c55b1dae538",
      "max": 33,
      "min": 0,
      "orientation": "horizontal",
      "style": "IPY_MODEL_61d2f96afad84af2b0279c0cbc059716",
      "value": 33
     }
    },
    "25517e0192f04541974d0702b8b5f1ef": {
     "model_module": "@jupyter-widgets/controls",
     "model_module_version": "1.5.0",
     "model_name": "ProgressStyleModel",
     "state": {
      "_model_module": "@jupyter-widgets/controls",
      "_model_module_version": "1.5.0",
      "_model_name": "ProgressStyleModel",
      "_view_count": null,
      "_view_module": "@jupyter-widgets/base",
      "_view_module_version": "1.2.0",
      "_view_name": "StyleView",
      "bar_color": null,
      "description_width": ""
     }
    },
    "25a1d2648c054e6b853e4d11c97b7b2b": {
     "model_module": "@jupyter-widgets/controls",
     "model_module_version": "1.5.0",
     "model_name": "ProgressStyleModel",
     "state": {
      "_model_module": "@jupyter-widgets/controls",
      "_model_module_version": "1.5.0",
      "_model_name": "ProgressStyleModel",
      "_view_count": null,
      "_view_module": "@jupyter-widgets/base",
      "_view_module_version": "1.2.0",
      "_view_name": "StyleView",
      "bar_color": null,
      "description_width": ""
     }
    },
    "25e209936fff4dd38653123e699f29bc": {
     "model_module": "@jupyter-widgets/controls",
     "model_module_version": "1.5.0",
     "model_name": "DescriptionStyleModel",
     "state": {
      "_model_module": "@jupyter-widgets/controls",
      "_model_module_version": "1.5.0",
      "_model_name": "DescriptionStyleModel",
      "_view_count": null,
      "_view_module": "@jupyter-widgets/base",
      "_view_module_version": "1.2.0",
      "_view_name": "StyleView",
      "description_width": ""
     }
    },
    "26e916f860b34d99ac0dc336154cd327": {
     "model_module": "@jupyter-widgets/controls",
     "model_module_version": "1.5.0",
     "model_name": "DescriptionStyleModel",
     "state": {
      "_model_module": "@jupyter-widgets/controls",
      "_model_module_version": "1.5.0",
      "_model_name": "DescriptionStyleModel",
      "_view_count": null,
      "_view_module": "@jupyter-widgets/base",
      "_view_module_version": "1.2.0",
      "_view_name": "StyleView",
      "description_width": ""
     }
    },
    "27b0c1c6012e4982b9ad33cb576ad71c": {
     "model_module": "@jupyter-widgets/controls",
     "model_module_version": "1.5.0",
     "model_name": "FloatProgressModel",
     "state": {
      "_dom_classes": [],
      "_model_module": "@jupyter-widgets/controls",
      "_model_module_version": "1.5.0",
      "_model_name": "FloatProgressModel",
      "_view_count": null,
      "_view_module": "@jupyter-widgets/controls",
      "_view_module_version": "1.5.0",
      "_view_name": "ProgressView",
      "bar_style": "success",
      "description": "",
      "description_tooltip": null,
      "layout": "IPY_MODEL_2dc3f348c206410f83f5e0dc63acd48f",
      "max": 33,
      "min": 0,
      "orientation": "horizontal",
      "style": "IPY_MODEL_b2e2882e6f42428c8d7f0a943f74ec77",
      "value": 33
     }
    },
    "27e4e08436f349e0b6523057164494c4": {
     "model_module": "@jupyter-widgets/base",
     "model_module_version": "1.2.0",
     "model_name": "LayoutModel",
     "state": {
      "_model_module": "@jupyter-widgets/base",
      "_model_module_version": "1.2.0",
      "_model_name": "LayoutModel",
      "_view_count": null,
      "_view_module": "@jupyter-widgets/base",
      "_view_module_version": "1.2.0",
      "_view_name": "LayoutView",
      "align_content": null,
      "align_items": null,
      "align_self": null,
      "border": null,
      "bottom": null,
      "display": null,
      "flex": null,
      "flex_flow": null,
      "grid_area": null,
      "grid_auto_columns": null,
      "grid_auto_flow": null,
      "grid_auto_rows": null,
      "grid_column": null,
      "grid_gap": null,
      "grid_row": null,
      "grid_template_areas": null,
      "grid_template_columns": null,
      "grid_template_rows": null,
      "height": null,
      "justify_content": null,
      "justify_items": null,
      "left": null,
      "margin": null,
      "max_height": null,
      "max_width": null,
      "min_height": null,
      "min_width": null,
      "object_fit": null,
      "object_position": null,
      "order": null,
      "overflow": null,
      "overflow_x": null,
      "overflow_y": null,
      "padding": null,
      "right": null,
      "top": null,
      "visibility": null,
      "width": null
     }
    },
    "2b046aac0c044bc99ab478dd9e2d6b4c": {
     "model_module": "@jupyter-widgets/controls",
     "model_module_version": "1.5.0",
     "model_name": "FloatProgressModel",
     "state": {
      "_dom_classes": [],
      "_model_module": "@jupyter-widgets/controls",
      "_model_module_version": "1.5.0",
      "_model_name": "FloatProgressModel",
      "_view_count": null,
      "_view_module": "@jupyter-widgets/controls",
      "_view_module_version": "1.5.0",
      "_view_name": "ProgressView",
      "bar_style": "success",
      "description": "",
      "description_tooltip": null,
      "layout": "IPY_MODEL_51e834de758a4c778b80114ab08e306d",
      "max": 33,
      "min": 0,
      "orientation": "horizontal",
      "style": "IPY_MODEL_92d75a12f5de40fdbd7b001100775940",
      "value": 33
     }
    },
    "2b064fc1ee144a26bbd3985563c39d3e": {
     "model_module": "@jupyter-widgets/controls",
     "model_module_version": "1.5.0",
     "model_name": "DescriptionStyleModel",
     "state": {
      "_model_module": "@jupyter-widgets/controls",
      "_model_module_version": "1.5.0",
      "_model_name": "DescriptionStyleModel",
      "_view_count": null,
      "_view_module": "@jupyter-widgets/base",
      "_view_module_version": "1.2.0",
      "_view_name": "StyleView",
      "description_width": ""
     }
    },
    "2b83c101fb794a6ea584d66a8fd35704": {
     "model_module": "@jupyter-widgets/controls",
     "model_module_version": "1.5.0",
     "model_name": "FloatProgressModel",
     "state": {
      "_dom_classes": [],
      "_model_module": "@jupyter-widgets/controls",
      "_model_module_version": "1.5.0",
      "_model_name": "FloatProgressModel",
      "_view_count": null,
      "_view_module": "@jupyter-widgets/controls",
      "_view_module_version": "1.5.0",
      "_view_name": "ProgressView",
      "bar_style": "success",
      "description": "",
      "description_tooltip": null,
      "layout": "IPY_MODEL_ec255e92b9ec472abdeb744e76ae8ba9",
      "max": 33,
      "min": 0,
      "orientation": "horizontal",
      "style": "IPY_MODEL_98aab45965954e7cbb47e6d3afe15739",
      "value": 33
     }
    },
    "2ba4917d558748dd89d90fb708eba795": {
     "model_module": "@jupyter-widgets/controls",
     "model_module_version": "1.5.0",
     "model_name": "DescriptionStyleModel",
     "state": {
      "_model_module": "@jupyter-widgets/controls",
      "_model_module_version": "1.5.0",
      "_model_name": "DescriptionStyleModel",
      "_view_count": null,
      "_view_module": "@jupyter-widgets/base",
      "_view_module_version": "1.2.0",
      "_view_name": "StyleView",
      "description_width": ""
     }
    },
    "2dc3f348c206410f83f5e0dc63acd48f": {
     "model_module": "@jupyter-widgets/base",
     "model_module_version": "1.2.0",
     "model_name": "LayoutModel",
     "state": {
      "_model_module": "@jupyter-widgets/base",
      "_model_module_version": "1.2.0",
      "_model_name": "LayoutModel",
      "_view_count": null,
      "_view_module": "@jupyter-widgets/base",
      "_view_module_version": "1.2.0",
      "_view_name": "LayoutView",
      "align_content": null,
      "align_items": null,
      "align_self": null,
      "border": null,
      "bottom": null,
      "display": null,
      "flex": null,
      "flex_flow": null,
      "grid_area": null,
      "grid_auto_columns": null,
      "grid_auto_flow": null,
      "grid_auto_rows": null,
      "grid_column": null,
      "grid_gap": null,
      "grid_row": null,
      "grid_template_areas": null,
      "grid_template_columns": null,
      "grid_template_rows": null,
      "height": null,
      "justify_content": null,
      "justify_items": null,
      "left": null,
      "margin": null,
      "max_height": null,
      "max_width": null,
      "min_height": null,
      "min_width": null,
      "object_fit": null,
      "object_position": null,
      "order": null,
      "overflow": null,
      "overflow_x": null,
      "overflow_y": null,
      "padding": null,
      "right": null,
      "top": null,
      "visibility": null,
      "width": null
     }
    },
    "2fbcb1930c84498a9050ef09c11da0a5": {
     "model_module": "@jupyter-widgets/controls",
     "model_module_version": "1.5.0",
     "model_name": "DescriptionStyleModel",
     "state": {
      "_model_module": "@jupyter-widgets/controls",
      "_model_module_version": "1.5.0",
      "_model_name": "DescriptionStyleModel",
      "_view_count": null,
      "_view_module": "@jupyter-widgets/base",
      "_view_module_version": "1.2.0",
      "_view_name": "StyleView",
      "description_width": ""
     }
    },
    "30b2e6b287e64a66b4b1db5b25f39003": {
     "model_module": "@jupyter-widgets/controls",
     "model_module_version": "1.5.0",
     "model_name": "HBoxModel",
     "state": {
      "_dom_classes": [],
      "_model_module": "@jupyter-widgets/controls",
      "_model_module_version": "1.5.0",
      "_model_name": "HBoxModel",
      "_view_count": null,
      "_view_module": "@jupyter-widgets/controls",
      "_view_module_version": "1.5.0",
      "_view_name": "HBoxView",
      "box_style": "",
      "children": [
       "IPY_MODEL_6ba9c0f7584b487585dfea7d288c1514",
       "IPY_MODEL_24100e90f8494499a9eb442411382cbb",
       "IPY_MODEL_e901143619d14193bae56f75653f33a0"
      ],
      "layout": "IPY_MODEL_e0dab9f6aec34413b53bc26e9847133f"
     }
    },
    "31dff7655d514ec4bd46f58154085794": {
     "model_module": "@jupyter-widgets/base",
     "model_module_version": "1.2.0",
     "model_name": "LayoutModel",
     "state": {
      "_model_module": "@jupyter-widgets/base",
      "_model_module_version": "1.2.0",
      "_model_name": "LayoutModel",
      "_view_count": null,
      "_view_module": "@jupyter-widgets/base",
      "_view_module_version": "1.2.0",
      "_view_name": "LayoutView",
      "align_content": null,
      "align_items": null,
      "align_self": null,
      "border": null,
      "bottom": null,
      "display": null,
      "flex": null,
      "flex_flow": null,
      "grid_area": null,
      "grid_auto_columns": null,
      "grid_auto_flow": null,
      "grid_auto_rows": null,
      "grid_column": null,
      "grid_gap": null,
      "grid_row": null,
      "grid_template_areas": null,
      "grid_template_columns": null,
      "grid_template_rows": null,
      "height": null,
      "justify_content": null,
      "justify_items": null,
      "left": null,
      "margin": null,
      "max_height": null,
      "max_width": null,
      "min_height": null,
      "min_width": null,
      "object_fit": null,
      "object_position": null,
      "order": null,
      "overflow": null,
      "overflow_x": null,
      "overflow_y": null,
      "padding": null,
      "right": null,
      "top": null,
      "visibility": null,
      "width": null
     }
    },
    "320655fc40134a4ea41df0dff94c2ce5": {
     "model_module": "@jupyter-widgets/controls",
     "model_module_version": "1.5.0",
     "model_name": "DescriptionStyleModel",
     "state": {
      "_model_module": "@jupyter-widgets/controls",
      "_model_module_version": "1.5.0",
      "_model_name": "DescriptionStyleModel",
      "_view_count": null,
      "_view_module": "@jupyter-widgets/base",
      "_view_module_version": "1.2.0",
      "_view_name": "StyleView",
      "description_width": ""
     }
    },
    "3369c29a45f443b6a769c7564732e8af": {
     "model_module": "@jupyter-widgets/base",
     "model_module_version": "1.2.0",
     "model_name": "LayoutModel",
     "state": {
      "_model_module": "@jupyter-widgets/base",
      "_model_module_version": "1.2.0",
      "_model_name": "LayoutModel",
      "_view_count": null,
      "_view_module": "@jupyter-widgets/base",
      "_view_module_version": "1.2.0",
      "_view_name": "LayoutView",
      "align_content": null,
      "align_items": null,
      "align_self": null,
      "border": null,
      "bottom": null,
      "display": null,
      "flex": null,
      "flex_flow": null,
      "grid_area": null,
      "grid_auto_columns": null,
      "grid_auto_flow": null,
      "grid_auto_rows": null,
      "grid_column": null,
      "grid_gap": null,
      "grid_row": null,
      "grid_template_areas": null,
      "grid_template_columns": null,
      "grid_template_rows": null,
      "height": null,
      "justify_content": null,
      "justify_items": null,
      "left": null,
      "margin": null,
      "max_height": null,
      "max_width": null,
      "min_height": null,
      "min_width": null,
      "object_fit": null,
      "object_position": null,
      "order": null,
      "overflow": null,
      "overflow_x": null,
      "overflow_y": null,
      "padding": null,
      "right": null,
      "top": null,
      "visibility": null,
      "width": null
     }
    },
    "35f05511e51e4fea8db95fe375e58584": {
     "model_module": "@jupyter-widgets/controls",
     "model_module_version": "1.5.0",
     "model_name": "ProgressStyleModel",
     "state": {
      "_model_module": "@jupyter-widgets/controls",
      "_model_module_version": "1.5.0",
      "_model_name": "ProgressStyleModel",
      "_view_count": null,
      "_view_module": "@jupyter-widgets/base",
      "_view_module_version": "1.2.0",
      "_view_name": "StyleView",
      "bar_color": null,
      "description_width": ""
     }
    },
    "3676cc068b42462589d0fffa89767143": {
     "model_module": "@jupyter-widgets/base",
     "model_module_version": "1.2.0",
     "model_name": "LayoutModel",
     "state": {
      "_model_module": "@jupyter-widgets/base",
      "_model_module_version": "1.2.0",
      "_model_name": "LayoutModel",
      "_view_count": null,
      "_view_module": "@jupyter-widgets/base",
      "_view_module_version": "1.2.0",
      "_view_name": "LayoutView",
      "align_content": null,
      "align_items": null,
      "align_self": null,
      "border": null,
      "bottom": null,
      "display": null,
      "flex": null,
      "flex_flow": null,
      "grid_area": null,
      "grid_auto_columns": null,
      "grid_auto_flow": null,
      "grid_auto_rows": null,
      "grid_column": null,
      "grid_gap": null,
      "grid_row": null,
      "grid_template_areas": null,
      "grid_template_columns": null,
      "grid_template_rows": null,
      "height": null,
      "justify_content": null,
      "justify_items": null,
      "left": null,
      "margin": null,
      "max_height": null,
      "max_width": null,
      "min_height": null,
      "min_width": null,
      "object_fit": null,
      "object_position": null,
      "order": null,
      "overflow": null,
      "overflow_x": null,
      "overflow_y": null,
      "padding": null,
      "right": null,
      "top": null,
      "visibility": null,
      "width": null
     }
    },
    "3725b1e1c7ed40b3a7a627450acaa741": {
     "model_module": "@jupyter-widgets/base",
     "model_module_version": "1.2.0",
     "model_name": "LayoutModel",
     "state": {
      "_model_module": "@jupyter-widgets/base",
      "_model_module_version": "1.2.0",
      "_model_name": "LayoutModel",
      "_view_count": null,
      "_view_module": "@jupyter-widgets/base",
      "_view_module_version": "1.2.0",
      "_view_name": "LayoutView",
      "align_content": null,
      "align_items": null,
      "align_self": null,
      "border": null,
      "bottom": null,
      "display": null,
      "flex": null,
      "flex_flow": null,
      "grid_area": null,
      "grid_auto_columns": null,
      "grid_auto_flow": null,
      "grid_auto_rows": null,
      "grid_column": null,
      "grid_gap": null,
      "grid_row": null,
      "grid_template_areas": null,
      "grid_template_columns": null,
      "grid_template_rows": null,
      "height": null,
      "justify_content": null,
      "justify_items": null,
      "left": null,
      "margin": null,
      "max_height": null,
      "max_width": null,
      "min_height": null,
      "min_width": null,
      "object_fit": null,
      "object_position": null,
      "order": null,
      "overflow": null,
      "overflow_x": null,
      "overflow_y": null,
      "padding": null,
      "right": null,
      "top": null,
      "visibility": null,
      "width": null
     }
    },
    "3737ee01c5584f3fa8b8d82fe765690d": {
     "model_module": "@jupyter-widgets/controls",
     "model_module_version": "1.5.0",
     "model_name": "ProgressStyleModel",
     "state": {
      "_model_module": "@jupyter-widgets/controls",
      "_model_module_version": "1.5.0",
      "_model_name": "ProgressStyleModel",
      "_view_count": null,
      "_view_module": "@jupyter-widgets/base",
      "_view_module_version": "1.2.0",
      "_view_name": "StyleView",
      "bar_color": null,
      "description_width": ""
     }
    },
    "37a8789fab8e40ab8210a70db76c0aee": {
     "model_module": "@jupyter-widgets/controls",
     "model_module_version": "1.5.0",
     "model_name": "HTMLModel",
     "state": {
      "_dom_classes": [],
      "_model_module": "@jupyter-widgets/controls",
      "_model_module_version": "1.5.0",
      "_model_name": "HTMLModel",
      "_view_count": null,
      "_view_module": "@jupyter-widgets/controls",
      "_view_module_version": "1.5.0",
      "_view_name": "HTMLView",
      "description": "",
      "description_tooltip": null,
      "layout": "IPY_MODEL_3725b1e1c7ed40b3a7a627450acaa741",
      "placeholder": "​",
      "style": "IPY_MODEL_d5811d0cccbd4cfdb6dc1d9cb6beebe7",
      "value": "2/100 * Epoch (train): 100%"
     }
    },
    "38747d8dc8ef45c1bd7a75d3e6321eef": {
     "model_module": "@jupyter-widgets/controls",
     "model_module_version": "1.5.0",
     "model_name": "HBoxModel",
     "state": {
      "_dom_classes": [],
      "_model_module": "@jupyter-widgets/controls",
      "_model_module_version": "1.5.0",
      "_model_name": "HBoxModel",
      "_view_count": null,
      "_view_module": "@jupyter-widgets/controls",
      "_view_module_version": "1.5.0",
      "_view_name": "HBoxView",
      "box_style": "",
      "children": [
       "IPY_MODEL_4f80a6b551504906a8df14d51c2a6a51",
       "IPY_MODEL_a9a855903429447987ad437c26eede0f",
       "IPY_MODEL_3d4a04ecf01849d288a15ae3c1e218af"
      ],
      "layout": "IPY_MODEL_bd6017ae0ed0405eb9e7d341266557a7"
     }
    },
    "3b28ec0c07c941e9b46fce4b17e5b922": {
     "model_module": "@jupyter-widgets/base",
     "model_module_version": "1.2.0",
     "model_name": "LayoutModel",
     "state": {
      "_model_module": "@jupyter-widgets/base",
      "_model_module_version": "1.2.0",
      "_model_name": "LayoutModel",
      "_view_count": null,
      "_view_module": "@jupyter-widgets/base",
      "_view_module_version": "1.2.0",
      "_view_name": "LayoutView",
      "align_content": null,
      "align_items": null,
      "align_self": null,
      "border": null,
      "bottom": null,
      "display": null,
      "flex": null,
      "flex_flow": null,
      "grid_area": null,
      "grid_auto_columns": null,
      "grid_auto_flow": null,
      "grid_auto_rows": null,
      "grid_column": null,
      "grid_gap": null,
      "grid_row": null,
      "grid_template_areas": null,
      "grid_template_columns": null,
      "grid_template_rows": null,
      "height": null,
      "justify_content": null,
      "justify_items": null,
      "left": null,
      "margin": null,
      "max_height": null,
      "max_width": null,
      "min_height": null,
      "min_width": null,
      "object_fit": null,
      "object_position": null,
      "order": null,
      "overflow": null,
      "overflow_x": null,
      "overflow_y": null,
      "padding": null,
      "right": null,
      "top": null,
      "visibility": null,
      "width": null
     }
    },
    "3d4a04ecf01849d288a15ae3c1e218af": {
     "model_module": "@jupyter-widgets/controls",
     "model_module_version": "1.5.0",
     "model_name": "HTMLModel",
     "state": {
      "_dom_classes": [],
      "_model_module": "@jupyter-widgets/controls",
      "_model_module_version": "1.5.0",
      "_model_name": "HTMLModel",
      "_view_count": null,
      "_view_module": "@jupyter-widgets/controls",
      "_view_module_version": "1.5.0",
      "_view_name": "HTMLView",
      "description": "",
      "description_tooltip": null,
      "layout": "IPY_MODEL_af863c4bd9bb45a99a12e098ffc39248",
      "placeholder": "​",
      "style": "IPY_MODEL_60333b13499040b0be50dba42e1eb2f6",
      "value": " 33/33 [01:55&lt;00:00,  2.65s/it, _timer/_fps=6.349, _timer/batch_time=2.205, _timer/data_time=2.139, _timer/model_time=0.066, loss=6.915, lr=1.000e-03, map10=0.000e+00, momentum=0.900, ndcg20=0.000e+00]"
     }
    },
    "3db4501694e047638e8b5e4eff147e33": {
     "model_module": "@jupyter-widgets/controls",
     "model_module_version": "1.5.0",
     "model_name": "ProgressStyleModel",
     "state": {
      "_model_module": "@jupyter-widgets/controls",
      "_model_module_version": "1.5.0",
      "_model_name": "ProgressStyleModel",
      "_view_count": null,
      "_view_module": "@jupyter-widgets/base",
      "_view_module_version": "1.2.0",
      "_view_name": "StyleView",
      "bar_color": null,
      "description_width": ""
     }
    },
    "3fb1dc36724147b5a6f23930cadbe056": {
     "model_module": "@jupyter-widgets/controls",
     "model_module_version": "1.5.0",
     "model_name": "DescriptionStyleModel",
     "state": {
      "_model_module": "@jupyter-widgets/controls",
      "_model_module_version": "1.5.0",
      "_model_name": "DescriptionStyleModel",
      "_view_count": null,
      "_view_module": "@jupyter-widgets/base",
      "_view_module_version": "1.2.0",
      "_view_name": "StyleView",
      "description_width": ""
     }
    },
    "4035a6a349ab4fe3863bbdfb44fe6e2b": {
     "model_module": "@jupyter-widgets/controls",
     "model_module_version": "1.5.0",
     "model_name": "HBoxModel",
     "state": {
      "_dom_classes": [],
      "_model_module": "@jupyter-widgets/controls",
      "_model_module_version": "1.5.0",
      "_model_name": "HBoxModel",
      "_view_count": null,
      "_view_module": "@jupyter-widgets/controls",
      "_view_module_version": "1.5.0",
      "_view_name": "HBoxView",
      "box_style": "",
      "children": [
       "IPY_MODEL_933c22c674d24ea79368c0e5f56e3812",
       "IPY_MODEL_9f1e7e451c0c4d2b9e1845c1d4b8c09c",
       "IPY_MODEL_f92667391711402da67e8391cfa564d8"
      ],
      "layout": "IPY_MODEL_a3fc7a3ddd034373b28cb1417acfb66b"
     }
    },
    "499ca2fc4d2a4e2e95cf0ea1147f6d25": {
     "model_module": "@jupyter-widgets/base",
     "model_module_version": "1.2.0",
     "model_name": "LayoutModel",
     "state": {
      "_model_module": "@jupyter-widgets/base",
      "_model_module_version": "1.2.0",
      "_model_name": "LayoutModel",
      "_view_count": null,
      "_view_module": "@jupyter-widgets/base",
      "_view_module_version": "1.2.0",
      "_view_name": "LayoutView",
      "align_content": null,
      "align_items": null,
      "align_self": null,
      "border": null,
      "bottom": null,
      "display": null,
      "flex": null,
      "flex_flow": null,
      "grid_area": null,
      "grid_auto_columns": null,
      "grid_auto_flow": null,
      "grid_auto_rows": null,
      "grid_column": null,
      "grid_gap": null,
      "grid_row": null,
      "grid_template_areas": null,
      "grid_template_columns": null,
      "grid_template_rows": null,
      "height": null,
      "justify_content": null,
      "justify_items": null,
      "left": null,
      "margin": null,
      "max_height": null,
      "max_width": null,
      "min_height": null,
      "min_width": null,
      "object_fit": null,
      "object_position": null,
      "order": null,
      "overflow": null,
      "overflow_x": null,
      "overflow_y": null,
      "padding": null,
      "right": null,
      "top": null,
      "visibility": null,
      "width": null
     }
    },
    "4aad579c700e423dbc54b19099d3b17a": {
     "model_module": "@jupyter-widgets/base",
     "model_module_version": "1.2.0",
     "model_name": "LayoutModel",
     "state": {
      "_model_module": "@jupyter-widgets/base",
      "_model_module_version": "1.2.0",
      "_model_name": "LayoutModel",
      "_view_count": null,
      "_view_module": "@jupyter-widgets/base",
      "_view_module_version": "1.2.0",
      "_view_name": "LayoutView",
      "align_content": null,
      "align_items": null,
      "align_self": null,
      "border": null,
      "bottom": null,
      "display": null,
      "flex": null,
      "flex_flow": null,
      "grid_area": null,
      "grid_auto_columns": null,
      "grid_auto_flow": null,
      "grid_auto_rows": null,
      "grid_column": null,
      "grid_gap": null,
      "grid_row": null,
      "grid_template_areas": null,
      "grid_template_columns": null,
      "grid_template_rows": null,
      "height": null,
      "justify_content": null,
      "justify_items": null,
      "left": null,
      "margin": null,
      "max_height": null,
      "max_width": null,
      "min_height": null,
      "min_width": null,
      "object_fit": null,
      "object_position": null,
      "order": null,
      "overflow": null,
      "overflow_x": null,
      "overflow_y": null,
      "padding": null,
      "right": null,
      "top": null,
      "visibility": null,
      "width": null
     }
    },
    "4ae616d251b440c4800de21adb8ba254": {
     "model_module": "@jupyter-widgets/base",
     "model_module_version": "1.2.0",
     "model_name": "LayoutModel",
     "state": {
      "_model_module": "@jupyter-widgets/base",
      "_model_module_version": "1.2.0",
      "_model_name": "LayoutModel",
      "_view_count": null,
      "_view_module": "@jupyter-widgets/base",
      "_view_module_version": "1.2.0",
      "_view_name": "LayoutView",
      "align_content": null,
      "align_items": null,
      "align_self": null,
      "border": null,
      "bottom": null,
      "display": null,
      "flex": null,
      "flex_flow": null,
      "grid_area": null,
      "grid_auto_columns": null,
      "grid_auto_flow": null,
      "grid_auto_rows": null,
      "grid_column": null,
      "grid_gap": null,
      "grid_row": null,
      "grid_template_areas": null,
      "grid_template_columns": null,
      "grid_template_rows": null,
      "height": null,
      "justify_content": null,
      "justify_items": null,
      "left": null,
      "margin": null,
      "max_height": null,
      "max_width": null,
      "min_height": null,
      "min_width": null,
      "object_fit": null,
      "object_position": null,
      "order": null,
      "overflow": null,
      "overflow_x": null,
      "overflow_y": null,
      "padding": null,
      "right": null,
      "top": null,
      "visibility": null,
      "width": null
     }
    },
    "4b1cb4f28f494cd89192e1c170987e8d": {
     "model_module": "@jupyter-widgets/controls",
     "model_module_version": "1.5.0",
     "model_name": "ProgressStyleModel",
     "state": {
      "_model_module": "@jupyter-widgets/controls",
      "_model_module_version": "1.5.0",
      "_model_name": "ProgressStyleModel",
      "_view_count": null,
      "_view_module": "@jupyter-widgets/base",
      "_view_module_version": "1.2.0",
      "_view_name": "StyleView",
      "bar_color": null,
      "description_width": ""
     }
    },
    "4cd99ff555ca4479ad9708a63789348c": {
     "model_module": "@jupyter-widgets/controls",
     "model_module_version": "1.5.0",
     "model_name": "HTMLModel",
     "state": {
      "_dom_classes": [],
      "_model_module": "@jupyter-widgets/controls",
      "_model_module_version": "1.5.0",
      "_model_name": "HTMLModel",
      "_view_count": null,
      "_view_module": "@jupyter-widgets/controls",
      "_view_module_version": "1.5.0",
      "_view_name": "HTMLView",
      "description": "",
      "description_tooltip": null,
      "layout": "IPY_MODEL_bf6516b40d47499790f21ca0ae6e5829",
      "placeholder": "​",
      "style": "IPY_MODEL_6d52b0bf2391423ba980fc715a729d0b",
      "value": " 33/33 [01:52&lt;00:00,  2.47s/it, _timer/_fps=7.660, _timer/batch_time=1.828, _timer/data_time=1.770, _timer/model_time=0.058, loss=7.078, lr=1.000e-03, map10=0.000e+00, momentum=0.900, ndcg20=0.000e+00]"
     }
    },
    "4e23784e0382402a9ce4492cf78f266a": {
     "model_module": "@jupyter-widgets/controls",
     "model_module_version": "1.5.0",
     "model_name": "FloatProgressModel",
     "state": {
      "_dom_classes": [],
      "_model_module": "@jupyter-widgets/controls",
      "_model_module_version": "1.5.0",
      "_model_name": "FloatProgressModel",
      "_view_count": null,
      "_view_module": "@jupyter-widgets/controls",
      "_view_module_version": "1.5.0",
      "_view_name": "ProgressView",
      "bar_style": "success",
      "description": "",
      "description_tooltip": null,
      "layout": "IPY_MODEL_c9718913e23c43539d0faa6507e213c4",
      "max": 33,
      "min": 0,
      "orientation": "horizontal",
      "style": "IPY_MODEL_25517e0192f04541974d0702b8b5f1ef",
      "value": 33
     }
    },
    "4f0ff176229849e79b3ede66c06ff941": {
     "model_module": "@jupyter-widgets/controls",
     "model_module_version": "1.5.0",
     "model_name": "DescriptionStyleModel",
     "state": {
      "_model_module": "@jupyter-widgets/controls",
      "_model_module_version": "1.5.0",
      "_model_name": "DescriptionStyleModel",
      "_view_count": null,
      "_view_module": "@jupyter-widgets/base",
      "_view_module_version": "1.2.0",
      "_view_name": "StyleView",
      "description_width": ""
     }
    },
    "4f5e3b8ed43e4d08be7319c92f75163c": {
     "model_module": "@jupyter-widgets/controls",
     "model_module_version": "1.5.0",
     "model_name": "HTMLModel",
     "state": {
      "_dom_classes": [],
      "_model_module": "@jupyter-widgets/controls",
      "_model_module_version": "1.5.0",
      "_model_name": "HTMLModel",
      "_view_count": null,
      "_view_module": "@jupyter-widgets/controls",
      "_view_module_version": "1.5.0",
      "_view_name": "HTMLView",
      "description": "",
      "description_tooltip": null,
      "layout": "IPY_MODEL_cbcde15f44fe465e831e9f1c55fbbf0b",
      "placeholder": "​",
      "style": "IPY_MODEL_26e916f860b34d99ac0dc336154cd327",
      "value": " 33/33 [01:55&lt;00:00,  2.58s/it, _timer/_fps=7.673, _timer/batch_time=1.825, _timer/data_time=1.764, _timer/model_time=0.061, loss=6.920, lr=1.000e-03, map10=0.000e+00, momentum=0.900, ndcg20=0.000e+00]"
     }
    },
    "4f80a6b551504906a8df14d51c2a6a51": {
     "model_module": "@jupyter-widgets/controls",
     "model_module_version": "1.5.0",
     "model_name": "HTMLModel",
     "state": {
      "_dom_classes": [],
      "_model_module": "@jupyter-widgets/controls",
      "_model_module_version": "1.5.0",
      "_model_name": "HTMLModel",
      "_view_count": null,
      "_view_module": "@jupyter-widgets/controls",
      "_view_module_version": "1.5.0",
      "_view_name": "HTMLView",
      "description": "",
      "description_tooltip": null,
      "layout": "IPY_MODEL_27e4e08436f349e0b6523057164494c4",
      "placeholder": "​",
      "style": "IPY_MODEL_0149e9bc51e14c048854c073c1593f56",
      "value": "7/100 * Epoch (train): 100%"
     }
    },
    "506dc5d9574c4ed6a8a17dd9a6fccda5": {
     "model_module": "@jupyter-widgets/controls",
     "model_module_version": "1.5.0",
     "model_name": "HTMLModel",
     "state": {
      "_dom_classes": [],
      "_model_module": "@jupyter-widgets/controls",
      "_model_module_version": "1.5.0",
      "_model_name": "HTMLModel",
      "_view_count": null,
      "_view_module": "@jupyter-widgets/controls",
      "_view_module_version": "1.5.0",
      "_view_name": "HTMLView",
      "description": "",
      "description_tooltip": null,
      "layout": "IPY_MODEL_a4825b58bfcf4b5d87cb6ebb79a30f01",
      "placeholder": "​",
      "style": "IPY_MODEL_c90df0a46629445f979838418154b438",
      "value": " 33/33 [01:57&lt;00:00,  2.66s/it, _timer/_fps=6.447, _timer/batch_time=2.172, _timer/data_time=2.086, _timer/model_time=0.086, loss=7.449, lr=1.000e-03, map10=0.000e+00, momentum=0.900, ndcg20=0.000e+00]"
     }
    },
    "51dba9a2f52f4f72b5bdcdb9fdba6607": {
     "model_module": "@jupyter-widgets/controls",
     "model_module_version": "1.5.0",
     "model_name": "DescriptionStyleModel",
     "state": {
      "_model_module": "@jupyter-widgets/controls",
      "_model_module_version": "1.5.0",
      "_model_name": "DescriptionStyleModel",
      "_view_count": null,
      "_view_module": "@jupyter-widgets/base",
      "_view_module_version": "1.2.0",
      "_view_name": "StyleView",
      "description_width": ""
     }
    },
    "51e834de758a4c778b80114ab08e306d": {
     "model_module": "@jupyter-widgets/base",
     "model_module_version": "1.2.0",
     "model_name": "LayoutModel",
     "state": {
      "_model_module": "@jupyter-widgets/base",
      "_model_module_version": "1.2.0",
      "_model_name": "LayoutModel",
      "_view_count": null,
      "_view_module": "@jupyter-widgets/base",
      "_view_module_version": "1.2.0",
      "_view_name": "LayoutView",
      "align_content": null,
      "align_items": null,
      "align_self": null,
      "border": null,
      "bottom": null,
      "display": null,
      "flex": null,
      "flex_flow": null,
      "grid_area": null,
      "grid_auto_columns": null,
      "grid_auto_flow": null,
      "grid_auto_rows": null,
      "grid_column": null,
      "grid_gap": null,
      "grid_row": null,
      "grid_template_areas": null,
      "grid_template_columns": null,
      "grid_template_rows": null,
      "height": null,
      "justify_content": null,
      "justify_items": null,
      "left": null,
      "margin": null,
      "max_height": null,
      "max_width": null,
      "min_height": null,
      "min_width": null,
      "object_fit": null,
      "object_position": null,
      "order": null,
      "overflow": null,
      "overflow_x": null,
      "overflow_y": null,
      "padding": null,
      "right": null,
      "top": null,
      "visibility": null,
      "width": null
     }
    },
    "5317fe4b986c4c1090af57afa18052a0": {
     "model_module": "@jupyter-widgets/base",
     "model_module_version": "1.2.0",
     "model_name": "LayoutModel",
     "state": {
      "_model_module": "@jupyter-widgets/base",
      "_model_module_version": "1.2.0",
      "_model_name": "LayoutModel",
      "_view_count": null,
      "_view_module": "@jupyter-widgets/base",
      "_view_module_version": "1.2.0",
      "_view_name": "LayoutView",
      "align_content": null,
      "align_items": null,
      "align_self": null,
      "border": null,
      "bottom": null,
      "display": null,
      "flex": null,
      "flex_flow": null,
      "grid_area": null,
      "grid_auto_columns": null,
      "grid_auto_flow": null,
      "grid_auto_rows": null,
      "grid_column": null,
      "grid_gap": null,
      "grid_row": null,
      "grid_template_areas": null,
      "grid_template_columns": null,
      "grid_template_rows": null,
      "height": null,
      "justify_content": null,
      "justify_items": null,
      "left": null,
      "margin": null,
      "max_height": null,
      "max_width": null,
      "min_height": null,
      "min_width": null,
      "object_fit": null,
      "object_position": null,
      "order": null,
      "overflow": null,
      "overflow_x": null,
      "overflow_y": null,
      "padding": null,
      "right": null,
      "top": null,
      "visibility": null,
      "width": null
     }
    },
    "548b2e4e29a24a35a89ddc01aa0fc4ad": {
     "model_module": "@jupyter-widgets/controls",
     "model_module_version": "1.5.0",
     "model_name": "DescriptionStyleModel",
     "state": {
      "_model_module": "@jupyter-widgets/controls",
      "_model_module_version": "1.5.0",
      "_model_name": "DescriptionStyleModel",
      "_view_count": null,
      "_view_module": "@jupyter-widgets/base",
      "_view_module_version": "1.2.0",
      "_view_name": "StyleView",
      "description_width": ""
     }
    },
    "55946c0069804d28903424e44cbd9bcb": {
     "model_module": "@jupyter-widgets/controls",
     "model_module_version": "1.5.0",
     "model_name": "FloatProgressModel",
     "state": {
      "_dom_classes": [],
      "_model_module": "@jupyter-widgets/controls",
      "_model_module_version": "1.5.0",
      "_model_name": "FloatProgressModel",
      "_view_count": null,
      "_view_module": "@jupyter-widgets/controls",
      "_view_module_version": "1.5.0",
      "_view_name": "ProgressView",
      "bar_style": "success",
      "description": "",
      "description_tooltip": null,
      "layout": "IPY_MODEL_e8161ff8b4a34dc1b4a9eda13f6525ef",
      "max": 33,
      "min": 0,
      "orientation": "horizontal",
      "style": "IPY_MODEL_f1c6b92d01e04e80a81116d922f18197",
      "value": 33
     }
    },
    "55a40285b9744df9a3bf2cd67fc83b2a": {
     "model_module": "@jupyter-widgets/base",
     "model_module_version": "1.2.0",
     "model_name": "LayoutModel",
     "state": {
      "_model_module": "@jupyter-widgets/base",
      "_model_module_version": "1.2.0",
      "_model_name": "LayoutModel",
      "_view_count": null,
      "_view_module": "@jupyter-widgets/base",
      "_view_module_version": "1.2.0",
      "_view_name": "LayoutView",
      "align_content": null,
      "align_items": null,
      "align_self": null,
      "border": null,
      "bottom": null,
      "display": null,
      "flex": null,
      "flex_flow": null,
      "grid_area": null,
      "grid_auto_columns": null,
      "grid_auto_flow": null,
      "grid_auto_rows": null,
      "grid_column": null,
      "grid_gap": null,
      "grid_row": null,
      "grid_template_areas": null,
      "grid_template_columns": null,
      "grid_template_rows": null,
      "height": null,
      "justify_content": null,
      "justify_items": null,
      "left": null,
      "margin": null,
      "max_height": null,
      "max_width": null,
      "min_height": null,
      "min_width": null,
      "object_fit": null,
      "object_position": null,
      "order": null,
      "overflow": null,
      "overflow_x": null,
      "overflow_y": null,
      "padding": null,
      "right": null,
      "top": null,
      "visibility": null,
      "width": null
     }
    },
    "57d219e425c648b7acbb285804920355": {
     "model_module": "@jupyter-widgets/controls",
     "model_module_version": "1.5.0",
     "model_name": "DescriptionStyleModel",
     "state": {
      "_model_module": "@jupyter-widgets/controls",
      "_model_module_version": "1.5.0",
      "_model_name": "DescriptionStyleModel",
      "_view_count": null,
      "_view_module": "@jupyter-widgets/base",
      "_view_module_version": "1.2.0",
      "_view_name": "StyleView",
      "description_width": ""
     }
    },
    "5928e645d62440dc983fe404392fb89c": {
     "model_module": "@jupyter-widgets/controls",
     "model_module_version": "1.5.0",
     "model_name": "HTMLModel",
     "state": {
      "_dom_classes": [],
      "_model_module": "@jupyter-widgets/controls",
      "_model_module_version": "1.5.0",
      "_model_name": "HTMLModel",
      "_view_count": null,
      "_view_module": "@jupyter-widgets/controls",
      "_view_module_version": "1.5.0",
      "_view_name": "HTMLView",
      "description": "",
      "description_tooltip": null,
      "layout": "IPY_MODEL_adee5f518729491daaa36e5c23a2f791",
      "placeholder": "​",
      "style": "IPY_MODEL_2ba4917d558748dd89d90fb708eba795",
      "value": "4/100 * Epoch (valid): 100%"
     }
    },
    "5abecd8c85d84a19a08c1340270a5910": {
     "model_module": "@jupyter-widgets/controls",
     "model_module_version": "1.5.0",
     "model_name": "HTMLModel",
     "state": {
      "_dom_classes": [],
      "_model_module": "@jupyter-widgets/controls",
      "_model_module_version": "1.5.0",
      "_model_name": "HTMLModel",
      "_view_count": null,
      "_view_module": "@jupyter-widgets/controls",
      "_view_module_version": "1.5.0",
      "_view_name": "HTMLView",
      "description": "",
      "description_tooltip": null,
      "layout": "IPY_MODEL_ec6efb9f54e94724acd7cb6ca0bbe679",
      "placeholder": "​",
      "style": "IPY_MODEL_11be6f09fdf74312b76624a42e092f9a",
      "value": "2/100 * Epoch (valid): 100%"
     }
    },
    "5c9169af721649b4a99915556e0583c7": {
     "model_module": "@jupyter-widgets/controls",
     "model_module_version": "1.5.0",
     "model_name": "DescriptionStyleModel",
     "state": {
      "_model_module": "@jupyter-widgets/controls",
      "_model_module_version": "1.5.0",
      "_model_name": "DescriptionStyleModel",
      "_view_count": null,
      "_view_module": "@jupyter-widgets/base",
      "_view_module_version": "1.2.0",
      "_view_name": "StyleView",
      "description_width": ""
     }
    },
    "5d08e7d510ed4211a0b8f4fd2173f57b": {
     "model_module": "@jupyter-widgets/controls",
     "model_module_version": "1.5.0",
     "model_name": "HBoxModel",
     "state": {
      "_dom_classes": [],
      "_model_module": "@jupyter-widgets/controls",
      "_model_module_version": "1.5.0",
      "_model_name": "HBoxModel",
      "_view_count": null,
      "_view_module": "@jupyter-widgets/controls",
      "_view_module_version": "1.5.0",
      "_view_name": "HBoxView",
      "box_style": "",
      "children": [
       "IPY_MODEL_a7aa56c50f2a49c19a7cb747b63b93e2",
       "IPY_MODEL_66851f18df614f1b909c3b97200816a6",
       "IPY_MODEL_4f5e3b8ed43e4d08be7319c92f75163c"
      ],
      "layout": "IPY_MODEL_61270d10b71646eba98cadae80055651"
     }
    },
    "5d0c4e13fc76426b9d3e755b377e9cd8": {
     "model_module": "@jupyter-widgets/controls",
     "model_module_version": "1.5.0",
     "model_name": "ProgressStyleModel",
     "state": {
      "_model_module": "@jupyter-widgets/controls",
      "_model_module_version": "1.5.0",
      "_model_name": "ProgressStyleModel",
      "_view_count": null,
      "_view_module": "@jupyter-widgets/base",
      "_view_module_version": "1.2.0",
      "_view_name": "StyleView",
      "bar_color": null,
      "description_width": ""
     }
    },
    "5eeda95196e0480f9d57b70f37c94f2a": {
     "model_module": "@jupyter-widgets/base",
     "model_module_version": "1.2.0",
     "model_name": "LayoutModel",
     "state": {
      "_model_module": "@jupyter-widgets/base",
      "_model_module_version": "1.2.0",
      "_model_name": "LayoutModel",
      "_view_count": null,
      "_view_module": "@jupyter-widgets/base",
      "_view_module_version": "1.2.0",
      "_view_name": "LayoutView",
      "align_content": null,
      "align_items": null,
      "align_self": null,
      "border": null,
      "bottom": null,
      "display": null,
      "flex": null,
      "flex_flow": null,
      "grid_area": null,
      "grid_auto_columns": null,
      "grid_auto_flow": null,
      "grid_auto_rows": null,
      "grid_column": null,
      "grid_gap": null,
      "grid_row": null,
      "grid_template_areas": null,
      "grid_template_columns": null,
      "grid_template_rows": null,
      "height": null,
      "justify_content": null,
      "justify_items": null,
      "left": null,
      "margin": null,
      "max_height": null,
      "max_width": null,
      "min_height": null,
      "min_width": null,
      "object_fit": null,
      "object_position": null,
      "order": null,
      "overflow": null,
      "overflow_x": null,
      "overflow_y": null,
      "padding": null,
      "right": null,
      "top": null,
      "visibility": null,
      "width": null
     }
    },
    "60333b13499040b0be50dba42e1eb2f6": {
     "model_module": "@jupyter-widgets/controls",
     "model_module_version": "1.5.0",
     "model_name": "DescriptionStyleModel",
     "state": {
      "_model_module": "@jupyter-widgets/controls",
      "_model_module_version": "1.5.0",
      "_model_name": "DescriptionStyleModel",
      "_view_count": null,
      "_view_module": "@jupyter-widgets/base",
      "_view_module_version": "1.2.0",
      "_view_name": "StyleView",
      "description_width": ""
     }
    },
    "61270d10b71646eba98cadae80055651": {
     "model_module": "@jupyter-widgets/base",
     "model_module_version": "1.2.0",
     "model_name": "LayoutModel",
     "state": {
      "_model_module": "@jupyter-widgets/base",
      "_model_module_version": "1.2.0",
      "_model_name": "LayoutModel",
      "_view_count": null,
      "_view_module": "@jupyter-widgets/base",
      "_view_module_version": "1.2.0",
      "_view_name": "LayoutView",
      "align_content": null,
      "align_items": null,
      "align_self": null,
      "border": null,
      "bottom": null,
      "display": null,
      "flex": null,
      "flex_flow": null,
      "grid_area": null,
      "grid_auto_columns": null,
      "grid_auto_flow": null,
      "grid_auto_rows": null,
      "grid_column": null,
      "grid_gap": null,
      "grid_row": null,
      "grid_template_areas": null,
      "grid_template_columns": null,
      "grid_template_rows": null,
      "height": null,
      "justify_content": null,
      "justify_items": null,
      "left": null,
      "margin": null,
      "max_height": null,
      "max_width": null,
      "min_height": null,
      "min_width": null,
      "object_fit": null,
      "object_position": null,
      "order": null,
      "overflow": null,
      "overflow_x": null,
      "overflow_y": null,
      "padding": null,
      "right": null,
      "top": null,
      "visibility": null,
      "width": null
     }
    },
    "61d2f96afad84af2b0279c0cbc059716": {
     "model_module": "@jupyter-widgets/controls",
     "model_module_version": "1.5.0",
     "model_name": "ProgressStyleModel",
     "state": {
      "_model_module": "@jupyter-widgets/controls",
      "_model_module_version": "1.5.0",
      "_model_name": "ProgressStyleModel",
      "_view_count": null,
      "_view_module": "@jupyter-widgets/base",
      "_view_module_version": "1.2.0",
      "_view_name": "StyleView",
      "bar_color": null,
      "description_width": ""
     }
    },
    "66851f18df614f1b909c3b97200816a6": {
     "model_module": "@jupyter-widgets/controls",
     "model_module_version": "1.5.0",
     "model_name": "FloatProgressModel",
     "state": {
      "_dom_classes": [],
      "_model_module": "@jupyter-widgets/controls",
      "_model_module_version": "1.5.0",
      "_model_name": "FloatProgressModel",
      "_view_count": null,
      "_view_module": "@jupyter-widgets/controls",
      "_view_module_version": "1.5.0",
      "_view_name": "ProgressView",
      "bar_style": "success",
      "description": "",
      "description_tooltip": null,
      "layout": "IPY_MODEL_5317fe4b986c4c1090af57afa18052a0",
      "max": 33,
      "min": 0,
      "orientation": "horizontal",
      "style": "IPY_MODEL_b74d34218f814166a8499ae748d0e160",
      "value": 33
     }
    },
    "69a80dc0e288471182f7d538a0c1c806": {
     "model_module": "@jupyter-widgets/controls",
     "model_module_version": "1.5.0",
     "model_name": "HBoxModel",
     "state": {
      "_dom_classes": [],
      "_model_module": "@jupyter-widgets/controls",
      "_model_module_version": "1.5.0",
      "_model_name": "HBoxModel",
      "_view_count": null,
      "_view_module": "@jupyter-widgets/controls",
      "_view_module_version": "1.5.0",
      "_view_name": "HBoxView",
      "box_style": "",
      "children": [
       "IPY_MODEL_b3b4acdae932491dac1739500641b24e",
       "IPY_MODEL_821673b133c14a2f8f7f37aacccb3f26",
       "IPY_MODEL_6acdf130759842e1ac3019f672c6b73d"
      ],
      "layout": "IPY_MODEL_c0eb2c1081b1405db040fe0f161a93a0"
     }
    },
    "6acdf130759842e1ac3019f672c6b73d": {
     "model_module": "@jupyter-widgets/controls",
     "model_module_version": "1.5.0",
     "model_name": "HTMLModel",
     "state": {
      "_dom_classes": [],
      "_model_module": "@jupyter-widgets/controls",
      "_model_module_version": "1.5.0",
      "_model_name": "HTMLModel",
      "_view_count": null,
      "_view_module": "@jupyter-widgets/controls",
      "_view_module_version": "1.5.0",
      "_view_name": "HTMLView",
      "description": "",
      "description_tooltip": null,
      "layout": "IPY_MODEL_176afa8789354e2fa69a611192f3012d",
      "placeholder": "​",
      "style": "IPY_MODEL_3fb1dc36724147b5a6f23930cadbe056",
      "value": " 33/33 [01:56&lt;00:00,  2.53s/it, _timer/_fps=7.599, _timer/batch_time=1.842, _timer/data_time=1.773, _timer/model_time=0.069, loss=7.226, lr=1.000e-03, map10=0.000e+00, momentum=0.900, ndcg20=0.000e+00]"
     }
    },
    "6ba9c0f7584b487585dfea7d288c1514": {
     "model_module": "@jupyter-widgets/controls",
     "model_module_version": "1.5.0",
     "model_name": "HTMLModel",
     "state": {
      "_dom_classes": [],
      "_model_module": "@jupyter-widgets/controls",
      "_model_module_version": "1.5.0",
      "_model_name": "HTMLModel",
      "_view_count": null,
      "_view_module": "@jupyter-widgets/controls",
      "_view_module_version": "1.5.0",
      "_view_name": "HTMLView",
      "description": "",
      "description_tooltip": null,
      "layout": "IPY_MODEL_3b28ec0c07c941e9b46fce4b17e5b922",
      "placeholder": "​",
      "style": "IPY_MODEL_ea539ef104d444c1b50a85b6542f2fe3",
      "value": "3/100 * Epoch (train): 100%"
     }
    },
    "6bf0ab7cb82549119f3356a63f37d69a": {
     "model_module": "@jupyter-widgets/base",
     "model_module_version": "1.2.0",
     "model_name": "LayoutModel",
     "state": {
      "_model_module": "@jupyter-widgets/base",
      "_model_module_version": "1.2.0",
      "_model_name": "LayoutModel",
      "_view_count": null,
      "_view_module": "@jupyter-widgets/base",
      "_view_module_version": "1.2.0",
      "_view_name": "LayoutView",
      "align_content": null,
      "align_items": null,
      "align_self": null,
      "border": null,
      "bottom": null,
      "display": null,
      "flex": null,
      "flex_flow": null,
      "grid_area": null,
      "grid_auto_columns": null,
      "grid_auto_flow": null,
      "grid_auto_rows": null,
      "grid_column": null,
      "grid_gap": null,
      "grid_row": null,
      "grid_template_areas": null,
      "grid_template_columns": null,
      "grid_template_rows": null,
      "height": null,
      "justify_content": null,
      "justify_items": null,
      "left": null,
      "margin": null,
      "max_height": null,
      "max_width": null,
      "min_height": null,
      "min_width": null,
      "object_fit": null,
      "object_position": null,
      "order": null,
      "overflow": null,
      "overflow_x": null,
      "overflow_y": null,
      "padding": null,
      "right": null,
      "top": null,
      "visibility": null,
      "width": null
     }
    },
    "6cf0e99447e94c4da64d4068ddc8a016": {
     "model_module": "@jupyter-widgets/base",
     "model_module_version": "1.2.0",
     "model_name": "LayoutModel",
     "state": {
      "_model_module": "@jupyter-widgets/base",
      "_model_module_version": "1.2.0",
      "_model_name": "LayoutModel",
      "_view_count": null,
      "_view_module": "@jupyter-widgets/base",
      "_view_module_version": "1.2.0",
      "_view_name": "LayoutView",
      "align_content": null,
      "align_items": null,
      "align_self": null,
      "border": null,
      "bottom": null,
      "display": null,
      "flex": null,
      "flex_flow": null,
      "grid_area": null,
      "grid_auto_columns": null,
      "grid_auto_flow": null,
      "grid_auto_rows": null,
      "grid_column": null,
      "grid_gap": null,
      "grid_row": null,
      "grid_template_areas": null,
      "grid_template_columns": null,
      "grid_template_rows": null,
      "height": null,
      "justify_content": null,
      "justify_items": null,
      "left": null,
      "margin": null,
      "max_height": null,
      "max_width": null,
      "min_height": null,
      "min_width": null,
      "object_fit": null,
      "object_position": null,
      "order": null,
      "overflow": null,
      "overflow_x": null,
      "overflow_y": null,
      "padding": null,
      "right": null,
      "top": null,
      "visibility": null,
      "width": null
     }
    },
    "6d52b0bf2391423ba980fc715a729d0b": {
     "model_module": "@jupyter-widgets/controls",
     "model_module_version": "1.5.0",
     "model_name": "DescriptionStyleModel",
     "state": {
      "_model_module": "@jupyter-widgets/controls",
      "_model_module_version": "1.5.0",
      "_model_name": "DescriptionStyleModel",
      "_view_count": null,
      "_view_module": "@jupyter-widgets/base",
      "_view_module_version": "1.2.0",
      "_view_name": "StyleView",
      "description_width": ""
     }
    },
    "6f46c16a884642d7b64edf0210899cf7": {
     "model_module": "@jupyter-widgets/controls",
     "model_module_version": "1.5.0",
     "model_name": "DescriptionStyleModel",
     "state": {
      "_model_module": "@jupyter-widgets/controls",
      "_model_module_version": "1.5.0",
      "_model_name": "DescriptionStyleModel",
      "_view_count": null,
      "_view_module": "@jupyter-widgets/base",
      "_view_module_version": "1.2.0",
      "_view_name": "StyleView",
      "description_width": ""
     }
    },
    "6f6d54321e6544de854a3cd1be188e25": {
     "model_module": "@jupyter-widgets/controls",
     "model_module_version": "1.5.0",
     "model_name": "FloatProgressModel",
     "state": {
      "_dom_classes": [],
      "_model_module": "@jupyter-widgets/controls",
      "_model_module_version": "1.5.0",
      "_model_name": "FloatProgressModel",
      "_view_count": null,
      "_view_module": "@jupyter-widgets/controls",
      "_view_module_version": "1.5.0",
      "_view_name": "ProgressView",
      "bar_style": "success",
      "description": "",
      "description_tooltip": null,
      "layout": "IPY_MODEL_6bf0ab7cb82549119f3356a63f37d69a",
      "max": 33,
      "min": 0,
      "orientation": "horizontal",
      "style": "IPY_MODEL_3737ee01c5584f3fa8b8d82fe765690d",
      "value": 33
     }
    },
    "6fbc49b396e249e995231b020c989cc4": {
     "model_module": "@jupyter-widgets/controls",
     "model_module_version": "1.5.0",
     "model_name": "FloatProgressModel",
     "state": {
      "_dom_classes": [],
      "_model_module": "@jupyter-widgets/controls",
      "_model_module_version": "1.5.0",
      "_model_name": "FloatProgressModel",
      "_view_count": null,
      "_view_module": "@jupyter-widgets/controls",
      "_view_module_version": "1.5.0",
      "_view_name": "ProgressView",
      "bar_style": "success",
      "description": "",
      "description_tooltip": null,
      "layout": "IPY_MODEL_722482e3a85146198e8303c1ae65dfcb",
      "max": 33,
      "min": 0,
      "orientation": "horizontal",
      "style": "IPY_MODEL_9f480c68872c4f27a65841c079e0e12e",
      "value": 33
     }
    },
    "70bc990d388d4ec79c405f3d47c99fad": {
     "model_module": "@jupyter-widgets/base",
     "model_module_version": "1.2.0",
     "model_name": "LayoutModel",
     "state": {
      "_model_module": "@jupyter-widgets/base",
      "_model_module_version": "1.2.0",
      "_model_name": "LayoutModel",
      "_view_count": null,
      "_view_module": "@jupyter-widgets/base",
      "_view_module_version": "1.2.0",
      "_view_name": "LayoutView",
      "align_content": null,
      "align_items": null,
      "align_self": null,
      "border": null,
      "bottom": null,
      "display": null,
      "flex": null,
      "flex_flow": null,
      "grid_area": null,
      "grid_auto_columns": null,
      "grid_auto_flow": null,
      "grid_auto_rows": null,
      "grid_column": null,
      "grid_gap": null,
      "grid_row": null,
      "grid_template_areas": null,
      "grid_template_columns": null,
      "grid_template_rows": null,
      "height": null,
      "justify_content": null,
      "justify_items": null,
      "left": null,
      "margin": null,
      "max_height": null,
      "max_width": null,
      "min_height": null,
      "min_width": null,
      "object_fit": null,
      "object_position": null,
      "order": null,
      "overflow": null,
      "overflow_x": null,
      "overflow_y": null,
      "padding": null,
      "right": null,
      "top": null,
      "visibility": null,
      "width": null
     }
    },
    "71bd1acec91a459f861a6b7dc4e2987e": {
     "model_module": "@jupyter-widgets/controls",
     "model_module_version": "1.5.0",
     "model_name": "HTMLModel",
     "state": {
      "_dom_classes": [],
      "_model_module": "@jupyter-widgets/controls",
      "_model_module_version": "1.5.0",
      "_model_name": "HTMLModel",
      "_view_count": null,
      "_view_module": "@jupyter-widgets/controls",
      "_view_module_version": "1.5.0",
      "_view_name": "HTMLView",
      "description": "",
      "description_tooltip": null,
      "layout": "IPY_MODEL_9c0a35e939b844d7b7533cbff7ea8635",
      "placeholder": "​",
      "style": "IPY_MODEL_d6af1cc58a0e481cad346e244378c2c9",
      "value": " 33/33 [01:55&lt;00:00,  2.55s/it, _timer/_fps=7.642, _timer/batch_time=1.832, _timer/data_time=1.772, _timer/model_time=0.060, loss=7.290, lr=1.000e-03, map10=0.000e+00, momentum=0.900, ndcg20=0.000e+00]"
     }
    },
    "722482e3a85146198e8303c1ae65dfcb": {
     "model_module": "@jupyter-widgets/base",
     "model_module_version": "1.2.0",
     "model_name": "LayoutModel",
     "state": {
      "_model_module": "@jupyter-widgets/base",
      "_model_module_version": "1.2.0",
      "_model_name": "LayoutModel",
      "_view_count": null,
      "_view_module": "@jupyter-widgets/base",
      "_view_module_version": "1.2.0",
      "_view_name": "LayoutView",
      "align_content": null,
      "align_items": null,
      "align_self": null,
      "border": null,
      "bottom": null,
      "display": null,
      "flex": null,
      "flex_flow": null,
      "grid_area": null,
      "grid_auto_columns": null,
      "grid_auto_flow": null,
      "grid_auto_rows": null,
      "grid_column": null,
      "grid_gap": null,
      "grid_row": null,
      "grid_template_areas": null,
      "grid_template_columns": null,
      "grid_template_rows": null,
      "height": null,
      "justify_content": null,
      "justify_items": null,
      "left": null,
      "margin": null,
      "max_height": null,
      "max_width": null,
      "min_height": null,
      "min_width": null,
      "object_fit": null,
      "object_position": null,
      "order": null,
      "overflow": null,
      "overflow_x": null,
      "overflow_y": null,
      "padding": null,
      "right": null,
      "top": null,
      "visibility": null,
      "width": null
     }
    },
    "73f9dce631e44d9f90c31842667e6539": {
     "model_module": "@jupyter-widgets/controls",
     "model_module_version": "1.5.0",
     "model_name": "HBoxModel",
     "state": {
      "_dom_classes": [],
      "_model_module": "@jupyter-widgets/controls",
      "_model_module_version": "1.5.0",
      "_model_name": "HBoxModel",
      "_view_count": null,
      "_view_module": "@jupyter-widgets/controls",
      "_view_module_version": "1.5.0",
      "_view_name": "HBoxView",
      "box_style": "",
      "children": [
       "IPY_MODEL_a606c07cac7d4bf5abc5ab45dcfad295",
       "IPY_MODEL_6fbc49b396e249e995231b020c989cc4",
       "IPY_MODEL_fc049e1b7b7944658c897020df0c06dc"
      ],
      "layout": "IPY_MODEL_91e86cd48878402baa089ba47bdefc53"
     }
    },
    "7c02b75ba6c344a29e13c5acdd83e790": {
     "model_module": "@jupyter-widgets/controls",
     "model_module_version": "1.5.0",
     "model_name": "HTMLModel",
     "state": {
      "_dom_classes": [],
      "_model_module": "@jupyter-widgets/controls",
      "_model_module_version": "1.5.0",
      "_model_name": "HTMLModel",
      "_view_count": null,
      "_view_module": "@jupyter-widgets/controls",
      "_view_module_version": "1.5.0",
      "_view_name": "HTMLView",
      "description": "",
      "description_tooltip": null,
      "layout": "IPY_MODEL_5eeda95196e0480f9d57b70f37c94f2a",
      "placeholder": "​",
      "style": "IPY_MODEL_f4805ff643004c6788b19351e7170d55",
      "value": "7/100 * Epoch (valid): 100%"
     }
    },
    "7d655b3243694ac99096f1bc379e4bc1": {
     "model_module": "@jupyter-widgets/base",
     "model_module_version": "1.2.0",
     "model_name": "LayoutModel",
     "state": {
      "_model_module": "@jupyter-widgets/base",
      "_model_module_version": "1.2.0",
      "_model_name": "LayoutModel",
      "_view_count": null,
      "_view_module": "@jupyter-widgets/base",
      "_view_module_version": "1.2.0",
      "_view_name": "LayoutView",
      "align_content": null,
      "align_items": null,
      "align_self": null,
      "border": null,
      "bottom": null,
      "display": null,
      "flex": null,
      "flex_flow": null,
      "grid_area": null,
      "grid_auto_columns": null,
      "grid_auto_flow": null,
      "grid_auto_rows": null,
      "grid_column": null,
      "grid_gap": null,
      "grid_row": null,
      "grid_template_areas": null,
      "grid_template_columns": null,
      "grid_template_rows": null,
      "height": null,
      "justify_content": null,
      "justify_items": null,
      "left": null,
      "margin": null,
      "max_height": null,
      "max_width": null,
      "min_height": null,
      "min_width": null,
      "object_fit": null,
      "object_position": null,
      "order": null,
      "overflow": null,
      "overflow_x": null,
      "overflow_y": null,
      "padding": null,
      "right": null,
      "top": null,
      "visibility": null,
      "width": null
     }
    },
    "821673b133c14a2f8f7f37aacccb3f26": {
     "model_module": "@jupyter-widgets/controls",
     "model_module_version": "1.5.0",
     "model_name": "FloatProgressModel",
     "state": {
      "_dom_classes": [],
      "_model_module": "@jupyter-widgets/controls",
      "_model_module_version": "1.5.0",
      "_model_name": "FloatProgressModel",
      "_view_count": null,
      "_view_module": "@jupyter-widgets/controls",
      "_view_module_version": "1.5.0",
      "_view_name": "ProgressView",
      "bar_style": "success",
      "description": "",
      "description_tooltip": null,
      "layout": "IPY_MODEL_fd08d428a191490aad0633b2a646c268",
      "max": 33,
      "min": 0,
      "orientation": "horizontal",
      "style": "IPY_MODEL_3db4501694e047638e8b5e4eff147e33",
      "value": 33
     }
    },
    "89d503a203914472815978718b2ee7d6": {
     "model_module": "@jupyter-widgets/controls",
     "model_module_version": "1.5.0",
     "model_name": "HTMLModel",
     "state": {
      "_dom_classes": [],
      "_model_module": "@jupyter-widgets/controls",
      "_model_module_version": "1.5.0",
      "_model_name": "HTMLModel",
      "_view_count": null,
      "_view_module": "@jupyter-widgets/controls",
      "_view_module_version": "1.5.0",
      "_view_name": "HTMLView",
      "description": "",
      "description_tooltip": null,
      "layout": "IPY_MODEL_3676cc068b42462589d0fffa89767143",
      "placeholder": "​",
      "style": "IPY_MODEL_1ef8eeb51b9143b2862790be40cfe833",
      "value": " 33/33 [01:22&lt;00:00,  1.88s/it, _timer/_fps=106.462, _timer/batch_time=0.132, _timer/data_time=0.011, _timer/model_time=0.121, loss=7.158, lr=1.000e-03, map10=0.231, momentum=0.900, ndcg20=0.166]"
     }
    },
    "8c46b4d821c64597a09c56646160217b": {
     "model_module": "@jupyter-widgets/base",
     "model_module_version": "1.2.0",
     "model_name": "LayoutModel",
     "state": {
      "_model_module": "@jupyter-widgets/base",
      "_model_module_version": "1.2.0",
      "_model_name": "LayoutModel",
      "_view_count": null,
      "_view_module": "@jupyter-widgets/base",
      "_view_module_version": "1.2.0",
      "_view_name": "LayoutView",
      "align_content": null,
      "align_items": null,
      "align_self": null,
      "border": null,
      "bottom": null,
      "display": null,
      "flex": null,
      "flex_flow": null,
      "grid_area": null,
      "grid_auto_columns": null,
      "grid_auto_flow": null,
      "grid_auto_rows": null,
      "grid_column": null,
      "grid_gap": null,
      "grid_row": null,
      "grid_template_areas": null,
      "grid_template_columns": null,
      "grid_template_rows": null,
      "height": null,
      "justify_content": null,
      "justify_items": null,
      "left": null,
      "margin": null,
      "max_height": null,
      "max_width": null,
      "min_height": null,
      "min_width": null,
      "object_fit": null,
      "object_position": null,
      "order": null,
      "overflow": null,
      "overflow_x": null,
      "overflow_y": null,
      "padding": null,
      "right": null,
      "top": null,
      "visibility": null,
      "width": null
     }
    },
    "8e1fd7dc1cce4743b7f3999cec5b51d5": {
     "model_module": "@jupyter-widgets/base",
     "model_module_version": "1.2.0",
     "model_name": "LayoutModel",
     "state": {
      "_model_module": "@jupyter-widgets/base",
      "_model_module_version": "1.2.0",
      "_model_name": "LayoutModel",
      "_view_count": null,
      "_view_module": "@jupyter-widgets/base",
      "_view_module_version": "1.2.0",
      "_view_name": "LayoutView",
      "align_content": null,
      "align_items": null,
      "align_self": null,
      "border": null,
      "bottom": null,
      "display": null,
      "flex": null,
      "flex_flow": null,
      "grid_area": null,
      "grid_auto_columns": null,
      "grid_auto_flow": null,
      "grid_auto_rows": null,
      "grid_column": null,
      "grid_gap": null,
      "grid_row": null,
      "grid_template_areas": null,
      "grid_template_columns": null,
      "grid_template_rows": null,
      "height": null,
      "justify_content": null,
      "justify_items": null,
      "left": null,
      "margin": null,
      "max_height": null,
      "max_width": null,
      "min_height": null,
      "min_width": null,
      "object_fit": null,
      "object_position": null,
      "order": null,
      "overflow": null,
      "overflow_x": null,
      "overflow_y": null,
      "padding": null,
      "right": null,
      "top": null,
      "visibility": null,
      "width": null
     }
    },
    "8efc084da2d74f9ca1f6606c2e211199": {
     "model_module": "@jupyter-widgets/base",
     "model_module_version": "1.2.0",
     "model_name": "LayoutModel",
     "state": {
      "_model_module": "@jupyter-widgets/base",
      "_model_module_version": "1.2.0",
      "_model_name": "LayoutModel",
      "_view_count": null,
      "_view_module": "@jupyter-widgets/base",
      "_view_module_version": "1.2.0",
      "_view_name": "LayoutView",
      "align_content": null,
      "align_items": null,
      "align_self": null,
      "border": null,
      "bottom": null,
      "display": null,
      "flex": null,
      "flex_flow": null,
      "grid_area": null,
      "grid_auto_columns": null,
      "grid_auto_flow": null,
      "grid_auto_rows": null,
      "grid_column": null,
      "grid_gap": null,
      "grid_row": null,
      "grid_template_areas": null,
      "grid_template_columns": null,
      "grid_template_rows": null,
      "height": null,
      "justify_content": null,
      "justify_items": null,
      "left": null,
      "margin": null,
      "max_height": null,
      "max_width": null,
      "min_height": null,
      "min_width": null,
      "object_fit": null,
      "object_position": null,
      "order": null,
      "overflow": null,
      "overflow_x": null,
      "overflow_y": null,
      "padding": null,
      "right": null,
      "top": null,
      "visibility": null,
      "width": null
     }
    },
    "91e86cd48878402baa089ba47bdefc53": {
     "model_module": "@jupyter-widgets/base",
     "model_module_version": "1.2.0",
     "model_name": "LayoutModel",
     "state": {
      "_model_module": "@jupyter-widgets/base",
      "_model_module_version": "1.2.0",
      "_model_name": "LayoutModel",
      "_view_count": null,
      "_view_module": "@jupyter-widgets/base",
      "_view_module_version": "1.2.0",
      "_view_name": "LayoutView",
      "align_content": null,
      "align_items": null,
      "align_self": null,
      "border": null,
      "bottom": null,
      "display": null,
      "flex": null,
      "flex_flow": null,
      "grid_area": null,
      "grid_auto_columns": null,
      "grid_auto_flow": null,
      "grid_auto_rows": null,
      "grid_column": null,
      "grid_gap": null,
      "grid_row": null,
      "grid_template_areas": null,
      "grid_template_columns": null,
      "grid_template_rows": null,
      "height": null,
      "justify_content": null,
      "justify_items": null,
      "left": null,
      "margin": null,
      "max_height": null,
      "max_width": null,
      "min_height": null,
      "min_width": null,
      "object_fit": null,
      "object_position": null,
      "order": null,
      "overflow": null,
      "overflow_x": null,
      "overflow_y": null,
      "padding": null,
      "right": null,
      "top": null,
      "visibility": null,
      "width": null
     }
    },
    "92897a5f15254f4796479e5483936767": {
     "model_module": "@jupyter-widgets/base",
     "model_module_version": "1.2.0",
     "model_name": "LayoutModel",
     "state": {
      "_model_module": "@jupyter-widgets/base",
      "_model_module_version": "1.2.0",
      "_model_name": "LayoutModel",
      "_view_count": null,
      "_view_module": "@jupyter-widgets/base",
      "_view_module_version": "1.2.0",
      "_view_name": "LayoutView",
      "align_content": null,
      "align_items": null,
      "align_self": null,
      "border": null,
      "bottom": null,
      "display": null,
      "flex": null,
      "flex_flow": null,
      "grid_area": null,
      "grid_auto_columns": null,
      "grid_auto_flow": null,
      "grid_auto_rows": null,
      "grid_column": null,
      "grid_gap": null,
      "grid_row": null,
      "grid_template_areas": null,
      "grid_template_columns": null,
      "grid_template_rows": null,
      "height": null,
      "justify_content": null,
      "justify_items": null,
      "left": null,
      "margin": null,
      "max_height": null,
      "max_width": null,
      "min_height": null,
      "min_width": null,
      "object_fit": null,
      "object_position": null,
      "order": null,
      "overflow": null,
      "overflow_x": null,
      "overflow_y": null,
      "padding": null,
      "right": null,
      "top": null,
      "visibility": null,
      "width": null
     }
    },
    "92d75a12f5de40fdbd7b001100775940": {
     "model_module": "@jupyter-widgets/controls",
     "model_module_version": "1.5.0",
     "model_name": "ProgressStyleModel",
     "state": {
      "_model_module": "@jupyter-widgets/controls",
      "_model_module_version": "1.5.0",
      "_model_name": "ProgressStyleModel",
      "_view_count": null,
      "_view_module": "@jupyter-widgets/base",
      "_view_module_version": "1.2.0",
      "_view_name": "StyleView",
      "bar_color": null,
      "description_width": ""
     }
    },
    "92df17d67e824527ac520c7425e939d8": {
     "model_module": "@jupyter-widgets/base",
     "model_module_version": "1.2.0",
     "model_name": "LayoutModel",
     "state": {
      "_model_module": "@jupyter-widgets/base",
      "_model_module_version": "1.2.0",
      "_model_name": "LayoutModel",
      "_view_count": null,
      "_view_module": "@jupyter-widgets/base",
      "_view_module_version": "1.2.0",
      "_view_name": "LayoutView",
      "align_content": null,
      "align_items": null,
      "align_self": null,
      "border": null,
      "bottom": null,
      "display": null,
      "flex": null,
      "flex_flow": null,
      "grid_area": null,
      "grid_auto_columns": null,
      "grid_auto_flow": null,
      "grid_auto_rows": null,
      "grid_column": null,
      "grid_gap": null,
      "grid_row": null,
      "grid_template_areas": null,
      "grid_template_columns": null,
      "grid_template_rows": null,
      "height": null,
      "justify_content": null,
      "justify_items": null,
      "left": null,
      "margin": null,
      "max_height": null,
      "max_width": null,
      "min_height": null,
      "min_width": null,
      "object_fit": null,
      "object_position": null,
      "order": null,
      "overflow": null,
      "overflow_x": null,
      "overflow_y": null,
      "padding": null,
      "right": null,
      "top": null,
      "visibility": null,
      "width": null
     }
    },
    "9304e70c355043d6b196b8ea43a0ddba": {
     "model_module": "@jupyter-widgets/controls",
     "model_module_version": "1.5.0",
     "model_name": "HTMLModel",
     "state": {
      "_dom_classes": [],
      "_model_module": "@jupyter-widgets/controls",
      "_model_module_version": "1.5.0",
      "_model_name": "HTMLModel",
      "_view_count": null,
      "_view_module": "@jupyter-widgets/controls",
      "_view_module_version": "1.5.0",
      "_view_name": "HTMLView",
      "description": "",
      "description_tooltip": null,
      "layout": "IPY_MODEL_f6f877e737714ce7b24f20d94e9e054d",
      "placeholder": "​",
      "style": "IPY_MODEL_4f0ff176229849e79b3ede66c06ff941",
      "value": " 33/33 [01:57&lt;00:00,  2.62s/it, _timer/_fps=7.493, _timer/batch_time=1.868, _timer/data_time=1.804, _timer/model_time=0.065, loss=7.603, lr=1.000e-03, map10=0.000e+00, momentum=0.900, ndcg20=0.000e+00]"
     }
    },
    "933c22c674d24ea79368c0e5f56e3812": {
     "model_module": "@jupyter-widgets/controls",
     "model_module_version": "1.5.0",
     "model_name": "HTMLModel",
     "state": {
      "_dom_classes": [],
      "_model_module": "@jupyter-widgets/controls",
      "_model_module_version": "1.5.0",
      "_model_name": "HTMLModel",
      "_view_count": null,
      "_view_module": "@jupyter-widgets/controls",
      "_view_module_version": "1.5.0",
      "_view_name": "HTMLView",
      "description": "",
      "description_tooltip": null,
      "layout": "IPY_MODEL_8c46b4d821c64597a09c56646160217b",
      "placeholder": "​",
      "style": "IPY_MODEL_db662d2023234605a32cb0d59301272f",
      "value": "6/100 * Epoch (valid): 100%"
     }
    },
    "96fe43504a5342d29ae63b04c870f700": {
     "model_module": "@jupyter-widgets/base",
     "model_module_version": "1.2.0",
     "model_name": "LayoutModel",
     "state": {
      "_model_module": "@jupyter-widgets/base",
      "_model_module_version": "1.2.0",
      "_model_name": "LayoutModel",
      "_view_count": null,
      "_view_module": "@jupyter-widgets/base",
      "_view_module_version": "1.2.0",
      "_view_name": "LayoutView",
      "align_content": null,
      "align_items": null,
      "align_self": null,
      "border": null,
      "bottom": null,
      "display": null,
      "flex": null,
      "flex_flow": null,
      "grid_area": null,
      "grid_auto_columns": null,
      "grid_auto_flow": null,
      "grid_auto_rows": null,
      "grid_column": null,
      "grid_gap": null,
      "grid_row": null,
      "grid_template_areas": null,
      "grid_template_columns": null,
      "grid_template_rows": null,
      "height": null,
      "justify_content": null,
      "justify_items": null,
      "left": null,
      "margin": null,
      "max_height": null,
      "max_width": null,
      "min_height": null,
      "min_width": null,
      "object_fit": null,
      "object_position": null,
      "order": null,
      "overflow": null,
      "overflow_x": null,
      "overflow_y": null,
      "padding": null,
      "right": null,
      "top": null,
      "visibility": null,
      "width": null
     }
    },
    "98aab45965954e7cbb47e6d3afe15739": {
     "model_module": "@jupyter-widgets/controls",
     "model_module_version": "1.5.0",
     "model_name": "ProgressStyleModel",
     "state": {
      "_model_module": "@jupyter-widgets/controls",
      "_model_module_version": "1.5.0",
      "_model_name": "ProgressStyleModel",
      "_view_count": null,
      "_view_module": "@jupyter-widgets/base",
      "_view_module_version": "1.2.0",
      "_view_name": "StyleView",
      "bar_color": null,
      "description_width": ""
     }
    },
    "99d259b5cc0443308cc1e7cc2b920196": {
     "model_module": "@jupyter-widgets/controls",
     "model_module_version": "1.5.0",
     "model_name": "DescriptionStyleModel",
     "state": {
      "_model_module": "@jupyter-widgets/controls",
      "_model_module_version": "1.5.0",
      "_model_name": "DescriptionStyleModel",
      "_view_count": null,
      "_view_module": "@jupyter-widgets/base",
      "_view_module_version": "1.2.0",
      "_view_name": "StyleView",
      "description_width": ""
     }
    },
    "9b14eae2aaec48b999c0fda463cf5cb2": {
     "model_module": "@jupyter-widgets/controls",
     "model_module_version": "1.5.0",
     "model_name": "HBoxModel",
     "state": {
      "_dom_classes": [],
      "_model_module": "@jupyter-widgets/controls",
      "_model_module_version": "1.5.0",
      "_model_name": "HBoxModel",
      "_view_count": null,
      "_view_module": "@jupyter-widgets/controls",
      "_view_module_version": "1.5.0",
      "_view_name": "HBoxView",
      "box_style": "",
      "children": [
       "IPY_MODEL_b0cb32c73d2f47a48fa74f122982d3f6",
       "IPY_MODEL_e01cf4605c6647af9e3ae02c9b8d88cf",
       "IPY_MODEL_0c4632053bf0407ba70a2243e617e002"
      ],
      "layout": "IPY_MODEL_fa18ba6bd93c4a7fbcc5f06258ed7fde"
     }
    },
    "9b8ea19f64c440b681b52e526e2073e7": {
     "model_module": "@jupyter-widgets/controls",
     "model_module_version": "1.5.0",
     "model_name": "HTMLModel",
     "state": {
      "_dom_classes": [],
      "_model_module": "@jupyter-widgets/controls",
      "_model_module_version": "1.5.0",
      "_model_name": "HTMLModel",
      "_view_count": null,
      "_view_module": "@jupyter-widgets/controls",
      "_view_module_version": "1.5.0",
      "_view_name": "HTMLView",
      "description": "",
      "description_tooltip": null,
      "layout": "IPY_MODEL_55a40285b9744df9a3bf2cd67fc83b2a",
      "placeholder": "​",
      "style": "IPY_MODEL_f27dba0401134a6184ee0a0e9d08f5c9",
      "value": "6/100 * Epoch (train): 100%"
     }
    },
    "9bb42397294444d6a3d9cd6b62f26eba": {
     "model_module": "@jupyter-widgets/controls",
     "model_module_version": "1.5.0",
     "model_name": "HBoxModel",
     "state": {
      "_dom_classes": [],
      "_model_module": "@jupyter-widgets/controls",
      "_model_module_version": "1.5.0",
      "_model_name": "HBoxModel",
      "_view_count": null,
      "_view_module": "@jupyter-widgets/controls",
      "_view_module_version": "1.5.0",
      "_view_name": "HBoxView",
      "box_style": "",
      "children": [
       "IPY_MODEL_37a8789fab8e40ab8210a70db76c0aee",
       "IPY_MODEL_55946c0069804d28903424e44cbd9bcb",
       "IPY_MODEL_506dc5d9574c4ed6a8a17dd9a6fccda5"
      ],
      "layout": "IPY_MODEL_df6dabd7638a468ab2ddb489a3e5933a"
     }
    },
    "9c0a35e939b844d7b7533cbff7ea8635": {
     "model_module": "@jupyter-widgets/base",
     "model_module_version": "1.2.0",
     "model_name": "LayoutModel",
     "state": {
      "_model_module": "@jupyter-widgets/base",
      "_model_module_version": "1.2.0",
      "_model_name": "LayoutModel",
      "_view_count": null,
      "_view_module": "@jupyter-widgets/base",
      "_view_module_version": "1.2.0",
      "_view_name": "LayoutView",
      "align_content": null,
      "align_items": null,
      "align_self": null,
      "border": null,
      "bottom": null,
      "display": null,
      "flex": null,
      "flex_flow": null,
      "grid_area": null,
      "grid_auto_columns": null,
      "grid_auto_flow": null,
      "grid_auto_rows": null,
      "grid_column": null,
      "grid_gap": null,
      "grid_row": null,
      "grid_template_areas": null,
      "grid_template_columns": null,
      "grid_template_rows": null,
      "height": null,
      "justify_content": null,
      "justify_items": null,
      "left": null,
      "margin": null,
      "max_height": null,
      "max_width": null,
      "min_height": null,
      "min_width": null,
      "object_fit": null,
      "object_position": null,
      "order": null,
      "overflow": null,
      "overflow_x": null,
      "overflow_y": null,
      "padding": null,
      "right": null,
      "top": null,
      "visibility": null,
      "width": null
     }
    },
    "9d1e47ef61da4152b4dc2d22c6f97c47": {
     "model_module": "@jupyter-widgets/controls",
     "model_module_version": "1.5.0",
     "model_name": "DescriptionStyleModel",
     "state": {
      "_model_module": "@jupyter-widgets/controls",
      "_model_module_version": "1.5.0",
      "_model_name": "DescriptionStyleModel",
      "_view_count": null,
      "_view_module": "@jupyter-widgets/base",
      "_view_module_version": "1.2.0",
      "_view_name": "StyleView",
      "description_width": ""
     }
    },
    "9d348e339ef646e5965032c690bec6e7": {
     "model_module": "@jupyter-widgets/controls",
     "model_module_version": "1.5.0",
     "model_name": "HTMLModel",
     "state": {
      "_dom_classes": [],
      "_model_module": "@jupyter-widgets/controls",
      "_model_module_version": "1.5.0",
      "_model_name": "HTMLModel",
      "_view_count": null,
      "_view_module": "@jupyter-widgets/controls",
      "_view_module_version": "1.5.0",
      "_view_name": "HTMLView",
      "description": "",
      "description_tooltip": null,
      "layout": "IPY_MODEL_92df17d67e824527ac520c7425e939d8",
      "placeholder": "​",
      "style": "IPY_MODEL_320655fc40134a4ea41df0dff94c2ce5",
      "value": " 33/33 [01:22&lt;00:00,  1.78s/it, _timer/_fps=91.543, _timer/batch_time=0.153, _timer/data_time=0.012, _timer/model_time=0.141, loss=7.239, lr=1.000e-03, map10=0.168, momentum=0.900, ndcg20=0.134]"
     }
    },
    "9f1e7e451c0c4d2b9e1845c1d4b8c09c": {
     "model_module": "@jupyter-widgets/controls",
     "model_module_version": "1.5.0",
     "model_name": "FloatProgressModel",
     "state": {
      "_dom_classes": [],
      "_model_module": "@jupyter-widgets/controls",
      "_model_module_version": "1.5.0",
      "_model_name": "FloatProgressModel",
      "_view_count": null,
      "_view_module": "@jupyter-widgets/controls",
      "_view_module_version": "1.5.0",
      "_view_name": "ProgressView",
      "bar_style": "success",
      "description": "",
      "description_tooltip": null,
      "layout": "IPY_MODEL_8e1fd7dc1cce4743b7f3999cec5b51d5",
      "max": 33,
      "min": 0,
      "orientation": "horizontal",
      "style": "IPY_MODEL_25a1d2648c054e6b853e4d11c97b7b2b",
      "value": 33
     }
    },
    "9f480c68872c4f27a65841c079e0e12e": {
     "model_module": "@jupyter-widgets/controls",
     "model_module_version": "1.5.0",
     "model_name": "ProgressStyleModel",
     "state": {
      "_model_module": "@jupyter-widgets/controls",
      "_model_module_version": "1.5.0",
      "_model_name": "ProgressStyleModel",
      "_view_count": null,
      "_view_module": "@jupyter-widgets/base",
      "_view_module_version": "1.2.0",
      "_view_name": "StyleView",
      "bar_color": null,
      "description_width": ""
     }
    },
    "a3fc7a3ddd034373b28cb1417acfb66b": {
     "model_module": "@jupyter-widgets/base",
     "model_module_version": "1.2.0",
     "model_name": "LayoutModel",
     "state": {
      "_model_module": "@jupyter-widgets/base",
      "_model_module_version": "1.2.0",
      "_model_name": "LayoutModel",
      "_view_count": null,
      "_view_module": "@jupyter-widgets/base",
      "_view_module_version": "1.2.0",
      "_view_name": "LayoutView",
      "align_content": null,
      "align_items": null,
      "align_self": null,
      "border": null,
      "bottom": null,
      "display": null,
      "flex": null,
      "flex_flow": null,
      "grid_area": null,
      "grid_auto_columns": null,
      "grid_auto_flow": null,
      "grid_auto_rows": null,
      "grid_column": null,
      "grid_gap": null,
      "grid_row": null,
      "grid_template_areas": null,
      "grid_template_columns": null,
      "grid_template_rows": null,
      "height": null,
      "justify_content": null,
      "justify_items": null,
      "left": null,
      "margin": null,
      "max_height": null,
      "max_width": null,
      "min_height": null,
      "min_width": null,
      "object_fit": null,
      "object_position": null,
      "order": null,
      "overflow": null,
      "overflow_x": null,
      "overflow_y": null,
      "padding": null,
      "right": null,
      "top": null,
      "visibility": null,
      "width": null
     }
    },
    "a4825b58bfcf4b5d87cb6ebb79a30f01": {
     "model_module": "@jupyter-widgets/base",
     "model_module_version": "1.2.0",
     "model_name": "LayoutModel",
     "state": {
      "_model_module": "@jupyter-widgets/base",
      "_model_module_version": "1.2.0",
      "_model_name": "LayoutModel",
      "_view_count": null,
      "_view_module": "@jupyter-widgets/base",
      "_view_module_version": "1.2.0",
      "_view_name": "LayoutView",
      "align_content": null,
      "align_items": null,
      "align_self": null,
      "border": null,
      "bottom": null,
      "display": null,
      "flex": null,
      "flex_flow": null,
      "grid_area": null,
      "grid_auto_columns": null,
      "grid_auto_flow": null,
      "grid_auto_rows": null,
      "grid_column": null,
      "grid_gap": null,
      "grid_row": null,
      "grid_template_areas": null,
      "grid_template_columns": null,
      "grid_template_rows": null,
      "height": null,
      "justify_content": null,
      "justify_items": null,
      "left": null,
      "margin": null,
      "max_height": null,
      "max_width": null,
      "min_height": null,
      "min_width": null,
      "object_fit": null,
      "object_position": null,
      "order": null,
      "overflow": null,
      "overflow_x": null,
      "overflow_y": null,
      "padding": null,
      "right": null,
      "top": null,
      "visibility": null,
      "width": null
     }
    },
    "a606c07cac7d4bf5abc5ab45dcfad295": {
     "model_module": "@jupyter-widgets/controls",
     "model_module_version": "1.5.0",
     "model_name": "HTMLModel",
     "state": {
      "_dom_classes": [],
      "_model_module": "@jupyter-widgets/controls",
      "_model_module_version": "1.5.0",
      "_model_name": "HTMLModel",
      "_view_count": null,
      "_view_module": "@jupyter-widgets/controls",
      "_view_module_version": "1.5.0",
      "_view_name": "HTMLView",
      "description": "",
      "description_tooltip": null,
      "layout": "IPY_MODEL_8efc084da2d74f9ca1f6606c2e211199",
      "placeholder": "​",
      "style": "IPY_MODEL_99d259b5cc0443308cc1e7cc2b920196",
      "value": "8/100 * Epoch (valid): 100%"
     }
    },
    "a67c8bb94300431cb7f683039c76aaf7": {
     "model_module": "@jupyter-widgets/controls",
     "model_module_version": "1.5.0",
     "model_name": "HBoxModel",
     "state": {
      "_dom_classes": [],
      "_model_module": "@jupyter-widgets/controls",
      "_model_module_version": "1.5.0",
      "_model_name": "HBoxModel",
      "_view_count": null,
      "_view_module": "@jupyter-widgets/controls",
      "_view_module_version": "1.5.0",
      "_view_name": "HBoxView",
      "box_style": "",
      "children": [
       "IPY_MODEL_fc1c441149d24e7c8a7ca532d7697919",
       "IPY_MODEL_f8e9e344d7724432844551b4e737a91b",
       "IPY_MODEL_89d503a203914472815978718b2ee7d6"
      ],
      "layout": "IPY_MODEL_92897a5f15254f4796479e5483936767"
     }
    },
    "a6c358c63a6a45219953e7a308a906a4": {
     "model_module": "@jupyter-widgets/controls",
     "model_module_version": "1.5.0",
     "model_name": "HBoxModel",
     "state": {
      "_dom_classes": [],
      "_model_module": "@jupyter-widgets/controls",
      "_model_module_version": "1.5.0",
      "_model_name": "HBoxModel",
      "_view_count": null,
      "_view_module": "@jupyter-widgets/controls",
      "_view_module_version": "1.5.0",
      "_view_name": "HBoxView",
      "box_style": "",
      "children": [
       "IPY_MODEL_f09129781de24c44a3081c448f87e819",
       "IPY_MODEL_0ce90e7c5401418f86ed2ad8185bbe74",
       "IPY_MODEL_9304e70c355043d6b196b8ea43a0ddba"
      ],
      "layout": "IPY_MODEL_96fe43504a5342d29ae63b04c870f700"
     }
    },
    "a7aa56c50f2a49c19a7cb747b63b93e2": {
     "model_module": "@jupyter-widgets/controls",
     "model_module_version": "1.5.0",
     "model_name": "HTMLModel",
     "state": {
      "_dom_classes": [],
      "_model_module": "@jupyter-widgets/controls",
      "_model_module_version": "1.5.0",
      "_model_name": "HTMLModel",
      "_view_count": null,
      "_view_module": "@jupyter-widgets/controls",
      "_view_module_version": "1.5.0",
      "_view_name": "HTMLView",
      "description": "",
      "description_tooltip": null,
      "layout": "IPY_MODEL_e78f82ab61bb43868a81febd94452369",
      "placeholder": "​",
      "style": "IPY_MODEL_ce665617764e476b97556b5e8d33c5cf",
      "value": "8/100 * Epoch (train): 100%"
     }
    },
    "a9a855903429447987ad437c26eede0f": {
     "model_module": "@jupyter-widgets/controls",
     "model_module_version": "1.5.0",
     "model_name": "FloatProgressModel",
     "state": {
      "_dom_classes": [],
      "_model_module": "@jupyter-widgets/controls",
      "_model_module_version": "1.5.0",
      "_model_name": "FloatProgressModel",
      "_view_count": null,
      "_view_module": "@jupyter-widgets/controls",
      "_view_module_version": "1.5.0",
      "_view_name": "ProgressView",
      "bar_style": "success",
      "description": "",
      "description_tooltip": null,
      "layout": "IPY_MODEL_4aad579c700e423dbc54b19099d3b17a",
      "max": 33,
      "min": 0,
      "orientation": "horizontal",
      "style": "IPY_MODEL_c522c6896e25487b9e41cef8d4b659ef",
      "value": 33
     }
    },
    "a9a869af666940528ab912f0c351b203": {
     "model_module": "@jupyter-widgets/controls",
     "model_module_version": "1.5.0",
     "model_name": "HBoxModel",
     "state": {
      "_dom_classes": [],
      "_model_module": "@jupyter-widgets/controls",
      "_model_module_version": "1.5.0",
      "_model_name": "HBoxModel",
      "_view_count": null,
      "_view_module": "@jupyter-widgets/controls",
      "_view_module_version": "1.5.0",
      "_view_name": "HBoxView",
      "box_style": "",
      "children": [
       "IPY_MODEL_1283dd6a977a4a14ad530b68a2a4f2f5",
       "IPY_MODEL_4e23784e0382402a9ce4492cf78f266a",
       "IPY_MODEL_71bd1acec91a459f861a6b7dc4e2987e"
      ],
      "layout": "IPY_MODEL_70bc990d388d4ec79c405f3d47c99fad"
     }
    },
    "aa9dcac515da49aabd76136f9bbabf0a": {
     "model_module": "@jupyter-widgets/controls",
     "model_module_version": "1.5.0",
     "model_name": "HTMLModel",
     "state": {
      "_dom_classes": [],
      "_model_module": "@jupyter-widgets/controls",
      "_model_module_version": "1.5.0",
      "_model_name": "HTMLModel",
      "_view_count": null,
      "_view_module": "@jupyter-widgets/controls",
      "_view_module_version": "1.5.0",
      "_view_name": "HTMLView",
      "description": "",
      "description_tooltip": null,
      "layout": "IPY_MODEL_b36860c118964dfe99985b0c7aeb086d",
      "placeholder": "​",
      "style": "IPY_MODEL_bc1efd7c55db495d87114ea905647fbd",
      "value": " 33/33 [01:21&lt;00:00,  1.82s/it, _timer/_fps=122.900, _timer/batch_time=0.114, _timer/data_time=0.013, _timer/model_time=0.101, loss=6.831, lr=1.000e-03, map10=0.224, momentum=0.900, ndcg20=0.176]"
     }
    },
    "adee5f518729491daaa36e5c23a2f791": {
     "model_module": "@jupyter-widgets/base",
     "model_module_version": "1.2.0",
     "model_name": "LayoutModel",
     "state": {
      "_model_module": "@jupyter-widgets/base",
      "_model_module_version": "1.2.0",
      "_model_name": "LayoutModel",
      "_view_count": null,
      "_view_module": "@jupyter-widgets/base",
      "_view_module_version": "1.2.0",
      "_view_name": "LayoutView",
      "align_content": null,
      "align_items": null,
      "align_self": null,
      "border": null,
      "bottom": null,
      "display": null,
      "flex": null,
      "flex_flow": null,
      "grid_area": null,
      "grid_auto_columns": null,
      "grid_auto_flow": null,
      "grid_auto_rows": null,
      "grid_column": null,
      "grid_gap": null,
      "grid_row": null,
      "grid_template_areas": null,
      "grid_template_columns": null,
      "grid_template_rows": null,
      "height": null,
      "justify_content": null,
      "justify_items": null,
      "left": null,
      "margin": null,
      "max_height": null,
      "max_width": null,
      "min_height": null,
      "min_width": null,
      "object_fit": null,
      "object_position": null,
      "order": null,
      "overflow": null,
      "overflow_x": null,
      "overflow_y": null,
      "padding": null,
      "right": null,
      "top": null,
      "visibility": null,
      "width": null
     }
    },
    "aecbe875780d4e1da517814ac4d34a63": {
     "model_module": "@jupyter-widgets/base",
     "model_module_version": "1.2.0",
     "model_name": "LayoutModel",
     "state": {
      "_model_module": "@jupyter-widgets/base",
      "_model_module_version": "1.2.0",
      "_model_name": "LayoutModel",
      "_view_count": null,
      "_view_module": "@jupyter-widgets/base",
      "_view_module_version": "1.2.0",
      "_view_name": "LayoutView",
      "align_content": null,
      "align_items": null,
      "align_self": null,
      "border": null,
      "bottom": null,
      "display": null,
      "flex": null,
      "flex_flow": null,
      "grid_area": null,
      "grid_auto_columns": null,
      "grid_auto_flow": null,
      "grid_auto_rows": null,
      "grid_column": null,
      "grid_gap": null,
      "grid_row": null,
      "grid_template_areas": null,
      "grid_template_columns": null,
      "grid_template_rows": null,
      "height": null,
      "justify_content": null,
      "justify_items": null,
      "left": null,
      "margin": null,
      "max_height": null,
      "max_width": null,
      "min_height": null,
      "min_width": null,
      "object_fit": null,
      "object_position": null,
      "order": null,
      "overflow": null,
      "overflow_x": null,
      "overflow_y": null,
      "padding": null,
      "right": null,
      "top": null,
      "visibility": null,
      "width": null
     }
    },
    "af318da5ea104d00bed407c3e1453036": {
     "model_module": "@jupyter-widgets/base",
     "model_module_version": "1.2.0",
     "model_name": "LayoutModel",
     "state": {
      "_model_module": "@jupyter-widgets/base",
      "_model_module_version": "1.2.0",
      "_model_name": "LayoutModel",
      "_view_count": null,
      "_view_module": "@jupyter-widgets/base",
      "_view_module_version": "1.2.0",
      "_view_name": "LayoutView",
      "align_content": null,
      "align_items": null,
      "align_self": null,
      "border": null,
      "bottom": null,
      "display": null,
      "flex": null,
      "flex_flow": null,
      "grid_area": null,
      "grid_auto_columns": null,
      "grid_auto_flow": null,
      "grid_auto_rows": null,
      "grid_column": null,
      "grid_gap": null,
      "grid_row": null,
      "grid_template_areas": null,
      "grid_template_columns": null,
      "grid_template_rows": null,
      "height": null,
      "justify_content": null,
      "justify_items": null,
      "left": null,
      "margin": null,
      "max_height": null,
      "max_width": null,
      "min_height": null,
      "min_width": null,
      "object_fit": null,
      "object_position": null,
      "order": null,
      "overflow": null,
      "overflow_x": null,
      "overflow_y": null,
      "padding": null,
      "right": null,
      "top": null,
      "visibility": null,
      "width": null
     }
    },
    "af863c4bd9bb45a99a12e098ffc39248": {
     "model_module": "@jupyter-widgets/base",
     "model_module_version": "1.2.0",
     "model_name": "LayoutModel",
     "state": {
      "_model_module": "@jupyter-widgets/base",
      "_model_module_version": "1.2.0",
      "_model_name": "LayoutModel",
      "_view_count": null,
      "_view_module": "@jupyter-widgets/base",
      "_view_module_version": "1.2.0",
      "_view_name": "LayoutView",
      "align_content": null,
      "align_items": null,
      "align_self": null,
      "border": null,
      "bottom": null,
      "display": null,
      "flex": null,
      "flex_flow": null,
      "grid_area": null,
      "grid_auto_columns": null,
      "grid_auto_flow": null,
      "grid_auto_rows": null,
      "grid_column": null,
      "grid_gap": null,
      "grid_row": null,
      "grid_template_areas": null,
      "grid_template_columns": null,
      "grid_template_rows": null,
      "height": null,
      "justify_content": null,
      "justify_items": null,
      "left": null,
      "margin": null,
      "max_height": null,
      "max_width": null,
      "min_height": null,
      "min_width": null,
      "object_fit": null,
      "object_position": null,
      "order": null,
      "overflow": null,
      "overflow_x": null,
      "overflow_y": null,
      "padding": null,
      "right": null,
      "top": null,
      "visibility": null,
      "width": null
     }
    },
    "b0cb32c73d2f47a48fa74f122982d3f6": {
     "model_module": "@jupyter-widgets/controls",
     "model_module_version": "1.5.0",
     "model_name": "HTMLModel",
     "state": {
      "_dom_classes": [],
      "_model_module": "@jupyter-widgets/controls",
      "_model_module_version": "1.5.0",
      "_model_name": "HTMLModel",
      "_view_count": null,
      "_view_module": "@jupyter-widgets/controls",
      "_view_module_version": "1.5.0",
      "_view_name": "HTMLView",
      "description": "",
      "description_tooltip": null,
      "layout": "IPY_MODEL_f183d16709704eff8c764fe59ea81175",
      "placeholder": "​",
      "style": "IPY_MODEL_5c9169af721649b4a99915556e0583c7",
      "value": "1/100 * Epoch (valid): 100%"
     }
    },
    "b27316b089a34a52b6c23d4356479175": {
     "model_module": "@jupyter-widgets/controls",
     "model_module_version": "1.5.0",
     "model_name": "FloatProgressModel",
     "state": {
      "_dom_classes": [],
      "_model_module": "@jupyter-widgets/controls",
      "_model_module_version": "1.5.0",
      "_model_name": "FloatProgressModel",
      "_view_count": null,
      "_view_module": "@jupyter-widgets/controls",
      "_view_module_version": "1.5.0",
      "_view_name": "ProgressView",
      "bar_style": "success",
      "description": "",
      "description_tooltip": null,
      "layout": "IPY_MODEL_0062093301134b0a9eef4008b867dc79",
      "max": 33,
      "min": 0,
      "orientation": "horizontal",
      "style": "IPY_MODEL_35f05511e51e4fea8db95fe375e58584",
      "value": 33
     }
    },
    "b2e2882e6f42428c8d7f0a943f74ec77": {
     "model_module": "@jupyter-widgets/controls",
     "model_module_version": "1.5.0",
     "model_name": "ProgressStyleModel",
     "state": {
      "_model_module": "@jupyter-widgets/controls",
      "_model_module_version": "1.5.0",
      "_model_name": "ProgressStyleModel",
      "_view_count": null,
      "_view_module": "@jupyter-widgets/base",
      "_view_module_version": "1.2.0",
      "_view_name": "StyleView",
      "bar_color": null,
      "description_width": ""
     }
    },
    "b36860c118964dfe99985b0c7aeb086d": {
     "model_module": "@jupyter-widgets/base",
     "model_module_version": "1.2.0",
     "model_name": "LayoutModel",
     "state": {
      "_model_module": "@jupyter-widgets/base",
      "_model_module_version": "1.2.0",
      "_model_name": "LayoutModel",
      "_view_count": null,
      "_view_module": "@jupyter-widgets/base",
      "_view_module_version": "1.2.0",
      "_view_name": "LayoutView",
      "align_content": null,
      "align_items": null,
      "align_self": null,
      "border": null,
      "bottom": null,
      "display": null,
      "flex": null,
      "flex_flow": null,
      "grid_area": null,
      "grid_auto_columns": null,
      "grid_auto_flow": null,
      "grid_auto_rows": null,
      "grid_column": null,
      "grid_gap": null,
      "grid_row": null,
      "grid_template_areas": null,
      "grid_template_columns": null,
      "grid_template_rows": null,
      "height": null,
      "justify_content": null,
      "justify_items": null,
      "left": null,
      "margin": null,
      "max_height": null,
      "max_width": null,
      "min_height": null,
      "min_width": null,
      "object_fit": null,
      "object_position": null,
      "order": null,
      "overflow": null,
      "overflow_x": null,
      "overflow_y": null,
      "padding": null,
      "right": null,
      "top": null,
      "visibility": null,
      "width": null
     }
    },
    "b3b4acdae932491dac1739500641b24e": {
     "model_module": "@jupyter-widgets/controls",
     "model_module_version": "1.5.0",
     "model_name": "HTMLModel",
     "state": {
      "_dom_classes": [],
      "_model_module": "@jupyter-widgets/controls",
      "_model_module_version": "1.5.0",
      "_model_name": "HTMLModel",
      "_view_count": null,
      "_view_module": "@jupyter-widgets/controls",
      "_view_module_version": "1.5.0",
      "_view_name": "HTMLView",
      "description": "",
      "description_tooltip": null,
      "layout": "IPY_MODEL_4ae616d251b440c4800de21adb8ba254",
      "placeholder": "​",
      "style": "IPY_MODEL_2b064fc1ee144a26bbd3985563c39d3e",
      "value": "5/100 * Epoch (train): 100%"
     }
    },
    "b4ac3ec7027d4eafbab2174a786d467b": {
     "model_module": "@jupyter-widgets/base",
     "model_module_version": "1.2.0",
     "model_name": "LayoutModel",
     "state": {
      "_model_module": "@jupyter-widgets/base",
      "_model_module_version": "1.2.0",
      "_model_name": "LayoutModel",
      "_view_count": null,
      "_view_module": "@jupyter-widgets/base",
      "_view_module_version": "1.2.0",
      "_view_name": "LayoutView",
      "align_content": null,
      "align_items": null,
      "align_self": null,
      "border": null,
      "bottom": null,
      "display": null,
      "flex": null,
      "flex_flow": null,
      "grid_area": null,
      "grid_auto_columns": null,
      "grid_auto_flow": null,
      "grid_auto_rows": null,
      "grid_column": null,
      "grid_gap": null,
      "grid_row": null,
      "grid_template_areas": null,
      "grid_template_columns": null,
      "grid_template_rows": null,
      "height": null,
      "justify_content": null,
      "justify_items": null,
      "left": null,
      "margin": null,
      "max_height": null,
      "max_width": null,
      "min_height": null,
      "min_width": null,
      "object_fit": null,
      "object_position": null,
      "order": null,
      "overflow": null,
      "overflow_x": null,
      "overflow_y": null,
      "padding": null,
      "right": null,
      "top": null,
      "visibility": null,
      "width": null
     }
    },
    "b65d5ad3a31942cb8593cf58fa66ccdf": {
     "model_module": "@jupyter-widgets/base",
     "model_module_version": "1.2.0",
     "model_name": "LayoutModel",
     "state": {
      "_model_module": "@jupyter-widgets/base",
      "_model_module_version": "1.2.0",
      "_model_name": "LayoutModel",
      "_view_count": null,
      "_view_module": "@jupyter-widgets/base",
      "_view_module_version": "1.2.0",
      "_view_name": "LayoutView",
      "align_content": null,
      "align_items": null,
      "align_self": null,
      "border": null,
      "bottom": null,
      "display": null,
      "flex": null,
      "flex_flow": null,
      "grid_area": null,
      "grid_auto_columns": null,
      "grid_auto_flow": null,
      "grid_auto_rows": null,
      "grid_column": null,
      "grid_gap": null,
      "grid_row": null,
      "grid_template_areas": null,
      "grid_template_columns": null,
      "grid_template_rows": null,
      "height": null,
      "justify_content": null,
      "justify_items": null,
      "left": null,
      "margin": null,
      "max_height": null,
      "max_width": null,
      "min_height": null,
      "min_width": null,
      "object_fit": null,
      "object_position": null,
      "order": null,
      "overflow": null,
      "overflow_x": null,
      "overflow_y": null,
      "padding": null,
      "right": null,
      "top": null,
      "visibility": null,
      "width": null
     }
    },
    "b74d34218f814166a8499ae748d0e160": {
     "model_module": "@jupyter-widgets/controls",
     "model_module_version": "1.5.0",
     "model_name": "ProgressStyleModel",
     "state": {
      "_model_module": "@jupyter-widgets/controls",
      "_model_module_version": "1.5.0",
      "_model_name": "ProgressStyleModel",
      "_view_count": null,
      "_view_module": "@jupyter-widgets/base",
      "_view_module_version": "1.2.0",
      "_view_name": "StyleView",
      "bar_color": null,
      "description_width": ""
     }
    },
    "bc1efd7c55db495d87114ea905647fbd": {
     "model_module": "@jupyter-widgets/controls",
     "model_module_version": "1.5.0",
     "model_name": "DescriptionStyleModel",
     "state": {
      "_model_module": "@jupyter-widgets/controls",
      "_model_module_version": "1.5.0",
      "_model_name": "DescriptionStyleModel",
      "_view_count": null,
      "_view_module": "@jupyter-widgets/base",
      "_view_module_version": "1.2.0",
      "_view_name": "StyleView",
      "description_width": ""
     }
    },
    "bd6017ae0ed0405eb9e7d341266557a7": {
     "model_module": "@jupyter-widgets/base",
     "model_module_version": "1.2.0",
     "model_name": "LayoutModel",
     "state": {
      "_model_module": "@jupyter-widgets/base",
      "_model_module_version": "1.2.0",
      "_model_name": "LayoutModel",
      "_view_count": null,
      "_view_module": "@jupyter-widgets/base",
      "_view_module_version": "1.2.0",
      "_view_name": "LayoutView",
      "align_content": null,
      "align_items": null,
      "align_self": null,
      "border": null,
      "bottom": null,
      "display": null,
      "flex": null,
      "flex_flow": null,
      "grid_area": null,
      "grid_auto_columns": null,
      "grid_auto_flow": null,
      "grid_auto_rows": null,
      "grid_column": null,
      "grid_gap": null,
      "grid_row": null,
      "grid_template_areas": null,
      "grid_template_columns": null,
      "grid_template_rows": null,
      "height": null,
      "justify_content": null,
      "justify_items": null,
      "left": null,
      "margin": null,
      "max_height": null,
      "max_width": null,
      "min_height": null,
      "min_width": null,
      "object_fit": null,
      "object_position": null,
      "order": null,
      "overflow": null,
      "overflow_x": null,
      "overflow_y": null,
      "padding": null,
      "right": null,
      "top": null,
      "visibility": null,
      "width": null
     }
    },
    "bf6516b40d47499790f21ca0ae6e5829": {
     "model_module": "@jupyter-widgets/base",
     "model_module_version": "1.2.0",
     "model_name": "LayoutModel",
     "state": {
      "_model_module": "@jupyter-widgets/base",
      "_model_module_version": "1.2.0",
      "_model_name": "LayoutModel",
      "_view_count": null,
      "_view_module": "@jupyter-widgets/base",
      "_view_module_version": "1.2.0",
      "_view_name": "LayoutView",
      "align_content": null,
      "align_items": null,
      "align_self": null,
      "border": null,
      "bottom": null,
      "display": null,
      "flex": null,
      "flex_flow": null,
      "grid_area": null,
      "grid_auto_columns": null,
      "grid_auto_flow": null,
      "grid_auto_rows": null,
      "grid_column": null,
      "grid_gap": null,
      "grid_row": null,
      "grid_template_areas": null,
      "grid_template_columns": null,
      "grid_template_rows": null,
      "height": null,
      "justify_content": null,
      "justify_items": null,
      "left": null,
      "margin": null,
      "max_height": null,
      "max_width": null,
      "min_height": null,
      "min_width": null,
      "object_fit": null,
      "object_position": null,
      "order": null,
      "overflow": null,
      "overflow_x": null,
      "overflow_y": null,
      "padding": null,
      "right": null,
      "top": null,
      "visibility": null,
      "width": null
     }
    },
    "c0eb2c1081b1405db040fe0f161a93a0": {
     "model_module": "@jupyter-widgets/base",
     "model_module_version": "1.2.0",
     "model_name": "LayoutModel",
     "state": {
      "_model_module": "@jupyter-widgets/base",
      "_model_module_version": "1.2.0",
      "_model_name": "LayoutModel",
      "_view_count": null,
      "_view_module": "@jupyter-widgets/base",
      "_view_module_version": "1.2.0",
      "_view_name": "LayoutView",
      "align_content": null,
      "align_items": null,
      "align_self": null,
      "border": null,
      "bottom": null,
      "display": null,
      "flex": null,
      "flex_flow": null,
      "grid_area": null,
      "grid_auto_columns": null,
      "grid_auto_flow": null,
      "grid_auto_rows": null,
      "grid_column": null,
      "grid_gap": null,
      "grid_row": null,
      "grid_template_areas": null,
      "grid_template_columns": null,
      "grid_template_rows": null,
      "height": null,
      "justify_content": null,
      "justify_items": null,
      "left": null,
      "margin": null,
      "max_height": null,
      "max_width": null,
      "min_height": null,
      "min_width": null,
      "object_fit": null,
      "object_position": null,
      "order": null,
      "overflow": null,
      "overflow_x": null,
      "overflow_y": null,
      "padding": null,
      "right": null,
      "top": null,
      "visibility": null,
      "width": null
     }
    },
    "c5201c3fcf26461da1a4a8386ce60ebc": {
     "model_module": "@jupyter-widgets/controls",
     "model_module_version": "1.5.0",
     "model_name": "HTMLModel",
     "state": {
      "_dom_classes": [],
      "_model_module": "@jupyter-widgets/controls",
      "_model_module_version": "1.5.0",
      "_model_name": "HTMLModel",
      "_view_count": null,
      "_view_module": "@jupyter-widgets/controls",
      "_view_module_version": "1.5.0",
      "_view_name": "HTMLView",
      "description": "",
      "description_tooltip": null,
      "layout": "IPY_MODEL_6cf0e99447e94c4da64d4068ddc8a016",
      "placeholder": "​",
      "style": "IPY_MODEL_9d1e47ef61da4152b4dc2d22c6f97c47",
      "value": " 33/33 [01:23&lt;00:00,  1.87s/it, _timer/_fps=126.180, _timer/batch_time=0.111, _timer/data_time=0.014, _timer/model_time=0.097, loss=7.406, lr=1.000e-03, map10=0.204, momentum=0.900, ndcg20=0.148]"
     }
    },
    "c522c6896e25487b9e41cef8d4b659ef": {
     "model_module": "@jupyter-widgets/controls",
     "model_module_version": "1.5.0",
     "model_name": "ProgressStyleModel",
     "state": {
      "_model_module": "@jupyter-widgets/controls",
      "_model_module_version": "1.5.0",
      "_model_name": "ProgressStyleModel",
      "_view_count": null,
      "_view_module": "@jupyter-widgets/base",
      "_view_module_version": "1.2.0",
      "_view_name": "StyleView",
      "bar_color": null,
      "description_width": ""
     }
    },
    "c8f357303c224ae8a16eb8fb3f4efba1": {
     "model_module": "@jupyter-widgets/base",
     "model_module_version": "1.2.0",
     "model_name": "LayoutModel",
     "state": {
      "_model_module": "@jupyter-widgets/base",
      "_model_module_version": "1.2.0",
      "_model_name": "LayoutModel",
      "_view_count": null,
      "_view_module": "@jupyter-widgets/base",
      "_view_module_version": "1.2.0",
      "_view_name": "LayoutView",
      "align_content": null,
      "align_items": null,
      "align_self": null,
      "border": null,
      "bottom": null,
      "display": null,
      "flex": null,
      "flex_flow": null,
      "grid_area": null,
      "grid_auto_columns": null,
      "grid_auto_flow": null,
      "grid_auto_rows": null,
      "grid_column": null,
      "grid_gap": null,
      "grid_row": null,
      "grid_template_areas": null,
      "grid_template_columns": null,
      "grid_template_rows": null,
      "height": null,
      "justify_content": null,
      "justify_items": null,
      "left": null,
      "margin": null,
      "max_height": null,
      "max_width": null,
      "min_height": null,
      "min_width": null,
      "object_fit": null,
      "object_position": null,
      "order": null,
      "overflow": null,
      "overflow_x": null,
      "overflow_y": null,
      "padding": null,
      "right": null,
      "top": null,
      "visibility": null,
      "width": null
     }
    },
    "c90df0a46629445f979838418154b438": {
     "model_module": "@jupyter-widgets/controls",
     "model_module_version": "1.5.0",
     "model_name": "DescriptionStyleModel",
     "state": {
      "_model_module": "@jupyter-widgets/controls",
      "_model_module_version": "1.5.0",
      "_model_name": "DescriptionStyleModel",
      "_view_count": null,
      "_view_module": "@jupyter-widgets/base",
      "_view_module_version": "1.2.0",
      "_view_name": "StyleView",
      "description_width": ""
     }
    },
    "c9718913e23c43539d0faa6507e213c4": {
     "model_module": "@jupyter-widgets/base",
     "model_module_version": "1.2.0",
     "model_name": "LayoutModel",
     "state": {
      "_model_module": "@jupyter-widgets/base",
      "_model_module_version": "1.2.0",
      "_model_name": "LayoutModel",
      "_view_count": null,
      "_view_module": "@jupyter-widgets/base",
      "_view_module_version": "1.2.0",
      "_view_name": "LayoutView",
      "align_content": null,
      "align_items": null,
      "align_self": null,
      "border": null,
      "bottom": null,
      "display": null,
      "flex": null,
      "flex_flow": null,
      "grid_area": null,
      "grid_auto_columns": null,
      "grid_auto_flow": null,
      "grid_auto_rows": null,
      "grid_column": null,
      "grid_gap": null,
      "grid_row": null,
      "grid_template_areas": null,
      "grid_template_columns": null,
      "grid_template_rows": null,
      "height": null,
      "justify_content": null,
      "justify_items": null,
      "left": null,
      "margin": null,
      "max_height": null,
      "max_width": null,
      "min_height": null,
      "min_width": null,
      "object_fit": null,
      "object_position": null,
      "order": null,
      "overflow": null,
      "overflow_x": null,
      "overflow_y": null,
      "padding": null,
      "right": null,
      "top": null,
      "visibility": null,
      "width": null
     }
    },
    "ca04a613370d491c827f4e0b5071a1a1": {
     "model_module": "@jupyter-widgets/controls",
     "model_module_version": "1.5.0",
     "model_name": "ProgressStyleModel",
     "state": {
      "_model_module": "@jupyter-widgets/controls",
      "_model_module_version": "1.5.0",
      "_model_name": "ProgressStyleModel",
      "_view_count": null,
      "_view_module": "@jupyter-widgets/base",
      "_view_module_version": "1.2.0",
      "_view_name": "StyleView",
      "bar_color": null,
      "description_width": ""
     }
    },
    "cbcde15f44fe465e831e9f1c55fbbf0b": {
     "model_module": "@jupyter-widgets/base",
     "model_module_version": "1.2.0",
     "model_name": "LayoutModel",
     "state": {
      "_model_module": "@jupyter-widgets/base",
      "_model_module_version": "1.2.0",
      "_model_name": "LayoutModel",
      "_view_count": null,
      "_view_module": "@jupyter-widgets/base",
      "_view_module_version": "1.2.0",
      "_view_name": "LayoutView",
      "align_content": null,
      "align_items": null,
      "align_self": null,
      "border": null,
      "bottom": null,
      "display": null,
      "flex": null,
      "flex_flow": null,
      "grid_area": null,
      "grid_auto_columns": null,
      "grid_auto_flow": null,
      "grid_auto_rows": null,
      "grid_column": null,
      "grid_gap": null,
      "grid_row": null,
      "grid_template_areas": null,
      "grid_template_columns": null,
      "grid_template_rows": null,
      "height": null,
      "justify_content": null,
      "justify_items": null,
      "left": null,
      "margin": null,
      "max_height": null,
      "max_width": null,
      "min_height": null,
      "min_width": null,
      "object_fit": null,
      "object_position": null,
      "order": null,
      "overflow": null,
      "overflow_x": null,
      "overflow_y": null,
      "padding": null,
      "right": null,
      "top": null,
      "visibility": null,
      "width": null
     }
    },
    "ce665617764e476b97556b5e8d33c5cf": {
     "model_module": "@jupyter-widgets/controls",
     "model_module_version": "1.5.0",
     "model_name": "DescriptionStyleModel",
     "state": {
      "_model_module": "@jupyter-widgets/controls",
      "_model_module_version": "1.5.0",
      "_model_name": "DescriptionStyleModel",
      "_view_count": null,
      "_view_module": "@jupyter-widgets/base",
      "_view_module_version": "1.2.0",
      "_view_name": "StyleView",
      "description_width": ""
     }
    },
    "cf3998c144704702b9260c55b1dae538": {
     "model_module": "@jupyter-widgets/base",
     "model_module_version": "1.2.0",
     "model_name": "LayoutModel",
     "state": {
      "_model_module": "@jupyter-widgets/base",
      "_model_module_version": "1.2.0",
      "_model_name": "LayoutModel",
      "_view_count": null,
      "_view_module": "@jupyter-widgets/base",
      "_view_module_version": "1.2.0",
      "_view_name": "LayoutView",
      "align_content": null,
      "align_items": null,
      "align_self": null,
      "border": null,
      "bottom": null,
      "display": null,
      "flex": null,
      "flex_flow": null,
      "grid_area": null,
      "grid_auto_columns": null,
      "grid_auto_flow": null,
      "grid_auto_rows": null,
      "grid_column": null,
      "grid_gap": null,
      "grid_row": null,
      "grid_template_areas": null,
      "grid_template_columns": null,
      "grid_template_rows": null,
      "height": null,
      "justify_content": null,
      "justify_items": null,
      "left": null,
      "margin": null,
      "max_height": null,
      "max_width": null,
      "min_height": null,
      "min_width": null,
      "object_fit": null,
      "object_position": null,
      "order": null,
      "overflow": null,
      "overflow_x": null,
      "overflow_y": null,
      "padding": null,
      "right": null,
      "top": null,
      "visibility": null,
      "width": null
     }
    },
    "d517b34eec12428f90a3d7bc2184b788": {
     "model_module": "@jupyter-widgets/base",
     "model_module_version": "1.2.0",
     "model_name": "LayoutModel",
     "state": {
      "_model_module": "@jupyter-widgets/base",
      "_model_module_version": "1.2.0",
      "_model_name": "LayoutModel",
      "_view_count": null,
      "_view_module": "@jupyter-widgets/base",
      "_view_module_version": "1.2.0",
      "_view_name": "LayoutView",
      "align_content": null,
      "align_items": null,
      "align_self": null,
      "border": null,
      "bottom": null,
      "display": null,
      "flex": null,
      "flex_flow": null,
      "grid_area": null,
      "grid_auto_columns": null,
      "grid_auto_flow": null,
      "grid_auto_rows": null,
      "grid_column": null,
      "grid_gap": null,
      "grid_row": null,
      "grid_template_areas": null,
      "grid_template_columns": null,
      "grid_template_rows": null,
      "height": null,
      "justify_content": null,
      "justify_items": null,
      "left": null,
      "margin": null,
      "max_height": null,
      "max_width": null,
      "min_height": null,
      "min_width": null,
      "object_fit": null,
      "object_position": null,
      "order": null,
      "overflow": null,
      "overflow_x": null,
      "overflow_y": null,
      "padding": null,
      "right": null,
      "top": null,
      "visibility": null,
      "width": null
     }
    },
    "d5811d0cccbd4cfdb6dc1d9cb6beebe7": {
     "model_module": "@jupyter-widgets/controls",
     "model_module_version": "1.5.0",
     "model_name": "DescriptionStyleModel",
     "state": {
      "_model_module": "@jupyter-widgets/controls",
      "_model_module_version": "1.5.0",
      "_model_name": "DescriptionStyleModel",
      "_view_count": null,
      "_view_module": "@jupyter-widgets/base",
      "_view_module_version": "1.2.0",
      "_view_name": "StyleView",
      "description_width": ""
     }
    },
    "d6af1cc58a0e481cad346e244378c2c9": {
     "model_module": "@jupyter-widgets/controls",
     "model_module_version": "1.5.0",
     "model_name": "DescriptionStyleModel",
     "state": {
      "_model_module": "@jupyter-widgets/controls",
      "_model_module_version": "1.5.0",
      "_model_name": "DescriptionStyleModel",
      "_view_count": null,
      "_view_module": "@jupyter-widgets/base",
      "_view_module_version": "1.2.0",
      "_view_name": "StyleView",
      "description_width": ""
     }
    },
    "db662d2023234605a32cb0d59301272f": {
     "model_module": "@jupyter-widgets/controls",
     "model_module_version": "1.5.0",
     "model_name": "DescriptionStyleModel",
     "state": {
      "_model_module": "@jupyter-widgets/controls",
      "_model_module_version": "1.5.0",
      "_model_name": "DescriptionStyleModel",
      "_view_count": null,
      "_view_module": "@jupyter-widgets/base",
      "_view_module_version": "1.2.0",
      "_view_name": "StyleView",
      "description_width": ""
     }
    },
    "dc2593440e6f489ba56ad4e1eeafe07f": {
     "model_module": "@jupyter-widgets/base",
     "model_module_version": "1.2.0",
     "model_name": "LayoutModel",
     "state": {
      "_model_module": "@jupyter-widgets/base",
      "_model_module_version": "1.2.0",
      "_model_name": "LayoutModel",
      "_view_count": null,
      "_view_module": "@jupyter-widgets/base",
      "_view_module_version": "1.2.0",
      "_view_name": "LayoutView",
      "align_content": null,
      "align_items": null,
      "align_self": null,
      "border": null,
      "bottom": null,
      "display": null,
      "flex": null,
      "flex_flow": null,
      "grid_area": null,
      "grid_auto_columns": null,
      "grid_auto_flow": null,
      "grid_auto_rows": null,
      "grid_column": null,
      "grid_gap": null,
      "grid_row": null,
      "grid_template_areas": null,
      "grid_template_columns": null,
      "grid_template_rows": null,
      "height": null,
      "justify_content": null,
      "justify_items": null,
      "left": null,
      "margin": null,
      "max_height": null,
      "max_width": null,
      "min_height": null,
      "min_width": null,
      "object_fit": null,
      "object_position": null,
      "order": null,
      "overflow": null,
      "overflow_x": null,
      "overflow_y": null,
      "padding": null,
      "right": null,
      "top": null,
      "visibility": null,
      "width": null
     }
    },
    "df6dabd7638a468ab2ddb489a3e5933a": {
     "model_module": "@jupyter-widgets/base",
     "model_module_version": "1.2.0",
     "model_name": "LayoutModel",
     "state": {
      "_model_module": "@jupyter-widgets/base",
      "_model_module_version": "1.2.0",
      "_model_name": "LayoutModel",
      "_view_count": null,
      "_view_module": "@jupyter-widgets/base",
      "_view_module_version": "1.2.0",
      "_view_name": "LayoutView",
      "align_content": null,
      "align_items": null,
      "align_self": null,
      "border": null,
      "bottom": null,
      "display": null,
      "flex": null,
      "flex_flow": null,
      "grid_area": null,
      "grid_auto_columns": null,
      "grid_auto_flow": null,
      "grid_auto_rows": null,
      "grid_column": null,
      "grid_gap": null,
      "grid_row": null,
      "grid_template_areas": null,
      "grid_template_columns": null,
      "grid_template_rows": null,
      "height": null,
      "justify_content": null,
      "justify_items": null,
      "left": null,
      "margin": null,
      "max_height": null,
      "max_width": null,
      "min_height": null,
      "min_width": null,
      "object_fit": null,
      "object_position": null,
      "order": null,
      "overflow": null,
      "overflow_x": null,
      "overflow_y": null,
      "padding": null,
      "right": null,
      "top": null,
      "visibility": null,
      "width": null
     }
    },
    "e01cf4605c6647af9e3ae02c9b8d88cf": {
     "model_module": "@jupyter-widgets/controls",
     "model_module_version": "1.5.0",
     "model_name": "FloatProgressModel",
     "state": {
      "_dom_classes": [],
      "_model_module": "@jupyter-widgets/controls",
      "_model_module_version": "1.5.0",
      "_model_name": "FloatProgressModel",
      "_view_count": null,
      "_view_module": "@jupyter-widgets/controls",
      "_view_module_version": "1.5.0",
      "_view_name": "ProgressView",
      "bar_style": "success",
      "description": "",
      "description_tooltip": null,
      "layout": "IPY_MODEL_e77a2f7db8a7409286ab136832c7552f",
      "max": 33,
      "min": 0,
      "orientation": "horizontal",
      "style": "IPY_MODEL_5d0c4e13fc76426b9d3e755b377e9cd8",
      "value": 33
     }
    },
    "e0dab9f6aec34413b53bc26e9847133f": {
     "model_module": "@jupyter-widgets/base",
     "model_module_version": "1.2.0",
     "model_name": "LayoutModel",
     "state": {
      "_model_module": "@jupyter-widgets/base",
      "_model_module_version": "1.2.0",
      "_model_name": "LayoutModel",
      "_view_count": null,
      "_view_module": "@jupyter-widgets/base",
      "_view_module_version": "1.2.0",
      "_view_name": "LayoutView",
      "align_content": null,
      "align_items": null,
      "align_self": null,
      "border": null,
      "bottom": null,
      "display": null,
      "flex": null,
      "flex_flow": null,
      "grid_area": null,
      "grid_auto_columns": null,
      "grid_auto_flow": null,
      "grid_auto_rows": null,
      "grid_column": null,
      "grid_gap": null,
      "grid_row": null,
      "grid_template_areas": null,
      "grid_template_columns": null,
      "grid_template_rows": null,
      "height": null,
      "justify_content": null,
      "justify_items": null,
      "left": null,
      "margin": null,
      "max_height": null,
      "max_width": null,
      "min_height": null,
      "min_width": null,
      "object_fit": null,
      "object_position": null,
      "order": null,
      "overflow": null,
      "overflow_x": null,
      "overflow_y": null,
      "padding": null,
      "right": null,
      "top": null,
      "visibility": null,
      "width": null
     }
    },
    "e5eba07e624947a19a9c7ee361ad9c97": {
     "model_module": "@jupyter-widgets/controls",
     "model_module_version": "1.5.0",
     "model_name": "HBoxModel",
     "state": {
      "_dom_classes": [],
      "_model_module": "@jupyter-widgets/controls",
      "_model_module_version": "1.5.0",
      "_model_name": "HBoxModel",
      "_view_count": null,
      "_view_module": "@jupyter-widgets/controls",
      "_view_module_version": "1.5.0",
      "_view_name": "HBoxView",
      "box_style": "",
      "children": [
       "IPY_MODEL_7c02b75ba6c344a29e13c5acdd83e790",
       "IPY_MODEL_6f6d54321e6544de854a3cd1be188e25",
       "IPY_MODEL_aa9dcac515da49aabd76136f9bbabf0a"
      ],
      "layout": "IPY_MODEL_13469373964845519ff31669ddc0a3b4"
     }
    },
    "e77a2f7db8a7409286ab136832c7552f": {
     "model_module": "@jupyter-widgets/base",
     "model_module_version": "1.2.0",
     "model_name": "LayoutModel",
     "state": {
      "_model_module": "@jupyter-widgets/base",
      "_model_module_version": "1.2.0",
      "_model_name": "LayoutModel",
      "_view_count": null,
      "_view_module": "@jupyter-widgets/base",
      "_view_module_version": "1.2.0",
      "_view_name": "LayoutView",
      "align_content": null,
      "align_items": null,
      "align_self": null,
      "border": null,
      "bottom": null,
      "display": null,
      "flex": null,
      "flex_flow": null,
      "grid_area": null,
      "grid_auto_columns": null,
      "grid_auto_flow": null,
      "grid_auto_rows": null,
      "grid_column": null,
      "grid_gap": null,
      "grid_row": null,
      "grid_template_areas": null,
      "grid_template_columns": null,
      "grid_template_rows": null,
      "height": null,
      "justify_content": null,
      "justify_items": null,
      "left": null,
      "margin": null,
      "max_height": null,
      "max_width": null,
      "min_height": null,
      "min_width": null,
      "object_fit": null,
      "object_position": null,
      "order": null,
      "overflow": null,
      "overflow_x": null,
      "overflow_y": null,
      "padding": null,
      "right": null,
      "top": null,
      "visibility": null,
      "width": null
     }
    },
    "e78f82ab61bb43868a81febd94452369": {
     "model_module": "@jupyter-widgets/base",
     "model_module_version": "1.2.0",
     "model_name": "LayoutModel",
     "state": {
      "_model_module": "@jupyter-widgets/base",
      "_model_module_version": "1.2.0",
      "_model_name": "LayoutModel",
      "_view_count": null,
      "_view_module": "@jupyter-widgets/base",
      "_view_module_version": "1.2.0",
      "_view_name": "LayoutView",
      "align_content": null,
      "align_items": null,
      "align_self": null,
      "border": null,
      "bottom": null,
      "display": null,
      "flex": null,
      "flex_flow": null,
      "grid_area": null,
      "grid_auto_columns": null,
      "grid_auto_flow": null,
      "grid_auto_rows": null,
      "grid_column": null,
      "grid_gap": null,
      "grid_row": null,
      "grid_template_areas": null,
      "grid_template_columns": null,
      "grid_template_rows": null,
      "height": null,
      "justify_content": null,
      "justify_items": null,
      "left": null,
      "margin": null,
      "max_height": null,
      "max_width": null,
      "min_height": null,
      "min_width": null,
      "object_fit": null,
      "object_position": null,
      "order": null,
      "overflow": null,
      "overflow_x": null,
      "overflow_y": null,
      "padding": null,
      "right": null,
      "top": null,
      "visibility": null,
      "width": null
     }
    },
    "e8161ff8b4a34dc1b4a9eda13f6525ef": {
     "model_module": "@jupyter-widgets/base",
     "model_module_version": "1.2.0",
     "model_name": "LayoutModel",
     "state": {
      "_model_module": "@jupyter-widgets/base",
      "_model_module_version": "1.2.0",
      "_model_name": "LayoutModel",
      "_view_count": null,
      "_view_module": "@jupyter-widgets/base",
      "_view_module_version": "1.2.0",
      "_view_name": "LayoutView",
      "align_content": null,
      "align_items": null,
      "align_self": null,
      "border": null,
      "bottom": null,
      "display": null,
      "flex": null,
      "flex_flow": null,
      "grid_area": null,
      "grid_auto_columns": null,
      "grid_auto_flow": null,
      "grid_auto_rows": null,
      "grid_column": null,
      "grid_gap": null,
      "grid_row": null,
      "grid_template_areas": null,
      "grid_template_columns": null,
      "grid_template_rows": null,
      "height": null,
      "justify_content": null,
      "justify_items": null,
      "left": null,
      "margin": null,
      "max_height": null,
      "max_width": null,
      "min_height": null,
      "min_width": null,
      "object_fit": null,
      "object_position": null,
      "order": null,
      "overflow": null,
      "overflow_x": null,
      "overflow_y": null,
      "padding": null,
      "right": null,
      "top": null,
      "visibility": null,
      "width": null
     }
    },
    "e901143619d14193bae56f75653f33a0": {
     "model_module": "@jupyter-widgets/controls",
     "model_module_version": "1.5.0",
     "model_name": "HTMLModel",
     "state": {
      "_dom_classes": [],
      "_model_module": "@jupyter-widgets/controls",
      "_model_module_version": "1.5.0",
      "_model_name": "HTMLModel",
      "_view_count": null,
      "_view_module": "@jupyter-widgets/controls",
      "_view_module_version": "1.5.0",
      "_view_name": "HTMLView",
      "description": "",
      "description_tooltip": null,
      "layout": "IPY_MODEL_b4ac3ec7027d4eafbab2174a786d467b",
      "placeholder": "​",
      "style": "IPY_MODEL_f3f533bb94fe4066b8294f1d92a39ea4",
      "value": " 33/33 [01:56&lt;00:00,  2.60s/it, _timer/_fps=7.752, _timer/batch_time=1.806, _timer/data_time=1.750, _timer/model_time=0.056, loss=7.016, lr=1.000e-03, map10=0.000e+00, momentum=0.900, ndcg20=0.000e+00]"
     }
    },
    "ea539ef104d444c1b50a85b6542f2fe3": {
     "model_module": "@jupyter-widgets/controls",
     "model_module_version": "1.5.0",
     "model_name": "DescriptionStyleModel",
     "state": {
      "_model_module": "@jupyter-widgets/controls",
      "_model_module_version": "1.5.0",
      "_model_name": "DescriptionStyleModel",
      "_view_count": null,
      "_view_module": "@jupyter-widgets/base",
      "_view_module_version": "1.2.0",
      "_view_name": "StyleView",
      "description_width": ""
     }
    },
    "ec255e92b9ec472abdeb744e76ae8ba9": {
     "model_module": "@jupyter-widgets/base",
     "model_module_version": "1.2.0",
     "model_name": "LayoutModel",
     "state": {
      "_model_module": "@jupyter-widgets/base",
      "_model_module_version": "1.2.0",
      "_model_name": "LayoutModel",
      "_view_count": null,
      "_view_module": "@jupyter-widgets/base",
      "_view_module_version": "1.2.0",
      "_view_name": "LayoutView",
      "align_content": null,
      "align_items": null,
      "align_self": null,
      "border": null,
      "bottom": null,
      "display": null,
      "flex": null,
      "flex_flow": null,
      "grid_area": null,
      "grid_auto_columns": null,
      "grid_auto_flow": null,
      "grid_auto_rows": null,
      "grid_column": null,
      "grid_gap": null,
      "grid_row": null,
      "grid_template_areas": null,
      "grid_template_columns": null,
      "grid_template_rows": null,
      "height": null,
      "justify_content": null,
      "justify_items": null,
      "left": null,
      "margin": null,
      "max_height": null,
      "max_width": null,
      "min_height": null,
      "min_width": null,
      "object_fit": null,
      "object_position": null,
      "order": null,
      "overflow": null,
      "overflow_x": null,
      "overflow_y": null,
      "padding": null,
      "right": null,
      "top": null,
      "visibility": null,
      "width": null
     }
    },
    "ec42e1fd1c9a40aa8da288bc370d2a0e": {
     "model_module": "@jupyter-widgets/controls",
     "model_module_version": "1.5.0",
     "model_name": "HBoxModel",
     "state": {
      "_dom_classes": [],
      "_model_module": "@jupyter-widgets/controls",
      "_model_module_version": "1.5.0",
      "_model_name": "HBoxModel",
      "_view_count": null,
      "_view_module": "@jupyter-widgets/controls",
      "_view_module_version": "1.5.0",
      "_view_name": "HBoxView",
      "box_style": "",
      "children": [
       "IPY_MODEL_04b2ddeb611c41858118adb6fe5e98c0",
       "IPY_MODEL_b27316b089a34a52b6c23d4356479175",
       "IPY_MODEL_0bdcffb092d94e10b3717b4fd1bdf8a8"
      ],
      "layout": "IPY_MODEL_3369c29a45f443b6a769c7564732e8af"
     }
    },
    "ec6efb9f54e94724acd7cb6ca0bbe679": {
     "model_module": "@jupyter-widgets/base",
     "model_module_version": "1.2.0",
     "model_name": "LayoutModel",
     "state": {
      "_model_module": "@jupyter-widgets/base",
      "_model_module_version": "1.2.0",
      "_model_name": "LayoutModel",
      "_view_count": null,
      "_view_module": "@jupyter-widgets/base",
      "_view_module_version": "1.2.0",
      "_view_name": "LayoutView",
      "align_content": null,
      "align_items": null,
      "align_self": null,
      "border": null,
      "bottom": null,
      "display": null,
      "flex": null,
      "flex_flow": null,
      "grid_area": null,
      "grid_auto_columns": null,
      "grid_auto_flow": null,
      "grid_auto_rows": null,
      "grid_column": null,
      "grid_gap": null,
      "grid_row": null,
      "grid_template_areas": null,
      "grid_template_columns": null,
      "grid_template_rows": null,
      "height": null,
      "justify_content": null,
      "justify_items": null,
      "left": null,
      "margin": null,
      "max_height": null,
      "max_width": null,
      "min_height": null,
      "min_width": null,
      "object_fit": null,
      "object_position": null,
      "order": null,
      "overflow": null,
      "overflow_x": null,
      "overflow_y": null,
      "padding": null,
      "right": null,
      "top": null,
      "visibility": null,
      "width": null
     }
    },
    "ed890ab60df041ce83112b6b10950638": {
     "model_module": "@jupyter-widgets/controls",
     "model_module_version": "1.5.0",
     "model_name": "HBoxModel",
     "state": {
      "_dom_classes": [],
      "_model_module": "@jupyter-widgets/controls",
      "_model_module_version": "1.5.0",
      "_model_name": "HBoxModel",
      "_view_count": null,
      "_view_module": "@jupyter-widgets/controls",
      "_view_module_version": "1.5.0",
      "_view_name": "HBoxView",
      "box_style": "",
      "children": [
       "IPY_MODEL_5abecd8c85d84a19a08c1340270a5910",
       "IPY_MODEL_27b0c1c6012e4982b9ad33cb576ad71c",
       "IPY_MODEL_c5201c3fcf26461da1a4a8386ce60ebc"
      ],
      "layout": "IPY_MODEL_b65d5ad3a31942cb8593cf58fa66ccdf"
     }
    },
    "f09129781de24c44a3081c448f87e819": {
     "model_module": "@jupyter-widgets/controls",
     "model_module_version": "1.5.0",
     "model_name": "HTMLModel",
     "state": {
      "_dom_classes": [],
      "_model_module": "@jupyter-widgets/controls",
      "_model_module_version": "1.5.0",
      "_model_name": "HTMLModel",
      "_view_count": null,
      "_view_module": "@jupyter-widgets/controls",
      "_view_module_version": "1.5.0",
      "_view_name": "HTMLView",
      "description": "",
      "description_tooltip": null,
      "layout": "IPY_MODEL_d517b34eec12428f90a3d7bc2184b788",
      "placeholder": "​",
      "style": "IPY_MODEL_25e209936fff4dd38653123e699f29bc",
      "value": "1/100 * Epoch (train): 100%"
     }
    },
    "f183d16709704eff8c764fe59ea81175": {
     "model_module": "@jupyter-widgets/base",
     "model_module_version": "1.2.0",
     "model_name": "LayoutModel",
     "state": {
      "_model_module": "@jupyter-widgets/base",
      "_model_module_version": "1.2.0",
      "_model_name": "LayoutModel",
      "_view_count": null,
      "_view_module": "@jupyter-widgets/base",
      "_view_module_version": "1.2.0",
      "_view_name": "LayoutView",
      "align_content": null,
      "align_items": null,
      "align_self": null,
      "border": null,
      "bottom": null,
      "display": null,
      "flex": null,
      "flex_flow": null,
      "grid_area": null,
      "grid_auto_columns": null,
      "grid_auto_flow": null,
      "grid_auto_rows": null,
      "grid_column": null,
      "grid_gap": null,
      "grid_row": null,
      "grid_template_areas": null,
      "grid_template_columns": null,
      "grid_template_rows": null,
      "height": null,
      "justify_content": null,
      "justify_items": null,
      "left": null,
      "margin": null,
      "max_height": null,
      "max_width": null,
      "min_height": null,
      "min_width": null,
      "object_fit": null,
      "object_position": null,
      "order": null,
      "overflow": null,
      "overflow_x": null,
      "overflow_y": null,
      "padding": null,
      "right": null,
      "top": null,
      "visibility": null,
      "width": null
     }
    },
    "f1c6b92d01e04e80a81116d922f18197": {
     "model_module": "@jupyter-widgets/controls",
     "model_module_version": "1.5.0",
     "model_name": "ProgressStyleModel",
     "state": {
      "_model_module": "@jupyter-widgets/controls",
      "_model_module_version": "1.5.0",
      "_model_name": "ProgressStyleModel",
      "_view_count": null,
      "_view_module": "@jupyter-widgets/base",
      "_view_module_version": "1.2.0",
      "_view_name": "StyleView",
      "bar_color": null,
      "description_width": ""
     }
    },
    "f27dba0401134a6184ee0a0e9d08f5c9": {
     "model_module": "@jupyter-widgets/controls",
     "model_module_version": "1.5.0",
     "model_name": "DescriptionStyleModel",
     "state": {
      "_model_module": "@jupyter-widgets/controls",
      "_model_module_version": "1.5.0",
      "_model_name": "DescriptionStyleModel",
      "_view_count": null,
      "_view_module": "@jupyter-widgets/base",
      "_view_module_version": "1.2.0",
      "_view_name": "StyleView",
      "description_width": ""
     }
    },
    "f3f533bb94fe4066b8294f1d92a39ea4": {
     "model_module": "@jupyter-widgets/controls",
     "model_module_version": "1.5.0",
     "model_name": "DescriptionStyleModel",
     "state": {
      "_model_module": "@jupyter-widgets/controls",
      "_model_module_version": "1.5.0",
      "_model_name": "DescriptionStyleModel",
      "_view_count": null,
      "_view_module": "@jupyter-widgets/base",
      "_view_module_version": "1.2.0",
      "_view_name": "StyleView",
      "description_width": ""
     }
    },
    "f4805ff643004c6788b19351e7170d55": {
     "model_module": "@jupyter-widgets/controls",
     "model_module_version": "1.5.0",
     "model_name": "DescriptionStyleModel",
     "state": {
      "_model_module": "@jupyter-widgets/controls",
      "_model_module_version": "1.5.0",
      "_model_name": "DescriptionStyleModel",
      "_view_count": null,
      "_view_module": "@jupyter-widgets/base",
      "_view_module_version": "1.2.0",
      "_view_name": "StyleView",
      "description_width": ""
     }
    },
    "f6f877e737714ce7b24f20d94e9e054d": {
     "model_module": "@jupyter-widgets/base",
     "model_module_version": "1.2.0",
     "model_name": "LayoutModel",
     "state": {
      "_model_module": "@jupyter-widgets/base",
      "_model_module_version": "1.2.0",
      "_model_name": "LayoutModel",
      "_view_count": null,
      "_view_module": "@jupyter-widgets/base",
      "_view_module_version": "1.2.0",
      "_view_name": "LayoutView",
      "align_content": null,
      "align_items": null,
      "align_self": null,
      "border": null,
      "bottom": null,
      "display": null,
      "flex": null,
      "flex_flow": null,
      "grid_area": null,
      "grid_auto_columns": null,
      "grid_auto_flow": null,
      "grid_auto_rows": null,
      "grid_column": null,
      "grid_gap": null,
      "grid_row": null,
      "grid_template_areas": null,
      "grid_template_columns": null,
      "grid_template_rows": null,
      "height": null,
      "justify_content": null,
      "justify_items": null,
      "left": null,
      "margin": null,
      "max_height": null,
      "max_width": null,
      "min_height": null,
      "min_width": null,
      "object_fit": null,
      "object_position": null,
      "order": null,
      "overflow": null,
      "overflow_x": null,
      "overflow_y": null,
      "padding": null,
      "right": null,
      "top": null,
      "visibility": null,
      "width": null
     }
    },
    "f8e9e344d7724432844551b4e737a91b": {
     "model_module": "@jupyter-widgets/controls",
     "model_module_version": "1.5.0",
     "model_name": "FloatProgressModel",
     "state": {
      "_dom_classes": [],
      "_model_module": "@jupyter-widgets/controls",
      "_model_module_version": "1.5.0",
      "_model_name": "FloatProgressModel",
      "_view_count": null,
      "_view_module": "@jupyter-widgets/controls",
      "_view_module_version": "1.5.0",
      "_view_name": "ProgressView",
      "bar_style": "success",
      "description": "",
      "description_tooltip": null,
      "layout": "IPY_MODEL_7d655b3243694ac99096f1bc379e4bc1",
      "max": 33,
      "min": 0,
      "orientation": "horizontal",
      "style": "IPY_MODEL_4b1cb4f28f494cd89192e1c170987e8d",
      "value": 33
     }
    },
    "f92667391711402da67e8391cfa564d8": {
     "model_module": "@jupyter-widgets/controls",
     "model_module_version": "1.5.0",
     "model_name": "HTMLModel",
     "state": {
      "_dom_classes": [],
      "_model_module": "@jupyter-widgets/controls",
      "_model_module_version": "1.5.0",
      "_model_name": "HTMLModel",
      "_view_count": null,
      "_view_module": "@jupyter-widgets/controls",
      "_view_module_version": "1.5.0",
      "_view_name": "HTMLView",
      "description": "",
      "description_tooltip": null,
      "layout": "IPY_MODEL_aecbe875780d4e1da517814ac4d34a63",
      "placeholder": "​",
      "style": "IPY_MODEL_6f46c16a884642d7b64edf0210899cf7",
      "value": " 33/33 [01:23&lt;00:00,  1.85s/it, _timer/_fps=126.508, _timer/batch_time=0.111, _timer/data_time=0.011, _timer/model_time=0.100, loss=6.989, lr=1.000e-03, map10=0.217, momentum=0.900, ndcg20=0.191]"
     }
    },
    "fa18ba6bd93c4a7fbcc5f06258ed7fde": {
     "model_module": "@jupyter-widgets/base",
     "model_module_version": "1.2.0",
     "model_name": "LayoutModel",
     "state": {
      "_model_module": "@jupyter-widgets/base",
      "_model_module_version": "1.2.0",
      "_model_name": "LayoutModel",
      "_view_count": null,
      "_view_module": "@jupyter-widgets/base",
      "_view_module_version": "1.2.0",
      "_view_name": "LayoutView",
      "align_content": null,
      "align_items": null,
      "align_self": null,
      "border": null,
      "bottom": null,
      "display": null,
      "flex": null,
      "flex_flow": null,
      "grid_area": null,
      "grid_auto_columns": null,
      "grid_auto_flow": null,
      "grid_auto_rows": null,
      "grid_column": null,
      "grid_gap": null,
      "grid_row": null,
      "grid_template_areas": null,
      "grid_template_columns": null,
      "grid_template_rows": null,
      "height": null,
      "justify_content": null,
      "justify_items": null,
      "left": null,
      "margin": null,
      "max_height": null,
      "max_width": null,
      "min_height": null,
      "min_width": null,
      "object_fit": null,
      "object_position": null,
      "order": null,
      "overflow": null,
      "overflow_x": null,
      "overflow_y": null,
      "padding": null,
      "right": null,
      "top": null,
      "visibility": null,
      "width": null
     }
    },
    "faf62267853047aeb97ccb15c62a77bb": {
     "model_module": "@jupyter-widgets/base",
     "model_module_version": "1.2.0",
     "model_name": "LayoutModel",
     "state": {
      "_model_module": "@jupyter-widgets/base",
      "_model_module_version": "1.2.0",
      "_model_name": "LayoutModel",
      "_view_count": null,
      "_view_module": "@jupyter-widgets/base",
      "_view_module_version": "1.2.0",
      "_view_name": "LayoutView",
      "align_content": null,
      "align_items": null,
      "align_self": null,
      "border": null,
      "bottom": null,
      "display": null,
      "flex": null,
      "flex_flow": null,
      "grid_area": null,
      "grid_auto_columns": null,
      "grid_auto_flow": null,
      "grid_auto_rows": null,
      "grid_column": null,
      "grid_gap": null,
      "grid_row": null,
      "grid_template_areas": null,
      "grid_template_columns": null,
      "grid_template_rows": null,
      "height": null,
      "justify_content": null,
      "justify_items": null,
      "left": null,
      "margin": null,
      "max_height": null,
      "max_width": null,
      "min_height": null,
      "min_width": null,
      "object_fit": null,
      "object_position": null,
      "order": null,
      "overflow": null,
      "overflow_x": null,
      "overflow_y": null,
      "padding": null,
      "right": null,
      "top": null,
      "visibility": null,
      "width": null
     }
    },
    "fc049e1b7b7944658c897020df0c06dc": {
     "model_module": "@jupyter-widgets/controls",
     "model_module_version": "1.5.0",
     "model_name": "HTMLModel",
     "state": {
      "_dom_classes": [],
      "_model_module": "@jupyter-widgets/controls",
      "_model_module_version": "1.5.0",
      "_model_name": "HTMLModel",
      "_view_count": null,
      "_view_module": "@jupyter-widgets/controls",
      "_view_module_version": "1.5.0",
      "_view_name": "HTMLView",
      "description": "",
      "description_tooltip": null,
      "layout": "IPY_MODEL_499ca2fc4d2a4e2e95cf0ea1147f6d25",
      "placeholder": "​",
      "style": "IPY_MODEL_548b2e4e29a24a35a89ddc01aa0fc4ad",
      "value": " 33/33 [01:22&lt;00:00,  1.80s/it, _timer/_fps=120.363, _timer/batch_time=0.116, _timer/data_time=0.015, _timer/model_time=0.101, loss=6.844, lr=1.000e-03, map10=0.229, momentum=0.900, ndcg20=0.199]"
     }
    },
    "fc1c441149d24e7c8a7ca532d7697919": {
     "model_module": "@jupyter-widgets/controls",
     "model_module_version": "1.5.0",
     "model_name": "HTMLModel",
     "state": {
      "_dom_classes": [],
      "_model_module": "@jupyter-widgets/controls",
      "_model_module_version": "1.5.0",
      "_model_name": "HTMLModel",
      "_view_count": null,
      "_view_module": "@jupyter-widgets/controls",
      "_view_module_version": "1.5.0",
      "_view_name": "HTMLView",
      "description": "",
      "description_tooltip": null,
      "layout": "IPY_MODEL_043fe2f8717d4faa878f8e292c95fd79",
      "placeholder": "​",
      "style": "IPY_MODEL_57d219e425c648b7acbb285804920355",
      "value": "5/100 * Epoch (valid): 100%"
     }
    },
    "fd08d428a191490aad0633b2a646c268": {
     "model_module": "@jupyter-widgets/base",
     "model_module_version": "1.2.0",
     "model_name": "LayoutModel",
     "state": {
      "_model_module": "@jupyter-widgets/base",
      "_model_module_version": "1.2.0",
      "_model_name": "LayoutModel",
      "_view_count": null,
      "_view_module": "@jupyter-widgets/base",
      "_view_module_version": "1.2.0",
      "_view_name": "LayoutView",
      "align_content": null,
      "align_items": null,
      "align_self": null,
      "border": null,
      "bottom": null,
      "display": null,
      "flex": null,
      "flex_flow": null,
      "grid_area": null,
      "grid_auto_columns": null,
      "grid_auto_flow": null,
      "grid_auto_rows": null,
      "grid_column": null,
      "grid_gap": null,
      "grid_row": null,
      "grid_template_areas": null,
      "grid_template_columns": null,
      "grid_template_rows": null,
      "height": null,
      "justify_content": null,
      "justify_items": null,
      "left": null,
      "margin": null,
      "max_height": null,
      "max_width": null,
      "min_height": null,
      "min_width": null,
      "object_fit": null,
      "object_position": null,
      "order": null,
      "overflow": null,
      "overflow_x": null,
      "overflow_y": null,
      "padding": null,
      "right": null,
      "top": null,
      "visibility": null,
      "width": null
     }
    }
   }
  }
 },
 "nbformat": 4,
 "nbformat_minor": 5
}
