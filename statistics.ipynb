{
 "cells": [
  {
   "cell_type": "code",
   "execution_count": 1,
   "id": "1000b190-5f26-4e49-bc2d-2de71fcf5a2d",
   "metadata": {},
   "outputs": [],
   "source": [
    "import pandas as pd\n",
    "import numpy as np"
   ]
  },
  {
   "cell_type": "markdown",
   "id": "201aa459-3da1-4752-8c63-bae02247871c",
   "metadata": {},
   "source": [
    "### ML-100k"
   ]
  },
  {
   "cell_type": "code",
   "execution_count": 23,
   "id": "1ff46728-d739-4b85-9463-3b20c78a4420",
   "metadata": {},
   "outputs": [],
   "source": [
    "df = pd.read_csv('data/ML_100k.csv')\n",
    "df = df.rename(columns={'userId': 'user_id', 'movieId': 'item_id'})"
   ]
  },
  {
   "cell_type": "code",
   "execution_count": 24,
   "id": "15175843-831d-4eeb-8147-938b62336e86",
   "metadata": {},
   "outputs": [
    {
     "name": "stdout",
     "output_type": "stream",
     "text": [
      "N users: 671 \n",
      "N items: 9066 \n",
      "N actions: 100004 \n",
      "N mean actions: 149.03725782414307 \n",
      "\n"
     ]
    }
   ],
   "source": [
    "print(f'N users: {df.user_id.nunique()} \\n'\\\n",
    "      f'N items: {df.item_id.nunique()} \\n'\\\n",
    "      f'N actions: {df.shape[0]} \\n'\\\n",
    "      f\"N mean actions: {np.mean(df.groupby('user_id').timestamp.apply(lambda x: x.shape[0]))} \\n\"\n",
    "     )"
   ]
  },
  {
   "cell_type": "markdown",
   "id": "694a9bf8-f20b-459e-be89-3ff62b3a0da8",
   "metadata": {},
   "source": [
    "### ML-1m"
   ]
  },
  {
   "cell_type": "code",
   "execution_count": 25,
   "id": "716c0af3-42f7-459c-85ec-491419ed6478",
   "metadata": {},
   "outputs": [],
   "source": [
    "rnames = ['user_id', 'movie_id', 'rating', 'timestamp']\n",
    "df = pd.read_table('data/ratings.dat', sep='::',header=None, names=rnames, engine='python')\n",
    "df = df.rename(columns={'userId': 'user_id', 'movie_id': 'item_id'})"
   ]
  },
  {
   "cell_type": "code",
   "execution_count": 26,
   "id": "48086a05-7cd1-4e91-8a55-e5c455da5c65",
   "metadata": {},
   "outputs": [
    {
     "name": "stdout",
     "output_type": "stream",
     "text": [
      "N users: 6040 \n",
      "N items: 3706 \n",
      "N actions: 1000209 \n",
      "N mean actions: 165.5975165562914 \n",
      "\n"
     ]
    }
   ],
   "source": [
    "print(f'N users: {df.user_id.nunique()} \\n'\\\n",
    "      f'N items: {df.item_id.nunique()} \\n'\\\n",
    "      f'N actions: {df.shape[0]} \\n'\\\n",
    "      f\"N mean actions: {np.mean(df.groupby('user_id').timestamp.apply(lambda x: x.shape[0]))} \\n\"\n",
    "     )"
   ]
  },
  {
   "cell_type": "markdown",
   "id": "96f6d714-79d3-4df5-afb6-8088a48a0cc0",
   "metadata": {},
   "source": [
    "### ML-20m"
   ]
  },
  {
   "cell_type": "code",
   "execution_count": 3,
   "id": "c43d74b7-9070-4374-a752-9c1fa2c1f377",
   "metadata": {},
   "outputs": [],
   "source": [
    "df = pd.read_csv('data/ML_20m.csv')\n",
    "df = df.rename(columns={'userId': 'user_id', 'movieId': 'item_id'})"
   ]
  },
  {
   "cell_type": "code",
   "execution_count": 22,
   "id": "b3795cfd-2349-4a5f-9bbb-b3e436d8df34",
   "metadata": {},
   "outputs": [
    {
     "name": "stdout",
     "output_type": "stream",
     "text": [
      "N users: 138493 \n",
      "N items: 26744 \n",
      "N actions: 20000263 \n",
      "N mean actions: 144.4135299257002 \n",
      "\n"
     ]
    }
   ],
   "source": [
    "print(f'N users: {df.user_id.nunique()} \\n'\\\n",
    "      f'N items: {df.item_id.nunique()} \\n'\\\n",
    "      f'N actions: {df.shape[0]} \\n'\\\n",
    "      f\"N mean actions: {np.mean(df.groupby('user_id').timestamp.apply(lambda x: x.shape[0]))} \\n\"\n",
    "     )"
   ]
  },
  {
   "cell_type": "code",
   "execution_count": null,
   "id": "e57658fb-a64e-482c-9539-429170f4c483",
   "metadata": {},
   "outputs": [],
   "source": []
  }
 ],
 "metadata": {
  "kernelspec": {
   "display_name": "Python 3 (ipykernel)",
   "language": "python",
   "name": "python3"
  },
  "language_info": {
   "codemirror_mode": {
    "name": "ipython",
    "version": 3
   },
   "file_extension": ".py",
   "mimetype": "text/x-python",
   "name": "python",
   "nbconvert_exporter": "python",
   "pygments_lexer": "ipython3",
   "version": "3.10.9"
  }
 },
 "nbformat": 4,
 "nbformat_minor": 5
}
